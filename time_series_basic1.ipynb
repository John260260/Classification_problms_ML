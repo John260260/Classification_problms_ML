{
  "nbformat": 4,
  "nbformat_minor": 0,
  "metadata": {
    "colab": {
      "name": "time_series_basic1.ipynb",
      "provenance": [],
      "collapsed_sections": [],
      "authorship_tag": "ABX9TyOOsajZ3lVWAqhKMW2rD09z",
      "include_colab_link": true
    },
    "kernelspec": {
      "name": "python3",
      "display_name": "Python 3"
    },
    "language_info": {
      "name": "python"
    }
  },
  "cells": [
    {
      "cell_type": "markdown",
      "metadata": {
        "id": "view-in-github",
        "colab_type": "text"
      },
      "source": [
        "<a href=\"https://colab.research.google.com/github/John260260/Classification_problms_ML/blob/main/time_series_basic1.ipynb\" target=\"_parent\"><img src=\"https://colab.research.google.com/assets/colab-badge.svg\" alt=\"Open In Colab\"/></a>"
      ]
    },
    {
      "cell_type": "code",
      "metadata": {
        "id": "L4WrRZ7c8CSv"
      },
      "source": [
        "import numpy as np\n",
        "import pandas as pd"
      ],
      "execution_count": null,
      "outputs": []
    },
    {
      "cell_type": "code",
      "metadata": {
        "colab": {
          "base_uri": "https://localhost:8080/"
        },
        "id": "sdfFWsky8kyR",
        "outputId": "bfc0e6a2-9ee1-49a2-c1e4-72c77eae3dfd"
      },
      "source": [
        "#specify start date and number of periods\n",
        "#syntax=pd.date_range(startdate,periods=,frequency=)\n",
        "\n",
        "rng=pd.date_range('2016 Jul 6', periods=5, freq='Y')\n",
        "rng"
      ],
      "execution_count": null,
      "outputs": [
        {
          "output_type": "execute_result",
          "data": {
            "text/plain": [
              "DatetimeIndex(['2016-12-31', '2017-12-31', '2018-12-31', '2019-12-31',\n",
              "               '2020-12-31'],\n",
              "              dtype='datetime64[ns]', freq='A-DEC')"
            ]
          },
          "metadata": {},
          "execution_count": 2
        }
      ]
    },
    {
      "cell_type": "code",
      "metadata": {
        "colab": {
          "base_uri": "https://localhost:8080/"
        },
        "id": "0Ol9NitaEoFI",
        "outputId": "d8fb61b9-1f4b-4080-c2c4-94278f66c649"
      },
      "source": [
        "#monthly(M)\n",
        "rng=pd.date_range('2016 Jul 6', periods=5, freq='M')\n",
        "rng"
      ],
      "execution_count": null,
      "outputs": [
        {
          "output_type": "execute_result",
          "data": {
            "text/plain": [
              "DatetimeIndex(['2016-07-31', '2016-08-31', '2016-09-30', '2016-10-31',\n",
              "               '2016-11-30'],\n",
              "              dtype='datetime64[ns]', freq='M')"
            ]
          },
          "metadata": {},
          "execution_count": 3
        }
      ]
    },
    {
      "cell_type": "code",
      "metadata": {
        "colab": {
          "base_uri": "https://localhost:8080/"
        },
        "id": "H9jmFWQpEyou",
        "outputId": "2a6c07fe-30e0-412b-f190-b70f30074eb7"
      },
      "source": [
        "#Business days(B)/days(D)\n",
        "rng=pd.date_range('2016 Jul 6', periods=15, freq='B')\n",
        "rng"
      ],
      "execution_count": null,
      "outputs": [
        {
          "output_type": "execute_result",
          "data": {
            "text/plain": [
              "DatetimeIndex(['2016-07-06', '2016-07-07', '2016-07-08', '2016-07-11',\n",
              "               '2016-07-12', '2016-07-13', '2016-07-14', '2016-07-15',\n",
              "               '2016-07-18', '2016-07-19', '2016-07-20', '2016-07-21',\n",
              "               '2016-07-22', '2016-07-25', '2016-07-26'],\n",
              "              dtype='datetime64[ns]', freq='B')"
            ]
          },
          "metadata": {},
          "execution_count": 6
        }
      ]
    },
    {
      "cell_type": "code",
      "metadata": {
        "colab": {
          "base_uri": "https://localhost:8080/"
        },
        "id": "UMK4YdWoE795",
        "outputId": "7e9ea5a2-c43c-4fff-8a30-3030f3be928e"
      },
      "source": [
        "#### Is '7/1/2016 in January or July?\n",
        "##Its January\n",
        "\n",
        "# The class of individual object held by data_range\n",
        "type(rng)"
      ],
      "execution_count": null,
      "outputs": [
        {
          "output_type": "execute_result",
          "data": {
            "text/plain": [
              "pandas.core.indexes.datetimes.DatetimeIndex"
            ]
          },
          "metadata": {},
          "execution_count": 7
        }
      ]
    },
    {
      "cell_type": "markdown",
      "metadata": {
        "id": "8XN2u8NzFV_J"
      },
      "source": [
        "## TimeStamps"
      ]
    },
    {
      "cell_type": "code",
      "metadata": {
        "colab": {
          "base_uri": "https://localhost:8080/"
        },
        "id": "ot0VrPY0FPP3",
        "outputId": "b0ca0c8a-a3bb-454f-b1b0-e52c4284b259"
      },
      "source": [
        "pd.Timestamp('2021-7-26')"
      ],
      "execution_count": null,
      "outputs": [
        {
          "output_type": "execute_result",
          "data": {
            "text/plain": [
              "Timestamp('2021-07-26 00:00:00')"
            ]
          },
          "metadata": {},
          "execution_count": 8
        }
      ]
    },
    {
      "cell_type": "code",
      "metadata": {
        "colab": {
          "base_uri": "https://localhost:8080/"
        },
        "id": "N2ISHmTlFefW",
        "outputId": "54964965-b7b6-47f6-afb8-2aa10fe4b312"
      },
      "source": [
        "pd.Timestamp('2021-7-26 10')"
      ],
      "execution_count": null,
      "outputs": [
        {
          "output_type": "execute_result",
          "data": {
            "text/plain": [
              "Timestamp('2021-07-26 10:00:00')"
            ]
          },
          "metadata": {},
          "execution_count": 9
        }
      ]
    },
    {
      "cell_type": "code",
      "metadata": {
        "colab": {
          "base_uri": "https://localhost:8080/"
        },
        "id": "GAyBmSCNFjeE",
        "outputId": "ba9f8f9b-b6e0-40a5-dd95-176ccbdb6f0e"
      },
      "source": [
        "pd.Timestamp('2021-7-26 10:16')"
      ],
      "execution_count": null,
      "outputs": [
        {
          "output_type": "execute_result",
          "data": {
            "text/plain": [
              "Timestamp('2021-07-26 10:16:00')"
            ]
          },
          "metadata": {},
          "execution_count": 10
        }
      ]
    },
    {
      "cell_type": "code",
      "metadata": {
        "colab": {
          "base_uri": "https://localhost:8080/"
        },
        "id": "HvY99olrFoaZ",
        "outputId": "975e06bf-b920-40f7-aaba-764e6673c1f3"
      },
      "source": [
        "# Check the amount of details that can be added\n",
        "pd.Timestamp('2016-07-10 1:15:12.9999999')"
      ],
      "execution_count": null,
      "outputs": [
        {
          "output_type": "execute_result",
          "data": {
            "text/plain": [
              "Timestamp('2016-07-10 01:15:12.999999900')"
            ]
          },
          "metadata": {},
          "execution_count": 11
        }
      ]
    },
    {
      "cell_type": "code",
      "metadata": {
        "id": "GD-nE9DAGDw8"
      },
      "source": [
        "t=pd.Timestamp('2016-07-10 10:16')"
      ],
      "execution_count": null,
      "outputs": []
    },
    {
      "cell_type": "code",
      "metadata": {
        "colab": {
          "base_uri": "https://localhost:8080/"
        },
        "id": "6fVL7b3HHz5f",
        "outputId": "a5534ed3-9a89-4907-d0e8-d1d89a72c1fc"
      },
      "source": [
        "t.quarter"
      ],
      "execution_count": null,
      "outputs": [
        {
          "output_type": "execute_result",
          "data": {
            "text/plain": [
              "3"
            ]
          },
          "metadata": {},
          "execution_count": 18
        }
      ]
    },
    {
      "cell_type": "code",
      "metadata": {
        "colab": {
          "base_uri": "https://localhost:8080/"
        },
        "id": "rFnhDfBsH-Fb",
        "outputId": "49f0cbad-11ed-4798-ada4-7d1c6a134b8f"
      },
      "source": [
        "t.day_name(),t.dayofweek"
      ],
      "execution_count": null,
      "outputs": [
        {
          "output_type": "execute_result",
          "data": {
            "text/plain": [
              "('Sunday', 6)"
            ]
          },
          "metadata": {},
          "execution_count": 19
        }
      ]
    },
    {
      "cell_type": "code",
      "metadata": {
        "colab": {
          "base_uri": "https://localhost:8080/"
        },
        "id": "9vd1UKUjIID7",
        "outputId": "c853e1d1-d673-4ff8-c071-c27a446f6198"
      },
      "source": [
        "#we can use timedelta for interval introduction\n",
        "\n",
        "ts=t+pd.Timedelta('2 days')\n",
        "ts"
      ],
      "execution_count": null,
      "outputs": [
        {
          "output_type": "execute_result",
          "data": {
            "text/plain": [
              "Timestamp('2016-07-12 10:16:00')"
            ]
          },
          "metadata": {},
          "execution_count": 28
        }
      ]
    },
    {
      "cell_type": "code",
      "metadata": {
        "colab": {
          "base_uri": "https://localhost:8080/"
        },
        "id": "Rfw0sh3gI1al",
        "outputId": "f2f35864-5763-415f-a5fe-1c5a5f4c1715"
      },
      "source": [
        "ts1 = ts+ pd.Timedelta('3 hours')\n",
        "ts1"
      ],
      "execution_count": null,
      "outputs": [
        {
          "output_type": "execute_result",
          "data": {
            "text/plain": [
              "Timestamp('2016-07-12 13:16:00')"
            ]
          },
          "metadata": {},
          "execution_count": 29
        }
      ]
    },
    {
      "cell_type": "markdown",
      "metadata": {
        "id": "LOlN8PWJLgY8"
      },
      "source": [
        "## TimeStamp Intervals"
      ]
    },
    {
      "cell_type": "code",
      "metadata": {
        "colab": {
          "base_uri": "https://localhost:8080/"
        },
        "id": "TLHkmR0tJyga",
        "outputId": "c1f7ff27-0fdc-4caa-95b0-c49df1165e3d"
      },
      "source": [
        "p=pd.Period('2016')#('2016-05')/// #only daily precision \n",
        "ts2=pd.Timestamp('2016-10-12')\n",
        "\n",
        "#checking if the timeline lies with in the given interval\n",
        "p.start_time <= ts2 and p.end_time>ts2"
      ],
      "execution_count": null,
      "outputs": [
        {
          "output_type": "execute_result",
          "data": {
            "text/plain": [
              "True"
            ]
          },
          "metadata": {},
          "execution_count": 37
        }
      ]
    },
    {
      "cell_type": "code",
      "metadata": {
        "colab": {
          "base_uri": "https://localhost:8080/"
        },
        "id": "xoYUhtz_Mg8c",
        "outputId": "ccbcc225-f51b-45cb-e624-0f219c63ffb0"
      },
      "source": [
        "p=pd.Period('2016-07') #only daily precision \n",
        "ts2=pd.Timestamp('2016-05-31')\n",
        "\n",
        "#checking if the timeline lies with in the given interval\n",
        "p.start_time <= ts2 and p.end_time>ts2"
      ],
      "execution_count": null,
      "outputs": [
        {
          "output_type": "execute_result",
          "data": {
            "text/plain": [
              "False"
            ]
          },
          "metadata": {},
          "execution_count": 39
        }
      ]
    },
    {
      "cell_type": "code",
      "metadata": {
        "colab": {
          "base_uri": "https://localhost:8080/"
        },
        "id": "iC7ERuCOMohE",
        "outputId": "3b6a6b57-0661-4e39-f92f-d52a61050c73"
      },
      "source": [
        "pd.Period('2021-09-16') #similar to timestamp"
      ],
      "execution_count": null,
      "outputs": [
        {
          "output_type": "execute_result",
          "data": {
            "text/plain": [
              "Period('2021-09-16', 'D')"
            ]
          },
          "metadata": {},
          "execution_count": 42
        }
      ]
    },
    {
      "cell_type": "code",
      "metadata": {
        "colab": {
          "base_uri": "https://localhost:8080/"
        },
        "id": "jR6zetTNRrpT",
        "outputId": "8f4f67e1-2b98-47fe-a21c-b9582fb1e8eb"
      },
      "source": [
        "pd.Period('2021-09-16 04:30')"
      ],
      "execution_count": null,
      "outputs": [
        {
          "output_type": "execute_result",
          "data": {
            "text/plain": [
              "Period('2021-09-16 04:30', 'T')"
            ]
          },
          "metadata": {},
          "execution_count": 41
        }
      ]
    },
    {
      "cell_type": "code",
      "metadata": {
        "colab": {
          "base_uri": "https://localhost:8080/"
        },
        "id": "W1CsHHrcRzPz",
        "outputId": "35680490-1891-4784-cd50-194bdb49232d"
      },
      "source": [
        "pd_rng=pd.period_range('2021-09-16 04:30', '2021-09-16 18:30', freq='50T') #('2021-09-16 04:30',freq='50T',periods=20) strt,end,periods of which on;y 2 has to be mentiond\n",
        "pd_rng"
      ],
      "execution_count": null,
      "outputs": [
        {
          "output_type": "execute_result",
          "data": {
            "text/plain": [
              "PeriodIndex(['2021-09-16 04:30', '2021-09-16 05:20', '2021-09-16 06:10',\n",
              "             '2021-09-16 07:00', '2021-09-16 07:50', '2021-09-16 08:40',\n",
              "             '2021-09-16 09:30', '2021-09-16 10:20', '2021-09-16 11:10',\n",
              "             '2021-09-16 12:00', '2021-09-16 12:50', '2021-09-16 13:40',\n",
              "             '2021-09-16 14:30', '2021-09-16 15:20', '2021-09-16 16:10',\n",
              "             '2021-09-16 17:00', '2021-09-16 17:50'],\n",
              "            dtype='period[50T]', freq='50T')"
            ]
          },
          "metadata": {},
          "execution_count": 46
        }
      ]
    },
    {
      "cell_type": "code",
      "metadata": {
        "colab": {
          "base_uri": "https://localhost:8080/"
        },
        "id": "6tdpwAeYSs3N",
        "outputId": "9294e320-ca0c-47fc-d115-d5535e8fe7b7"
      },
      "source": [
        "prd_rng = pd.period_range('2019-07-27 04:30', freq = 'H', periods = 20)\n",
        "prd_rng"
      ],
      "execution_count": null,
      "outputs": [
        {
          "output_type": "execute_result",
          "data": {
            "text/plain": [
              "PeriodIndex(['2019-07-27 04:00', '2019-07-27 05:00', '2019-07-27 06:00',\n",
              "             '2019-07-27 07:00', '2019-07-27 08:00', '2019-07-27 09:00',\n",
              "             '2019-07-27 10:00', '2019-07-27 11:00', '2019-07-27 12:00',\n",
              "             '2019-07-27 13:00', '2019-07-27 14:00', '2019-07-27 15:00',\n",
              "             '2019-07-27 16:00', '2019-07-27 17:00', '2019-07-27 18:00',\n",
              "             '2019-07-27 19:00', '2019-07-27 20:00', '2019-07-27 21:00',\n",
              "             '2019-07-27 22:00', '2019-07-27 23:00'],\n",
              "            dtype='period[H]', freq='H')"
            ]
          },
          "metadata": {},
          "execution_count": 48
        }
      ]
    },
    {
      "cell_type": "code",
      "metadata": {
        "colab": {
          "base_uri": "https://localhost:8080/"
        },
        "id": "gKAqQ6KXTqN4",
        "outputId": "8cf85f03-bf8e-4290-bd97-a26de9b01bfb"
      },
      "source": [
        "prd_rng = pd.period_range('2019-07-27', freq = 'H', periods = 20)\n",
        "prd_rng"
      ],
      "execution_count": null,
      "outputs": [
        {
          "output_type": "execute_result",
          "data": {
            "text/plain": [
              "PeriodIndex(['2019-07-27 00:00', '2019-07-27 01:00', '2019-07-27 02:00',\n",
              "             '2019-07-27 03:00', '2019-07-27 04:00', '2019-07-27 05:00',\n",
              "             '2019-07-27 06:00', '2019-07-27 07:00', '2019-07-27 08:00',\n",
              "             '2019-07-27 09:00', '2019-07-27 10:00', '2019-07-27 11:00',\n",
              "             '2019-07-27 12:00', '2019-07-27 13:00', '2019-07-27 14:00',\n",
              "             '2019-07-27 15:00', '2019-07-27 16:00', '2019-07-27 17:00',\n",
              "             '2019-07-27 18:00', '2019-07-27 19:00'],\n",
              "            dtype='period[H]', freq='H')"
            ]
          },
          "metadata": {},
          "execution_count": 49
        }
      ]
    },
    {
      "cell_type": "markdown",
      "metadata": {
        "id": "Np2nrss2UzDI"
      },
      "source": [
        "## indexing with time object"
      ]
    },
    {
      "cell_type": "code",
      "metadata": {
        "colab": {
          "base_uri": "https://localhost:8080/"
        },
        "id": "UbIXIbJlT7Y4",
        "outputId": "41e4c503-74ad-4fef-f218-2e8b8c87e18d"
      },
      "source": [
        "rng=pd.date_range('2019-07-27', freq = '60t', periods = 20)\n",
        "print(rng[:5])\n",
        "srs=pd.Series(range(len(rng)),index=rng)\n",
        "srs.head()"
      ],
      "execution_count": null,
      "outputs": [
        {
          "output_type": "stream",
          "text": [
            "DatetimeIndex(['2019-07-27 00:00:00', '2019-07-27 01:00:00',\n",
            "               '2019-07-27 02:00:00', '2019-07-27 03:00:00',\n",
            "               '2019-07-27 04:00:00'],\n",
            "              dtype='datetime64[ns]', freq='60T')\n"
          ],
          "name": "stdout"
        },
        {
          "output_type": "execute_result",
          "data": {
            "text/plain": [
              "2019-07-27 00:00:00    0\n",
              "2019-07-27 01:00:00    1\n",
              "2019-07-27 02:00:00    2\n",
              "2019-07-27 03:00:00    3\n",
              "2019-07-27 04:00:00    4\n",
              "Freq: 60T, dtype: int64"
            ]
          },
          "metadata": {},
          "execution_count": 58
        }
      ]
    },
    {
      "cell_type": "code",
      "metadata": {
        "colab": {
          "base_uri": "https://localhost:8080/"
        },
        "id": "pHGgCFgIVdms",
        "outputId": "07112be2-d480-46a0-f455-85e5ccfdf0a5"
      },
      "source": [
        "periods=[pd.Period('2018-01'),pd.Period('2018-06'),pd.Period('2019-01')]\n",
        "srs1=pd.Series(np.random.randn(len(periods)),index=periods)\n",
        "srs1"
      ],
      "execution_count": null,
      "outputs": [
        {
          "output_type": "execute_result",
          "data": {
            "text/plain": [
              "2018-01   -1.091061\n",
              "2018-06   -1.284541\n",
              "2019-01    1.827931\n",
              "Freq: M, dtype: float64"
            ]
          },
          "metadata": {},
          "execution_count": 55
        }
      ]
    },
    {
      "cell_type": "code",
      "metadata": {
        "colab": {
          "base_uri": "https://localhost:8080/"
        },
        "id": "NjcUGAwbXRsz",
        "outputId": "859b5db6-df54-43c6-e843-fffb5ade43c8"
      },
      "source": [
        "type(srs.index)\n",
        "type(srs1.index)"
      ],
      "execution_count": null,
      "outputs": [
        {
          "output_type": "execute_result",
          "data": {
            "text/plain": [
              "pandas.core.indexes.period.PeriodIndex"
            ]
          },
          "metadata": {},
          "execution_count": 59
        }
      ]
    },
    {
      "cell_type": "code",
      "metadata": {
        "colab": {
          "base_uri": "https://localhost:8080/"
        },
        "id": "UCI5A3YoYA-y",
        "outputId": "d783a598-c6b6-4414-dc2b-0c81b2319931"
      },
      "source": [
        "prds=pd.period_range('2018-05',freq='M',periods=12)\n",
        "print(prds.start_time)\n",
        "prds.end_time"
      ],
      "execution_count": null,
      "outputs": [
        {
          "output_type": "stream",
          "text": [
            "DatetimeIndex(['2018-05-01', '2018-06-01', '2018-07-01', '2018-08-01',\n",
            "               '2018-09-01', '2018-10-01', '2018-11-01', '2018-12-01',\n",
            "               '2019-01-01', '2019-02-01', '2019-03-01', '2019-04-01'],\n",
            "              dtype='datetime64[ns]', freq='MS')\n"
          ],
          "name": "stdout"
        },
        {
          "output_type": "execute_result",
          "data": {
            "text/plain": [
              "DatetimeIndex(['2018-05-31 23:59:59.999999999',\n",
              "               '2018-06-30 23:59:59.999999999',\n",
              "               '2018-07-31 23:59:59.999999999',\n",
              "               '2018-08-31 23:59:59.999999999',\n",
              "               '2018-09-30 23:59:59.999999999',\n",
              "               '2018-10-31 23:59:59.999999999',\n",
              "               '2018-11-30 23:59:59.999999999',\n",
              "               '2018-12-31 23:59:59.999999999',\n",
              "               '2019-01-31 23:59:59.999999999',\n",
              "               '2019-02-28 23:59:59.999999999',\n",
              "               '2019-03-31 23:59:59.999999999',\n",
              "               '2019-04-30 23:59:59.999999999'],\n",
              "              dtype='datetime64[ns]', freq=None)"
            ]
          },
          "metadata": {},
          "execution_count": 64
        }
      ]
    },
    {
      "cell_type": "code",
      "metadata": {
        "colab": {
          "base_uri": "https://localhost:8080/"
        },
        "id": "-suHC8uTdl_q",
        "outputId": "49c3974a-1e4b-4680-d6c7-ed3279651f34"
      },
      "source": [
        "# Combination of frequency\n",
        "\n",
        "unique_prds = pd.date_range('2018-05-01 00:00:00', freq = '1h30min', periods= 10)\n",
        "unique_prds"
      ],
      "execution_count": null,
      "outputs": [
        {
          "output_type": "execute_result",
          "data": {
            "text/plain": [
              "DatetimeIndex(['2018-05-01 00:00:00', '2018-05-01 01:30:00',\n",
              "               '2018-05-01 03:00:00', '2018-05-01 04:30:00',\n",
              "               '2018-05-01 06:00:00', '2018-05-01 07:30:00',\n",
              "               '2018-05-01 09:00:00', '2018-05-01 10:30:00',\n",
              "               '2018-05-01 12:00:00', '2018-05-01 13:30:00'],\n",
              "              dtype='datetime64[ns]', freq='90T')"
            ]
          },
          "metadata": {},
          "execution_count": 66
        }
      ]
    },
    {
      "cell_type": "code",
      "metadata": {
        "colab": {
          "base_uri": "https://localhost:8080/"
        },
        "id": "758BCvsKd5EI",
        "outputId": "498f3f53-ef6c-4c19-9aa1-ee93c7d7ed00"
      },
      "source": [
        "# accessing the values using the index function\n",
        "srs['2019-07-27 01:00:00']"
      ],
      "execution_count": null,
      "outputs": [
        {
          "output_type": "execute_result",
          "data": {
            "text/plain": [
              "1"
            ]
          },
          "metadata": {},
          "execution_count": 67
        }
      ]
    },
    {
      "cell_type": "code",
      "metadata": {
        "colab": {
          "base_uri": "https://localhost:8080/"
        },
        "id": "Ls1mY98jeJLF",
        "outputId": "d287954d-b500-4299-e51a-321a4dcb976f"
      },
      "source": [
        "# convert timestamped data into period indices and vice-versa\n",
        "ts=pd.Series(range(10),pd.date_range('2019-09-16', freq='D',periods=10))\n",
        "ts"
      ],
      "execution_count": null,
      "outputs": [
        {
          "output_type": "execute_result",
          "data": {
            "text/plain": [
              "2019-09-16    0\n",
              "2019-09-17    1\n",
              "2019-09-18    2\n",
              "2019-09-19    3\n",
              "2019-09-20    4\n",
              "2019-09-21    5\n",
              "2019-09-22    6\n",
              "2019-09-23    7\n",
              "2019-09-24    8\n",
              "2019-09-25    9\n",
              "Freq: D, dtype: int64"
            ]
          },
          "metadata": {},
          "execution_count": 72
        }
      ]
    },
    {
      "cell_type": "code",
      "metadata": {
        "id": "EeWMte4Ofmu5",
        "colab": {
          "base_uri": "https://localhost:8080/"
        },
        "outputId": "a360bf3d-11a4-4887-81b9-04016af93d08"
      },
      "source": [
        "ts_period = ts.to_period\n",
        "ts_period"
      ],
      "execution_count": 73,
      "outputs": [
        {
          "output_type": "execute_result",
          "data": {
            "text/plain": [
              "<bound method Series.to_period of 2019-09-16    0\n",
              "2019-09-17    1\n",
              "2019-09-18    2\n",
              "2019-09-19    3\n",
              "2019-09-20    4\n",
              "2019-09-21    5\n",
              "2019-09-22    6\n",
              "2019-09-23    7\n",
              "2019-09-24    8\n",
              "2019-09-25    9\n",
              "Freq: D, dtype: int64>"
            ]
          },
          "metadata": {},
          "execution_count": 73
        }
      ]
    },
    {
      "cell_type": "code",
      "metadata": {
        "colab": {
          "base_uri": "https://localhost:8080/"
        },
        "id": "_Z5vfndWiYRB",
        "outputId": "ce37c09e-d5a4-4291-fb4f-2f98e8ad06ef"
      },
      "source": [
        "limit = 50\n",
        "data = pd.Series(range(limit), index = pd.date_range('2018-05-01', freq= '2B', periods = limit))\n",
        "\n",
        "data.head()"
      ],
      "execution_count": 77,
      "outputs": [
        {
          "output_type": "execute_result",
          "data": {
            "text/plain": [
              "2018-05-01    0\n",
              "2018-05-03    1\n",
              "2018-05-07    2\n",
              "2018-05-09    3\n",
              "2018-05-11    4\n",
              "Freq: 2B, dtype: int64"
            ]
          },
          "metadata": {},
          "execution_count": 77
        }
      ]
    },
    {
      "cell_type": "code",
      "metadata": {
        "colab": {
          "base_uri": "https://localhost:8080/"
        },
        "id": "Fm9lfaRPib4M",
        "outputId": "d9d0cd21-31c0-4f98-e9c9-1f895ac0c165"
      },
      "source": [
        "data[10:15]"
      ],
      "execution_count": 78,
      "outputs": [
        {
          "output_type": "execute_result",
          "data": {
            "text/plain": [
              "2018-05-29    10\n",
              "2018-05-31    11\n",
              "2018-06-04    12\n",
              "2018-06-06    13\n",
              "2018-06-08    14\n",
              "Freq: 2B, dtype: int64"
            ]
          },
          "metadata": {},
          "execution_count": 78
        }
      ]
    },
    {
      "cell_type": "code",
      "metadata": {
        "colab": {
          "base_uri": "https://localhost:8080/"
        },
        "id": "yRFT_z0ziY2P",
        "outputId": "a2379f6f-6549-4174-a8f8-8c3fe52a4a46"
      },
      "source": [
        "num_pers = 10\n",
        "\n",
        "ts = pd.date_range('2012-01-1', freq = 'M', periods = num_pers)\n",
        "ts = pd.Series(ts)\n",
        "data = pd.Series(np.random.randn(num_pers), index = ts)\n",
        "data\n"
      ],
      "execution_count": 75,
      "outputs": [
        {
          "output_type": "execute_result",
          "data": {
            "text/plain": [
              "2012-01-31    0.902964\n",
              "2012-02-29    0.798488\n",
              "2012-03-31   -0.594780\n",
              "2012-04-30   -0.133565\n",
              "2012-05-31    0.960222\n",
              "2012-06-30   -0.436270\n",
              "2012-07-31   -0.627473\n",
              "2012-08-31    0.534314\n",
              "2012-09-30   -0.133153\n",
              "2012-10-31   -0.912353\n",
              "dtype: float64"
            ]
          },
          "metadata": {},
          "execution_count": 75
        }
      ]
    },
    {
      "cell_type": "code",
      "metadata": {
        "id": "KK7xAhcZiiX5"
      },
      "source": [
        ""
      ],
      "execution_count": null,
      "outputs": []
    }
  ]
}