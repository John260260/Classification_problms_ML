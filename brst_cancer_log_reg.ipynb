{
  "nbformat": 4,
  "nbformat_minor": 0,
  "metadata": {
    "colab": {
      "name": "brst cancer log reg.ipynb",
      "provenance": [],
      "collapsed_sections": [],
      "include_colab_link": true
    },
    "kernelspec": {
      "name": "python3",
      "display_name": "Python 3"
    },
    "language_info": {
      "name": "python"
    }
  },
  "cells": [
    {
      "cell_type": "markdown",
      "metadata": {
        "id": "view-in-github",
        "colab_type": "text"
      },
      "source": [
        "<a href=\"https://colab.research.google.com/github/John260260/Classification_problms_ML/blob/main/brst_cancer_log_reg.ipynb\" target=\"_parent\"><img src=\"https://colab.research.google.com/assets/colab-badge.svg\" alt=\"Open In Colab\"/></a>"
      ]
    },
    {
      "cell_type": "code",
      "metadata": {
        "id": "5y9aX7Gm5qTZ"
      },
      "source": [
        "import sklearn.datasets as datasets\n",
        "import pandas as pd\n",
        "import numpy as np\n",
        "import matplotlib.pyplot as plt\n",
        "import seaborn as sns\n",
        "from collections import Counter\n",
        "from sklearn import metrics\n",
        "%matplotlib inline"
      ],
      "execution_count": null,
      "outputs": []
    },
    {
      "cell_type": "code",
      "metadata": {
        "id": "7289ZUn850yU"
      },
      "source": [
        "x,y = datasets.load_breast_cancer(return_X_y= True)"
      ],
      "execution_count": null,
      "outputs": []
    },
    {
      "cell_type": "code",
      "metadata": {
        "id": "Ve0f0co46Gfh"
      },
      "source": [
        "feature_name = datasets.load_breast_cancer().feature_names\n",
        "target_name = datasets.load_breast_cancer().target_names"
      ],
      "execution_count": null,
      "outputs": []
    },
    {
      "cell_type": "code",
      "metadata": {
        "id": "TQ2DMJ1W6K5R"
      },
      "source": [
        "df = pd.DataFrame(x,columns = feature_name)\n",
        "df['target']=y"
      ],
      "execution_count": null,
      "outputs": []
    },
    {
      "cell_type": "code",
      "metadata": {
        "colab": {
          "base_uri": "https://localhost:8080/",
          "height": 258
        },
        "id": "VnU1Jojw72TF",
        "outputId": "b69689f2-7beb-4ded-b94e-d954527a89ff"
      },
      "source": [
        "df.head(5)"
      ],
      "execution_count": null,
      "outputs": [
        {
          "output_type": "execute_result",
          "data": {
            "text/html": [
              "<div>\n",
              "<style scoped>\n",
              "    .dataframe tbody tr th:only-of-type {\n",
              "        vertical-align: middle;\n",
              "    }\n",
              "\n",
              "    .dataframe tbody tr th {\n",
              "        vertical-align: top;\n",
              "    }\n",
              "\n",
              "    .dataframe thead th {\n",
              "        text-align: right;\n",
              "    }\n",
              "</style>\n",
              "<table border=\"1\" class=\"dataframe\">\n",
              "  <thead>\n",
              "    <tr style=\"text-align: right;\">\n",
              "      <th></th>\n",
              "      <th>mean radius</th>\n",
              "      <th>mean texture</th>\n",
              "      <th>mean perimeter</th>\n",
              "      <th>mean area</th>\n",
              "      <th>mean smoothness</th>\n",
              "      <th>mean compactness</th>\n",
              "      <th>mean concavity</th>\n",
              "      <th>mean concave points</th>\n",
              "      <th>mean symmetry</th>\n",
              "      <th>mean fractal dimension</th>\n",
              "      <th>radius error</th>\n",
              "      <th>texture error</th>\n",
              "      <th>perimeter error</th>\n",
              "      <th>area error</th>\n",
              "      <th>smoothness error</th>\n",
              "      <th>compactness error</th>\n",
              "      <th>concavity error</th>\n",
              "      <th>concave points error</th>\n",
              "      <th>symmetry error</th>\n",
              "      <th>fractal dimension error</th>\n",
              "      <th>worst radius</th>\n",
              "      <th>worst texture</th>\n",
              "      <th>worst perimeter</th>\n",
              "      <th>worst area</th>\n",
              "      <th>worst smoothness</th>\n",
              "      <th>worst compactness</th>\n",
              "      <th>worst concavity</th>\n",
              "      <th>worst concave points</th>\n",
              "      <th>worst symmetry</th>\n",
              "      <th>worst fractal dimension</th>\n",
              "      <th>target</th>\n",
              "    </tr>\n",
              "  </thead>\n",
              "  <tbody>\n",
              "    <tr>\n",
              "      <th>0</th>\n",
              "      <td>17.99</td>\n",
              "      <td>10.38</td>\n",
              "      <td>122.80</td>\n",
              "      <td>1001.0</td>\n",
              "      <td>0.11840</td>\n",
              "      <td>0.27760</td>\n",
              "      <td>0.3001</td>\n",
              "      <td>0.14710</td>\n",
              "      <td>0.2419</td>\n",
              "      <td>0.07871</td>\n",
              "      <td>1.0950</td>\n",
              "      <td>0.9053</td>\n",
              "      <td>8.589</td>\n",
              "      <td>153.40</td>\n",
              "      <td>0.006399</td>\n",
              "      <td>0.04904</td>\n",
              "      <td>0.05373</td>\n",
              "      <td>0.01587</td>\n",
              "      <td>0.03003</td>\n",
              "      <td>0.006193</td>\n",
              "      <td>25.38</td>\n",
              "      <td>17.33</td>\n",
              "      <td>184.60</td>\n",
              "      <td>2019.0</td>\n",
              "      <td>0.1622</td>\n",
              "      <td>0.6656</td>\n",
              "      <td>0.7119</td>\n",
              "      <td>0.2654</td>\n",
              "      <td>0.4601</td>\n",
              "      <td>0.11890</td>\n",
              "      <td>0</td>\n",
              "    </tr>\n",
              "    <tr>\n",
              "      <th>1</th>\n",
              "      <td>20.57</td>\n",
              "      <td>17.77</td>\n",
              "      <td>132.90</td>\n",
              "      <td>1326.0</td>\n",
              "      <td>0.08474</td>\n",
              "      <td>0.07864</td>\n",
              "      <td>0.0869</td>\n",
              "      <td>0.07017</td>\n",
              "      <td>0.1812</td>\n",
              "      <td>0.05667</td>\n",
              "      <td>0.5435</td>\n",
              "      <td>0.7339</td>\n",
              "      <td>3.398</td>\n",
              "      <td>74.08</td>\n",
              "      <td>0.005225</td>\n",
              "      <td>0.01308</td>\n",
              "      <td>0.01860</td>\n",
              "      <td>0.01340</td>\n",
              "      <td>0.01389</td>\n",
              "      <td>0.003532</td>\n",
              "      <td>24.99</td>\n",
              "      <td>23.41</td>\n",
              "      <td>158.80</td>\n",
              "      <td>1956.0</td>\n",
              "      <td>0.1238</td>\n",
              "      <td>0.1866</td>\n",
              "      <td>0.2416</td>\n",
              "      <td>0.1860</td>\n",
              "      <td>0.2750</td>\n",
              "      <td>0.08902</td>\n",
              "      <td>0</td>\n",
              "    </tr>\n",
              "    <tr>\n",
              "      <th>2</th>\n",
              "      <td>19.69</td>\n",
              "      <td>21.25</td>\n",
              "      <td>130.00</td>\n",
              "      <td>1203.0</td>\n",
              "      <td>0.10960</td>\n",
              "      <td>0.15990</td>\n",
              "      <td>0.1974</td>\n",
              "      <td>0.12790</td>\n",
              "      <td>0.2069</td>\n",
              "      <td>0.05999</td>\n",
              "      <td>0.7456</td>\n",
              "      <td>0.7869</td>\n",
              "      <td>4.585</td>\n",
              "      <td>94.03</td>\n",
              "      <td>0.006150</td>\n",
              "      <td>0.04006</td>\n",
              "      <td>0.03832</td>\n",
              "      <td>0.02058</td>\n",
              "      <td>0.02250</td>\n",
              "      <td>0.004571</td>\n",
              "      <td>23.57</td>\n",
              "      <td>25.53</td>\n",
              "      <td>152.50</td>\n",
              "      <td>1709.0</td>\n",
              "      <td>0.1444</td>\n",
              "      <td>0.4245</td>\n",
              "      <td>0.4504</td>\n",
              "      <td>0.2430</td>\n",
              "      <td>0.3613</td>\n",
              "      <td>0.08758</td>\n",
              "      <td>0</td>\n",
              "    </tr>\n",
              "    <tr>\n",
              "      <th>3</th>\n",
              "      <td>11.42</td>\n",
              "      <td>20.38</td>\n",
              "      <td>77.58</td>\n",
              "      <td>386.1</td>\n",
              "      <td>0.14250</td>\n",
              "      <td>0.28390</td>\n",
              "      <td>0.2414</td>\n",
              "      <td>0.10520</td>\n",
              "      <td>0.2597</td>\n",
              "      <td>0.09744</td>\n",
              "      <td>0.4956</td>\n",
              "      <td>1.1560</td>\n",
              "      <td>3.445</td>\n",
              "      <td>27.23</td>\n",
              "      <td>0.009110</td>\n",
              "      <td>0.07458</td>\n",
              "      <td>0.05661</td>\n",
              "      <td>0.01867</td>\n",
              "      <td>0.05963</td>\n",
              "      <td>0.009208</td>\n",
              "      <td>14.91</td>\n",
              "      <td>26.50</td>\n",
              "      <td>98.87</td>\n",
              "      <td>567.7</td>\n",
              "      <td>0.2098</td>\n",
              "      <td>0.8663</td>\n",
              "      <td>0.6869</td>\n",
              "      <td>0.2575</td>\n",
              "      <td>0.6638</td>\n",
              "      <td>0.17300</td>\n",
              "      <td>0</td>\n",
              "    </tr>\n",
              "    <tr>\n",
              "      <th>4</th>\n",
              "      <td>20.29</td>\n",
              "      <td>14.34</td>\n",
              "      <td>135.10</td>\n",
              "      <td>1297.0</td>\n",
              "      <td>0.10030</td>\n",
              "      <td>0.13280</td>\n",
              "      <td>0.1980</td>\n",
              "      <td>0.10430</td>\n",
              "      <td>0.1809</td>\n",
              "      <td>0.05883</td>\n",
              "      <td>0.7572</td>\n",
              "      <td>0.7813</td>\n",
              "      <td>5.438</td>\n",
              "      <td>94.44</td>\n",
              "      <td>0.011490</td>\n",
              "      <td>0.02461</td>\n",
              "      <td>0.05688</td>\n",
              "      <td>0.01885</td>\n",
              "      <td>0.01756</td>\n",
              "      <td>0.005115</td>\n",
              "      <td>22.54</td>\n",
              "      <td>16.67</td>\n",
              "      <td>152.20</td>\n",
              "      <td>1575.0</td>\n",
              "      <td>0.1374</td>\n",
              "      <td>0.2050</td>\n",
              "      <td>0.4000</td>\n",
              "      <td>0.1625</td>\n",
              "      <td>0.2364</td>\n",
              "      <td>0.07678</td>\n",
              "      <td>0</td>\n",
              "    </tr>\n",
              "  </tbody>\n",
              "</table>\n",
              "</div>"
            ],
            "text/plain": [
              "   mean radius  mean texture  ...  worst fractal dimension  target\n",
              "0        17.99         10.38  ...                  0.11890       0\n",
              "1        20.57         17.77  ...                  0.08902       0\n",
              "2        19.69         21.25  ...                  0.08758       0\n",
              "3        11.42         20.38  ...                  0.17300       0\n",
              "4        20.29         14.34  ...                  0.07678       0\n",
              "\n",
              "[5 rows x 31 columns]"
            ]
          },
          "metadata": {
            "tags": []
          },
          "execution_count": 8
        }
      ]
    },
    {
      "cell_type": "code",
      "metadata": {
        "colab": {
          "base_uri": "https://localhost:8080/"
        },
        "id": "u5UVQF51CkNr",
        "outputId": "c0c464ec-2ed9-4e9d-b4fe-7df5d3d8a578"
      },
      "source": [
        "Counter (df['target'])"
      ],
      "execution_count": null,
      "outputs": [
        {
          "output_type": "execute_result",
          "data": {
            "text/plain": [
              "Counter({0: 212, 1: 357})"
            ]
          },
          "metadata": {
            "tags": []
          },
          "execution_count": 16
        }
      ]
    },
    {
      "cell_type": "code",
      "metadata": {
        "colab": {
          "base_uri": "https://localhost:8080/"
        },
        "id": "qEHyuBg1C7Te",
        "outputId": "8596bd83-58e0-4e97-fad2-d85fa0f8ecd7"
      },
      "source": [
        "357/(212+357)"
      ],
      "execution_count": null,
      "outputs": [
        {
          "output_type": "execute_result",
          "data": {
            "text/plain": [
              "0.6274165202108963"
            ]
          },
          "metadata": {
            "tags": []
          },
          "execution_count": 18
        }
      ]
    },
    {
      "cell_type": "code",
      "metadata": {
        "id": "a4boRiqz6Uv9"
      },
      "source": [
        "from sklearn.model_selection import train_test_split"
      ],
      "execution_count": null,
      "outputs": []
    },
    {
      "cell_type": "code",
      "metadata": {
        "id": "lYf4Qfzf7ye1"
      },
      "source": [
        "train,test = train_test_split(df,test_size =0.2,random_state =1 )"
      ],
      "execution_count": null,
      "outputs": []
    },
    {
      "cell_type": "code",
      "metadata": {
        "id": "e72anS0a8Zi_"
      },
      "source": [
        "x_train=train.drop('target',axis=1)\n",
        "y_train=train['target']\n",
        "x_test=test.drop('target',axis=1)\n",
        "y_test=test['target']"
      ],
      "execution_count": null,
      "outputs": []
    },
    {
      "cell_type": "code",
      "metadata": {
        "id": "Ve0lryuW8wwP"
      },
      "source": [
        "from sklearn.linear_model import LogisticRegression"
      ],
      "execution_count": null,
      "outputs": []
    },
    {
      "cell_type": "code",
      "metadata": {
        "id": "gem-eQ2ZDpCg"
      },
      "source": [
        "y_train_proba=model.predict_proba(x_train)\n",
        "y_test_proba=model.predict_proba(x_test)"
      ],
      "execution_count": null,
      "outputs": []
    },
    {
      "cell_type": "code",
      "metadata": {
        "colab": {
          "base_uri": "https://localhost:8080/"
        },
        "id": "0UKWo086DQbw",
        "outputId": "044cef97-1528-4a56-b207-d6b4e70cceeb"
      },
      "source": [
        "model=LogisticRegression(penalty='l2', C=10, class_weight='balanced')\n",
        "model.fit(x_train,y_train)\n",
        "y_train_predict= model.predict(x_train)\n",
        "y_test_predict=model.predict(x_test)\n",
        "print('Train Data')\n",
        "print(metrics.classification_report(y_train,y_train_predict))\n",
        "print('Test Data')\n",
        "print(metrics.classification_report(y_test,y_test_predict))"
      ],
      "execution_count": null,
      "outputs": [
        {
          "output_type": "stream",
          "text": [
            "Train Data\n",
            "              precision    recall  f1-score   support\n",
            "\n",
            "           0       0.92      0.93      0.92       170\n",
            "           1       0.96      0.95      0.95       285\n",
            "\n",
            "    accuracy                           0.94       455\n",
            "   macro avg       0.94      0.94      0.94       455\n",
            "weighted avg       0.94      0.94      0.94       455\n",
            "\n",
            "Test Data\n",
            "              precision    recall  f1-score   support\n",
            "\n",
            "           0       0.90      0.90      0.90        42\n",
            "           1       0.94      0.94      0.94        72\n",
            "\n",
            "    accuracy                           0.93       114\n",
            "   macro avg       0.92      0.92      0.92       114\n",
            "weighted avg       0.93      0.93      0.93       114\n",
            "\n"
          ],
          "name": "stdout"
        },
        {
          "output_type": "stream",
          "text": [
            "/usr/local/lib/python3.7/dist-packages/sklearn/linear_model/_logistic.py:940: ConvergenceWarning: lbfgs failed to converge (status=1):\n",
            "STOP: TOTAL NO. of ITERATIONS REACHED LIMIT.\n",
            "\n",
            "Increase the number of iterations (max_iter) or scale the data as shown in:\n",
            "    https://scikit-learn.org/stable/modules/preprocessing.html\n",
            "Please also refer to the documentation for alternative solver options:\n",
            "    https://scikit-learn.org/stable/modules/linear_model.html#logistic-regression\n",
            "  extra_warning_msg=_LOGISTIC_SOLVER_CONVERGENCE_MSG)\n"
          ],
          "name": "stderr"
        }
      ]
    },
    {
      "cell_type": "code",
      "metadata": {
        "id": "0Nq6wSDkDYRJ"
      },
      "source": [
        "from sklearn.metrics import confusion_matrix\n",
        "from sklearn.metrics import plot_confusion_matrix"
      ],
      "execution_count": null,
      "outputs": []
    },
    {
      "cell_type": "code",
      "metadata": {
        "colab": {
          "base_uri": "https://localhost:8080/"
        },
        "id": "YihUUtS_G1TF",
        "outputId": "a47df228-445d-43e3-bf03-d02fe4f8c303"
      },
      "source": [
        "confusion_matrix(y_train,y_train_predict) #here the threshold is .5 by default now if i have to define the threshold on my terms i have to create a function"
      ],
      "execution_count": null,
      "outputs": [
        {
          "output_type": "execute_result",
          "data": {
            "text/plain": [
              "array([[158,  12],\n",
              "       [ 14, 271]])"
            ]
          },
          "metadata": {
            "tags": []
          },
          "execution_count": 111
        }
      ]
    },
    {
      "cell_type": "code",
      "metadata": {
        "id": "4yGdpUX3IKyH"
      },
      "source": [
        "def proba_class(y_proba,threshold):\n",
        "  predicted_class=[1 if a[1]>threshold else 0 for a in y_proba]\n",
        "  return np.array(predicted_class)\n"
      ],
      "execution_count": null,
      "outputs": []
    },
    {
      "cell_type": "code",
      "metadata": {
        "colab": {
          "base_uri": "https://localhost:8080/"
        },
        "id": "NUGcL7yeLX8f",
        "outputId": "094988b6-a9fe-4bec-fe5c-305d54450e4d"
      },
      "source": [
        " proba_class(y_train_proba,0.50)==y_train_predict ##true should only come if false is coming smver it has been different"
      ],
      "execution_count": null,
      "outputs": [
        {
          "output_type": "execute_result",
          "data": {
            "text/plain": [
              "array([ True,  True,  True,  True,  True,  True,  True,  True,  True,\n",
              "        True,  True,  True,  True,  True,  True,  True,  True,  True,\n",
              "        True,  True,  True,  True,  True,  True,  True,  True,  True,\n",
              "        True,  True,  True,  True,  True,  True,  True,  True,  True,\n",
              "        True,  True,  True,  True,  True,  True,  True,  True,  True,\n",
              "        True,  True,  True,  True,  True,  True,  True,  True,  True,\n",
              "        True,  True,  True,  True,  True,  True,  True,  True,  True,\n",
              "        True,  True,  True,  True,  True,  True,  True,  True,  True,\n",
              "        True,  True,  True,  True,  True,  True,  True,  True,  True,\n",
              "        True,  True,  True,  True,  True,  True,  True,  True,  True,\n",
              "        True,  True,  True,  True,  True,  True,  True,  True,  True,\n",
              "        True,  True,  True,  True,  True,  True,  True,  True,  True,\n",
              "        True,  True,  True,  True,  True,  True,  True,  True,  True,\n",
              "        True,  True,  True,  True,  True,  True,  True,  True,  True,\n",
              "        True,  True,  True,  True,  True,  True,  True,  True,  True,\n",
              "        True,  True,  True,  True,  True,  True,  True,  True,  True,\n",
              "        True,  True,  True,  True,  True,  True,  True,  True,  True,\n",
              "        True,  True,  True,  True,  True,  True,  True,  True,  True,\n",
              "        True,  True,  True,  True,  True,  True,  True,  True,  True,\n",
              "        True,  True,  True,  True,  True,  True,  True,  True,  True,\n",
              "        True,  True,  True,  True,  True,  True,  True,  True,  True,\n",
              "        True,  True,  True,  True,  True,  True,  True,  True,  True,\n",
              "        True,  True,  True,  True,  True,  True,  True,  True,  True,\n",
              "        True,  True,  True,  True,  True,  True,  True,  True,  True,\n",
              "        True,  True,  True,  True,  True,  True,  True,  True,  True,\n",
              "        True,  True,  True,  True,  True,  True,  True,  True,  True,\n",
              "        True,  True,  True,  True,  True,  True,  True,  True,  True,\n",
              "        True,  True,  True,  True,  True,  True,  True,  True,  True,\n",
              "        True,  True,  True,  True,  True,  True,  True,  True,  True,\n",
              "        True,  True,  True,  True,  True,  True,  True,  True,  True,\n",
              "        True,  True,  True,  True,  True,  True,  True,  True,  True,\n",
              "        True,  True,  True,  True,  True,  True,  True,  True,  True,\n",
              "        True,  True,  True,  True,  True,  True,  True,  True,  True,\n",
              "        True,  True,  True,  True,  True,  True,  True,  True,  True,\n",
              "        True,  True,  True,  True,  True,  True,  True,  True,  True,\n",
              "        True,  True,  True,  True,  True,  True,  True,  True,  True,\n",
              "        True,  True,  True,  True,  True,  True,  True,  True,  True,\n",
              "        True,  True,  True,  True,  True,  True,  True,  True,  True,\n",
              "        True,  True,  True,  True,  True,  True,  True,  True,  True,\n",
              "        True,  True,  True,  True,  True,  True,  True,  True,  True,\n",
              "        True,  True,  True,  True,  True,  True,  True,  True,  True,\n",
              "        True,  True,  True,  True,  True,  True,  True,  True,  True,\n",
              "        True,  True,  True,  True,  True,  True,  True,  True,  True,\n",
              "        True,  True,  True,  True,  True,  True,  True,  True,  True,\n",
              "        True,  True,  True,  True,  True,  True,  True,  True,  True,\n",
              "        True,  True,  True,  True,  True,  True,  True,  True,  True,\n",
              "        True,  True,  True,  True,  True,  True,  True,  True,  True,\n",
              "        True,  True,  True,  True,  True,  True,  True,  True,  True,\n",
              "        True,  True,  True,  True,  True,  True,  True,  True,  True,\n",
              "        True,  True,  True,  True,  True,  True,  True,  True,  True,\n",
              "        True,  True,  True,  True,  True])"
            ]
          },
          "metadata": {
            "tags": []
          },
          "execution_count": 113
        }
      ]
    },
    {
      "cell_type": "code",
      "metadata": {
        "colab": {
          "base_uri": "https://localhost:8080/",
          "height": 279
        },
        "id": "ZmH_urfwJkbI",
        "outputId": "00c5ad71-1634-4a2f-eef0-bb6a43dc9112"
      },
      "source": [
        "plot_confusion_matrix(model, x_train,y_train_pred)\n",
        "plt.show()"
      ],
      "execution_count": null,
      "outputs": [
        {
          "output_type": "display_data",
          "data": {
            "image/png": "[encoded data removed]",
            "text/plain": [
              "<Figure size 432x288 with 2 Axes>"
            ]
          },
          "metadata": {
            "tags": [],
            "needs_background": "light"
          }
        }
      ]
    },
    {
      "cell_type": "code",
      "metadata": {
        "colab": {
          "base_uri": "https://localhost:8080/",
          "height": 279
        },
        "id": "FME1ponXQ_BG",
        "outputId": "14fea749-befb-46b0-83c1-afd536e2e084"
      },
      "source": [
        "plot_confusion_matrix(model, x_train,y_train)\n",
        "plt.show()"
      ],
      "execution_count": null,
      "outputs": [
        {
          "output_type": "display_data",
          "data": {
            "image/png": "[encoded data removed]",
            "text/plain": [
              "<Figure size 432x288 with 2 Axes>"
            ]
          },
          "metadata": {
            "tags": [],
            "needs_background": "light"
          }
        }
      ]
    },
    {
      "cell_type": "code",
      "metadata": {
        "id": "ChQDnTsGR5m7"
      },
      "source": [
        "from sklearn.metrics import precision_score,recall_score,fbeta_score\n",
        "from sklearn.metrics import precision_recall_curve"
      ],
      "execution_count": null,
      "outputs": []
    },
    {
      "cell_type": "code",
      "metadata": {
        "id": "uoQEdX_-fkwl"
      },
      "source": [
        "def classification_metrics(y_actual,y_pred):\n",
        "  precision= precision_score(y_actual,y_pred)\n",
        "  recall=recall_score(y_actual,y_pred)\n",
        "  fb=fbeta_score(y_actual,y_pred, beta=1)\n",
        "  print(\"precision:{}, recall:{}, f1_score:{}\".format(round(precision,2),round(recall,2),round(fb,2)))"
      ],
      "execution_count": null,
      "outputs": []
    },
    {
      "cell_type": "code",
      "metadata": {
        "colab": {
          "base_uri": "https://localhost:8080/"
        },
        "id": "Hm2gReLbgrzA",
        "outputId": "a5aa1d78-0f4c-4e3c-d9b4-c80e85ecfeb3"
      },
      "source": [
        "classification_metrics(y_train,y_train_predict)\n",
        "classification_metrics(y_test,y_test_predict)"
      ],
      "execution_count": null,
      "outputs": [
        {
          "output_type": "stream",
          "text": [
            "precision:0.96, recall:0.95, f1_score:0.95\n",
            "precision:0.94, recall:0.94, f1_score:0.94\n"
          ],
          "name": "stdout"
        }
      ]
    },
    {
      "cell_type": "code",
      "metadata": {
        "colab": {
          "base_uri": "https://localhost:8080/"
        },
        "id": "p6KTmkTYlg7I",
        "outputId": "544a115b-1d0c-4f64-eea4-2cd727aaf5b9"
      },
      "source": [
        "for threshold in range (10,100,10):\n",
        "  trsh=threshold/100\n",
        "  y_pred_train=proba_class(y_train_proba,trsh)\n",
        "  print('Threshold:{}'.format(trsh))\n",
        "  classification_metrics(y_train, y_pred_train) \n"
      ],
      "execution_count": null,
      "outputs": [
        {
          "output_type": "stream",
          "text": [
            "Threshold:0.1\n",
            "precision:0.91, recall:0.99, f1_score:0.95\n",
            "Threshold:0.2\n",
            "precision:0.92, recall:0.98, f1_score:0.95\n",
            "Threshold:0.3\n",
            "precision:0.93, recall:0.97, f1_score:0.95\n",
            "Threshold:0.4\n",
            "precision:0.94, recall:0.96, f1_score:0.95\n",
            "Threshold:0.5\n",
            "precision:0.96, recall:0.95, f1_score:0.95\n",
            "Threshold:0.6\n",
            "precision:0.97, recall:0.94, f1_score:0.95\n",
            "Threshold:0.7\n",
            "precision:0.98, recall:0.92, f1_score:0.95\n",
            "Threshold:0.8\n",
            "precision:0.99, recall:0.86, f1_score:0.92\n",
            "Threshold:0.9\n",
            "precision:1.0, recall:0.78, f1_score:0.87\n"
          ],
          "name": "stdout"
        }
      ]
    },
    {
      "cell_type": "code",
      "metadata": {
        "id": "4F-po5ZlYzu2"
      },
      "source": [
        "def classification_metrics(y_actual,y_pred):\n",
        "  precision= precision_score(y_actual,y_pred)\n",
        "  recall=recall_score(y_actual,y_pred)\n",
        "  fb=fbeta_score(y_actual,y_pred, beta=1)\n",
        "  print(\"precision:{}, recall:{}, f1_score:{}\".format(round(precision,2),round(recall,2),round(fb,2)))\n",
        "  return(precision,recall,fb)"
      ],
      "execution_count": null,
      "outputs": []
    },
    {
      "cell_type": "code",
      "metadata": {
        "colab": {
          "base_uri": "https://localhost:8080/"
        },
        "id": "d44LL2hBVcHj",
        "outputId": "70124b1f-cf14-4a44-8d8d-2be781d43948"
      },
      "source": [
        "thresholds_curve=[]\n",
        "prec=[]\n",
        "recall=[]\n",
        "fb=[]\n",
        "for threshold in range (10,100,10):\n",
        "  trsh=threshold/100\n",
        "  y_pred_train=proba_class(y_train_proba,trsh)\n",
        "  print('Threshold:{}'.format(trsh))\n",
        "  p,r,f=classification_metrics(y_train, y_pred_train)\n",
        "  thresholds_curve.append(trsh)\n",
        "  prec.append(p)\n",
        "  recall.append(r)\n",
        "  fb.append(f)\n"
      ],
      "execution_count": null,
      "outputs": [
        {
          "output_type": "stream",
          "text": [
            "Threshold:0.1\n",
            "precision:0.91, recall:0.99, f1_score:0.95\n",
            "Threshold:0.2\n",
            "precision:0.92, recall:0.98, f1_score:0.95\n",
            "Threshold:0.3\n",
            "precision:0.93, recall:0.97, f1_score:0.95\n",
            "Threshold:0.4\n",
            "precision:0.94, recall:0.96, f1_score:0.95\n",
            "Threshold:0.5\n",
            "precision:0.96, recall:0.95, f1_score:0.95\n",
            "Threshold:0.6\n",
            "precision:0.97, recall:0.94, f1_score:0.95\n",
            "Threshold:0.7\n",
            "precision:0.98, recall:0.92, f1_score:0.95\n",
            "Threshold:0.8\n",
            "precision:0.99, recall:0.86, f1_score:0.92\n",
            "Threshold:0.9\n",
            "precision:1.0, recall:0.78, f1_score:0.87\n"
          ],
          "name": "stdout"
        }
      ]
    },
    {
      "cell_type": "code",
      "metadata": {
        "colab": {
          "base_uri": "https://localhost:8080/",
          "height": 279
        },
        "id": "XoxDFTy9eH2m",
        "outputId": "7f04cdab-09d9-4f20-bdaf-b4291fae1d49"
      },
      "source": [
        "sns.lineplot(x= thresholds_curve, y= prec)\n",
        "sns.lineplot(x= thresholds_curve, y= recall)\n",
        "plt.xlabel('Threshold')\n",
        "plt.ylabel('PRC')\n",
        "plt.show()"
      ],
      "execution_count": null,
      "outputs": [
        {
          "output_type": "display_data",
          "data": {
            "image/png": "[encoded data removed]",
            "text/plain": [
              "<Figure size 432x288 with 1 Axes>"
            ]
          },
          "metadata": {
            "tags": [],
            "needs_background": "light"
          }
        }
      ]
    },
    {
      "cell_type": "code",
      "metadata": {
        "colab": {
          "base_uri": "https://localhost:8080/"
        },
        "id": "r4z6BVlEnqUM",
        "outputId": "6932eb32-7ae7-4ecb-c461-877ff0e571fe"
      },
      "source": [
        "for threshold in range (10,100,10):\n",
        "  trsh=threshold/100\n",
        "  y_pred_test=proba_class(y_test_proba,trsh)\n",
        "  print('Threshold:{}'.format(trsh))\n",
        "  classification_metrics(y_test, y_pred_test) \n"
      ],
      "execution_count": null,
      "outputs": [
        {
          "output_type": "stream",
          "text": [
            "Threshold:0.1\n",
            "precision:0.87, recall:1.0, f1_score:0.93\n",
            "Threshold:0.2\n",
            "precision:0.89, recall:0.99, f1_score:0.93\n",
            "Threshold:0.3\n",
            "precision:0.9, recall:0.99, f1_score:0.94\n",
            "Threshold:0.4\n",
            "precision:0.93, recall:0.96, f1_score:0.95\n",
            "Threshold:0.5\n",
            "precision:0.94, recall:0.94, f1_score:0.94\n",
            "Threshold:0.6\n",
            "precision:0.94, recall:0.93, f1_score:0.94\n",
            "Threshold:0.7\n",
            "precision:0.96, recall:0.92, f1_score:0.94\n",
            "Threshold:0.8\n",
            "precision:0.98, recall:0.86, f1_score:0.92\n",
            "Threshold:0.9\n",
            "precision:1.0, recall:0.81, f1_score:0.89\n"
          ],
          "name": "stdout"
        }
      ]
    },
    {
      "cell_type": "markdown",
      "metadata": {
        "id": "Num8yyOMpM9Q"
      },
      "source": [
        "in .60 threshold my precision recall and f1 score is bettr than .50 since its false neg is less thus giving me grtr true positive in total positive cases and its imp for me to identify the true pos cases "
      ]
    },
    {
      "cell_type": "code",
      "metadata": {
        "colab": {
          "base_uri": "https://localhost:8080/"
        },
        "id": "12RH83sPdgK2",
        "outputId": "05529192-6744-43da-bc98-fe5a74e84a51"
      },
      "source": [
        "thresholds_curve_test=[]\n",
        "prec_test=[]\n",
        "recall_test=[]\n",
        "fb_test=[]\n",
        "for threshold in range (10,100,10):\n",
        "  trsh=threshold/100\n",
        "  y_pred_test=proba_class(y_test_proba,trsh)\n",
        "  print('Threshold:{}'.format(trsh))\n",
        "  p,r,f=classification_metrics(y_test, y_pred_test)\n",
        "  thresholds_curve_test.append(trsh)\n",
        "  prec_test.append(p)\n",
        "  recall_test.append(r)\n",
        "  fb_test.append(f)"
      ],
      "execution_count": null,
      "outputs": [
        {
          "output_type": "stream",
          "text": [
            "Threshold:0.1\n",
            "precision:0.87, recall:1.0, f1_score:0.93\n",
            "Threshold:0.2\n",
            "precision:0.89, recall:0.99, f1_score:0.93\n",
            "Threshold:0.3\n",
            "precision:0.9, recall:0.99, f1_score:0.94\n",
            "Threshold:0.4\n",
            "precision:0.93, recall:0.96, f1_score:0.95\n",
            "Threshold:0.5\n",
            "precision:0.94, recall:0.94, f1_score:0.94\n",
            "Threshold:0.6\n",
            "precision:0.94, recall:0.93, f1_score:0.94\n",
            "Threshold:0.7\n",
            "precision:0.96, recall:0.92, f1_score:0.94\n",
            "Threshold:0.8\n",
            "precision:0.98, recall:0.86, f1_score:0.92\n",
            "Threshold:0.9\n",
            "precision:1.0, recall:0.81, f1_score:0.89\n"
          ],
          "name": "stdout"
        }
      ]
    },
    {
      "cell_type": "code",
      "metadata": {
        "colab": {
          "base_uri": "https://localhost:8080/"
        },
        "id": "4A3ho8BG_41F",
        "outputId": "3d74d187-b4e1-4fe2-fe43-0d60796e896c"
      },
      "source": [
        "y_pred_train= proba_class(y_train_proba,0.60)\n",
        "confusion_matrix(y_train,y_pred_train)"
      ],
      "execution_count": null,
      "outputs": [
        {
          "output_type": "execute_result",
          "data": {
            "text/plain": [
              "array([[162,   8],\n",
              "       [ 18, 267]])"
            ]
          },
          "metadata": {
            "tags": []
          },
          "execution_count": 155
        }
      ]
    },
    {
      "cell_type": "code",
      "metadata": {
        "colab": {
          "base_uri": "https://localhost:8080/"
        },
        "id": "Aev_6J72AATM",
        "outputId": "91557dbb-5b99-4453-890d-243078e725ea"
      },
      "source": [
        "y_pred_test=proba_class(y_test_proba,0.60)\n",
        "confusion_matrix(y_test,y_pred_test)"
      ],
      "execution_count": null,
      "outputs": [
        {
          "output_type": "execute_result",
          "data": {
            "text/plain": [
              "array([[38,  4],\n",
              "       [ 5, 67]])"
            ]
          },
          "metadata": {
            "tags": []
          },
          "execution_count": 153
        }
      ]
    },
    {
      "cell_type": "code",
      "metadata": {
        "colab": {
          "base_uri": "https://localhost:8080/"
        },
        "id": "l7jZIsGeABG5",
        "outputId": "a7168e06-c9e9-4077-e472-8ed1fd4cedc2"
      },
      "source": [
        "classification_metrics(y_train,y_pred_train)\n",
        "classification_metrics(y_test,y_pred_test)"
      ],
      "execution_count": null,
      "outputs": [
        {
          "output_type": "stream",
          "text": [
            "precision:0.94, recall:0.96, f1_score:0.95\n",
            "precision:0.93, recall:0.96, f1_score:0.95\n"
          ],
          "name": "stdout"
        }
      ]
    },
    {
      "cell_type": "code",
      "metadata": {
        "colab": {
          "base_uri": "https://localhost:8080/"
        },
        "id": "xMS9WNPaAMG7",
        "outputId": "11fb0901-05f8-4a7c-8130-27e04bb79fcd"
      },
      "source": [
        "model2=LogisticRegression(penalty='l2', C=10, class_weight=None)\n",
        "model2.fit(x_train,y_train)\n",
        "y_train_predict2= model2.predict(x_train)\n",
        "y_test_predict2=model2.predict(x_test)\n",
        "print('Train Data')\n",
        "print(metrics.classification_report(y_train,y_train_predict))\n",
        "print('Test Data')\n",
        "print(metrics.classification_report(y_test,y_test_predict))"
      ],
      "execution_count": null,
      "outputs": [
        {
          "output_type": "stream",
          "text": [
            "Train Data\n",
            "              precision    recall  f1-score   support\n",
            "\n",
            "           0       0.92      0.93      0.92       170\n",
            "           1       0.96      0.95      0.95       285\n",
            "\n",
            "    accuracy                           0.94       455\n",
            "   macro avg       0.94      0.94      0.94       455\n",
            "weighted avg       0.94      0.94      0.94       455\n",
            "\n",
            "Test Data\n",
            "              precision    recall  f1-score   support\n",
            "\n",
            "           0       0.90      0.90      0.90        42\n",
            "           1       0.94      0.94      0.94        72\n",
            "\n",
            "    accuracy                           0.93       114\n",
            "   macro avg       0.92      0.92      0.92       114\n",
            "weighted avg       0.93      0.93      0.93       114\n",
            "\n"
          ],
          "name": "stdout"
        },
        {
          "output_type": "stream",
          "text": [
            "/usr/local/lib/python3.7/dist-packages/sklearn/linear_model/_logistic.py:940: ConvergenceWarning: lbfgs failed to converge (status=1):\n",
            "STOP: TOTAL NO. of ITERATIONS REACHED LIMIT.\n",
            "\n",
            "Increase the number of iterations (max_iter) or scale the data as shown in:\n",
            "    https://scikit-learn.org/stable/modules/preprocessing.html\n",
            "Please also refer to the documentation for alternative solver options:\n",
            "    https://scikit-learn.org/stable/modules/linear_model.html#logistic-regression\n",
            "  extra_warning_msg=_LOGISTIC_SOLVER_CONVERGENCE_MSG)\n"
          ],
          "name": "stderr"
        }
      ]
    },
    {
      "cell_type": "code",
      "metadata": {
        "id": "17xhyr8gFlPT"
      },
      "source": [
        "y_train_proba2=model2.predict_proba(x_train)\n",
        "y_test_proba2=model2.predict_proba(x_test)"
      ],
      "execution_count": null,
      "outputs": []
    },
    {
      "cell_type": "code",
      "metadata": {
        "colab": {
          "base_uri": "https://localhost:8080/"
        },
        "id": "Uxzj0a9aDssc",
        "outputId": "d3ee3418-e00f-4b4a-aa17-151a22ea8739"
      },
      "source": [
        "Counter (y_test_predict)"
      ],
      "execution_count": null,
      "outputs": [
        {
          "output_type": "execute_result",
          "data": {
            "text/plain": [
              "Counter({0: 42, 1: 72})"
            ]
          },
          "metadata": {
            "tags": []
          },
          "execution_count": 127
        }
      ]
    },
    {
      "cell_type": "code",
      "metadata": {
        "id": "uYIRLL6LHPQz"
      },
      "source": [
        "#for a in y_train_proba2:\n",
        "  #print (a[1])"
      ],
      "execution_count": null,
      "outputs": []
    },
    {
      "cell_type": "code",
      "metadata": {
        "id": "LOR7jvPAEGrh"
      },
      "source": [
        "from sklearn.metrics import roc_curve\n",
        "fpr,tpr,thresholds=roc_curve(y_train,[a[1] for a in y_train_proba2])"
      ],
      "execution_count": null,
      "outputs": []
    },
    {
      "cell_type": "code",
      "metadata": {
        "colab": {
          "base_uri": "https://localhost:8080/",
          "height": 282
        },
        "id": "TFcoZzlVH_ZI",
        "outputId": "7e1f1ce8-f835-499d-871f-d21e8a1211fd"
      },
      "source": [
        "sns.lineplot(x=fpr,y=tpr)"
      ],
      "execution_count": null,
      "outputs": [
        {
          "output_type": "execute_result",
          "data": {
            "text/plain": [
              "<matplotlib.axes._subplots.AxesSubplot at 0x7fd354f40450>"
            ]
          },
          "metadata": {
            "tags": []
          },
          "execution_count": 133
        },
        {
          "output_type": "display_data",
          "data": {
            "image/png": "[encoded data removed]",
            "text/plain": [
              "<Figure size 432x288 with 1 Axes>"
            ]
          },
          "metadata": {
            "tags": [],
            "needs_background": "light"
          }
        }
      ]
    },
    {
      "cell_type": "code",
      "metadata": {
        "id": "buFaeRAwPgcx"
      },
      "source": [
        "roc_auc_train= pd.DataFrame(fpr,columns=['FPR'])\n",
        "roc_auc_train['TPR']=tpr\n",
        "roc_auc_train['Threshold']=thresholds"
      ],
      "execution_count": null,
      "outputs": []
    },
    {
      "cell_type": "code",
      "metadata": {
        "colab": {
          "base_uri": "https://localhost:8080/",
          "height": 979
        },
        "id": "vJHgPeuNP_Nq",
        "outputId": "ee57cd20-ae98-44bc-b0b8-318dcf598613"
      },
      "source": [
        "roc_auc_train"
      ],
      "execution_count": null,
      "outputs": [
        {
          "output_type": "execute_result",
          "data": {
            "text/html": [
              "<div>\n",
              "<style scoped>\n",
              "    .dataframe tbody tr th:only-of-type {\n",
              "        vertical-align: middle;\n",
              "    }\n",
              "\n",
              "    .dataframe tbody tr th {\n",
              "        vertical-align: top;\n",
              "    }\n",
              "\n",
              "    .dataframe thead th {\n",
              "        text-align: right;\n",
              "    }\n",
              "</style>\n",
              "<table border=\"1\" class=\"dataframe\">\n",
              "  <thead>\n",
              "    <tr style=\"text-align: right;\">\n",
              "      <th></th>\n",
              "      <th>FPR</th>\n",
              "      <th>TPR</th>\n",
              "      <th>Threshold</th>\n",
              "    </tr>\n",
              "  </thead>\n",
              "  <tbody>\n",
              "    <tr>\n",
              "      <th>0</th>\n",
              "      <td>0.000000</td>\n",
              "      <td>0.000000</td>\n",
              "      <td>1.999975e+00</td>\n",
              "    </tr>\n",
              "    <tr>\n",
              "      <th>1</th>\n",
              "      <td>0.000000</td>\n",
              "      <td>0.003509</td>\n",
              "      <td>9.999748e-01</td>\n",
              "    </tr>\n",
              "    <tr>\n",
              "      <th>2</th>\n",
              "      <td>0.000000</td>\n",
              "      <td>0.543860</td>\n",
              "      <td>9.917120e-01</td>\n",
              "    </tr>\n",
              "    <tr>\n",
              "      <th>3</th>\n",
              "      <td>0.005882</td>\n",
              "      <td>0.543860</td>\n",
              "      <td>9.914208e-01</td>\n",
              "    </tr>\n",
              "    <tr>\n",
              "      <th>4</th>\n",
              "      <td>0.005882</td>\n",
              "      <td>0.866667</td>\n",
              "      <td>9.345698e-01</td>\n",
              "    </tr>\n",
              "    <tr>\n",
              "      <th>5</th>\n",
              "      <td>0.011765</td>\n",
              "      <td>0.866667</td>\n",
              "      <td>9.344372e-01</td>\n",
              "    </tr>\n",
              "    <tr>\n",
              "      <th>6</th>\n",
              "      <td>0.011765</td>\n",
              "      <td>0.891228</td>\n",
              "      <td>9.008992e-01</td>\n",
              "    </tr>\n",
              "    <tr>\n",
              "      <th>7</th>\n",
              "      <td>0.017647</td>\n",
              "      <td>0.891228</td>\n",
              "      <td>8.921931e-01</td>\n",
              "    </tr>\n",
              "    <tr>\n",
              "      <th>8</th>\n",
              "      <td>0.017647</td>\n",
              "      <td>0.943860</td>\n",
              "      <td>8.185824e-01</td>\n",
              "    </tr>\n",
              "    <tr>\n",
              "      <th>9</th>\n",
              "      <td>0.029412</td>\n",
              "      <td>0.943860</td>\n",
              "      <td>7.944749e-01</td>\n",
              "    </tr>\n",
              "    <tr>\n",
              "      <th>10</th>\n",
              "      <td>0.029412</td>\n",
              "      <td>0.954386</td>\n",
              "      <td>7.716843e-01</td>\n",
              "    </tr>\n",
              "    <tr>\n",
              "      <th>11</th>\n",
              "      <td>0.035294</td>\n",
              "      <td>0.954386</td>\n",
              "      <td>7.489705e-01</td>\n",
              "    </tr>\n",
              "    <tr>\n",
              "      <th>12</th>\n",
              "      <td>0.035294</td>\n",
              "      <td>0.957895</td>\n",
              "      <td>7.118896e-01</td>\n",
              "    </tr>\n",
              "    <tr>\n",
              "      <th>13</th>\n",
              "      <td>0.041176</td>\n",
              "      <td>0.957895</td>\n",
              "      <td>6.642153e-01</td>\n",
              "    </tr>\n",
              "    <tr>\n",
              "      <th>14</th>\n",
              "      <td>0.041176</td>\n",
              "      <td>0.964912</td>\n",
              "      <td>6.350801e-01</td>\n",
              "    </tr>\n",
              "    <tr>\n",
              "      <th>15</th>\n",
              "      <td>0.052941</td>\n",
              "      <td>0.964912</td>\n",
              "      <td>5.602914e-01</td>\n",
              "    </tr>\n",
              "    <tr>\n",
              "      <th>16</th>\n",
              "      <td>0.052941</td>\n",
              "      <td>0.975439</td>\n",
              "      <td>5.133218e-01</td>\n",
              "    </tr>\n",
              "    <tr>\n",
              "      <th>17</th>\n",
              "      <td>0.058824</td>\n",
              "      <td>0.975439</td>\n",
              "      <td>4.821055e-01</td>\n",
              "    </tr>\n",
              "    <tr>\n",
              "      <th>18</th>\n",
              "      <td>0.058824</td>\n",
              "      <td>0.978947</td>\n",
              "      <td>4.675457e-01</td>\n",
              "    </tr>\n",
              "    <tr>\n",
              "      <th>19</th>\n",
              "      <td>0.070588</td>\n",
              "      <td>0.978947</td>\n",
              "      <td>4.270418e-01</td>\n",
              "    </tr>\n",
              "    <tr>\n",
              "      <th>20</th>\n",
              "      <td>0.070588</td>\n",
              "      <td>0.982456</td>\n",
              "      <td>4.245646e-01</td>\n",
              "    </tr>\n",
              "    <tr>\n",
              "      <th>21</th>\n",
              "      <td>0.076471</td>\n",
              "      <td>0.982456</td>\n",
              "      <td>4.075658e-01</td>\n",
              "    </tr>\n",
              "    <tr>\n",
              "      <th>22</th>\n",
              "      <td>0.076471</td>\n",
              "      <td>0.985965</td>\n",
              "      <td>3.962653e-01</td>\n",
              "    </tr>\n",
              "    <tr>\n",
              "      <th>23</th>\n",
              "      <td>0.082353</td>\n",
              "      <td>0.985965</td>\n",
              "      <td>3.777990e-01</td>\n",
              "    </tr>\n",
              "    <tr>\n",
              "      <th>24</th>\n",
              "      <td>0.082353</td>\n",
              "      <td>0.989474</td>\n",
              "      <td>3.653672e-01</td>\n",
              "    </tr>\n",
              "    <tr>\n",
              "      <th>25</th>\n",
              "      <td>0.088235</td>\n",
              "      <td>0.989474</td>\n",
              "      <td>3.353389e-01</td>\n",
              "    </tr>\n",
              "    <tr>\n",
              "      <th>26</th>\n",
              "      <td>0.088235</td>\n",
              "      <td>0.992982</td>\n",
              "      <td>3.224898e-01</td>\n",
              "    </tr>\n",
              "    <tr>\n",
              "      <th>27</th>\n",
              "      <td>0.094118</td>\n",
              "      <td>0.992982</td>\n",
              "      <td>3.014514e-01</td>\n",
              "    </tr>\n",
              "    <tr>\n",
              "      <th>28</th>\n",
              "      <td>0.094118</td>\n",
              "      <td>1.000000</td>\n",
              "      <td>2.474990e-01</td>\n",
              "    </tr>\n",
              "    <tr>\n",
              "      <th>29</th>\n",
              "      <td>1.000000</td>\n",
              "      <td>1.000000</td>\n",
              "      <td>5.182697e-47</td>\n",
              "    </tr>\n",
              "  </tbody>\n",
              "</table>\n",
              "</div>"
            ],
            "text/plain": [
              "         FPR       TPR     Threshold\n",
              "0   0.000000  0.000000  1.999975e+00\n",
              "1   0.000000  0.003509  9.999748e-01\n",
              "2   0.000000  0.543860  9.917120e-01\n",
              "3   0.005882  0.543860  9.914208e-01\n",
              "4   0.005882  0.866667  9.345698e-01\n",
              "5   0.011765  0.866667  9.344372e-01\n",
              "6   0.011765  0.891228  9.008992e-01\n",
              "7   0.017647  0.891228  8.921931e-01\n",
              "8   0.017647  0.943860  8.185824e-01\n",
              "9   0.029412  0.943860  7.944749e-01\n",
              "10  0.029412  0.954386  7.716843e-01\n",
              "11  0.035294  0.954386  7.489705e-01\n",
              "12  0.035294  0.957895  7.118896e-01\n",
              "13  0.041176  0.957895  6.642153e-01\n",
              "14  0.041176  0.964912  6.350801e-01\n",
              "15  0.052941  0.964912  5.602914e-01\n",
              "16  0.052941  0.975439  5.133218e-01\n",
              "17  0.058824  0.975439  4.821055e-01\n",
              "18  0.058824  0.978947  4.675457e-01\n",
              "19  0.070588  0.978947  4.270418e-01\n",
              "20  0.070588  0.982456  4.245646e-01\n",
              "21  0.076471  0.982456  4.075658e-01\n",
              "22  0.076471  0.985965  3.962653e-01\n",
              "23  0.082353  0.985965  3.777990e-01\n",
              "24  0.082353  0.989474  3.653672e-01\n",
              "25  0.088235  0.989474  3.353389e-01\n",
              "26  0.088235  0.992982  3.224898e-01\n",
              "27  0.094118  0.992982  3.014514e-01\n",
              "28  0.094118  1.000000  2.474990e-01\n",
              "29  1.000000  1.000000  5.182697e-47"
            ]
          },
          "metadata": {
            "tags": []
          },
          "execution_count": 145
        }
      ]
    },
    {
      "cell_type": "code",
      "metadata": {
        "id": "EjPqcFaSIF5m"
      },
      "source": [
        "from sklearn.metrics import roc_curve\n",
        "fpr2,tpr2,thresholds2=roc_curve(y_test,[a[1] for a in y_test_proba2])"
      ],
      "execution_count": null,
      "outputs": []
    },
    {
      "cell_type": "code",
      "metadata": {
        "colab": {
          "base_uri": "https://localhost:8080/",
          "height": 282
        },
        "id": "MJGHk3xHITmj",
        "outputId": "c924ed25-2856-4990-985e-dd7426828a42"
      },
      "source": [
        "sns.lineplot(x=fpr,y=tpr)\n",
        "sns.lineplot(x=fpr2,y=tpr2)"
      ],
      "execution_count": null,
      "outputs": [
        {
          "output_type": "execute_result",
          "data": {
            "text/plain": [
              "<matplotlib.axes._subplots.AxesSubplot at 0x7fd3532b3050>"
            ]
          },
          "metadata": {
            "tags": []
          },
          "execution_count": 170
        },
        {
          "output_type": "display_data",
          "data": {
            "image/png": "[encoded data removed]",
            "text/plain": [
              "<Figure size 432x288 with 1 Axes>"
            ]
          },
          "metadata": {
            "tags": [],
            "needs_background": "light"
          }
        }
      ]
    },
    {
      "cell_type": "code",
      "metadata": {
        "id": "K945mvz2IYhx"
      },
      "source": [
        "roc_auc_test= pd.DataFrame(fpr2,columns=['FPR'])\n",
        "roc_auc_test['TPR']=tpr2\n",
        "roc_auc_test['Threshold']=thresholds2"
      ],
      "execution_count": null,
      "outputs": []
    },
    {
      "cell_type": "code",
      "metadata": {
        "colab": {
          "base_uri": "https://localhost:8080/",
          "height": 359
        },
        "id": "JJQEJvChPGFa",
        "outputId": "90124ba3-ff8c-4992-9737-723d056cd7b8"
      },
      "source": [
        "roc_auc_test"
      ],
      "execution_count": null,
      "outputs": [
        {
          "output_type": "execute_result",
          "data": {
            "text/html": [
              "<div>\n",
              "<style scoped>\n",
              "    .dataframe tbody tr th:only-of-type {\n",
              "        vertical-align: middle;\n",
              "    }\n",
              "\n",
              "    .dataframe tbody tr th {\n",
              "        vertical-align: top;\n",
              "    }\n",
              "\n",
              "    .dataframe thead th {\n",
              "        text-align: right;\n",
              "    }\n",
              "</style>\n",
              "<table border=\"1\" class=\"dataframe\">\n",
              "  <thead>\n",
              "    <tr style=\"text-align: right;\">\n",
              "      <th></th>\n",
              "      <th>FPR</th>\n",
              "      <th>TPR</th>\n",
              "      <th>Threshold</th>\n",
              "    </tr>\n",
              "  </thead>\n",
              "  <tbody>\n",
              "    <tr>\n",
              "      <th>0</th>\n",
              "      <td>0.000000</td>\n",
              "      <td>0.000000</td>\n",
              "      <td>1.999684e+00</td>\n",
              "    </tr>\n",
              "    <tr>\n",
              "      <th>1</th>\n",
              "      <td>0.000000</td>\n",
              "      <td>0.013889</td>\n",
              "      <td>9.996844e-01</td>\n",
              "    </tr>\n",
              "    <tr>\n",
              "      <th>2</th>\n",
              "      <td>0.000000</td>\n",
              "      <td>0.555556</td>\n",
              "      <td>9.897223e-01</td>\n",
              "    </tr>\n",
              "    <tr>\n",
              "      <th>3</th>\n",
              "      <td>0.023810</td>\n",
              "      <td>0.555556</td>\n",
              "      <td>9.896781e-01</td>\n",
              "    </tr>\n",
              "    <tr>\n",
              "      <th>4</th>\n",
              "      <td>0.023810</td>\n",
              "      <td>0.944444</td>\n",
              "      <td>8.559352e-01</td>\n",
              "    </tr>\n",
              "    <tr>\n",
              "      <th>5</th>\n",
              "      <td>0.047619</td>\n",
              "      <td>0.944444</td>\n",
              "      <td>8.533662e-01</td>\n",
              "    </tr>\n",
              "    <tr>\n",
              "      <th>6</th>\n",
              "      <td>0.047619</td>\n",
              "      <td>0.958333</td>\n",
              "      <td>8.260122e-01</td>\n",
              "    </tr>\n",
              "    <tr>\n",
              "      <th>7</th>\n",
              "      <td>0.071429</td>\n",
              "      <td>0.958333</td>\n",
              "      <td>8.123457e-01</td>\n",
              "    </tr>\n",
              "    <tr>\n",
              "      <th>8</th>\n",
              "      <td>0.071429</td>\n",
              "      <td>1.000000</td>\n",
              "      <td>5.959817e-01</td>\n",
              "    </tr>\n",
              "    <tr>\n",
              "      <th>9</th>\n",
              "      <td>1.000000</td>\n",
              "      <td>1.000000</td>\n",
              "      <td>2.466550e-20</td>\n",
              "    </tr>\n",
              "  </tbody>\n",
              "</table>\n",
              "</div>"
            ],
            "text/plain": [
              "        FPR       TPR     Threshold\n",
              "0  0.000000  0.000000  1.999684e+00\n",
              "1  0.000000  0.013889  9.996844e-01\n",
              "2  0.000000  0.555556  9.897223e-01\n",
              "3  0.023810  0.555556  9.896781e-01\n",
              "4  0.023810  0.944444  8.559352e-01\n",
              "5  0.047619  0.944444  8.533662e-01\n",
              "6  0.047619  0.958333  8.260122e-01\n",
              "7  0.071429  0.958333  8.123457e-01\n",
              "8  0.071429  1.000000  5.959817e-01\n",
              "9  1.000000  1.000000  2.466550e-20"
            ]
          },
          "metadata": {
            "tags": []
          },
          "execution_count": 142
        }
      ]
    }
  ]
}