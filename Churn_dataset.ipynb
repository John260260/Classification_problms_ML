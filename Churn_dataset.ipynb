{
  "nbformat": 4,
  "nbformat_minor": 0,
  "metadata": {
    "colab": {
      "name": "Churn_dataset",
      "provenance": [],
      "collapsed_sections": [],
      "mount_file_id": "1HqyH0mThscRk6LceK4yKgiz9E6zJ2aP9",
      "authorship_tag": "ABX9TyMXLfKvwHExOmo91fxSVPKY",
      "include_colab_link": true
    },
    "kernelspec": {
      "name": "python3",
      "display_name": "Python 3"
    },
    "language_info": {
      "name": "python"
    }
  },
  "cells": [
    {
      "cell_type": "markdown",
      "metadata": {
        "id": "view-in-github",
        "colab_type": "text"
      },
      "source": [
        "<a href=\"https://colab.research.google.com/github/John260260/Classification_problms_ML/blob/main/Churn_dataset.ipynb\" target=\"_parent\"><img src=\"https://colab.research.google.com/assets/colab-badge.svg\" alt=\"Open In Colab\"/></a>"
      ]
    },
    {
      "cell_type": "code",
      "metadata": {
        "id": "hUzefUXetEqy"
      },
      "source": [
        "import pandas as pd\n",
        "import numpy as np\n",
        "import matplotlib\n",
        "import matplotlib.pyplot as plt\n",
        "import matplotlib.colors\n",
        "%matplotlib inline\n",
        "import seaborn as sns\n",
        "from collections import Counter\n",
        "from sklearn.preprocessing import StandardScaler\n",
        "from sklearn.model_selection import train_test_split\n",
        "from sklearn.model_selection import GridSearchCV\n",
        "from sklearn import metrics\n",
        "from sklearn.metrics import classification_report\n",
        "from sklearn.metrics import precision_score,recall_score,fbeta_score,precision_recall_curve\n",
        "from sklearn.metrics import balanced_accuracy_score, roc_auc_score, make_scorer\n",
        "from sklearn.metrics import confusion_matrix\n",
        "from sklearn.metrics import plot_confusion_matrix\n",
        "from sklearn.linear_model import LogisticRegression\n",
        "from sklearn.tree import DecisionTreeClassifier\n",
        "from sklearn.ensemble import RandomForestClassifier\n",
        "import xgboost\n",
        "from sklearn.naive_bayes import GaussianNB\n",
        "from sklearn.svm import SVC\n",
        "from sklearn.neighbors import KNeighborsClassifier"
      ],
      "execution_count": 135,
      "outputs": []
    },
    {
      "cell_type": "code",
      "metadata": {
        "id": "nfCP9Wsnt3fW"
      },
      "source": [
        "#import data\n",
        "df=pd.read_csv('/content/drive/MyDrive/datasets/WA_Fn-UseC_-Telco-Customer-Churn.csv')"
      ],
      "execution_count": 136,
      "outputs": []
    },
    {
      "cell_type": "code",
      "metadata": {
        "colab": {
          "base_uri": "https://localhost:8080/",
          "height": 309
        },
        "id": "2fk_c6plw6jd",
        "outputId": "df13897b-1b9c-4a56-dc62-3420cdec90b5"
      },
      "source": [
        "df.head()"
      ],
      "execution_count": 137,
      "outputs": [
        {
          "output_type": "execute_result",
          "data": {
            "text/html": [
              "<div>\n",
              "<style scoped>\n",
              "    .dataframe tbody tr th:only-of-type {\n",
              "        vertical-align: middle;\n",
              "    }\n",
              "\n",
              "    .dataframe tbody tr th {\n",
              "        vertical-align: top;\n",
              "    }\n",
              "\n",
              "    .dataframe thead th {\n",
              "        text-align: right;\n",
              "    }\n",
              "</style>\n",
              "<table border=\"1\" class=\"dataframe\">\n",
              "  <thead>\n",
              "    <tr style=\"text-align: right;\">\n",
              "      <th></th>\n",
              "      <th>customerID</th>\n",
              "      <th>gender</th>\n",
              "      <th>SeniorCitizen</th>\n",
              "      <th>Partner</th>\n",
              "      <th>Dependents</th>\n",
              "      <th>tenure</th>\n",
              "      <th>PhoneService</th>\n",
              "      <th>MultipleLines</th>\n",
              "      <th>InternetService</th>\n",
              "      <th>OnlineSecurity</th>\n",
              "      <th>OnlineBackup</th>\n",
              "      <th>DeviceProtection</th>\n",
              "      <th>TechSupport</th>\n",
              "      <th>StreamingTV</th>\n",
              "      <th>StreamingMovies</th>\n",
              "      <th>Contract</th>\n",
              "      <th>PaperlessBilling</th>\n",
              "      <th>PaymentMethod</th>\n",
              "      <th>MonthlyCharges</th>\n",
              "      <th>TotalCharges</th>\n",
              "      <th>Churn</th>\n",
              "    </tr>\n",
              "  </thead>\n",
              "  <tbody>\n",
              "    <tr>\n",
              "      <th>0</th>\n",
              "      <td>7590-VHVEG</td>\n",
              "      <td>Female</td>\n",
              "      <td>0</td>\n",
              "      <td>Yes</td>\n",
              "      <td>No</td>\n",
              "      <td>1</td>\n",
              "      <td>No</td>\n",
              "      <td>No phone service</td>\n",
              "      <td>DSL</td>\n",
              "      <td>No</td>\n",
              "      <td>Yes</td>\n",
              "      <td>No</td>\n",
              "      <td>No</td>\n",
              "      <td>No</td>\n",
              "      <td>No</td>\n",
              "      <td>Month-to-month</td>\n",
              "      <td>Yes</td>\n",
              "      <td>Electronic check</td>\n",
              "      <td>29.85</td>\n",
              "      <td>29.85</td>\n",
              "      <td>No</td>\n",
              "    </tr>\n",
              "    <tr>\n",
              "      <th>1</th>\n",
              "      <td>5575-GNVDE</td>\n",
              "      <td>Male</td>\n",
              "      <td>0</td>\n",
              "      <td>No</td>\n",
              "      <td>No</td>\n",
              "      <td>34</td>\n",
              "      <td>Yes</td>\n",
              "      <td>No</td>\n",
              "      <td>DSL</td>\n",
              "      <td>Yes</td>\n",
              "      <td>No</td>\n",
              "      <td>Yes</td>\n",
              "      <td>No</td>\n",
              "      <td>No</td>\n",
              "      <td>No</td>\n",
              "      <td>One year</td>\n",
              "      <td>No</td>\n",
              "      <td>Mailed check</td>\n",
              "      <td>56.95</td>\n",
              "      <td>1889.5</td>\n",
              "      <td>No</td>\n",
              "    </tr>\n",
              "    <tr>\n",
              "      <th>2</th>\n",
              "      <td>3668-QPYBK</td>\n",
              "      <td>Male</td>\n",
              "      <td>0</td>\n",
              "      <td>No</td>\n",
              "      <td>No</td>\n",
              "      <td>2</td>\n",
              "      <td>Yes</td>\n",
              "      <td>No</td>\n",
              "      <td>DSL</td>\n",
              "      <td>Yes</td>\n",
              "      <td>Yes</td>\n",
              "      <td>No</td>\n",
              "      <td>No</td>\n",
              "      <td>No</td>\n",
              "      <td>No</td>\n",
              "      <td>Month-to-month</td>\n",
              "      <td>Yes</td>\n",
              "      <td>Mailed check</td>\n",
              "      <td>53.85</td>\n",
              "      <td>108.15</td>\n",
              "      <td>Yes</td>\n",
              "    </tr>\n",
              "    <tr>\n",
              "      <th>3</th>\n",
              "      <td>7795-CFOCW</td>\n",
              "      <td>Male</td>\n",
              "      <td>0</td>\n",
              "      <td>No</td>\n",
              "      <td>No</td>\n",
              "      <td>45</td>\n",
              "      <td>No</td>\n",
              "      <td>No phone service</td>\n",
              "      <td>DSL</td>\n",
              "      <td>Yes</td>\n",
              "      <td>No</td>\n",
              "      <td>Yes</td>\n",
              "      <td>Yes</td>\n",
              "      <td>No</td>\n",
              "      <td>No</td>\n",
              "      <td>One year</td>\n",
              "      <td>No</td>\n",
              "      <td>Bank transfer (automatic)</td>\n",
              "      <td>42.30</td>\n",
              "      <td>1840.75</td>\n",
              "      <td>No</td>\n",
              "    </tr>\n",
              "    <tr>\n",
              "      <th>4</th>\n",
              "      <td>9237-HQITU</td>\n",
              "      <td>Female</td>\n",
              "      <td>0</td>\n",
              "      <td>No</td>\n",
              "      <td>No</td>\n",
              "      <td>2</td>\n",
              "      <td>Yes</td>\n",
              "      <td>No</td>\n",
              "      <td>Fiber optic</td>\n",
              "      <td>No</td>\n",
              "      <td>No</td>\n",
              "      <td>No</td>\n",
              "      <td>No</td>\n",
              "      <td>No</td>\n",
              "      <td>No</td>\n",
              "      <td>Month-to-month</td>\n",
              "      <td>Yes</td>\n",
              "      <td>Electronic check</td>\n",
              "      <td>70.70</td>\n",
              "      <td>151.65</td>\n",
              "      <td>Yes</td>\n",
              "    </tr>\n",
              "  </tbody>\n",
              "</table>\n",
              "</div>"
            ],
            "text/plain": [
              "   customerID  gender  SeniorCitizen  ... MonthlyCharges TotalCharges  Churn\n",
              "0  7590-VHVEG  Female              0  ...          29.85        29.85     No\n",
              "1  5575-GNVDE    Male              0  ...          56.95       1889.5     No\n",
              "2  3668-QPYBK    Male              0  ...          53.85       108.15    Yes\n",
              "3  7795-CFOCW    Male              0  ...          42.30      1840.75     No\n",
              "4  9237-HQITU  Female              0  ...          70.70       151.65    Yes\n",
              "\n",
              "[5 rows x 21 columns]"
            ]
          },
          "metadata": {},
          "execution_count": 137
        }
      ]
    },
    {
      "cell_type": "code",
      "metadata": {
        "colab": {
          "base_uri": "https://localhost:8080/"
        },
        "id": "rV6wFh8sw8qi",
        "outputId": "71b63e06-0206-4146-f6b5-e8f2f62ebd57"
      },
      "source": [
        "df.shape"
      ],
      "execution_count": 138,
      "outputs": [
        {
          "output_type": "execute_result",
          "data": {
            "text/plain": [
              "(7043, 21)"
            ]
          },
          "metadata": {},
          "execution_count": 138
        }
      ]
    },
    {
      "cell_type": "code",
      "metadata": {
        "colab": {
          "base_uri": "https://localhost:8080/"
        },
        "id": "Q06LpTqkxMGw",
        "outputId": "9d32de8d-57e5-4f5d-938c-be41d2d7e6f3"
      },
      "source": [
        "df.columns"
      ],
      "execution_count": 139,
      "outputs": [
        {
          "output_type": "execute_result",
          "data": {
            "text/plain": [
              "Index(['customerID', 'gender', 'SeniorCitizen', 'Partner', 'Dependents',\n",
              "       'tenure', 'PhoneService', 'MultipleLines', 'InternetService',\n",
              "       'OnlineSecurity', 'OnlineBackup', 'DeviceProtection', 'TechSupport',\n",
              "       'StreamingTV', 'StreamingMovies', 'Contract', 'PaperlessBilling',\n",
              "       'PaymentMethod', 'MonthlyCharges', 'TotalCharges', 'Churn'],\n",
              "      dtype='object')"
            ]
          },
          "metadata": {},
          "execution_count": 139
        }
      ]
    },
    {
      "cell_type": "code",
      "metadata": {
        "colab": {
          "base_uri": "https://localhost:8080/"
        },
        "id": "xODyi7LAxOeU",
        "outputId": "9c30b5c6-ed57-4873-d1a5-ae8b46eed531"
      },
      "source": [
        "df.info()"
      ],
      "execution_count": 140,
      "outputs": [
        {
          "output_type": "stream",
          "name": "stdout",
          "text": [
            "<class 'pandas.core.frame.DataFrame'>\n",
            "RangeIndex: 7043 entries, 0 to 7042\n",
            "Data columns (total 21 columns):\n",
            " #   Column            Non-Null Count  Dtype  \n",
            "---  ------            --------------  -----  \n",
            " 0   customerID        7043 non-null   object \n",
            " 1   gender            7043 non-null   object \n",
            " 2   SeniorCitizen     7043 non-null   int64  \n",
            " 3   Partner           7043 non-null   object \n",
            " 4   Dependents        7043 non-null   object \n",
            " 5   tenure            7043 non-null   int64  \n",
            " 6   PhoneService      7043 non-null   object \n",
            " 7   MultipleLines     7043 non-null   object \n",
            " 8   InternetService   7043 non-null   object \n",
            " 9   OnlineSecurity    7043 non-null   object \n",
            " 10  OnlineBackup      7043 non-null   object \n",
            " 11  DeviceProtection  7043 non-null   object \n",
            " 12  TechSupport       7043 non-null   object \n",
            " 13  StreamingTV       7043 non-null   object \n",
            " 14  StreamingMovies   7043 non-null   object \n",
            " 15  Contract          7043 non-null   object \n",
            " 16  PaperlessBilling  7043 non-null   object \n",
            " 17  PaymentMethod     7043 non-null   object \n",
            " 18  MonthlyCharges    7043 non-null   float64\n",
            " 19  TotalCharges      7043 non-null   object \n",
            " 20  Churn             7043 non-null   object \n",
            "dtypes: float64(1), int64(2), object(18)\n",
            "memory usage: 1.1+ MB\n"
          ]
        }
      ]
    },
    {
      "cell_type": "code",
      "metadata": {
        "colab": {
          "base_uri": "https://localhost:8080/"
        },
        "id": "G-INWLASxSd8",
        "outputId": "b9881d9f-b92e-4272-926a-9af523679838"
      },
      "source": [
        "Counter(df['gender'])"
      ],
      "execution_count": 141,
      "outputs": [
        {
          "output_type": "execute_result",
          "data": {
            "text/plain": [
              "Counter({'Female': 3488, 'Male': 3555})"
            ]
          },
          "metadata": {},
          "execution_count": 141
        }
      ]
    },
    {
      "cell_type": "code",
      "metadata": {
        "colab": {
          "base_uri": "https://localhost:8080/"
        },
        "id": "kVLD6EhoxeHM",
        "outputId": "c0f960f9-9a3f-40ef-bb7f-feea41c5f442"
      },
      "source": [
        "Counter(df['SeniorCitizen'])"
      ],
      "execution_count": 142,
      "outputs": [
        {
          "output_type": "execute_result",
          "data": {
            "text/plain": [
              "Counter({0: 5901, 1: 1142})"
            ]
          },
          "metadata": {},
          "execution_count": 142
        }
      ]
    },
    {
      "cell_type": "code",
      "metadata": {
        "colab": {
          "base_uri": "https://localhost:8080/"
        },
        "id": "qnCZR0ndxmzg",
        "outputId": "a0689bc1-2acf-4046-9b4d-a731b0338fc6"
      },
      "source": [
        "Counter(df['Partner'])"
      ],
      "execution_count": 143,
      "outputs": [
        {
          "output_type": "execute_result",
          "data": {
            "text/plain": [
              "Counter({'No': 3641, 'Yes': 3402})"
            ]
          },
          "metadata": {},
          "execution_count": 143
        }
      ]
    },
    {
      "cell_type": "code",
      "metadata": {
        "colab": {
          "base_uri": "https://localhost:8080/"
        },
        "id": "M4fdhN4lyHmZ",
        "outputId": "642c3388-143e-4c7a-a202-d0bef45d522f"
      },
      "source": [
        "Counter(df['Dependents'])"
      ],
      "execution_count": 144,
      "outputs": [
        {
          "output_type": "execute_result",
          "data": {
            "text/plain": [
              "Counter({'No': 4933, 'Yes': 2110})"
            ]
          },
          "metadata": {},
          "execution_count": 144
        }
      ]
    },
    {
      "cell_type": "code",
      "metadata": {
        "colab": {
          "base_uri": "https://localhost:8080/",
          "height": 282
        },
        "id": "EyafLJvIp6UF",
        "outputId": "4649f62c-f2d8-41f0-fdf5-7bd795467768"
      },
      "source": [
        "plt.plot(df['tenure'].unique())"
      ],
      "execution_count": 145,
      "outputs": [
        {
          "output_type": "execute_result",
          "data": {
            "text/plain": [
              "[<matplotlib.lines.Line2D at 0x7f121fa84210>]"
            ]
          },
          "metadata": {},
          "execution_count": 145
        },
        {
          "output_type": "display_data",
          "data": {
            "image/png": "[encoded data removed]",
            "text/plain": [
              "<Figure size 432x288 with 1 Axes>"
            ]
          },
          "metadata": {
            "needs_background": "light"
          }
        }
      ]
    },
    {
      "cell_type": "code",
      "metadata": {
        "colab": {
          "base_uri": "https://localhost:8080/"
        },
        "id": "pqWZZ40ErdOL",
        "outputId": "f267227d-033c-42db-9f06-670d9a3b7e06"
      },
      "source": [
        "len(df['tenure'].unique())"
      ],
      "execution_count": 146,
      "outputs": [
        {
          "output_type": "execute_result",
          "data": {
            "text/plain": [
              "73"
            ]
          },
          "metadata": {},
          "execution_count": 146
        }
      ]
    },
    {
      "cell_type": "code",
      "metadata": {
        "colab": {
          "base_uri": "https://localhost:8080/"
        },
        "id": "sdf9ea1zrklb",
        "outputId": "b9c7431c-e6f9-4624-a532-45fd14b9cc36"
      },
      "source": [
        "Counter(df['PhoneService'])"
      ],
      "execution_count": 147,
      "outputs": [
        {
          "output_type": "execute_result",
          "data": {
            "text/plain": [
              "Counter({'No': 682, 'Yes': 6361})"
            ]
          },
          "metadata": {},
          "execution_count": 147
        }
      ]
    },
    {
      "cell_type": "code",
      "metadata": {
        "colab": {
          "base_uri": "https://localhost:8080/"
        },
        "id": "bglxMxRAsYPd",
        "outputId": "c97f75eb-db9b-4902-e7d8-a520011c490b"
      },
      "source": [
        "Counter(df['MultipleLines'])"
      ],
      "execution_count": 148,
      "outputs": [
        {
          "output_type": "execute_result",
          "data": {
            "text/plain": [
              "Counter({'No': 3390, 'No phone service': 682, 'Yes': 2971})"
            ]
          },
          "metadata": {},
          "execution_count": 148
        }
      ]
    },
    {
      "cell_type": "code",
      "metadata": {
        "colab": {
          "base_uri": "https://localhost:8080/"
        },
        "id": "F08kU-y6sfgk",
        "outputId": "7ca2f0e5-29eb-48d2-a998-c1aaba9a1525"
      },
      "source": [
        "Counter(df['InternetService'])"
      ],
      "execution_count": 149,
      "outputs": [
        {
          "output_type": "execute_result",
          "data": {
            "text/plain": [
              "Counter({'DSL': 2421, 'Fiber optic': 3096, 'No': 1526})"
            ]
          },
          "metadata": {},
          "execution_count": 149
        }
      ]
    },
    {
      "cell_type": "code",
      "metadata": {
        "colab": {
          "base_uri": "https://localhost:8080/"
        },
        "id": "6_hViUJLtXSg",
        "outputId": "2b6ded11-a4d2-4111-ee4c-29ec059d6b68"
      },
      "source": [
        "Counter(df['OnlineSecurity'])"
      ],
      "execution_count": 150,
      "outputs": [
        {
          "output_type": "execute_result",
          "data": {
            "text/plain": [
              "Counter({'No': 3498, 'No internet service': 1526, 'Yes': 2019})"
            ]
          },
          "metadata": {},
          "execution_count": 150
        }
      ]
    },
    {
      "cell_type": "code",
      "metadata": {
        "colab": {
          "base_uri": "https://localhost:8080/"
        },
        "id": "Qi58eBADtn6U",
        "outputId": "1ede0f32-18ad-4a33-9354-445fd7068a73"
      },
      "source": [
        "Counter(df['OnlineBackup'])"
      ],
      "execution_count": 151,
      "outputs": [
        {
          "output_type": "execute_result",
          "data": {
            "text/plain": [
              "Counter({'No': 3088, 'No internet service': 1526, 'Yes': 2429})"
            ]
          },
          "metadata": {},
          "execution_count": 151
        }
      ]
    },
    {
      "cell_type": "code",
      "metadata": {
        "colab": {
          "base_uri": "https://localhost:8080/"
        },
        "id": "berQm6fJvEOW",
        "outputId": "48aac591-e0dd-4c7d-b85d-eeed01ba61cb"
      },
      "source": [
        "Counter(df['DeviceProtection'])"
      ],
      "execution_count": 152,
      "outputs": [
        {
          "output_type": "execute_result",
          "data": {
            "text/plain": [
              "Counter({'No': 3095, 'No internet service': 1526, 'Yes': 2422})"
            ]
          },
          "metadata": {},
          "execution_count": 152
        }
      ]
    },
    {
      "cell_type": "code",
      "metadata": {
        "colab": {
          "base_uri": "https://localhost:8080/"
        },
        "id": "sbNt2SUEvNf6",
        "outputId": "73889171-b575-417b-e1a3-a9e15f92dcbc"
      },
      "source": [
        "Counter(df['TechSupport'])"
      ],
      "execution_count": 153,
      "outputs": [
        {
          "output_type": "execute_result",
          "data": {
            "text/plain": [
              "Counter({'No': 3473, 'No internet service': 1526, 'Yes': 2044})"
            ]
          },
          "metadata": {},
          "execution_count": 153
        }
      ]
    },
    {
      "cell_type": "code",
      "metadata": {
        "colab": {
          "base_uri": "https://localhost:8080/"
        },
        "id": "nYIZIbD9vTLe",
        "outputId": "4adf7bbd-a56e-4b08-ffb9-bebd4be19fc9"
      },
      "source": [
        "Counter(df['StreamingTV'])"
      ],
      "execution_count": 154,
      "outputs": [
        {
          "output_type": "execute_result",
          "data": {
            "text/plain": [
              "Counter({'No': 2810, 'No internet service': 1526, 'Yes': 2707})"
            ]
          },
          "metadata": {},
          "execution_count": 154
        }
      ]
    },
    {
      "cell_type": "code",
      "metadata": {
        "colab": {
          "base_uri": "https://localhost:8080/"
        },
        "id": "-YaTb-6UvnDI",
        "outputId": "255f806f-5fd8-4ca4-c69b-932fcf49cd4e"
      },
      "source": [
        "Counter(df['Contract'])"
      ],
      "execution_count": 155,
      "outputs": [
        {
          "output_type": "execute_result",
          "data": {
            "text/plain": [
              "Counter({'Month-to-month': 3875, 'One year': 1473, 'Two year': 1695})"
            ]
          },
          "metadata": {},
          "execution_count": 155
        }
      ]
    },
    {
      "cell_type": "code",
      "metadata": {
        "colab": {
          "base_uri": "https://localhost:8080/"
        },
        "id": "b8HXHpf9v7o7",
        "outputId": "0ab98e40-bc01-494c-c433-7ef809b4f1d3"
      },
      "source": [
        "Counter(df['PaperlessBilling'])"
      ],
      "execution_count": 156,
      "outputs": [
        {
          "output_type": "execute_result",
          "data": {
            "text/plain": [
              "Counter({'No': 2872, 'Yes': 4171})"
            ]
          },
          "metadata": {},
          "execution_count": 156
        }
      ]
    },
    {
      "cell_type": "code",
      "metadata": {
        "colab": {
          "base_uri": "https://localhost:8080/"
        },
        "id": "X4a4SwWQwCpG",
        "outputId": "4aa14779-60fd-4999-e378-f18cae366d13"
      },
      "source": [
        "Counter(df['PaymentMethod'])"
      ],
      "execution_count": 157,
      "outputs": [
        {
          "output_type": "execute_result",
          "data": {
            "text/plain": [
              "Counter({'Bank transfer (automatic)': 1544,\n",
              "         'Credit card (automatic)': 1522,\n",
              "         'Electronic check': 2365,\n",
              "         'Mailed check': 1612})"
            ]
          },
          "metadata": {},
          "execution_count": 157
        }
      ]
    },
    {
      "cell_type": "code",
      "metadata": {
        "colab": {
          "base_uri": "https://localhost:8080/",
          "height": 282
        },
        "id": "3M9JWAcUwO4K",
        "outputId": "bb3840a5-9884-40c3-dc97-451e91275a46"
      },
      "source": [
        "plt.plot(df['MonthlyCharges'].unique())"
      ],
      "execution_count": 158,
      "outputs": [
        {
          "output_type": "execute_result",
          "data": {
            "text/plain": [
              "[<matplotlib.lines.Line2D at 0x7f1221adc910>]"
            ]
          },
          "metadata": {},
          "execution_count": 158
        },
        {
          "output_type": "display_data",
          "data": {
            "image/png": "[encoded data removed]",
            "text/plain": [
              "<Figure size 432x288 with 1 Axes>"
            ]
          },
          "metadata": {
            "needs_background": "light"
          }
        }
      ]
    },
    {
      "cell_type": "code",
      "metadata": {
        "colab": {
          "base_uri": "https://localhost:8080/"
        },
        "id": "w3DnnM7Zvrgm",
        "outputId": "60e75815-1b22-4298-91ea-9b0dac73e758"
      },
      "source": [
        "Counter(df['Churn'])"
      ],
      "execution_count": 159,
      "outputs": [
        {
          "output_type": "execute_result",
          "data": {
            "text/plain": [
              "Counter({'No': 5174, 'Yes': 1869})"
            ]
          },
          "metadata": {},
          "execution_count": 159
        }
      ]
    },
    {
      "cell_type": "code",
      "metadata": {
        "id": "iBVbT0YYw4rm"
      },
      "source": [
        "df.drop('customerID',axis=1,inplace=True)"
      ],
      "execution_count": 160,
      "outputs": []
    },
    {
      "cell_type": "code",
      "metadata": {
        "id": "b3VmFJROzna-"
      },
      "source": [
        "df2= pd.get_dummies(df,columns=['gender','SeniorCitizen','Partner','Dependents','PhoneService','MultipleLines','InternetService',\n",
        "                               'OnlineSecurity','OnlineBackup','DeviceProtection','TechSupport',\n",
        "                               'StreamingTV','StreamingMovies','Contract','PaperlessBilling','PaymentMethod'], prefix_sep='_', drop_first=True)"
      ],
      "execution_count": 161,
      "outputs": []
    },
    {
      "cell_type": "code",
      "metadata": {
        "colab": {
          "base_uri": "https://localhost:8080/"
        },
        "id": "P2eiCD-_2AHE",
        "outputId": "6c41aed9-2789-4a11-a6bd-9550cc00f6a3"
      },
      "source": [
        "df2.columns"
      ],
      "execution_count": 162,
      "outputs": [
        {
          "output_type": "execute_result",
          "data": {
            "text/plain": [
              "Index(['tenure', 'MonthlyCharges', 'TotalCharges', 'Churn', 'gender_Male',\n",
              "       'SeniorCitizen_1', 'Partner_Yes', 'Dependents_Yes', 'PhoneService_Yes',\n",
              "       'MultipleLines_No phone service', 'MultipleLines_Yes',\n",
              "       'InternetService_Fiber optic', 'InternetService_No',\n",
              "       'OnlineSecurity_No internet service', 'OnlineSecurity_Yes',\n",
              "       'OnlineBackup_No internet service', 'OnlineBackup_Yes',\n",
              "       'DeviceProtection_No internet service', 'DeviceProtection_Yes',\n",
              "       'TechSupport_No internet service', 'TechSupport_Yes',\n",
              "       'StreamingTV_No internet service', 'StreamingTV_Yes',\n",
              "       'StreamingMovies_No internet service', 'StreamingMovies_Yes',\n",
              "       'Contract_One year', 'Contract_Two year', 'PaperlessBilling_Yes',\n",
              "       'PaymentMethod_Credit card (automatic)',\n",
              "       'PaymentMethod_Electronic check', 'PaymentMethod_Mailed check'],\n",
              "      dtype='object')"
            ]
          },
          "metadata": {},
          "execution_count": 162
        }
      ]
    },
    {
      "cell_type": "code",
      "metadata": {
        "id": "GWR9wCZd6yA8"
      },
      "source": [
        "df2['Churn'] = df2['Churn'].map({'Yes':1 ,'No':0})"
      ],
      "execution_count": 163,
      "outputs": []
    },
    {
      "cell_type": "code",
      "metadata": {
        "id": "ol9gL5eM8NrW"
      },
      "source": [
        "df2['Churn']=df2.Churn.astype('category')"
      ],
      "execution_count": 164,
      "outputs": []
    },
    {
      "cell_type": "code",
      "metadata": {
        "colab": {
          "base_uri": "https://localhost:8080/"
        },
        "id": "Nv2G-eSV20Af",
        "outputId": "851b9a78-9346-4897-e2e0-99e40db5e463"
      },
      "source": [
        "len(df2.columns)"
      ],
      "execution_count": 165,
      "outputs": [
        {
          "output_type": "execute_result",
          "data": {
            "text/plain": [
              "31"
            ]
          },
          "metadata": {},
          "execution_count": 165
        }
      ]
    },
    {
      "cell_type": "code",
      "metadata": {
        "colab": {
          "base_uri": "https://localhost:8080/",
          "height": 805
        },
        "id": "yZpHGvGlyv9K",
        "outputId": "70456100-891e-4d5f-fadd-6b5bebeb703e"
      },
      "source": [
        "plt.figure(figsize=(16,10))\n",
        "sns.heatmap(df2.corr())"
      ],
      "execution_count": 166,
      "outputs": [
        {
          "output_type": "execute_result",
          "data": {
            "text/plain": [
              "<matplotlib.axes._subplots.AxesSubplot at 0x7f1221adc210>"
            ]
          },
          "metadata": {},
          "execution_count": 166
        },
        {
          "output_type": "display_data",
          "data": {
            "image/png": "[encoded data removed]",
            "text/plain": [
              "<Figure size 1152x720 with 2 Axes>"
            ]
          },
          "metadata": {
            "needs_background": "light"
          }
        }
      ]
    },
    {
      "cell_type": "code",
      "metadata": {
        "colab": {
          "base_uri": "https://localhost:8080/"
        },
        "id": "8s536GqrzU22",
        "outputId": "31ff750e-be52-4c10-d9fa-9be65c414078"
      },
      "source": [
        "df2.info()"
      ],
      "execution_count": 167,
      "outputs": [
        {
          "output_type": "stream",
          "name": "stdout",
          "text": [
            "<class 'pandas.core.frame.DataFrame'>\n",
            "RangeIndex: 7043 entries, 0 to 7042\n",
            "Data columns (total 31 columns):\n",
            " #   Column                                 Non-Null Count  Dtype   \n",
            "---  ------                                 --------------  -----   \n",
            " 0   tenure                                 7043 non-null   int64   \n",
            " 1   MonthlyCharges                         7043 non-null   float64 \n",
            " 2   TotalCharges                           7043 non-null   object  \n",
            " 3   Churn                                  7043 non-null   category\n",
            " 4   gender_Male                            7043 non-null   uint8   \n",
            " 5   SeniorCitizen_1                        7043 non-null   uint8   \n",
            " 6   Partner_Yes                            7043 non-null   uint8   \n",
            " 7   Dependents_Yes                         7043 non-null   uint8   \n",
            " 8   PhoneService_Yes                       7043 non-null   uint8   \n",
            " 9   MultipleLines_No phone service         7043 non-null   uint8   \n",
            " 10  MultipleLines_Yes                      7043 non-null   uint8   \n",
            " 11  InternetService_Fiber optic            7043 non-null   uint8   \n",
            " 12  InternetService_No                     7043 non-null   uint8   \n",
            " 13  OnlineSecurity_No internet service     7043 non-null   uint8   \n",
            " 14  OnlineSecurity_Yes                     7043 non-null   uint8   \n",
            " 15  OnlineBackup_No internet service       7043 non-null   uint8   \n",
            " 16  OnlineBackup_Yes                       7043 non-null   uint8   \n",
            " 17  DeviceProtection_No internet service   7043 non-null   uint8   \n",
            " 18  DeviceProtection_Yes                   7043 non-null   uint8   \n",
            " 19  TechSupport_No internet service        7043 non-null   uint8   \n",
            " 20  TechSupport_Yes                        7043 non-null   uint8   \n",
            " 21  StreamingTV_No internet service        7043 non-null   uint8   \n",
            " 22  StreamingTV_Yes                        7043 non-null   uint8   \n",
            " 23  StreamingMovies_No internet service    7043 non-null   uint8   \n",
            " 24  StreamingMovies_Yes                    7043 non-null   uint8   \n",
            " 25  Contract_One year                      7043 non-null   uint8   \n",
            " 26  Contract_Two year                      7043 non-null   uint8   \n",
            " 27  PaperlessBilling_Yes                   7043 non-null   uint8   \n",
            " 28  PaymentMethod_Credit card (automatic)  7043 non-null   uint8   \n",
            " 29  PaymentMethod_Electronic check         7043 non-null   uint8   \n",
            " 30  PaymentMethod_Mailed check             7043 non-null   uint8   \n",
            "dtypes: category(1), float64(1), int64(1), object(1), uint8(27)\n",
            "memory usage: 357.9+ KB\n"
          ]
        }
      ]
    },
    {
      "cell_type": "code",
      "metadata": {
        "id": "foQ_XLpl-GRc"
      },
      "source": [
        "#df2['TotalCharges']=df2.TotalCharges.astype('float')\n",
        "#df2['TotalCharges']=pd.to_numeric(df['TotalCharges'])"
      ],
      "execution_count": 168,
      "outputs": []
    },
    {
      "cell_type": "code",
      "metadata": {
        "colab": {
          "base_uri": "https://localhost:8080/"
        },
        "id": "USEpViQCExBn",
        "outputId": "146ab6da-0856-4a4b-fcc4-138aa4ff0dae"
      },
      "source": [
        "len(df2.loc[df['TotalCharges']==\" \"])\n",
        "#only 11 rows with total charges with nulll value"
      ],
      "execution_count": 169,
      "outputs": [
        {
          "output_type": "execute_result",
          "data": {
            "text/plain": [
              "11"
            ]
          },
          "metadata": {},
          "execution_count": 169
        }
      ]
    },
    {
      "cell_type": "code",
      "metadata": {
        "colab": {
          "base_uri": "https://localhost:8080/",
          "height": 444
        },
        "id": "9KG-nDSQIkl5",
        "outputId": "8d921ff7-d45b-4d16-df95-f963b75191a9"
      },
      "source": [
        "df2.loc[df['TotalCharges']==\" \"]"
      ],
      "execution_count": 170,
      "outputs": [
        {
          "output_type": "execute_result",
          "data": {
            "text/html": [
              "<div>\n",
              "<style scoped>\n",
              "    .dataframe tbody tr th:only-of-type {\n",
              "        vertical-align: middle;\n",
              "    }\n",
              "\n",
              "    .dataframe tbody tr th {\n",
              "        vertical-align: top;\n",
              "    }\n",
              "\n",
              "    .dataframe thead th {\n",
              "        text-align: right;\n",
              "    }\n",
              "</style>\n",
              "<table border=\"1\" class=\"dataframe\">\n",
              "  <thead>\n",
              "    <tr style=\"text-align: right;\">\n",
              "      <th></th>\n",
              "      <th>tenure</th>\n",
              "      <th>MonthlyCharges</th>\n",
              "      <th>TotalCharges</th>\n",
              "      <th>Churn</th>\n",
              "      <th>gender_Male</th>\n",
              "      <th>SeniorCitizen_1</th>\n",
              "      <th>Partner_Yes</th>\n",
              "      <th>Dependents_Yes</th>\n",
              "      <th>PhoneService_Yes</th>\n",
              "      <th>MultipleLines_No phone service</th>\n",
              "      <th>MultipleLines_Yes</th>\n",
              "      <th>InternetService_Fiber optic</th>\n",
              "      <th>InternetService_No</th>\n",
              "      <th>OnlineSecurity_No internet service</th>\n",
              "      <th>OnlineSecurity_Yes</th>\n",
              "      <th>OnlineBackup_No internet service</th>\n",
              "      <th>OnlineBackup_Yes</th>\n",
              "      <th>DeviceProtection_No internet service</th>\n",
              "      <th>DeviceProtection_Yes</th>\n",
              "      <th>TechSupport_No internet service</th>\n",
              "      <th>TechSupport_Yes</th>\n",
              "      <th>StreamingTV_No internet service</th>\n",
              "      <th>StreamingTV_Yes</th>\n",
              "      <th>StreamingMovies_No internet service</th>\n",
              "      <th>StreamingMovies_Yes</th>\n",
              "      <th>Contract_One year</th>\n",
              "      <th>Contract_Two year</th>\n",
              "      <th>PaperlessBilling_Yes</th>\n",
              "      <th>PaymentMethod_Credit card (automatic)</th>\n",
              "      <th>PaymentMethod_Electronic check</th>\n",
              "      <th>PaymentMethod_Mailed check</th>\n",
              "    </tr>\n",
              "  </thead>\n",
              "  <tbody>\n",
              "    <tr>\n",
              "      <th>488</th>\n",
              "      <td>0</td>\n",
              "      <td>52.55</td>\n",
              "      <td></td>\n",
              "      <td>0</td>\n",
              "      <td>0</td>\n",
              "      <td>0</td>\n",
              "      <td>1</td>\n",
              "      <td>1</td>\n",
              "      <td>0</td>\n",
              "      <td>1</td>\n",
              "      <td>0</td>\n",
              "      <td>0</td>\n",
              "      <td>0</td>\n",
              "      <td>0</td>\n",
              "      <td>1</td>\n",
              "      <td>0</td>\n",
              "      <td>0</td>\n",
              "      <td>0</td>\n",
              "      <td>1</td>\n",
              "      <td>0</td>\n",
              "      <td>1</td>\n",
              "      <td>0</td>\n",
              "      <td>1</td>\n",
              "      <td>0</td>\n",
              "      <td>0</td>\n",
              "      <td>0</td>\n",
              "      <td>1</td>\n",
              "      <td>1</td>\n",
              "      <td>0</td>\n",
              "      <td>0</td>\n",
              "      <td>0</td>\n",
              "    </tr>\n",
              "    <tr>\n",
              "      <th>753</th>\n",
              "      <td>0</td>\n",
              "      <td>20.25</td>\n",
              "      <td></td>\n",
              "      <td>0</td>\n",
              "      <td>1</td>\n",
              "      <td>0</td>\n",
              "      <td>0</td>\n",
              "      <td>1</td>\n",
              "      <td>1</td>\n",
              "      <td>0</td>\n",
              "      <td>0</td>\n",
              "      <td>0</td>\n",
              "      <td>1</td>\n",
              "      <td>1</td>\n",
              "      <td>0</td>\n",
              "      <td>1</td>\n",
              "      <td>0</td>\n",
              "      <td>1</td>\n",
              "      <td>0</td>\n",
              "      <td>1</td>\n",
              "      <td>0</td>\n",
              "      <td>1</td>\n",
              "      <td>0</td>\n",
              "      <td>1</td>\n",
              "      <td>0</td>\n",
              "      <td>0</td>\n",
              "      <td>1</td>\n",
              "      <td>0</td>\n",
              "      <td>0</td>\n",
              "      <td>0</td>\n",
              "      <td>1</td>\n",
              "    </tr>\n",
              "    <tr>\n",
              "      <th>936</th>\n",
              "      <td>0</td>\n",
              "      <td>80.85</td>\n",
              "      <td></td>\n",
              "      <td>0</td>\n",
              "      <td>0</td>\n",
              "      <td>0</td>\n",
              "      <td>1</td>\n",
              "      <td>1</td>\n",
              "      <td>1</td>\n",
              "      <td>0</td>\n",
              "      <td>0</td>\n",
              "      <td>0</td>\n",
              "      <td>0</td>\n",
              "      <td>0</td>\n",
              "      <td>1</td>\n",
              "      <td>0</td>\n",
              "      <td>1</td>\n",
              "      <td>0</td>\n",
              "      <td>1</td>\n",
              "      <td>0</td>\n",
              "      <td>0</td>\n",
              "      <td>0</td>\n",
              "      <td>1</td>\n",
              "      <td>0</td>\n",
              "      <td>1</td>\n",
              "      <td>0</td>\n",
              "      <td>1</td>\n",
              "      <td>0</td>\n",
              "      <td>0</td>\n",
              "      <td>0</td>\n",
              "      <td>1</td>\n",
              "    </tr>\n",
              "    <tr>\n",
              "      <th>1082</th>\n",
              "      <td>0</td>\n",
              "      <td>25.75</td>\n",
              "      <td></td>\n",
              "      <td>0</td>\n",
              "      <td>1</td>\n",
              "      <td>0</td>\n",
              "      <td>1</td>\n",
              "      <td>1</td>\n",
              "      <td>1</td>\n",
              "      <td>0</td>\n",
              "      <td>1</td>\n",
              "      <td>0</td>\n",
              "      <td>1</td>\n",
              "      <td>1</td>\n",
              "      <td>0</td>\n",
              "      <td>1</td>\n",
              "      <td>0</td>\n",
              "      <td>1</td>\n",
              "      <td>0</td>\n",
              "      <td>1</td>\n",
              "      <td>0</td>\n",
              "      <td>1</td>\n",
              "      <td>0</td>\n",
              "      <td>1</td>\n",
              "      <td>0</td>\n",
              "      <td>0</td>\n",
              "      <td>1</td>\n",
              "      <td>0</td>\n",
              "      <td>0</td>\n",
              "      <td>0</td>\n",
              "      <td>1</td>\n",
              "    </tr>\n",
              "    <tr>\n",
              "      <th>1340</th>\n",
              "      <td>0</td>\n",
              "      <td>56.05</td>\n",
              "      <td></td>\n",
              "      <td>0</td>\n",
              "      <td>0</td>\n",
              "      <td>0</td>\n",
              "      <td>1</td>\n",
              "      <td>1</td>\n",
              "      <td>0</td>\n",
              "      <td>1</td>\n",
              "      <td>0</td>\n",
              "      <td>0</td>\n",
              "      <td>0</td>\n",
              "      <td>0</td>\n",
              "      <td>1</td>\n",
              "      <td>0</td>\n",
              "      <td>1</td>\n",
              "      <td>0</td>\n",
              "      <td>1</td>\n",
              "      <td>0</td>\n",
              "      <td>1</td>\n",
              "      <td>0</td>\n",
              "      <td>1</td>\n",
              "      <td>0</td>\n",
              "      <td>0</td>\n",
              "      <td>0</td>\n",
              "      <td>1</td>\n",
              "      <td>0</td>\n",
              "      <td>1</td>\n",
              "      <td>0</td>\n",
              "      <td>0</td>\n",
              "    </tr>\n",
              "    <tr>\n",
              "      <th>3331</th>\n",
              "      <td>0</td>\n",
              "      <td>19.85</td>\n",
              "      <td></td>\n",
              "      <td>0</td>\n",
              "      <td>1</td>\n",
              "      <td>0</td>\n",
              "      <td>1</td>\n",
              "      <td>1</td>\n",
              "      <td>1</td>\n",
              "      <td>0</td>\n",
              "      <td>0</td>\n",
              "      <td>0</td>\n",
              "      <td>1</td>\n",
              "      <td>1</td>\n",
              "      <td>0</td>\n",
              "      <td>1</td>\n",
              "      <td>0</td>\n",
              "      <td>1</td>\n",
              "      <td>0</td>\n",
              "      <td>1</td>\n",
              "      <td>0</td>\n",
              "      <td>1</td>\n",
              "      <td>0</td>\n",
              "      <td>1</td>\n",
              "      <td>0</td>\n",
              "      <td>0</td>\n",
              "      <td>1</td>\n",
              "      <td>0</td>\n",
              "      <td>0</td>\n",
              "      <td>0</td>\n",
              "      <td>1</td>\n",
              "    </tr>\n",
              "    <tr>\n",
              "      <th>3826</th>\n",
              "      <td>0</td>\n",
              "      <td>25.35</td>\n",
              "      <td></td>\n",
              "      <td>0</td>\n",
              "      <td>1</td>\n",
              "      <td>0</td>\n",
              "      <td>1</td>\n",
              "      <td>1</td>\n",
              "      <td>1</td>\n",
              "      <td>0</td>\n",
              "      <td>1</td>\n",
              "      <td>0</td>\n",
              "      <td>1</td>\n",
              "      <td>1</td>\n",
              "      <td>0</td>\n",
              "      <td>1</td>\n",
              "      <td>0</td>\n",
              "      <td>1</td>\n",
              "      <td>0</td>\n",
              "      <td>1</td>\n",
              "      <td>0</td>\n",
              "      <td>1</td>\n",
              "      <td>0</td>\n",
              "      <td>1</td>\n",
              "      <td>0</td>\n",
              "      <td>0</td>\n",
              "      <td>1</td>\n",
              "      <td>0</td>\n",
              "      <td>0</td>\n",
              "      <td>0</td>\n",
              "      <td>1</td>\n",
              "    </tr>\n",
              "    <tr>\n",
              "      <th>4380</th>\n",
              "      <td>0</td>\n",
              "      <td>20.00</td>\n",
              "      <td></td>\n",
              "      <td>0</td>\n",
              "      <td>0</td>\n",
              "      <td>0</td>\n",
              "      <td>1</td>\n",
              "      <td>1</td>\n",
              "      <td>1</td>\n",
              "      <td>0</td>\n",
              "      <td>0</td>\n",
              "      <td>0</td>\n",
              "      <td>1</td>\n",
              "      <td>1</td>\n",
              "      <td>0</td>\n",
              "      <td>1</td>\n",
              "      <td>0</td>\n",
              "      <td>1</td>\n",
              "      <td>0</td>\n",
              "      <td>1</td>\n",
              "      <td>0</td>\n",
              "      <td>1</td>\n",
              "      <td>0</td>\n",
              "      <td>1</td>\n",
              "      <td>0</td>\n",
              "      <td>0</td>\n",
              "      <td>1</td>\n",
              "      <td>0</td>\n",
              "      <td>0</td>\n",
              "      <td>0</td>\n",
              "      <td>1</td>\n",
              "    </tr>\n",
              "    <tr>\n",
              "      <th>5218</th>\n",
              "      <td>0</td>\n",
              "      <td>19.70</td>\n",
              "      <td></td>\n",
              "      <td>0</td>\n",
              "      <td>1</td>\n",
              "      <td>0</td>\n",
              "      <td>1</td>\n",
              "      <td>1</td>\n",
              "      <td>1</td>\n",
              "      <td>0</td>\n",
              "      <td>0</td>\n",
              "      <td>0</td>\n",
              "      <td>1</td>\n",
              "      <td>1</td>\n",
              "      <td>0</td>\n",
              "      <td>1</td>\n",
              "      <td>0</td>\n",
              "      <td>1</td>\n",
              "      <td>0</td>\n",
              "      <td>1</td>\n",
              "      <td>0</td>\n",
              "      <td>1</td>\n",
              "      <td>0</td>\n",
              "      <td>1</td>\n",
              "      <td>0</td>\n",
              "      <td>1</td>\n",
              "      <td>0</td>\n",
              "      <td>1</td>\n",
              "      <td>0</td>\n",
              "      <td>0</td>\n",
              "      <td>1</td>\n",
              "    </tr>\n",
              "    <tr>\n",
              "      <th>6670</th>\n",
              "      <td>0</td>\n",
              "      <td>73.35</td>\n",
              "      <td></td>\n",
              "      <td>0</td>\n",
              "      <td>0</td>\n",
              "      <td>0</td>\n",
              "      <td>1</td>\n",
              "      <td>1</td>\n",
              "      <td>1</td>\n",
              "      <td>0</td>\n",
              "      <td>1</td>\n",
              "      <td>0</td>\n",
              "      <td>0</td>\n",
              "      <td>0</td>\n",
              "      <td>0</td>\n",
              "      <td>0</td>\n",
              "      <td>1</td>\n",
              "      <td>0</td>\n",
              "      <td>1</td>\n",
              "      <td>0</td>\n",
              "      <td>1</td>\n",
              "      <td>0</td>\n",
              "      <td>1</td>\n",
              "      <td>0</td>\n",
              "      <td>0</td>\n",
              "      <td>0</td>\n",
              "      <td>1</td>\n",
              "      <td>0</td>\n",
              "      <td>0</td>\n",
              "      <td>0</td>\n",
              "      <td>1</td>\n",
              "    </tr>\n",
              "    <tr>\n",
              "      <th>6754</th>\n",
              "      <td>0</td>\n",
              "      <td>61.90</td>\n",
              "      <td></td>\n",
              "      <td>0</td>\n",
              "      <td>1</td>\n",
              "      <td>0</td>\n",
              "      <td>0</td>\n",
              "      <td>1</td>\n",
              "      <td>1</td>\n",
              "      <td>0</td>\n",
              "      <td>1</td>\n",
              "      <td>0</td>\n",
              "      <td>0</td>\n",
              "      <td>0</td>\n",
              "      <td>1</td>\n",
              "      <td>0</td>\n",
              "      <td>1</td>\n",
              "      <td>0</td>\n",
              "      <td>0</td>\n",
              "      <td>0</td>\n",
              "      <td>1</td>\n",
              "      <td>0</td>\n",
              "      <td>0</td>\n",
              "      <td>0</td>\n",
              "      <td>0</td>\n",
              "      <td>0</td>\n",
              "      <td>1</td>\n",
              "      <td>1</td>\n",
              "      <td>0</td>\n",
              "      <td>0</td>\n",
              "      <td>0</td>\n",
              "    </tr>\n",
              "  </tbody>\n",
              "</table>\n",
              "</div>"
            ],
            "text/plain": [
              "      tenure  ...  PaymentMethod_Mailed check\n",
              "488        0  ...                           0\n",
              "753        0  ...                           1\n",
              "936        0  ...                           1\n",
              "1082       0  ...                           1\n",
              "1340       0  ...                           0\n",
              "3331       0  ...                           1\n",
              "3826       0  ...                           1\n",
              "4380       0  ...                           1\n",
              "5218       0  ...                           1\n",
              "6670       0  ...                           1\n",
              "6754       0  ...                           0\n",
              "\n",
              "[11 rows x 31 columns]"
            ]
          },
          "metadata": {},
          "execution_count": 170
        }
      ]
    },
    {
      "cell_type": "code",
      "metadata": {
        "id": "byNC-YOdIx8e"
      },
      "source": [
        "#we see that peopel with empty total charges have just signed up because of their tenure month is 0. These people alse have churn value =0.\n",
        "#so we can set total charges to 0\n",
        "\n",
        "df2.loc[(df['TotalCharges']== ' '), 'TotalCharges']=0"
      ],
      "execution_count": 171,
      "outputs": []
    },
    {
      "cell_type": "code",
      "metadata": {
        "colab": {
          "base_uri": "https://localhost:8080/",
          "height": 444
        },
        "id": "IuI_0WpaJ8fO",
        "outputId": "b290324a-f81f-4ab9-869f-e6e3207d420f"
      },
      "source": [
        "df2.loc[df['tenure']==0]"
      ],
      "execution_count": 172,
      "outputs": [
        {
          "output_type": "execute_result",
          "data": {
            "text/html": [
              "<div>\n",
              "<style scoped>\n",
              "    .dataframe tbody tr th:only-of-type {\n",
              "        vertical-align: middle;\n",
              "    }\n",
              "\n",
              "    .dataframe tbody tr th {\n",
              "        vertical-align: top;\n",
              "    }\n",
              "\n",
              "    .dataframe thead th {\n",
              "        text-align: right;\n",
              "    }\n",
              "</style>\n",
              "<table border=\"1\" class=\"dataframe\">\n",
              "  <thead>\n",
              "    <tr style=\"text-align: right;\">\n",
              "      <th></th>\n",
              "      <th>tenure</th>\n",
              "      <th>MonthlyCharges</th>\n",
              "      <th>TotalCharges</th>\n",
              "      <th>Churn</th>\n",
              "      <th>gender_Male</th>\n",
              "      <th>SeniorCitizen_1</th>\n",
              "      <th>Partner_Yes</th>\n",
              "      <th>Dependents_Yes</th>\n",
              "      <th>PhoneService_Yes</th>\n",
              "      <th>MultipleLines_No phone service</th>\n",
              "      <th>MultipleLines_Yes</th>\n",
              "      <th>InternetService_Fiber optic</th>\n",
              "      <th>InternetService_No</th>\n",
              "      <th>OnlineSecurity_No internet service</th>\n",
              "      <th>OnlineSecurity_Yes</th>\n",
              "      <th>OnlineBackup_No internet service</th>\n",
              "      <th>OnlineBackup_Yes</th>\n",
              "      <th>DeviceProtection_No internet service</th>\n",
              "      <th>DeviceProtection_Yes</th>\n",
              "      <th>TechSupport_No internet service</th>\n",
              "      <th>TechSupport_Yes</th>\n",
              "      <th>StreamingTV_No internet service</th>\n",
              "      <th>StreamingTV_Yes</th>\n",
              "      <th>StreamingMovies_No internet service</th>\n",
              "      <th>StreamingMovies_Yes</th>\n",
              "      <th>Contract_One year</th>\n",
              "      <th>Contract_Two year</th>\n",
              "      <th>PaperlessBilling_Yes</th>\n",
              "      <th>PaymentMethod_Credit card (automatic)</th>\n",
              "      <th>PaymentMethod_Electronic check</th>\n",
              "      <th>PaymentMethod_Mailed check</th>\n",
              "    </tr>\n",
              "  </thead>\n",
              "  <tbody>\n",
              "    <tr>\n",
              "      <th>488</th>\n",
              "      <td>0</td>\n",
              "      <td>52.55</td>\n",
              "      <td>0</td>\n",
              "      <td>0</td>\n",
              "      <td>0</td>\n",
              "      <td>0</td>\n",
              "      <td>1</td>\n",
              "      <td>1</td>\n",
              "      <td>0</td>\n",
              "      <td>1</td>\n",
              "      <td>0</td>\n",
              "      <td>0</td>\n",
              "      <td>0</td>\n",
              "      <td>0</td>\n",
              "      <td>1</td>\n",
              "      <td>0</td>\n",
              "      <td>0</td>\n",
              "      <td>0</td>\n",
              "      <td>1</td>\n",
              "      <td>0</td>\n",
              "      <td>1</td>\n",
              "      <td>0</td>\n",
              "      <td>1</td>\n",
              "      <td>0</td>\n",
              "      <td>0</td>\n",
              "      <td>0</td>\n",
              "      <td>1</td>\n",
              "      <td>1</td>\n",
              "      <td>0</td>\n",
              "      <td>0</td>\n",
              "      <td>0</td>\n",
              "    </tr>\n",
              "    <tr>\n",
              "      <th>753</th>\n",
              "      <td>0</td>\n",
              "      <td>20.25</td>\n",
              "      <td>0</td>\n",
              "      <td>0</td>\n",
              "      <td>1</td>\n",
              "      <td>0</td>\n",
              "      <td>0</td>\n",
              "      <td>1</td>\n",
              "      <td>1</td>\n",
              "      <td>0</td>\n",
              "      <td>0</td>\n",
              "      <td>0</td>\n",
              "      <td>1</td>\n",
              "      <td>1</td>\n",
              "      <td>0</td>\n",
              "      <td>1</td>\n",
              "      <td>0</td>\n",
              "      <td>1</td>\n",
              "      <td>0</td>\n",
              "      <td>1</td>\n",
              "      <td>0</td>\n",
              "      <td>1</td>\n",
              "      <td>0</td>\n",
              "      <td>1</td>\n",
              "      <td>0</td>\n",
              "      <td>0</td>\n",
              "      <td>1</td>\n",
              "      <td>0</td>\n",
              "      <td>0</td>\n",
              "      <td>0</td>\n",
              "      <td>1</td>\n",
              "    </tr>\n",
              "    <tr>\n",
              "      <th>936</th>\n",
              "      <td>0</td>\n",
              "      <td>80.85</td>\n",
              "      <td>0</td>\n",
              "      <td>0</td>\n",
              "      <td>0</td>\n",
              "      <td>0</td>\n",
              "      <td>1</td>\n",
              "      <td>1</td>\n",
              "      <td>1</td>\n",
              "      <td>0</td>\n",
              "      <td>0</td>\n",
              "      <td>0</td>\n",
              "      <td>0</td>\n",
              "      <td>0</td>\n",
              "      <td>1</td>\n",
              "      <td>0</td>\n",
              "      <td>1</td>\n",
              "      <td>0</td>\n",
              "      <td>1</td>\n",
              "      <td>0</td>\n",
              "      <td>0</td>\n",
              "      <td>0</td>\n",
              "      <td>1</td>\n",
              "      <td>0</td>\n",
              "      <td>1</td>\n",
              "      <td>0</td>\n",
              "      <td>1</td>\n",
              "      <td>0</td>\n",
              "      <td>0</td>\n",
              "      <td>0</td>\n",
              "      <td>1</td>\n",
              "    </tr>\n",
              "    <tr>\n",
              "      <th>1082</th>\n",
              "      <td>0</td>\n",
              "      <td>25.75</td>\n",
              "      <td>0</td>\n",
              "      <td>0</td>\n",
              "      <td>1</td>\n",
              "      <td>0</td>\n",
              "      <td>1</td>\n",
              "      <td>1</td>\n",
              "      <td>1</td>\n",
              "      <td>0</td>\n",
              "      <td>1</td>\n",
              "      <td>0</td>\n",
              "      <td>1</td>\n",
              "      <td>1</td>\n",
              "      <td>0</td>\n",
              "      <td>1</td>\n",
              "      <td>0</td>\n",
              "      <td>1</td>\n",
              "      <td>0</td>\n",
              "      <td>1</td>\n",
              "      <td>0</td>\n",
              "      <td>1</td>\n",
              "      <td>0</td>\n",
              "      <td>1</td>\n",
              "      <td>0</td>\n",
              "      <td>0</td>\n",
              "      <td>1</td>\n",
              "      <td>0</td>\n",
              "      <td>0</td>\n",
              "      <td>0</td>\n",
              "      <td>1</td>\n",
              "    </tr>\n",
              "    <tr>\n",
              "      <th>1340</th>\n",
              "      <td>0</td>\n",
              "      <td>56.05</td>\n",
              "      <td>0</td>\n",
              "      <td>0</td>\n",
              "      <td>0</td>\n",
              "      <td>0</td>\n",
              "      <td>1</td>\n",
              "      <td>1</td>\n",
              "      <td>0</td>\n",
              "      <td>1</td>\n",
              "      <td>0</td>\n",
              "      <td>0</td>\n",
              "      <td>0</td>\n",
              "      <td>0</td>\n",
              "      <td>1</td>\n",
              "      <td>0</td>\n",
              "      <td>1</td>\n",
              "      <td>0</td>\n",
              "      <td>1</td>\n",
              "      <td>0</td>\n",
              "      <td>1</td>\n",
              "      <td>0</td>\n",
              "      <td>1</td>\n",
              "      <td>0</td>\n",
              "      <td>0</td>\n",
              "      <td>0</td>\n",
              "      <td>1</td>\n",
              "      <td>0</td>\n",
              "      <td>1</td>\n",
              "      <td>0</td>\n",
              "      <td>0</td>\n",
              "    </tr>\n",
              "    <tr>\n",
              "      <th>3331</th>\n",
              "      <td>0</td>\n",
              "      <td>19.85</td>\n",
              "      <td>0</td>\n",
              "      <td>0</td>\n",
              "      <td>1</td>\n",
              "      <td>0</td>\n",
              "      <td>1</td>\n",
              "      <td>1</td>\n",
              "      <td>1</td>\n",
              "      <td>0</td>\n",
              "      <td>0</td>\n",
              "      <td>0</td>\n",
              "      <td>1</td>\n",
              "      <td>1</td>\n",
              "      <td>0</td>\n",
              "      <td>1</td>\n",
              "      <td>0</td>\n",
              "      <td>1</td>\n",
              "      <td>0</td>\n",
              "      <td>1</td>\n",
              "      <td>0</td>\n",
              "      <td>1</td>\n",
              "      <td>0</td>\n",
              "      <td>1</td>\n",
              "      <td>0</td>\n",
              "      <td>0</td>\n",
              "      <td>1</td>\n",
              "      <td>0</td>\n",
              "      <td>0</td>\n",
              "      <td>0</td>\n",
              "      <td>1</td>\n",
              "    </tr>\n",
              "    <tr>\n",
              "      <th>3826</th>\n",
              "      <td>0</td>\n",
              "      <td>25.35</td>\n",
              "      <td>0</td>\n",
              "      <td>0</td>\n",
              "      <td>1</td>\n",
              "      <td>0</td>\n",
              "      <td>1</td>\n",
              "      <td>1</td>\n",
              "      <td>1</td>\n",
              "      <td>0</td>\n",
              "      <td>1</td>\n",
              "      <td>0</td>\n",
              "      <td>1</td>\n",
              "      <td>1</td>\n",
              "      <td>0</td>\n",
              "      <td>1</td>\n",
              "      <td>0</td>\n",
              "      <td>1</td>\n",
              "      <td>0</td>\n",
              "      <td>1</td>\n",
              "      <td>0</td>\n",
              "      <td>1</td>\n",
              "      <td>0</td>\n",
              "      <td>1</td>\n",
              "      <td>0</td>\n",
              "      <td>0</td>\n",
              "      <td>1</td>\n",
              "      <td>0</td>\n",
              "      <td>0</td>\n",
              "      <td>0</td>\n",
              "      <td>1</td>\n",
              "    </tr>\n",
              "    <tr>\n",
              "      <th>4380</th>\n",
              "      <td>0</td>\n",
              "      <td>20.00</td>\n",
              "      <td>0</td>\n",
              "      <td>0</td>\n",
              "      <td>0</td>\n",
              "      <td>0</td>\n",
              "      <td>1</td>\n",
              "      <td>1</td>\n",
              "      <td>1</td>\n",
              "      <td>0</td>\n",
              "      <td>0</td>\n",
              "      <td>0</td>\n",
              "      <td>1</td>\n",
              "      <td>1</td>\n",
              "      <td>0</td>\n",
              "      <td>1</td>\n",
              "      <td>0</td>\n",
              "      <td>1</td>\n",
              "      <td>0</td>\n",
              "      <td>1</td>\n",
              "      <td>0</td>\n",
              "      <td>1</td>\n",
              "      <td>0</td>\n",
              "      <td>1</td>\n",
              "      <td>0</td>\n",
              "      <td>0</td>\n",
              "      <td>1</td>\n",
              "      <td>0</td>\n",
              "      <td>0</td>\n",
              "      <td>0</td>\n",
              "      <td>1</td>\n",
              "    </tr>\n",
              "    <tr>\n",
              "      <th>5218</th>\n",
              "      <td>0</td>\n",
              "      <td>19.70</td>\n",
              "      <td>0</td>\n",
              "      <td>0</td>\n",
              "      <td>1</td>\n",
              "      <td>0</td>\n",
              "      <td>1</td>\n",
              "      <td>1</td>\n",
              "      <td>1</td>\n",
              "      <td>0</td>\n",
              "      <td>0</td>\n",
              "      <td>0</td>\n",
              "      <td>1</td>\n",
              "      <td>1</td>\n",
              "      <td>0</td>\n",
              "      <td>1</td>\n",
              "      <td>0</td>\n",
              "      <td>1</td>\n",
              "      <td>0</td>\n",
              "      <td>1</td>\n",
              "      <td>0</td>\n",
              "      <td>1</td>\n",
              "      <td>0</td>\n",
              "      <td>1</td>\n",
              "      <td>0</td>\n",
              "      <td>1</td>\n",
              "      <td>0</td>\n",
              "      <td>1</td>\n",
              "      <td>0</td>\n",
              "      <td>0</td>\n",
              "      <td>1</td>\n",
              "    </tr>\n",
              "    <tr>\n",
              "      <th>6670</th>\n",
              "      <td>0</td>\n",
              "      <td>73.35</td>\n",
              "      <td>0</td>\n",
              "      <td>0</td>\n",
              "      <td>0</td>\n",
              "      <td>0</td>\n",
              "      <td>1</td>\n",
              "      <td>1</td>\n",
              "      <td>1</td>\n",
              "      <td>0</td>\n",
              "      <td>1</td>\n",
              "      <td>0</td>\n",
              "      <td>0</td>\n",
              "      <td>0</td>\n",
              "      <td>0</td>\n",
              "      <td>0</td>\n",
              "      <td>1</td>\n",
              "      <td>0</td>\n",
              "      <td>1</td>\n",
              "      <td>0</td>\n",
              "      <td>1</td>\n",
              "      <td>0</td>\n",
              "      <td>1</td>\n",
              "      <td>0</td>\n",
              "      <td>0</td>\n",
              "      <td>0</td>\n",
              "      <td>1</td>\n",
              "      <td>0</td>\n",
              "      <td>0</td>\n",
              "      <td>0</td>\n",
              "      <td>1</td>\n",
              "    </tr>\n",
              "    <tr>\n",
              "      <th>6754</th>\n",
              "      <td>0</td>\n",
              "      <td>61.90</td>\n",
              "      <td>0</td>\n",
              "      <td>0</td>\n",
              "      <td>1</td>\n",
              "      <td>0</td>\n",
              "      <td>0</td>\n",
              "      <td>1</td>\n",
              "      <td>1</td>\n",
              "      <td>0</td>\n",
              "      <td>1</td>\n",
              "      <td>0</td>\n",
              "      <td>0</td>\n",
              "      <td>0</td>\n",
              "      <td>1</td>\n",
              "      <td>0</td>\n",
              "      <td>1</td>\n",
              "      <td>0</td>\n",
              "      <td>0</td>\n",
              "      <td>0</td>\n",
              "      <td>1</td>\n",
              "      <td>0</td>\n",
              "      <td>0</td>\n",
              "      <td>0</td>\n",
              "      <td>0</td>\n",
              "      <td>0</td>\n",
              "      <td>1</td>\n",
              "      <td>1</td>\n",
              "      <td>0</td>\n",
              "      <td>0</td>\n",
              "      <td>0</td>\n",
              "    </tr>\n",
              "  </tbody>\n",
              "</table>\n",
              "</div>"
            ],
            "text/plain": [
              "      tenure  ...  PaymentMethod_Mailed check\n",
              "488        0  ...                           0\n",
              "753        0  ...                           1\n",
              "936        0  ...                           1\n",
              "1082       0  ...                           1\n",
              "1340       0  ...                           0\n",
              "3331       0  ...                           1\n",
              "3826       0  ...                           1\n",
              "4380       0  ...                           1\n",
              "5218       0  ...                           1\n",
              "6670       0  ...                           1\n",
              "6754       0  ...                           0\n",
              "\n",
              "[11 rows x 31 columns]"
            ]
          },
          "metadata": {},
          "execution_count": 172
        }
      ]
    },
    {
      "cell_type": "code",
      "metadata": {
        "id": "ZNhib8Y2Pw0R"
      },
      "source": [
        "df2['TotalCharges']=pd.to_numeric(df2['TotalCharges'])"
      ],
      "execution_count": 173,
      "outputs": []
    },
    {
      "cell_type": "code",
      "metadata": {
        "id": "y0DA9KV_O2F6"
      },
      "source": [
        "df2.columns=df2.columns.str.replace(')',' ')\n",
        "df2.columns=df2.columns.str.replace('(',' ')\n",
        "df2.columns=df2.columns.str.replace(' ','_')\n",
        "df2.columns=df2.columns.str.replace('__','_')"
      ],
      "execution_count": 174,
      "outputs": []
    },
    {
      "cell_type": "code",
      "metadata": {
        "id": "5UQwmRVQT5MM"
      },
      "source": [
        "df2.replace(' ','_', regex=True,inplace=True) ## if to clear the white space in the values"
      ],
      "execution_count": 175,
      "outputs": []
    },
    {
      "cell_type": "code",
      "metadata": {
        "colab": {
          "base_uri": "https://localhost:8080/",
          "height": 224
        },
        "id": "Fmckp0FBKZH7",
        "outputId": "f00aecbb-09c3-4436-e9a9-cd9fcc66946c"
      },
      "source": [
        "df2.head()"
      ],
      "execution_count": 176,
      "outputs": [
        {
          "output_type": "execute_result",
          "data": {
            "text/html": [
              "<div>\n",
              "<style scoped>\n",
              "    .dataframe tbody tr th:only-of-type {\n",
              "        vertical-align: middle;\n",
              "    }\n",
              "\n",
              "    .dataframe tbody tr th {\n",
              "        vertical-align: top;\n",
              "    }\n",
              "\n",
              "    .dataframe thead th {\n",
              "        text-align: right;\n",
              "    }\n",
              "</style>\n",
              "<table border=\"1\" class=\"dataframe\">\n",
              "  <thead>\n",
              "    <tr style=\"text-align: right;\">\n",
              "      <th></th>\n",
              "      <th>tenure</th>\n",
              "      <th>MonthlyCharges</th>\n",
              "      <th>TotalCharges</th>\n",
              "      <th>Churn</th>\n",
              "      <th>gender_Male</th>\n",
              "      <th>SeniorCitizen_1</th>\n",
              "      <th>Partner_Yes</th>\n",
              "      <th>Dependents_Yes</th>\n",
              "      <th>PhoneService_Yes</th>\n",
              "      <th>MultipleLines_No_phone_service</th>\n",
              "      <th>MultipleLines_Yes</th>\n",
              "      <th>InternetService_Fiber_optic</th>\n",
              "      <th>InternetService_No</th>\n",
              "      <th>OnlineSecurity_No_internet_service</th>\n",
              "      <th>OnlineSecurity_Yes</th>\n",
              "      <th>OnlineBackup_No_internet_service</th>\n",
              "      <th>OnlineBackup_Yes</th>\n",
              "      <th>DeviceProtection_No_internet_service</th>\n",
              "      <th>DeviceProtection_Yes</th>\n",
              "      <th>TechSupport_No_internet_service</th>\n",
              "      <th>TechSupport_Yes</th>\n",
              "      <th>StreamingTV_No_internet_service</th>\n",
              "      <th>StreamingTV_Yes</th>\n",
              "      <th>StreamingMovies_No_internet_service</th>\n",
              "      <th>StreamingMovies_Yes</th>\n",
              "      <th>Contract_One_year</th>\n",
              "      <th>Contract_Two_year</th>\n",
              "      <th>PaperlessBilling_Yes</th>\n",
              "      <th>PaymentMethod_Credit_card_automatic_</th>\n",
              "      <th>PaymentMethod_Electronic_check</th>\n",
              "      <th>PaymentMethod_Mailed_check</th>\n",
              "    </tr>\n",
              "  </thead>\n",
              "  <tbody>\n",
              "    <tr>\n",
              "      <th>0</th>\n",
              "      <td>1</td>\n",
              "      <td>29.85</td>\n",
              "      <td>29.85</td>\n",
              "      <td>0</td>\n",
              "      <td>0</td>\n",
              "      <td>0</td>\n",
              "      <td>1</td>\n",
              "      <td>0</td>\n",
              "      <td>0</td>\n",
              "      <td>1</td>\n",
              "      <td>0</td>\n",
              "      <td>0</td>\n",
              "      <td>0</td>\n",
              "      <td>0</td>\n",
              "      <td>0</td>\n",
              "      <td>0</td>\n",
              "      <td>1</td>\n",
              "      <td>0</td>\n",
              "      <td>0</td>\n",
              "      <td>0</td>\n",
              "      <td>0</td>\n",
              "      <td>0</td>\n",
              "      <td>0</td>\n",
              "      <td>0</td>\n",
              "      <td>0</td>\n",
              "      <td>0</td>\n",
              "      <td>0</td>\n",
              "      <td>1</td>\n",
              "      <td>0</td>\n",
              "      <td>1</td>\n",
              "      <td>0</td>\n",
              "    </tr>\n",
              "    <tr>\n",
              "      <th>1</th>\n",
              "      <td>34</td>\n",
              "      <td>56.95</td>\n",
              "      <td>1889.50</td>\n",
              "      <td>0</td>\n",
              "      <td>1</td>\n",
              "      <td>0</td>\n",
              "      <td>0</td>\n",
              "      <td>0</td>\n",
              "      <td>1</td>\n",
              "      <td>0</td>\n",
              "      <td>0</td>\n",
              "      <td>0</td>\n",
              "      <td>0</td>\n",
              "      <td>0</td>\n",
              "      <td>1</td>\n",
              "      <td>0</td>\n",
              "      <td>0</td>\n",
              "      <td>0</td>\n",
              "      <td>1</td>\n",
              "      <td>0</td>\n",
              "      <td>0</td>\n",
              "      <td>0</td>\n",
              "      <td>0</td>\n",
              "      <td>0</td>\n",
              "      <td>0</td>\n",
              "      <td>1</td>\n",
              "      <td>0</td>\n",
              "      <td>0</td>\n",
              "      <td>0</td>\n",
              "      <td>0</td>\n",
              "      <td>1</td>\n",
              "    </tr>\n",
              "    <tr>\n",
              "      <th>2</th>\n",
              "      <td>2</td>\n",
              "      <td>53.85</td>\n",
              "      <td>108.15</td>\n",
              "      <td>1</td>\n",
              "      <td>1</td>\n",
              "      <td>0</td>\n",
              "      <td>0</td>\n",
              "      <td>0</td>\n",
              "      <td>1</td>\n",
              "      <td>0</td>\n",
              "      <td>0</td>\n",
              "      <td>0</td>\n",
              "      <td>0</td>\n",
              "      <td>0</td>\n",
              "      <td>1</td>\n",
              "      <td>0</td>\n",
              "      <td>1</td>\n",
              "      <td>0</td>\n",
              "      <td>0</td>\n",
              "      <td>0</td>\n",
              "      <td>0</td>\n",
              "      <td>0</td>\n",
              "      <td>0</td>\n",
              "      <td>0</td>\n",
              "      <td>0</td>\n",
              "      <td>0</td>\n",
              "      <td>0</td>\n",
              "      <td>1</td>\n",
              "      <td>0</td>\n",
              "      <td>0</td>\n",
              "      <td>1</td>\n",
              "    </tr>\n",
              "    <tr>\n",
              "      <th>3</th>\n",
              "      <td>45</td>\n",
              "      <td>42.30</td>\n",
              "      <td>1840.75</td>\n",
              "      <td>0</td>\n",
              "      <td>1</td>\n",
              "      <td>0</td>\n",
              "      <td>0</td>\n",
              "      <td>0</td>\n",
              "      <td>0</td>\n",
              "      <td>1</td>\n",
              "      <td>0</td>\n",
              "      <td>0</td>\n",
              "      <td>0</td>\n",
              "      <td>0</td>\n",
              "      <td>1</td>\n",
              "      <td>0</td>\n",
              "      <td>0</td>\n",
              "      <td>0</td>\n",
              "      <td>1</td>\n",
              "      <td>0</td>\n",
              "      <td>1</td>\n",
              "      <td>0</td>\n",
              "      <td>0</td>\n",
              "      <td>0</td>\n",
              "      <td>0</td>\n",
              "      <td>1</td>\n",
              "      <td>0</td>\n",
              "      <td>0</td>\n",
              "      <td>0</td>\n",
              "      <td>0</td>\n",
              "      <td>0</td>\n",
              "    </tr>\n",
              "    <tr>\n",
              "      <th>4</th>\n",
              "      <td>2</td>\n",
              "      <td>70.70</td>\n",
              "      <td>151.65</td>\n",
              "      <td>1</td>\n",
              "      <td>0</td>\n",
              "      <td>0</td>\n",
              "      <td>0</td>\n",
              "      <td>0</td>\n",
              "      <td>1</td>\n",
              "      <td>0</td>\n",
              "      <td>0</td>\n",
              "      <td>1</td>\n",
              "      <td>0</td>\n",
              "      <td>0</td>\n",
              "      <td>0</td>\n",
              "      <td>0</td>\n",
              "      <td>0</td>\n",
              "      <td>0</td>\n",
              "      <td>0</td>\n",
              "      <td>0</td>\n",
              "      <td>0</td>\n",
              "      <td>0</td>\n",
              "      <td>0</td>\n",
              "      <td>0</td>\n",
              "      <td>0</td>\n",
              "      <td>0</td>\n",
              "      <td>0</td>\n",
              "      <td>1</td>\n",
              "      <td>0</td>\n",
              "      <td>1</td>\n",
              "      <td>0</td>\n",
              "    </tr>\n",
              "  </tbody>\n",
              "</table>\n",
              "</div>"
            ],
            "text/plain": [
              "   tenure  ...  PaymentMethod_Mailed_check\n",
              "0       1  ...                           0\n",
              "1      34  ...                           1\n",
              "2       2  ...                           1\n",
              "3      45  ...                           0\n",
              "4       2  ...                           0\n",
              "\n",
              "[5 rows x 31 columns]"
            ]
          },
          "metadata": {},
          "execution_count": 176
        }
      ]
    },
    {
      "cell_type": "code",
      "metadata": {
        "id": "tAFU75KY1CX-"
      },
      "source": [
        "scale=StandardScaler()"
      ],
      "execution_count": 177,
      "outputs": []
    },
    {
      "cell_type": "code",
      "metadata": {
        "id": "eJYnFRAVBzop"
      },
      "source": [
        "x_scaled=scale.fit_transform(df2[['MonthlyCharges','TotalCharges','tenure']])"
      ],
      "execution_count": 178,
      "outputs": []
    },
    {
      "cell_type": "code",
      "metadata": {
        "id": "W7kNiNx2CD8Y"
      },
      "source": [
        "X_scaled=pd.DataFrame(x_scaled, columns=('MonthlyCharges','TotalCharges','tenure'))"
      ],
      "execution_count": 179,
      "outputs": []
    },
    {
      "cell_type": "code",
      "metadata": {
        "id": "JuvLR3SECKkQ"
      },
      "source": [
        "df3=df2.drop(['tenure','MonthlyCharges','TotalCharges'],axis=1).copy()"
      ],
      "execution_count": 180,
      "outputs": []
    },
    {
      "cell_type": "code",
      "metadata": {
        "id": "j44bQ4nTBuxs"
      },
      "source": [
        "df_scaled=pd.concat([df3,X_scaled], axis=1)"
      ],
      "execution_count": 181,
      "outputs": []
    },
    {
      "cell_type": "code",
      "metadata": {
        "id": "hHZeRkIbCQkM"
      },
      "source": [
        "X=df_scaled.drop('Churn',axis=1).copy()\n",
        "y=df_scaled['Churn'].copy()"
      ],
      "execution_count": 182,
      "outputs": []
    },
    {
      "cell_type": "code",
      "metadata": {
        "colab": {
          "base_uri": "https://localhost:8080/"
        },
        "id": "OzoJP8_GeF0l",
        "outputId": "ba4d59d2-0ea8-429f-9e51-9749303780f5"
      },
      "source": [
        "sum(y)/len(y)"
      ],
      "execution_count": 183,
      "outputs": [
        {
          "output_type": "execute_result",
          "data": {
            "text/plain": [
              "0.2653698707936959"
            ]
          },
          "metadata": {},
          "execution_count": 183
        }
      ]
    },
    {
      "cell_type": "code",
      "metadata": {
        "id": "XGIGPDn3fHuG"
      },
      "source": [
        "X_train,X_test,y_train,y_test=train_test_split(X,y,random_state=42,stratify=y)"
      ],
      "execution_count": 184,
      "outputs": []
    },
    {
      "cell_type": "code",
      "metadata": {
        "colab": {
          "base_uri": "https://localhost:8080/"
        },
        "id": "NJA5KNftfj5b",
        "outputId": "6a0520b2-2328-4c9e-ba73-7ad754b9ad6d"
      },
      "source": [
        "sum(y_train)/len(y_train)"
      ],
      "execution_count": 185,
      "outputs": [
        {
          "output_type": "execute_result",
          "data": {
            "text/plain": [
              "0.2654297614539947"
            ]
          },
          "metadata": {},
          "execution_count": 185
        }
      ]
    },
    {
      "cell_type": "code",
      "metadata": {
        "colab": {
          "base_uri": "https://localhost:8080/"
        },
        "id": "rYugFi-lfqaL",
        "outputId": "df673547-560b-4b2b-bb02-d25de5dbf9c5"
      },
      "source": [
        "sum(y_test)/len(y_test)"
      ],
      "execution_count": 186,
      "outputs": [
        {
          "output_type": "execute_result",
          "data": {
            "text/plain": [
              "0.26519023282226006"
            ]
          },
          "metadata": {},
          "execution_count": 186
        }
      ]
    },
    {
      "cell_type": "markdown",
      "metadata": {
        "id": "kpmD7D9wf9wB"
      },
      "source": [
        "stratify worked as expected both y_train,y_test have same percentage of people that left the company."
      ]
    },
    {
      "cell_type": "markdown",
      "metadata": {
        "id": "UmoR1mhAQkvQ"
      },
      "source": [
        "## Logistic Regression"
      ]
    },
    {
      "cell_type": "code",
      "metadata": {
        "id": "EagO1yjkgu6C"
      },
      "source": [
        "logistic_reg=LogisticRegression(random_state=26)"
      ],
      "execution_count": 187,
      "outputs": []
    },
    {
      "cell_type": "code",
      "metadata": {
        "colab": {
          "base_uri": "https://localhost:8080/"
        },
        "id": "oShccK-RhCvU",
        "outputId": "1a323717-d702-47f9-ce38-18e1d73b110c"
      },
      "source": [
        "logistic_reg.fit(X_train,y_train)"
      ],
      "execution_count": 188,
      "outputs": [
        {
          "output_type": "execute_result",
          "data": {
            "text/plain": [
              "LogisticRegression(random_state=26)"
            ]
          },
          "metadata": {},
          "execution_count": 188
        }
      ]
    },
    {
      "cell_type": "code",
      "metadata": {
        "colab": {
          "base_uri": "https://localhost:8080/"
        },
        "id": "9-3pEXTUhQvJ",
        "outputId": "87ccb9bc-66d5-457a-bc5c-c988e6193dc0"
      },
      "source": [
        "predictions=logistic_reg.predict(X_test)\n",
        "print(classification_report(y_test,predictions))"
      ],
      "execution_count": 189,
      "outputs": [
        {
          "output_type": "stream",
          "name": "stdout",
          "text": [
            "              precision    recall  f1-score   support\n",
            "\n",
            "           0       0.85      0.90      0.87      1294\n",
            "           1       0.66      0.55      0.60       467\n",
            "\n",
            "    accuracy                           0.81      1761\n",
            "   macro avg       0.75      0.73      0.74      1761\n",
            "weighted avg       0.80      0.81      0.80      1761\n",
            "\n"
          ]
        }
      ]
    },
    {
      "cell_type": "code",
      "metadata": {
        "colab": {
          "base_uri": "https://localhost:8080/"
        },
        "id": "yR4GZbN9hdNC",
        "outputId": "020f253b-81c5-4a2b-d877-b0ddbdfdc47e"
      },
      "source": [
        "confusion_matrix(y_test,predictions)"
      ],
      "execution_count": 190,
      "outputs": [
        {
          "output_type": "execute_result",
          "data": {
            "text/plain": [
              "array([[1161,  133],\n",
              "       [ 208,  259]])"
            ]
          },
          "metadata": {},
          "execution_count": 190
        }
      ]
    },
    {
      "cell_type": "code",
      "metadata": {
        "colab": {
          "base_uri": "https://localhost:8080/"
        },
        "id": "MgfFphEwP26W",
        "outputId": "85134bda-b347-4556-eda7-fe9ee95f1b59"
      },
      "source": [
        "param_grid=[\n",
        "            {'C':[0.1,0.01,0.001,0.5,1,10,100,1000],\n",
        "             'penalty':['l1', 'l2', 'elasticnet', 'none'],\n",
        "             'class_weight' : ['dict','balanced','none'],\n",
        "             'solver' : ['newton-cg', 'lbfgs', 'liblinear', 'sag', 'saga'],\n",
        "             }\n",
        "]\n",
        "\n",
        "optimal_params= GridSearchCV( LogisticRegression(), param_grid, cv=5, scoring='accuracy',verbose=0, n_jobs=-1)\n",
        "\n",
        "optimal_params.fit(X_train,y_train)"
      ],
      "execution_count": 191,
      "outputs": [
        {
          "output_type": "stream",
          "name": "stderr",
          "text": [
            "/usr/local/lib/python3.7/dist-packages/sklearn/model_selection/_validation.py:372: FitFailedWarning: \n",
            "1240 fits failed out of a total of 2400.\n",
            "The score on these train-test partitions for these parameters will be set to nan.\n",
            "If these failures are not expected, you can try to debug them by setting error_score='raise'.\n",
            "\n",
            "Below are more details about the failures:\n",
            "--------------------------------------------------------------------------------\n",
            "120 fits failed with the following error:\n",
            "Traceback (most recent call last):\n",
            "  File \"/usr/local/lib/python3.7/dist-packages/sklearn/model_selection/_validation.py\", line 681, in _fit_and_score\n",
            "    estimator.fit(X_train, y_train, **fit_params)\n",
            "  File \"/usr/local/lib/python3.7/dist-packages/sklearn/linear_model/_logistic.py\", line 1461, in fit\n",
            "    solver = _check_solver(self.solver, self.penalty, self.dual)\n",
            "  File \"/usr/local/lib/python3.7/dist-packages/sklearn/linear_model/_logistic.py\", line 449, in _check_solver\n",
            "    % (solver, penalty)\n",
            "ValueError: Solver newton-cg supports only 'l2' or 'none' penalties, got l1 penalty.\n",
            "\n",
            "--------------------------------------------------------------------------------\n",
            "120 fits failed with the following error:\n",
            "Traceback (most recent call last):\n",
            "  File \"/usr/local/lib/python3.7/dist-packages/sklearn/model_selection/_validation.py\", line 681, in _fit_and_score\n",
            "    estimator.fit(X_train, y_train, **fit_params)\n",
            "  File \"/usr/local/lib/python3.7/dist-packages/sklearn/linear_model/_logistic.py\", line 1461, in fit\n",
            "    solver = _check_solver(self.solver, self.penalty, self.dual)\n",
            "  File \"/usr/local/lib/python3.7/dist-packages/sklearn/linear_model/_logistic.py\", line 449, in _check_solver\n",
            "    % (solver, penalty)\n",
            "ValueError: Solver lbfgs supports only 'l2' or 'none' penalties, got l1 penalty.\n",
            "\n",
            "--------------------------------------------------------------------------------\n",
            "80 fits failed with the following error:\n",
            "Traceback (most recent call last):\n",
            "  File \"/usr/local/lib/python3.7/dist-packages/sklearn/model_selection/_validation.py\", line 681, in _fit_and_score\n",
            "    estimator.fit(X_train, y_train, **fit_params)\n",
            "  File \"/usr/local/lib/python3.7/dist-packages/sklearn/linear_model/_logistic.py\", line 1541, in fit\n",
            "    sample_weight=sample_weight,\n",
            "  File \"/usr/local/lib/python3.7/dist-packages/sklearn/svm/_base.py\", line 1150, in _fit_liblinear\n",
            "    class_weight_ = compute_class_weight(class_weight, classes=classes_, y=y)\n",
            "  File \"/usr/local/lib/python3.7/dist-packages/sklearn/utils/class_weight.py\", line 59, in compute_class_weight\n",
            "    \"class_weight must be dict, 'balanced', or None, got: %r\" % class_weight\n",
            "ValueError: class_weight must be dict, 'balanced', or None, got: 'dict'\n",
            "\n",
            "--------------------------------------------------------------------------------\n",
            "120 fits failed with the following error:\n",
            "Traceback (most recent call last):\n",
            "  File \"/usr/local/lib/python3.7/dist-packages/sklearn/model_selection/_validation.py\", line 681, in _fit_and_score\n",
            "    estimator.fit(X_train, y_train, **fit_params)\n",
            "  File \"/usr/local/lib/python3.7/dist-packages/sklearn/linear_model/_logistic.py\", line 1461, in fit\n",
            "    solver = _check_solver(self.solver, self.penalty, self.dual)\n",
            "  File \"/usr/local/lib/python3.7/dist-packages/sklearn/linear_model/_logistic.py\", line 449, in _check_solver\n",
            "    % (solver, penalty)\n",
            "ValueError: Solver sag supports only 'l2' or 'none' penalties, got l1 penalty.\n",
            "\n",
            "--------------------------------------------------------------------------------\n",
            "120 fits failed with the following error:\n",
            "Traceback (most recent call last):\n",
            "  File \"/usr/local/lib/python3.7/dist-packages/sklearn/model_selection/_validation.py\", line 681, in _fit_and_score\n",
            "    estimator.fit(X_train, y_train, **fit_params)\n",
            "  File \"/usr/local/lib/python3.7/dist-packages/sklearn/linear_model/_logistic.py\", line 1461, in fit\n",
            "    solver = _check_solver(self.solver, self.penalty, self.dual)\n",
            "  File \"/usr/local/lib/python3.7/dist-packages/sklearn/linear_model/_logistic.py\", line 449, in _check_solver\n",
            "    % (solver, penalty)\n",
            "ValueError: Solver newton-cg supports only 'l2' or 'none' penalties, got elasticnet penalty.\n",
            "\n",
            "--------------------------------------------------------------------------------\n",
            "120 fits failed with the following error:\n",
            "Traceback (most recent call last):\n",
            "  File \"/usr/local/lib/python3.7/dist-packages/sklearn/model_selection/_validation.py\", line 681, in _fit_and_score\n",
            "    estimator.fit(X_train, y_train, **fit_params)\n",
            "  File \"/usr/local/lib/python3.7/dist-packages/sklearn/linear_model/_logistic.py\", line 1461, in fit\n",
            "    solver = _check_solver(self.solver, self.penalty, self.dual)\n",
            "  File \"/usr/local/lib/python3.7/dist-packages/sklearn/linear_model/_logistic.py\", line 449, in _check_solver\n",
            "    % (solver, penalty)\n",
            "ValueError: Solver lbfgs supports only 'l2' or 'none' penalties, got elasticnet penalty.\n",
            "\n",
            "--------------------------------------------------------------------------------\n",
            "120 fits failed with the following error:\n",
            "Traceback (most recent call last):\n",
            "  File \"/usr/local/lib/python3.7/dist-packages/sklearn/model_selection/_validation.py\", line 681, in _fit_and_score\n",
            "    estimator.fit(X_train, y_train, **fit_params)\n",
            "  File \"/usr/local/lib/python3.7/dist-packages/sklearn/linear_model/_logistic.py\", line 1461, in fit\n",
            "    solver = _check_solver(self.solver, self.penalty, self.dual)\n",
            "  File \"/usr/local/lib/python3.7/dist-packages/sklearn/linear_model/_logistic.py\", line 459, in _check_solver\n",
            "    solver\n",
            "ValueError: Only 'saga' solver supports elasticnet penalty, got solver=liblinear.\n",
            "\n",
            "--------------------------------------------------------------------------------\n",
            "120 fits failed with the following error:\n",
            "Traceback (most recent call last):\n",
            "  File \"/usr/local/lib/python3.7/dist-packages/sklearn/model_selection/_validation.py\", line 681, in _fit_and_score\n",
            "    estimator.fit(X_train, y_train, **fit_params)\n",
            "  File \"/usr/local/lib/python3.7/dist-packages/sklearn/linear_model/_logistic.py\", line 1461, in fit\n",
            "    solver = _check_solver(self.solver, self.penalty, self.dual)\n",
            "  File \"/usr/local/lib/python3.7/dist-packages/sklearn/linear_model/_logistic.py\", line 449, in _check_solver\n",
            "    % (solver, penalty)\n",
            "ValueError: Solver sag supports only 'l2' or 'none' penalties, got elasticnet penalty.\n",
            "\n",
            "--------------------------------------------------------------------------------\n",
            "120 fits failed with the following error:\n",
            "Traceback (most recent call last):\n",
            "  File \"/usr/local/lib/python3.7/dist-packages/sklearn/model_selection/_validation.py\", line 681, in _fit_and_score\n",
            "    estimator.fit(X_train, y_train, **fit_params)\n",
            "  File \"/usr/local/lib/python3.7/dist-packages/sklearn/linear_model/_logistic.py\", line 1473, in fit\n",
            "    % self.l1_ratio\n",
            "ValueError: l1_ratio must be between 0 and 1; got (l1_ratio=None)\n",
            "\n",
            "--------------------------------------------------------------------------------\n",
            "120 fits failed with the following error:\n",
            "Traceback (most recent call last):\n",
            "  File \"/usr/local/lib/python3.7/dist-packages/sklearn/model_selection/_validation.py\", line 681, in _fit_and_score\n",
            "    estimator.fit(X_train, y_train, **fit_params)\n",
            "  File \"/usr/local/lib/python3.7/dist-packages/sklearn/linear_model/_logistic.py\", line 1461, in fit\n",
            "    solver = _check_solver(self.solver, self.penalty, self.dual)\n",
            "  File \"/usr/local/lib/python3.7/dist-packages/sklearn/linear_model/_logistic.py\", line 464, in _check_solver\n",
            "    raise ValueError(\"penalty='none' is not supported for the liblinear solver\")\n",
            "ValueError: penalty='none' is not supported for the liblinear solver\n",
            "\n",
            "--------------------------------------------------------------------------------\n",
            "80 fits failed with the following error:\n",
            "Traceback (most recent call last):\n",
            "  File \"/usr/local/lib/python3.7/dist-packages/sklearn/model_selection/_validation.py\", line 681, in _fit_and_score\n",
            "    estimator.fit(X_train, y_train, **fit_params)\n",
            "  File \"/usr/local/lib/python3.7/dist-packages/sklearn/linear_model/_logistic.py\", line 1541, in fit\n",
            "    sample_weight=sample_weight,\n",
            "  File \"/usr/local/lib/python3.7/dist-packages/sklearn/svm/_base.py\", line 1150, in _fit_liblinear\n",
            "    class_weight_ = compute_class_weight(class_weight, classes=classes_, y=y)\n",
            "  File \"/usr/local/lib/python3.7/dist-packages/sklearn/utils/class_weight.py\", line 59, in compute_class_weight\n",
            "    \"class_weight must be dict, 'balanced', or None, got: %r\" % class_weight\n",
            "ValueError: class_weight must be dict, 'balanced', or None, got: 'none'\n",
            "\n",
            "  warnings.warn(some_fits_failed_message, FitFailedWarning)\n",
            "/usr/local/lib/python3.7/dist-packages/sklearn/model_selection/_search.py:972: UserWarning: One or more of the test scores are non-finite: [       nan        nan        nan        nan 0.80404697 0.80556195\n",
            " 0.80556195        nan 0.80556195 0.80556195        nan        nan\n",
            "        nan        nan        nan 0.80480545 0.80480545        nan\n",
            " 0.80461605 0.80518441        nan        nan 0.74743754        nan\n",
            " 0.74800554 0.75084555 0.75084555 0.75008816 0.75084555 0.75084555\n",
            "        nan        nan        nan        nan        nan 0.7457346\n",
            " 0.7457346         nan 0.7457346  0.74705982        nan        nan\n",
            "        nan        nan 0.80404697 0.80556195 0.80556195        nan\n",
            " 0.80556195 0.80556195        nan        nan        nan        nan\n",
            "        nan 0.80480545 0.80480545        nan 0.80461605 0.80518441\n",
            "        nan        nan        nan        nan 0.79287954 0.80120624\n",
            " 0.80120624        nan 0.80120624 0.80120624        nan        nan\n",
            "        nan        nan        nan 0.80480545 0.80480545        nan\n",
            " 0.80461605 0.80518441        nan        nan 0.71960845        nan\n",
            " 0.73361805 0.75065616 0.75065616 0.74876312 0.75065616 0.75065616\n",
            "        nan        nan        nan        nan        nan 0.7457346\n",
            " 0.7457346         nan 0.7457346  0.74705982        nan        nan\n",
            "        nan        nan 0.79287954 0.80120624 0.80120624        nan\n",
            " 0.80120624 0.80120624        nan        nan        nan        nan\n",
            "        nan 0.80480545 0.80480545        nan 0.80461605 0.80518441\n",
            "        nan        nan        nan        nan 0.7345704  0.75047572\n",
            " 0.75047572        nan 0.75047572 0.75047572        nan        nan\n",
            "        nan        nan        nan 0.80480545 0.80480545        nan\n",
            " 0.80461605 0.80518441        nan        nan 0.7345704         nan\n",
            " 0.5469697  0.74024272 0.74024272 0.73361733 0.74043193 0.74024272\n",
            "        nan        nan        nan        nan        nan 0.7457346\n",
            " 0.7457346         nan 0.7457346  0.74687043        nan        nan\n",
            "        nan        nan 0.7345704  0.75047572 0.75047572        nan\n",
            " 0.75047572 0.75047572        nan        nan        nan        nan\n",
            "        nan 0.80480545 0.80480545        nan 0.80461605 0.80518441\n",
            "        nan        nan        nan        nan 0.80347969 0.80329011\n",
            " 0.80329011        nan 0.80329011 0.80329011        nan        nan\n",
            "        nan        nan        nan 0.80480545 0.80480545        nan\n",
            " 0.80461605 0.80518441        nan        nan 0.74800554        nan\n",
            " 0.74857354 0.7506567  0.7506567  0.74971026 0.7506567  0.7506567\n",
            "        nan        nan        nan        nan        nan 0.7457346\n",
            " 0.7457346         nan 0.7457346  0.74687043        nan        nan\n",
            "        nan        nan 0.80347969 0.80329011 0.80329011        nan\n",
            " 0.80329011 0.80329011        nan        nan        nan        nan\n",
            "        nan 0.80480545 0.80480545        nan 0.80461605 0.80518441\n",
            "        nan        nan        nan        nan 0.80291151 0.8036689\n",
            " 0.8036689         nan 0.8036689  0.80347969        nan        nan\n",
            "        nan        nan        nan 0.80480545 0.80480545        nan\n",
            " 0.80461605 0.80518441        nan        nan 0.74952033        nan\n",
            " 0.74838451 0.74933148 0.74952069 0.75008887 0.74952069 0.74952069\n",
            "        nan        nan        nan        nan        nan 0.7457346\n",
            " 0.7457346         nan 0.7457346  0.74705982        nan        nan\n",
            "        nan        nan 0.80291151 0.8036689  0.8036689         nan\n",
            " 0.8036689  0.80347969        nan        nan        nan        nan\n",
            "        nan 0.80480545 0.80480545        nan 0.80461605 0.80518441\n",
            "        nan        nan        nan        nan 0.80499448 0.80537327\n",
            " 0.80537327        nan 0.80518405 0.80518388        nan        nan\n",
            "        nan        nan        nan 0.80480545 0.80480545        nan\n",
            " 0.80461605 0.80518441        nan        nan 0.74705965        nan\n",
            " 0.74743825 0.74743825 0.74724886 0.74743825 0.74724904 0.74743825\n",
            "        nan        nan        nan        nan        nan 0.7457346\n",
            " 0.7457346         nan 0.7457346  0.74687043        nan        nan\n",
            "        nan        nan 0.80499448 0.80537327 0.80537327        nan\n",
            " 0.80518405 0.80518388        nan        nan        nan        nan\n",
            "        nan 0.80480545 0.80480545        nan 0.80461605 0.80518441\n",
            "        nan        nan        nan        nan 0.80480562 0.80461605\n",
            " 0.80461605        nan 0.80442684 0.80499484        nan        nan\n",
            "        nan        nan        nan 0.80480545 0.80480545        nan\n",
            " 0.80461605 0.80518441        nan        nan 0.74649164        nan\n",
            " 0.74687043 0.74611303 0.74611303 0.74630225 0.74611303 0.74687043\n",
            "        nan        nan        nan        nan        nan 0.7457346\n",
            " 0.7457346         nan 0.7457346  0.74705982        nan        nan\n",
            "        nan        nan 0.80499484 0.80461605 0.80461605        nan\n",
            " 0.80442684 0.80499484        nan        nan        nan        nan\n",
            "        nan 0.80480545 0.80480545        nan 0.80461605 0.80518441\n",
            "        nan        nan        nan        nan 0.80518441 0.80499484\n",
            " 0.80461605        nan 0.80461605 0.80518441        nan        nan\n",
            "        nan        nan        nan 0.80480545 0.80480545        nan\n",
            " 0.80461605 0.80518441        nan        nan 0.74611303        nan\n",
            " 0.74705965 0.7457346  0.7457346  0.7457346  0.74611303 0.74705982\n",
            "        nan        nan        nan        nan        nan 0.7457346\n",
            " 0.7457346         nan 0.7457346  0.74687043        nan        nan\n",
            "        nan        nan 0.80518441 0.80499484 0.80461605        nan\n",
            " 0.80461605 0.80518441        nan        nan        nan        nan\n",
            "        nan 0.80480545 0.80480545        nan 0.80461605 0.80518441]\n",
            "  category=UserWarning,\n"
          ]
        },
        {
          "output_type": "execute_result",
          "data": {
            "text/plain": [
              "GridSearchCV(cv=5, estimator=LogisticRegression(), n_jobs=-1,\n",
              "             param_grid=[{'C': [0.1, 0.01, 0.001, 0.5, 1, 10, 100, 1000],\n",
              "                          'class_weight': ['dict', 'balanced', 'none'],\n",
              "                          'penalty': ['l1', 'l2', 'elasticnet', 'none'],\n",
              "                          'solver': ['newton-cg', 'lbfgs', 'liblinear', 'sag',\n",
              "                                     'saga']}],\n",
              "             scoring='accuracy')"
            ]
          },
          "metadata": {},
          "execution_count": 191
        }
      ]
    },
    {
      "cell_type": "code",
      "metadata": {
        "colab": {
          "base_uri": "https://localhost:8080/"
        },
        "id": "OtcNoYMNTY2s",
        "outputId": "ec08234c-9983-447c-82db-cce948838f43"
      },
      "source": [
        "print(optimal_params.best_params_)"
      ],
      "execution_count": 192,
      "outputs": [
        {
          "output_type": "stream",
          "name": "stdout",
          "text": [
            "{'C': 0.1, 'class_weight': 'dict', 'penalty': 'l2', 'solver': 'newton-cg'}\n"
          ]
        }
      ]
    },
    {
      "cell_type": "code",
      "metadata": {
        "colab": {
          "base_uri": "https://localhost:8080/"
        },
        "id": "AvaXsIm3W_N2",
        "outputId": "52535cc1-5b8a-473c-e7b0-7e1891b0b77f"
      },
      "source": [
        "model=LogisticRegression(C=1,class_weight=dict,penalty='l2',solver='lbfgs')\n",
        "model.fit(X_train,y_train)"
      ],
      "execution_count": 193,
      "outputs": [
        {
          "output_type": "execute_result",
          "data": {
            "text/plain": [
              "LogisticRegression(C=1, class_weight=<class 'dict'>)"
            ]
          },
          "metadata": {},
          "execution_count": 193
        }
      ]
    },
    {
      "cell_type": "code",
      "metadata": {
        "colab": {
          "base_uri": "https://localhost:8080/"
        },
        "id": "fsdWcLSzXrQh",
        "outputId": "f53002eb-4fe4-4796-8974-fe8665dc8fa4"
      },
      "source": [
        "y_train_predict= model.predict(X_train)\n",
        "y_test_predict=model.predict(X_test)\n",
        "print('Train Data')\n",
        "print(metrics.classification_report(y_train,y_train_predict))\n",
        "print('Test Data')\n",
        "print(metrics.classification_report(y_test,y_test_predict))"
      ],
      "execution_count": 194,
      "outputs": [
        {
          "output_type": "stream",
          "name": "stdout",
          "text": [
            "Train Data\n",
            "              precision    recall  f1-score   support\n",
            "\n",
            "           0       0.85      0.90      0.87      3880\n",
            "           1       0.66      0.55      0.60      1402\n",
            "\n",
            "    accuracy                           0.81      5282\n",
            "   macro avg       0.76      0.73      0.74      5282\n",
            "weighted avg       0.80      0.81      0.80      5282\n",
            "\n",
            "Test Data\n",
            "              precision    recall  f1-score   support\n",
            "\n",
            "           0       0.85      0.90      0.87      1294\n",
            "           1       0.66      0.55      0.60       467\n",
            "\n",
            "    accuracy                           0.81      1761\n",
            "   macro avg       0.75      0.73      0.74      1761\n",
            "weighted avg       0.80      0.81      0.80      1761\n",
            "\n"
          ]
        }
      ]
    },
    {
      "cell_type": "code",
      "metadata": {
        "colab": {
          "base_uri": "https://localhost:8080/"
        },
        "id": "hbjk1GZlX2Yc",
        "outputId": "9b7ea106-be7c-4414-b1db-1eefe26c1f48"
      },
      "source": [
        "confusion_matrix(y_test,y_test_predict)"
      ],
      "execution_count": 195,
      "outputs": [
        {
          "output_type": "execute_result",
          "data": {
            "text/plain": [
              "array([[1161,  133],\n",
              "       [ 208,  259]])"
            ]
          },
          "metadata": {},
          "execution_count": 195
        }
      ]
    },
    {
      "cell_type": "code",
      "metadata": {
        "id": "_TekxrRGYB6p"
      },
      "source": [
        "y_train_proba=model.predict_proba(X_train)\n",
        "y_test_proba=model.predict_proba(X_test)"
      ],
      "execution_count": 196,
      "outputs": []
    },
    {
      "cell_type": "code",
      "metadata": {
        "colab": {
          "base_uri": "https://localhost:8080/"
        },
        "id": "wTmZ3fq_aK7J",
        "outputId": "197be607-4f2d-4514-c9f8-166fd2195c81"
      },
      "source": [
        "y_train_proba, y_test_proba"
      ],
      "execution_count": 197,
      "outputs": [
        {
          "output_type": "execute_result",
          "data": {
            "text/plain": [
              "(array([[0.98974944, 0.01025056],\n",
              "        [0.57634408, 0.42365592],\n",
              "        [0.98892595, 0.01107405],\n",
              "        ...,\n",
              "        [0.92290624, 0.07709376],\n",
              "        [0.96560078, 0.03439922],\n",
              "        [0.8438746 , 0.1561254 ]]), array([[0.83373379, 0.16626621],\n",
              "        [0.94922943, 0.05077057],\n",
              "        [0.94554086, 0.05445914],\n",
              "        ...,\n",
              "        [0.81919542, 0.18080458],\n",
              "        [0.60153798, 0.39846202],\n",
              "        [0.53022829, 0.46977171]]))"
            ]
          },
          "metadata": {},
          "execution_count": 197
        }
      ]
    },
    {
      "cell_type": "code",
      "metadata": {
        "id": "GOYgKwnCaPhx"
      },
      "source": [
        "def proba_class(y_proba,threshold):\n",
        "  predicted_class=[1 if a[1]>threshold else 0 for a in y_proba]\n",
        "  return np.array(predicted_class)"
      ],
      "execution_count": 198,
      "outputs": []
    },
    {
      "cell_type": "code",
      "metadata": {
        "colab": {
          "base_uri": "https://localhost:8080/"
        },
        "id": "PRL6VuqQbT56",
        "outputId": "46a73614-2626-402f-a39a-381d2dca5234"
      },
      "source": [
        "proba_class(y_train_proba,0.5)==y_train_predict"
      ],
      "execution_count": 199,
      "outputs": [
        {
          "output_type": "execute_result",
          "data": {
            "text/plain": [
              "array([ True,  True,  True, ...,  True,  True,  True])"
            ]
          },
          "metadata": {},
          "execution_count": 199
        }
      ]
    },
    {
      "cell_type": "code",
      "metadata": {
        "id": "KbMpe0xuhNKX"
      },
      "source": [
        "#from from_estimator import ConfusionMatrixDisplay"
      ],
      "execution_count": 200,
      "outputs": []
    },
    {
      "cell_type": "code",
      "metadata": {
        "colab": {
          "base_uri": "https://localhost:8080/",
          "height": 333
        },
        "id": "YhNhuzhlb5YE",
        "outputId": "db0ea147-788a-4787-dda3-309622693c03"
      },
      "source": [
        "plot_confusion_matrix(model,X_test,y_test)\n",
        "plt.show()"
      ],
      "execution_count": 201,
      "outputs": [
        {
          "output_type": "stream",
          "name": "stderr",
          "text": [
            "/usr/local/lib/python3.7/dist-packages/sklearn/utils/deprecation.py:87: FutureWarning: Function plot_confusion_matrix is deprecated; Function `plot_confusion_matrix` is deprecated in 1.0 and will be removed in 1.2. Use one of the class methods: ConfusionMatrixDisplay.from_predictions or ConfusionMatrixDisplay.from_estimator.\n",
            "  warnings.warn(msg, category=FutureWarning)\n"
          ]
        },
        {
          "output_type": "display_data",
          "data": {
            "image/png": "[encoded data removed]",
            "text/plain": [
              "<Figure size 432x288 with 2 Axes>"
            ]
          },
          "metadata": {
            "needs_background": "light"
          }
        }
      ]
    },
    {
      "cell_type": "code",
      "metadata": {
        "id": "eUYTU9oneHAm"
      },
      "source": [
        "def classification_metrics(y_actual,y_pred):\n",
        "  precision=precision_score(y_actual,y_pred)\n",
        "  recall=recall_score(y_actual,y_pred)\n",
        "  fb=fbeta_score(y_actual,y_pred, beta=1)\n",
        "  print('precision:{}, recall: {}, f1_Score: {}'. format(round(precision,2),round(recall,2),round(fb,2)))"
      ],
      "execution_count": 202,
      "outputs": []
    },
    {
      "cell_type": "code",
      "metadata": {
        "colab": {
          "base_uri": "https://localhost:8080/"
        },
        "id": "MDs7PQbThu4o",
        "outputId": "1f0b80cd-f20c-494c-f5a9-b00733019c8b"
      },
      "source": [
        "classification_metrics(y_train,y_train_predict)\n",
        "classification_metrics(y_test,y_test_predict)"
      ],
      "execution_count": 203,
      "outputs": [
        {
          "output_type": "stream",
          "name": "stdout",
          "text": [
            "precision:0.66, recall: 0.55, f1_Score: 0.6\n",
            "precision:0.66, recall: 0.55, f1_Score: 0.6\n"
          ]
        }
      ]
    },
    {
      "cell_type": "code",
      "metadata": {
        "colab": {
          "base_uri": "https://localhost:8080/"
        },
        "id": "nOYN7zD4h1aW",
        "outputId": "565d03fd-5e77-4fe1-ec96-48c3ba55f0a1"
      },
      "source": [
        "for threshold in range (10,100, 10):\n",
        "  trsh=threshold/100\n",
        "  y_pred_train=proba_class(y_train_proba, trsh)\n",
        "  print('Threshold: {}'. format(trsh))\n",
        "  classification_metrics(y_train,y_pred_train)"
      ],
      "execution_count": 204,
      "outputs": [
        {
          "output_type": "stream",
          "name": "stdout",
          "text": [
            "Threshold: 0.1\n",
            "precision:0.4, recall: 0.95, f1_Score: 0.56\n",
            "Threshold: 0.2\n",
            "precision:0.47, recall: 0.86, f1_Score: 0.61\n",
            "Threshold: 0.3\n",
            "precision:0.54, recall: 0.77, f1_Score: 0.64\n",
            "Threshold: 0.4\n",
            "precision:0.6, recall: 0.66, f1_Score: 0.63\n",
            "Threshold: 0.5\n",
            "precision:0.66, recall: 0.55, f1_Score: 0.6\n",
            "Threshold: 0.6\n",
            "precision:0.72, recall: 0.4, f1_Score: 0.51\n",
            "Threshold: 0.7\n",
            "precision:0.8, recall: 0.21, f1_Score: 0.33\n",
            "Threshold: 0.8\n",
            "precision:0.97, recall: 0.03, f1_Score: 0.05\n",
            "Threshold: 0.9\n",
            "precision:0.0, recall: 0.0, f1_Score: 0.0\n"
          ]
        },
        {
          "output_type": "stream",
          "name": "stderr",
          "text": [
            "/usr/local/lib/python3.7/dist-packages/sklearn/metrics/_classification.py:1308: UndefinedMetricWarning: Precision is ill-defined and being set to 0.0 due to no predicted samples. Use `zero_division` parameter to control this behavior.\n",
            "  _warn_prf(average, modifier, msg_start, len(result))\n"
          ]
        }
      ]
    },
    {
      "cell_type": "code",
      "metadata": {
        "id": "dGIF3fIs9Ze0"
      },
      "source": [
        "def classification_metrics(y_actual,y_pred):\n",
        "  precision=precision_score(y_actual,y_pred)\n",
        "  recall=recall_score(y_actual,y_pred)\n",
        "  fb=fbeta_score(y_actual,y_pred, beta=1)\n",
        "  print('precision:{}, recall: {}, f1_Score: {}'. format(round(precision,2),round(recall,2),round(fb,2)))\n",
        "  return(precision,recall,fb)"
      ],
      "execution_count": 205,
      "outputs": []
    },
    {
      "cell_type": "code",
      "metadata": {
        "colab": {
          "base_uri": "https://localhost:8080/"
        },
        "id": "SIulU0O7EM3s",
        "outputId": "0d790da6-8c3c-4414-d271-d7aa83e4bae8"
      },
      "source": [
        "thresholds_curve=[]\n",
        "prec=[]\n",
        "recall=[]\n",
        "fb=[]\n",
        "for threshold in range(10,100,10):\n",
        "  trsh=threshold/100\n",
        "  y_pred_train=proba_class(y_train_proba, trsh)\n",
        "  print('Threshold:{}'.format(trsh))\n",
        "  p,r,f= classification_metrics(y_train, y_pred_train)\n",
        "  thresholds_curve.append(trsh)\n",
        "  prec.append(p)\n",
        "  recall.append(r)\n",
        "  fb.append(f)\n"
      ],
      "execution_count": 206,
      "outputs": [
        {
          "output_type": "stream",
          "name": "stdout",
          "text": [
            "Threshold:0.1\n",
            "precision:0.4, recall: 0.95, f1_Score: 0.56\n",
            "Threshold:0.2\n",
            "precision:0.47, recall: 0.86, f1_Score: 0.61\n",
            "Threshold:0.3\n",
            "precision:0.54, recall: 0.77, f1_Score: 0.64\n",
            "Threshold:0.4\n",
            "precision:0.6, recall: 0.66, f1_Score: 0.63\n",
            "Threshold:0.5\n",
            "precision:0.66, recall: 0.55, f1_Score: 0.6\n",
            "Threshold:0.6\n",
            "precision:0.72, recall: 0.4, f1_Score: 0.51\n",
            "Threshold:0.7\n",
            "precision:0.8, recall: 0.21, f1_Score: 0.33\n",
            "Threshold:0.8\n",
            "precision:0.97, recall: 0.03, f1_Score: 0.05\n",
            "Threshold:0.9\n",
            "precision:0.0, recall: 0.0, f1_Score: 0.0\n"
          ]
        },
        {
          "output_type": "stream",
          "name": "stderr",
          "text": [
            "/usr/local/lib/python3.7/dist-packages/sklearn/metrics/_classification.py:1308: UndefinedMetricWarning: Precision is ill-defined and being set to 0.0 due to no predicted samples. Use `zero_division` parameter to control this behavior.\n",
            "  _warn_prf(average, modifier, msg_start, len(result))\n"
          ]
        }
      ]
    },
    {
      "cell_type": "code",
      "metadata": {
        "colab": {
          "base_uri": "https://localhost:8080/",
          "height": 279
        },
        "id": "4NtjZaxAG3kf",
        "outputId": "2f614504-e59c-4d29-dc9b-c28e946e244c"
      },
      "source": [
        "sns.lineplot(x= thresholds_curve, y= prec)\n",
        "sns.lineplot(x= thresholds_curve, y= recall)\n",
        "plt.xlabel('Threshold')\n",
        "plt.ylabel('PRC')\n",
        "plt.show()"
      ],
      "execution_count": 207,
      "outputs": [
        {
          "output_type": "display_data",
          "data": {
            "image/png": "[encoded data removed]",
            "text/plain": [
              "<Figure size 432x288 with 1 Axes>"
            ]
          },
          "metadata": {
            "needs_background": "light"
          }
        }
      ]
    },
    {
      "cell_type": "code",
      "metadata": {
        "colab": {
          "base_uri": "https://localhost:8080/"
        },
        "id": "lcYh0MjOHIb4",
        "outputId": "c4bb2552-3228-46c7-fc72-e6155965f78f"
      },
      "source": [
        "y_pred_train= proba_class(y_train_proba,0.45)\n",
        "confusion_matrix(y_train,y_pred_train)"
      ],
      "execution_count": 208,
      "outputs": [
        {
          "output_type": "execute_result",
          "data": {
            "text/plain": [
              "array([[3379,  501],\n",
              "       [ 551,  851]])"
            ]
          },
          "metadata": {},
          "execution_count": 208
        }
      ]
    },
    {
      "cell_type": "code",
      "metadata": {
        "colab": {
          "base_uri": "https://localhost:8080/"
        },
        "id": "zpwzI7GtJEfz",
        "outputId": "50b72bb0-c9f7-4291-f705-6cf7ca28c94d"
      },
      "source": [
        "y_pred_train= proba_class(y_train_proba,0.50)\n",
        "confusion_matrix(y_train,y_pred_train)"
      ],
      "execution_count": 209,
      "outputs": [
        {
          "output_type": "execute_result",
          "data": {
            "text/plain": [
              "array([[3486,  394],\n",
              "       [ 627,  775]])"
            ]
          },
          "metadata": {},
          "execution_count": 209
        }
      ]
    },
    {
      "cell_type": "code",
      "metadata": {
        "colab": {
          "base_uri": "https://localhost:8080/",
          "height": 333
        },
        "id": "5lJaSfqJJadx",
        "outputId": "88ea1d58-f51a-44d9-a166-41bb8746a63c"
      },
      "source": [
        "plot_confusion_matrix(model,X_train,y_train)\n",
        "plt.show()"
      ],
      "execution_count": 210,
      "outputs": [
        {
          "output_type": "stream",
          "name": "stderr",
          "text": [
            "/usr/local/lib/python3.7/dist-packages/sklearn/utils/deprecation.py:87: FutureWarning: Function plot_confusion_matrix is deprecated; Function `plot_confusion_matrix` is deprecated in 1.0 and will be removed in 1.2. Use one of the class methods: ConfusionMatrixDisplay.from_predictions or ConfusionMatrixDisplay.from_estimator.\n",
            "  warnings.warn(msg, category=FutureWarning)\n"
          ]
        },
        {
          "output_type": "display_data",
          "data": {
            "image/png": "[encoded data removed]",
            "text/plain": [
              "<Figure size 432x288 with 2 Axes>"
            ]
          },
          "metadata": {
            "needs_background": "light"
          }
        }
      ]
    },
    {
      "cell_type": "code",
      "metadata": {
        "colab": {
          "base_uri": "https://localhost:8080/"
        },
        "id": "KFvNPEjJHx0B",
        "outputId": "aec58dc6-49c4-4333-8f75-2a2b15c5e1bd"
      },
      "source": [
        "for threshold in range (10,100,10):\n",
        "  trsh=threshold/100\n",
        "  y_pred_test=proba_class(y_test_proba,trsh)\n",
        "  print('Threshold:{}'.format(trsh))\n",
        "  classification_metrics(y_test, y_pred_test) "
      ],
      "execution_count": 211,
      "outputs": [
        {
          "output_type": "stream",
          "name": "stdout",
          "text": [
            "Threshold:0.1\n",
            "precision:0.41, recall: 0.95, f1_Score: 0.57\n",
            "Threshold:0.2\n",
            "precision:0.48, recall: 0.86, f1_Score: 0.61\n",
            "Threshold:0.3\n",
            "precision:0.53, recall: 0.76, f1_Score: 0.63\n",
            "Threshold:0.4\n",
            "precision:0.59, recall: 0.68, f1_Score: 0.63\n",
            "Threshold:0.5\n",
            "precision:0.66, recall: 0.55, f1_Score: 0.6\n",
            "Threshold:0.6\n",
            "precision:0.7, recall: 0.38, f1_Score: 0.5\n",
            "Threshold:0.7\n",
            "precision:0.75, recall: 0.2, f1_Score: 0.32\n",
            "Threshold:0.8\n",
            "precision:0.77, recall: 0.02, f1_Score: 0.04\n",
            "Threshold:0.9\n",
            "precision:0.0, recall: 0.0, f1_Score: 0.0\n"
          ]
        },
        {
          "output_type": "stream",
          "name": "stderr",
          "text": [
            "/usr/local/lib/python3.7/dist-packages/sklearn/metrics/_classification.py:1308: UndefinedMetricWarning: Precision is ill-defined and being set to 0.0 due to no predicted samples. Use `zero_division` parameter to control this behavior.\n",
            "  _warn_prf(average, modifier, msg_start, len(result))\n"
          ]
        }
      ]
    },
    {
      "cell_type": "code",
      "metadata": {
        "colab": {
          "base_uri": "https://localhost:8080/"
        },
        "id": "BAW0Ye-vH2EQ",
        "outputId": "23b5a783-289d-4672-e9b1-8422c5b51778"
      },
      "source": [
        "thresholds_curve_test=[]\n",
        "prec_test=[]\n",
        "recall_test=[]\n",
        "fb_test=[]\n",
        "for threshold in range (10,100,10):\n",
        "  trsh=threshold/100\n",
        "  y_pred_test=proba_class(y_test_proba,trsh)\n",
        "  print('Threshold:{}'.format(trsh))\n",
        "  p,r,f=classification_metrics(y_test, y_pred_test)\n",
        "  thresholds_curve_test.append(trsh)\n",
        "  prec_test.append(p)\n",
        "  recall_test.append(r)\n",
        "  fb_test.append(f)"
      ],
      "execution_count": 212,
      "outputs": [
        {
          "output_type": "stream",
          "name": "stdout",
          "text": [
            "Threshold:0.1\n",
            "precision:0.41, recall: 0.95, f1_Score: 0.57\n",
            "Threshold:0.2\n",
            "precision:0.48, recall: 0.86, f1_Score: 0.61\n",
            "Threshold:0.3\n",
            "precision:0.53, recall: 0.76, f1_Score: 0.63\n",
            "Threshold:0.4\n",
            "precision:0.59, recall: 0.68, f1_Score: 0.63\n",
            "Threshold:0.5\n",
            "precision:0.66, recall: 0.55, f1_Score: 0.6\n",
            "Threshold:0.6\n",
            "precision:0.7, recall: 0.38, f1_Score: 0.5\n",
            "Threshold:0.7\n",
            "precision:0.75, recall: 0.2, f1_Score: 0.32\n",
            "Threshold:0.8\n",
            "precision:0.77, recall: 0.02, f1_Score: 0.04\n",
            "Threshold:0.9\n",
            "precision:0.0, recall: 0.0, f1_Score: 0.0\n"
          ]
        },
        {
          "output_type": "stream",
          "name": "stderr",
          "text": [
            "/usr/local/lib/python3.7/dist-packages/sklearn/metrics/_classification.py:1308: UndefinedMetricWarning: Precision is ill-defined and being set to 0.0 due to no predicted samples. Use `zero_division` parameter to control this behavior.\n",
            "  _warn_prf(average, modifier, msg_start, len(result))\n"
          ]
        }
      ]
    },
    {
      "cell_type": "code",
      "metadata": {
        "colab": {
          "base_uri": "https://localhost:8080/",
          "height": 279
        },
        "id": "7SM3a_amH-wR",
        "outputId": "6fb80322-d6a1-4aef-a1ea-94b083d8939b"
      },
      "source": [
        "sns.lineplot(x= thresholds_curve_test, y= prec_test)\n",
        "sns.lineplot(x= thresholds_curve_test, y= recall_test)\n",
        "plt.xlabel('Threshold')\n",
        "plt.ylabel('PRC')\n",
        "plt.show()"
      ],
      "execution_count": 213,
      "outputs": [
        {
          "output_type": "display_data",
          "data": {
            "image/png": "[encoded data removed]",
            "text/plain": [
              "<Figure size 432x288 with 1 Axes>"
            ]
          },
          "metadata": {
            "needs_background": "light"
          }
        }
      ]
    },
    {
      "cell_type": "markdown",
      "metadata": {
        "id": "Y3L3XcUITi0y"
      },
      "source": [
        "## Decison Tree"
      ]
    },
    {
      "cell_type": "code",
      "metadata": {
        "id": "Gh3r8Q12vM0E"
      },
      "source": [
        "from sklearn.tree import DecisionTreeClassifier"
      ],
      "execution_count": 214,
      "outputs": []
    },
    {
      "cell_type": "code",
      "metadata": {
        "colab": {
          "base_uri": "https://localhost:8080/"
        },
        "id": "JlaGe7AovIVu",
        "outputId": "864999af-fefc-40bf-cc86-2443e09ceb96"
      },
      "source": [
        "clf= DecisionTreeClassifier(random_state=26)\n",
        "clf.fit(X_train,y_train)\n",
        "y_train_predict=clf.predict(X_train)\n",
        "y_test_predict=clf.predict(X_test)\n",
        "print(metrics.classification_report(y_train,y_train_predict))\n",
        "print(metrics.classification_report(y_test,y_test_predict))"
      ],
      "execution_count": 215,
      "outputs": [
        {
          "output_type": "stream",
          "name": "stdout",
          "text": [
            "              precision    recall  f1-score   support\n",
            "\n",
            "           0       1.00      1.00      1.00      3880\n",
            "           1       1.00      0.99      1.00      1402\n",
            "\n",
            "    accuracy                           1.00      5282\n",
            "   macro avg       1.00      1.00      1.00      5282\n",
            "weighted avg       1.00      1.00      1.00      5282\n",
            "\n",
            "              precision    recall  f1-score   support\n",
            "\n",
            "           0       0.83      0.82      0.82      1294\n",
            "           1       0.51      0.52      0.51       467\n",
            "\n",
            "    accuracy                           0.74      1761\n",
            "   macro avg       0.67      0.67      0.67      1761\n",
            "weighted avg       0.74      0.74      0.74      1761\n",
            "\n"
          ]
        }
      ]
    },
    {
      "cell_type": "code",
      "metadata": {
        "id": "9yrUSM9lVifz"
      },
      "source": [
        "param_grids = {\n",
        "    'max_depth':np.arange(2,10),\n",
        "    'class_weight':[None,'balanced'],\n",
        "    'ccp_alpha':[0.1,0.01,0.001,0.0001,1,2,5,10],\n",
        "    'criterion':['gini','entropy']\n",
        "}"
      ],
      "execution_count": 216,
      "outputs": []
    },
    {
      "cell_type": "code",
      "metadata": {
        "colab": {
          "base_uri": "https://localhost:8080/"
        },
        "id": "kcXkecCbWCBC",
        "outputId": "c3459a7f-4fbb-4878-c6b0-f9d65c34a6d1"
      },
      "source": [
        "clf = GridSearchCV(DecisionTreeClassifier(),param_grid=param_grids, cv= 5,scoring='f1_macro',n_jobs = -1)\n",
        "clf.fit(X_train,y_train)"
      ],
      "execution_count": 217,
      "outputs": [
        {
          "output_type": "execute_result",
          "data": {
            "text/plain": [
              "GridSearchCV(cv=5, estimator=DecisionTreeClassifier(), n_jobs=-1,\n",
              "             param_grid={'ccp_alpha': [0.1, 0.01, 0.001, 0.0001, 1, 2, 5, 10],\n",
              "                         'class_weight': [None, 'balanced'],\n",
              "                         'criterion': ['gini', 'entropy'],\n",
              "                         'max_depth': array([2, 3, 4, 5, 6, 7, 8, 9])},\n",
              "             scoring='f1_macro')"
            ]
          },
          "metadata": {},
          "execution_count": 217
        }
      ]
    },
    {
      "cell_type": "code",
      "metadata": {
        "colab": {
          "base_uri": "https://localhost:8080/"
        },
        "id": "SlVIw07IWa16",
        "outputId": "3522e525-f4c6-4c2e-a075-edffbbc70b6c"
      },
      "source": [
        "print(clf.best_params_)"
      ],
      "execution_count": 218,
      "outputs": [
        {
          "output_type": "stream",
          "name": "stdout",
          "text": [
            "{'ccp_alpha': 0.001, 'class_weight': None, 'criterion': 'entropy', 'max_depth': 6}\n"
          ]
        }
      ]
    },
    {
      "cell_type": "code",
      "metadata": {
        "colab": {
          "base_uri": "https://localhost:8080/"
        },
        "id": "DGNKYJkKXUEn",
        "outputId": "f86d9b0c-3960-4eb6-bd78-b241888cf5cf"
      },
      "source": [
        "clf= DecisionTreeClassifier(ccp_alpha=0.001, class_weight=None, criterion='entropy', max_depth=6,random_state=26)\n",
        "clf.fit(X_train,y_train)\n",
        "y_train_predict=clf.predict(X_train)\n",
        "y_test_predict=clf.predict(X_test)\n",
        "print(metrics.classification_report(y_train,y_train_predict))\n",
        "print(metrics.classification_report(y_test,y_test_predict))"
      ],
      "execution_count": 219,
      "outputs": [
        {
          "output_type": "stream",
          "name": "stdout",
          "text": [
            "              precision    recall  f1-score   support\n",
            "\n",
            "           0       0.86      0.87      0.87      3880\n",
            "           1       0.63      0.61      0.62      1402\n",
            "\n",
            "    accuracy                           0.80      5282\n",
            "   macro avg       0.75      0.74      0.74      5282\n",
            "weighted avg       0.80      0.80      0.80      5282\n",
            "\n",
            "              precision    recall  f1-score   support\n",
            "\n",
            "           0       0.86      0.86      0.86      1294\n",
            "           1       0.61      0.60      0.60       467\n",
            "\n",
            "    accuracy                           0.79      1761\n",
            "   macro avg       0.73      0.73      0.73      1761\n",
            "weighted avg       0.79      0.79      0.79      1761\n",
            "\n"
          ]
        }
      ]
    },
    {
      "cell_type": "markdown",
      "metadata": {
        "id": "bgOPfrsXhR1x"
      },
      "source": [
        "## Random Forest"
      ]
    },
    {
      "cell_type": "code",
      "metadata": {
        "colab": {
          "base_uri": "https://localhost:8080/"
        },
        "id": "OXJQ91ymhPtL",
        "outputId": "3f0a0856-08c7-4a05-f8c1-d048b5c5f647"
      },
      "source": [
        "rndf= RandomForestClassifier(random_state=26)\n",
        "rndf.fit(X_train,y_train)\n",
        "y_train_predict=rndf.predict(X_train)\n",
        "y_test_predict=rndf.predict(X_test)\n",
        "print(metrics.classification_report(y_train,y_train_predict))\n",
        "print(metrics.classification_report(y_test,y_test_predict))"
      ],
      "execution_count": 220,
      "outputs": [
        {
          "output_type": "stream",
          "name": "stdout",
          "text": [
            "              precision    recall  f1-score   support\n",
            "\n",
            "           0       1.00      1.00      1.00      3880\n",
            "           1       1.00      0.99      1.00      1402\n",
            "\n",
            "    accuracy                           1.00      5282\n",
            "   macro avg       1.00      1.00      1.00      5282\n",
            "weighted avg       1.00      1.00      1.00      5282\n",
            "\n",
            "              precision    recall  f1-score   support\n",
            "\n",
            "           0       0.83      0.90      0.86      1294\n",
            "           1       0.64      0.49      0.55       467\n",
            "\n",
            "    accuracy                           0.79      1761\n",
            "   macro avg       0.74      0.69      0.71      1761\n",
            "weighted avg       0.78      0.79      0.78      1761\n",
            "\n"
          ]
        }
      ]
    },
    {
      "cell_type": "code",
      "metadata": {
        "id": "a51pretliAar"
      },
      "source": [
        "params= {'n_estimators': [50,100,110],\n",
        "         'max_depth': [15,25,40,50],\n",
        "         'class_weight': [None,'balanced'],\n",
        "         'ccp_alpha':[0.1,0.01,0.001,0.0001,1,2,5,10],\n",
        "         'criterion':['gini','entropy']}"
      ],
      "execution_count": 221,
      "outputs": []
    },
    {
      "cell_type": "code",
      "metadata": {
        "colab": {
          "base_uri": "https://localhost:8080/"
        },
        "id": "TpDkleWeiOvg",
        "outputId": "e37746a2-2039-43c4-d501-c4424355e2de"
      },
      "source": [
        "grid_model= GridSearchCV(RandomForestClassifier(),param_grid =params,scoring='f1_macro',cv=5,verbose=0,n_jobs=-1)\n",
        "grid_model.fit(X_train,y_train)"
      ],
      "execution_count": 222,
      "outputs": [
        {
          "output_type": "execute_result",
          "data": {
            "text/plain": [
              "GridSearchCV(cv=5, estimator=RandomForestClassifier(), n_jobs=-1,\n",
              "             param_grid={'ccp_alpha': [0.1, 0.01, 0.001, 0.0001, 1, 2, 5, 10],\n",
              "                         'class_weight': [None, 'balanced'],\n",
              "                         'criterion': ['gini', 'entropy'],\n",
              "                         'max_depth': [15, 25, 40, 50],\n",
              "                         'n_estimators': [50, 100, 110]},\n",
              "             scoring='f1_macro')"
            ]
          },
          "metadata": {},
          "execution_count": 222
        }
      ]
    },
    {
      "cell_type": "code",
      "metadata": {
        "colab": {
          "base_uri": "https://localhost:8080/"
        },
        "id": "lwi72nqHyJRj",
        "outputId": "5a8f6a70-2c8c-4e0c-95a7-38efde5590f2"
      },
      "source": [
        "print(grid_model.best_params_)"
      ],
      "execution_count": 223,
      "outputs": [
        {
          "output_type": "stream",
          "name": "stdout",
          "text": [
            "{'ccp_alpha': 0.001, 'class_weight': 'balanced', 'criterion': 'entropy', 'max_depth': 15, 'n_estimators': 110}\n"
          ]
        }
      ]
    },
    {
      "cell_type": "code",
      "metadata": {
        "colab": {
          "base_uri": "https://localhost:8080/"
        },
        "id": "sPT5WQdfiq4z",
        "outputId": "c6efecc2-625d-45a9-d9f4-99fd4994e8db"
      },
      "source": [
        "rndf= RandomForestClassifier(ccp_alpha=0.001, class_weight='balanced',n_estimators=100,criterion='entropy', max_depth=15,random_state=26)\n",
        "rndf.fit(X_train,y_train)\n",
        "y_train_predict=rndf.predict(X_train)\n",
        "y_test_predict=rndf.predict(X_test)\n",
        "print(metrics.classification_report(y_train,y_train_predict))\n",
        "print(metrics.classification_report(y_test,y_test_predict))"
      ],
      "execution_count": 224,
      "outputs": [
        {
          "output_type": "stream",
          "name": "stdout",
          "text": [
            "              precision    recall  f1-score   support\n",
            "\n",
            "           0       0.95      0.83      0.89      3880\n",
            "           1       0.66      0.87      0.75      1402\n",
            "\n",
            "    accuracy                           0.84      5282\n",
            "   macro avg       0.80      0.85      0.82      5282\n",
            "weighted avg       0.87      0.84      0.85      5282\n",
            "\n",
            "              precision    recall  f1-score   support\n",
            "\n",
            "           0       0.90      0.79      0.84      1294\n",
            "           1       0.56      0.75      0.64       467\n",
            "\n",
            "    accuracy                           0.78      1761\n",
            "   macro avg       0.73      0.77      0.74      1761\n",
            "weighted avg       0.81      0.78      0.79      1761\n",
            "\n"
          ]
        }
      ]
    },
    {
      "cell_type": "markdown",
      "metadata": {
        "id": "zpFuQYW_0L9u"
      },
      "source": [
        "##XgBoost"
      ]
    },
    {
      "cell_type": "code",
      "metadata": {
        "colab": {
          "base_uri": "https://localhost:8080/"
        },
        "id": "uAhCk_M_207j",
        "outputId": "b339abdc-e33c-4240-8f9e-d9346f9e4e80"
      },
      "source": [
        "boost=xgboost.XGBClassifier(random_state=26)\n",
        "boost.fit(X_train,y_train)\n",
        "y_train_predict=rndf.predict(X_train)\n",
        "y_test_predict=rndf.predict(X_test)\n",
        "print(metrics.classification_report(y_train,y_train_predict))\n",
        "print(metrics.classification_report(y_test,y_test_predict))"
      ],
      "execution_count": 225,
      "outputs": [
        {
          "output_type": "stream",
          "name": "stdout",
          "text": [
            "              precision    recall  f1-score   support\n",
            "\n",
            "           0       0.95      0.83      0.89      3880\n",
            "           1       0.66      0.87      0.75      1402\n",
            "\n",
            "    accuracy                           0.84      5282\n",
            "   macro avg       0.80      0.85      0.82      5282\n",
            "weighted avg       0.87      0.84      0.85      5282\n",
            "\n",
            "              precision    recall  f1-score   support\n",
            "\n",
            "           0       0.90      0.79      0.84      1294\n",
            "           1       0.56      0.75      0.64       467\n",
            "\n",
            "    accuracy                           0.78      1761\n",
            "   macro avg       0.73      0.77      0.74      1761\n",
            "weighted avg       0.81      0.78      0.79      1761\n",
            "\n"
          ]
        }
      ]
    },
    {
      "cell_type": "code",
      "metadata": {
        "id": "bL38gbni0ew_"
      },
      "source": [
        "xgb={\n",
        "    'max_depth': [3,5,7,9], #[3,5]\n",
        "    'learning_rate':[0.05,0.5,0.6,0.06], #[]\n",
        "    'n_estimators':[10,20,30,40],\n",
        "    'scale_pos_weight':[1,2,3,5], #adding penalty to smaller class in imbalanced datas #[0.5,1,3,5,]\n",
        "    'reg_lambda': [1,2,3,5,10]\n",
        "}\n",
        "\n",
        "# if imbalanced data use AUC for evaluation"
      ],
      "execution_count": 226,
      "outputs": []
    },
    {
      "cell_type": "code",
      "metadata": {
        "colab": {
          "base_uri": "https://localhost:8080/"
        },
        "id": "y3VIxcKY0xN1",
        "outputId": "8bfe6ba2-e077-44ed-9444-b9473de24493"
      },
      "source": [
        "grid_model1= GridSearchCV(boost,param_grid=xgb,scoring='f1_macro',cv=5,n_jobs=-1)\n",
        "grid_model1.fit(X_train,y_train)"
      ],
      "execution_count": 227,
      "outputs": [
        {
          "output_type": "execute_result",
          "data": {
            "text/plain": [
              "GridSearchCV(cv=5, estimator=XGBClassifier(random_state=26), n_jobs=-1,\n",
              "             param_grid={'learning_rate': [0.05, 0.5, 0.6, 0.06],\n",
              "                         'max_depth': [3, 5, 7, 9],\n",
              "                         'n_estimators': [10, 20, 30, 40],\n",
              "                         'reg_lambda': [1, 2, 3, 5, 10],\n",
              "                         'scale_pos_weight': [1, 2, 3, 5]},\n",
              "             scoring='f1_macro')"
            ]
          },
          "metadata": {},
          "execution_count": 227
        }
      ]
    },
    {
      "cell_type": "code",
      "metadata": {
        "colab": {
          "base_uri": "https://localhost:8080/"
        },
        "id": "VEN-auXLHAS2",
        "outputId": "84b6306c-6678-41e2-a881-7d673503ab4a"
      },
      "source": [
        "import sklearn\n",
        "sklearn.metrics.SCORERS.keys()"
      ],
      "execution_count": 228,
      "outputs": [
        {
          "output_type": "execute_result",
          "data": {
            "text/plain": [
              "dict_keys(['explained_variance', 'r2', 'max_error', 'neg_median_absolute_error', 'neg_mean_absolute_error', 'neg_mean_absolute_percentage_error', 'neg_mean_squared_error', 'neg_mean_squared_log_error', 'neg_root_mean_squared_error', 'neg_mean_poisson_deviance', 'neg_mean_gamma_deviance', 'accuracy', 'top_k_accuracy', 'roc_auc', 'roc_auc_ovr', 'roc_auc_ovo', 'roc_auc_ovr_weighted', 'roc_auc_ovo_weighted', 'balanced_accuracy', 'average_precision', 'neg_log_loss', 'neg_brier_score', 'adjusted_rand_score', 'rand_score', 'homogeneity_score', 'completeness_score', 'v_measure_score', 'mutual_info_score', 'adjusted_mutual_info_score', 'normalized_mutual_info_score', 'fowlkes_mallows_score', 'precision', 'precision_macro', 'precision_micro', 'precision_samples', 'precision_weighted', 'recall', 'recall_macro', 'recall_micro', 'recall_samples', 'recall_weighted', 'f1', 'f1_macro', 'f1_micro', 'f1_samples', 'f1_weighted', 'jaccard', 'jaccard_macro', 'jaccard_micro', 'jaccard_samples', 'jaccard_weighted'])"
            ]
          },
          "metadata": {},
          "execution_count": 228
        }
      ]
    },
    {
      "cell_type": "code",
      "metadata": {
        "colab": {
          "base_uri": "https://localhost:8080/"
        },
        "id": "6WCSNBkf7G7F",
        "outputId": "34a3f745-1291-4fed-b1f4-f7c66514b964"
      },
      "source": [
        "print(grid_model1.best_params_)"
      ],
      "execution_count": 229,
      "outputs": [
        {
          "output_type": "stream",
          "name": "stdout",
          "text": [
            "{'learning_rate': 0.6, 'max_depth': 3, 'n_estimators': 20, 'reg_lambda': 5, 'scale_pos_weight': 2}\n"
          ]
        }
      ]
    },
    {
      "cell_type": "code",
      "metadata": {
        "id": "5hFXCSh2FXa3"
      },
      "source": [
        "xgb={\n",
        "    'max_depth': [3,4,5,6,7], #[3,5]\n",
        "    'learning_rate':[0.6,0.06], #[]\n",
        "    'n_estimators':[10,20,25,30],\n",
        "    'scale_pos_weight':[2], #adding penalty to smaller class in imbalanced datas #[0.5,1,3,5,]\n",
        "    'reg_lambda': [5]\n",
        "}"
      ],
      "execution_count": 230,
      "outputs": []
    },
    {
      "cell_type": "code",
      "metadata": {
        "colab": {
          "base_uri": "https://localhost:8080/"
        },
        "id": "2WehTzeDGG21",
        "outputId": "92e5e3b6-a59d-41c8-a5d5-1d07f9fdb5f5"
      },
      "source": [
        "grid_model1= GridSearchCV(boost,param_grid=xgb,scoring='f1_macro',cv=5,n_jobs=-1)\n",
        "grid_model1.fit(X_train,y_train)"
      ],
      "execution_count": 231,
      "outputs": [
        {
          "output_type": "execute_result",
          "data": {
            "text/plain": [
              "GridSearchCV(cv=5, estimator=XGBClassifier(random_state=26), n_jobs=-1,\n",
              "             param_grid={'learning_rate': [0.6, 0.06],\n",
              "                         'max_depth': [3, 4, 5, 6, 7],\n",
              "                         'n_estimators': [10, 20, 25, 30], 'reg_lambda': [5],\n",
              "                         'scale_pos_weight': [2]},\n",
              "             scoring='f1_macro')"
            ]
          },
          "metadata": {},
          "execution_count": 231
        }
      ]
    },
    {
      "cell_type": "code",
      "metadata": {
        "colab": {
          "base_uri": "https://localhost:8080/"
        },
        "id": "XXr3nVrfGbXO",
        "outputId": "2ec3990e-1909-464c-f7fd-738574845769"
      },
      "source": [
        "print(grid_model1.best_params_)"
      ],
      "execution_count": 232,
      "outputs": [
        {
          "output_type": "stream",
          "name": "stdout",
          "text": [
            "{'learning_rate': 0.6, 'max_depth': 3, 'n_estimators': 20, 'reg_lambda': 5, 'scale_pos_weight': 2}\n"
          ]
        }
      ]
    },
    {
      "cell_type": "code",
      "metadata": {
        "colab": {
          "base_uri": "https://localhost:8080/"
        },
        "id": "ldEyXwU6G_OI",
        "outputId": "eca525b7-020a-4170-8e0c-d0eee020e762"
      },
      "source": [
        "boost=xgboost.XGBClassifier(max_depth=3 ,learning_rate= 0.6, n_estimators=20,scale_pos_weight=2, reg_lambda=5,n_jobs=-1,random_state=26)\n",
        "boost.fit(X_train,y_train,early_stopping_rounds=10,eval_metric='aucpr', eval_set=[(X_test,y_test)])\n",
        "y_train_predict=rndf.predict(X_train)\n",
        "y_test_predict=rndf.predict(X_test)\n",
        "print(metrics.classification_report(y_train,y_train_predict))\n",
        "print(metrics.classification_report(y_test,y_test_predict))"
      ],
      "execution_count": 233,
      "outputs": [
        {
          "output_type": "stream",
          "name": "stdout",
          "text": [
            "[0]\tvalidation_0-aucpr:0.501402\n",
            "Will train until validation_0-aucpr hasn't improved in 10 rounds.\n",
            "[1]\tvalidation_0-aucpr:0.584127\n",
            "[2]\tvalidation_0-aucpr:0.589334\n",
            "[3]\tvalidation_0-aucpr:0.628297\n",
            "[4]\tvalidation_0-aucpr:0.635177\n",
            "[5]\tvalidation_0-aucpr:0.638341\n",
            "[6]\tvalidation_0-aucpr:0.639886\n",
            "[7]\tvalidation_0-aucpr:0.640604\n",
            "[8]\tvalidation_0-aucpr:0.645173\n",
            "[9]\tvalidation_0-aucpr:0.643359\n",
            "[10]\tvalidation_0-aucpr:0.643775\n",
            "[11]\tvalidation_0-aucpr:0.640791\n",
            "[12]\tvalidation_0-aucpr:0.640363\n",
            "[13]\tvalidation_0-aucpr:0.638326\n",
            "[14]\tvalidation_0-aucpr:0.636985\n",
            "[15]\tvalidation_0-aucpr:0.636619\n",
            "[16]\tvalidation_0-aucpr:0.640795\n",
            "[17]\tvalidation_0-aucpr:0.636564\n",
            "[18]\tvalidation_0-aucpr:0.632021\n",
            "Stopping. Best iteration:\n",
            "[8]\tvalidation_0-aucpr:0.645173\n",
            "\n",
            "              precision    recall  f1-score   support\n",
            "\n",
            "           0       0.95      0.83      0.89      3880\n",
            "           1       0.66      0.87      0.75      1402\n",
            "\n",
            "    accuracy                           0.84      5282\n",
            "   macro avg       0.80      0.85      0.82      5282\n",
            "weighted avg       0.87      0.84      0.85      5282\n",
            "\n",
            "              precision    recall  f1-score   support\n",
            "\n",
            "           0       0.90      0.79      0.84      1294\n",
            "           1       0.56      0.75      0.64       467\n",
            "\n",
            "    accuracy                           0.78      1761\n",
            "   macro avg       0.73      0.77      0.74      1761\n",
            "weighted avg       0.81      0.78      0.79      1761\n",
            "\n"
          ]
        }
      ]
    },
    {
      "cell_type": "code",
      "metadata": {
        "colab": {
          "base_uri": "https://localhost:8080/"
        },
        "id": "U92pxl7IE9DO",
        "outputId": "c040cf69-47d0-474b-ff2e-9c5ef5d10cd7"
      },
      "source": [
        "boost=xgboost.XGBClassifier(max_depth=3 ,learning_rate= 0.6, n_estimators=20,scale_pos_weight=2, reg_lambda=5,n_jobs=-1,random_state=26)\n",
        "boost.fit(X_train,y_train)\n",
        "y_train_predict=rndf.predict(X_train)\n",
        "y_test_predict=rndf.predict(X_test)\n",
        "print(metrics.classification_report(y_train,y_train_predict))\n",
        "print(metrics.classification_report(y_test,y_test_predict))"
      ],
      "execution_count": 234,
      "outputs": [
        {
          "output_type": "stream",
          "name": "stdout",
          "text": [
            "              precision    recall  f1-score   support\n",
            "\n",
            "           0       0.95      0.83      0.89      3880\n",
            "           1       0.66      0.87      0.75      1402\n",
            "\n",
            "    accuracy                           0.84      5282\n",
            "   macro avg       0.80      0.85      0.82      5282\n",
            "weighted avg       0.87      0.84      0.85      5282\n",
            "\n",
            "              precision    recall  f1-score   support\n",
            "\n",
            "           0       0.90      0.79      0.84      1294\n",
            "           1       0.56      0.75      0.64       467\n",
            "\n",
            "    accuracy                           0.78      1761\n",
            "   macro avg       0.73      0.77      0.74      1761\n",
            "weighted avg       0.81      0.78      0.79      1761\n",
            "\n"
          ]
        }
      ]
    },
    {
      "cell_type": "code",
      "metadata": {
        "id": "w3dZ2z597y4s"
      },
      "source": [
        "############## XgBoost ###########"
      ],
      "execution_count": 235,
      "outputs": []
    },
    {
      "cell_type": "code",
      "metadata": {
        "colab": {
          "base_uri": "https://localhost:8080/"
        },
        "id": "2k6PHFG3-UhH",
        "outputId": "6e36e53f-56ed-40fb-bf67-501615900ec3"
      },
      "source": [
        "clf_xgb=xgboost.XGBClassifier(seed=26, objective='binary:logistic', gamma=0.25, learning_rate=0.1, max_depth=4, reg_lambda=10,\n",
        "                          scale_pos_weight=3, subsample=0.9, colsample_bytree=0.5, n_jobs=-1)\n",
        "\n",
        "clf_xgb.fit(X_train, y_train, verbose=0, early_stopping_rounds=10, eval_metric='aucpr', eval_set=[(X_test,y_test)])"
      ],
      "execution_count": 236,
      "outputs": [
        {
          "output_type": "execute_result",
          "data": {
            "text/plain": [
              "XGBClassifier(colsample_bytree=0.5, gamma=0.25, max_depth=4, n_jobs=-1,\n",
              "              reg_lambda=10, scale_pos_weight=3, seed=26, subsample=0.9)"
            ]
          },
          "metadata": {},
          "execution_count": 236
        }
      ]
    },
    {
      "cell_type": "code",
      "metadata": {
        "colab": {
          "base_uri": "https://localhost:8080/",
          "height": 350
        },
        "id": "iOqhkjct_5qo",
        "outputId": "f6e7fbac-be4a-4467-8f62-ec8b12002491"
      },
      "source": [
        "plot_confusion_matrix(clf_xgb,X_test,y_test,values_format='d',display_labels=['Did not leave','Left'])"
      ],
      "execution_count": 237,
      "outputs": [
        {
          "output_type": "stream",
          "name": "stderr",
          "text": [
            "/usr/local/lib/python3.7/dist-packages/sklearn/utils/deprecation.py:87: FutureWarning: Function plot_confusion_matrix is deprecated; Function `plot_confusion_matrix` is deprecated in 1.0 and will be removed in 1.2. Use one of the class methods: ConfusionMatrixDisplay.from_predictions or ConfusionMatrixDisplay.from_estimator.\n",
            "  warnings.warn(msg, category=FutureWarning)\n"
          ]
        },
        {
          "output_type": "execute_result",
          "data": {
            "text/plain": [
              "<sklearn.metrics._plot.confusion_matrix.ConfusionMatrixDisplay at 0x7f121d7985d0>"
            ]
          },
          "metadata": {},
          "execution_count": 237
        },
        {
          "output_type": "display_data",
          "data": {
            "image/png": "[encoded data removed]",
            "text/plain": [
              "<Figure size 432x288 with 2 Axes>"
            ]
          },
          "metadata": {
            "needs_background": "light"
          }
        }
      ]
    },
    {
      "cell_type": "code",
      "metadata": {
        "colab": {
          "base_uri": "https://localhost:8080/",
          "height": 385
        },
        "id": "CbUAoYQEAn0R",
        "outputId": "c8fac726-09ab-4f03-e7d8-16da5580667e"
      },
      "source": [
        "clf_xgb= xgboost.XGBClassifier(seed=26, objective='binary:logistic', gamma=0.25, learning_rate=0.1,max_depth=4,\n",
        "                               reg_lambda=10, scale_pos_weight=3, subsample=0.9, colsample_bytree=0.5, n_estimator=1)\n",
        "\n",
        "clf_xgb.fit(X_train,y_train)\n",
        "\n",
        "bst=clf_xgb.get_booster()\n",
        "for importance_type in ('weight','gain','cover','total_gain','total_cover'):\n",
        "  print('%s: ' %importance_type, bst.get_score(importance_type=importance_type))\n",
        "\n",
        "node_params={'shape':'box',\n",
        "              'style':'filled,rounded',\n",
        "              'fillcolor':'#78cbe'}\n",
        "leaf_params={'shape':'box', \n",
        "             'style': 'filled',\n",
        "             'fillcolor':'#e48038'}\n",
        "\n",
        "xgboost.to_graphviz(clf_xgb,num_trees=0,size='10,10',\n",
        "                condition_node_params=node_params,\n",
        "                leaf_node_params=leaf_params)"
      ],
      "execution_count": 238,
      "outputs": [
        {
          "output_type": "stream",
          "name": "stdout",
          "text": [
            "weight:  {'tenure': 172, 'InternetService_No': 24, 'Contract_One_year': 35, 'PaperlessBilling_Yes': 37, 'TechSupport_Yes': 32, 'InternetService_Fiber_optic': 22, 'PaymentMethod_Electronic_check': 35, 'Partner_Yes': 17, 'DeviceProtection_Yes': 13, 'OnlineSecurity_Yes': 29, 'OnlineBackup_Yes': 29, 'OnlineBackup_No_internet_service': 5, 'MonthlyCharges': 263, 'SeniorCitizen_1': 33, 'MultipleLines_Yes': 36, 'TotalCharges': 323, 'PhoneService_Yes': 14, 'Contract_Two_year': 30, 'StreamingMovies_Yes': 21, 'PaymentMethod_Mailed_check': 13, 'OnlineSecurity_No_internet_service': 6, 'StreamingTV_Yes': 26, 'Dependents_Yes': 29, 'MultipleLines_No_phone_service': 10, 'gender_Male': 32, 'PaymentMethod_Credit_card_automatic_': 18}\n",
            "gain:  {'tenure': 27.763389931569776, 'InternetService_No': 52.60024414624999, 'Contract_One_year': 30.10863688774286, 'PaperlessBilling_Yes': 10.61262693513513, 'TechSupport_Yes': 19.30604708403125, 'InternetService_Fiber_optic': 131.15705714127273, 'PaymentMethod_Electronic_check': 29.771086454600013, 'Partner_Yes': 8.063100719117648, 'DeviceProtection_Yes': 3.788220295230769, 'OnlineSecurity_Yes': 24.00291822024138, 'OnlineBackup_Yes': 6.801983064965518, 'OnlineBackup_No_internet_service': 12.70155894, 'MonthlyCharges': 6.437571046159314, 'SeniorCitizen_1': 5.3731609183030296, 'MultipleLines_Yes': 5.91158884788889, 'TotalCharges': 8.232559783407744, 'PhoneService_Yes': 4.028034998071429, 'Contract_Two_year': 87.57512836169998, 'StreamingMovies_Yes': 14.558414392428565, 'PaymentMethod_Mailed_check': 3.732256962923077, 'OnlineSecurity_No_internet_service': 12.657649756666666, 'StreamingTV_Yes': 3.835332601923077, 'Dependents_Yes': 4.148173885379309, 'MultipleLines_No_phone_service': 2.6079191198000005, 'gender_Male': 3.5098262652187504, 'PaymentMethod_Credit_card_automatic_': 3.2876791403888888}\n",
            "cover:  {'tenure': 519.9382017858719, 'InternetService_No': 564.0925729416668, 'Contract_One_year': 596.2279097057142, 'PaperlessBilling_Yes': 551.4396786018918, 'TechSupport_Yes': 374.65761913406254, 'InternetService_Fiber_optic': 813.8699568363635, 'PaymentMethod_Electronic_check': 368.44781546114297, 'Partner_Yes': 155.72447714647058, 'DeviceProtection_Yes': 142.29896260307694, 'OnlineSecurity_Yes': 482.91133986482765, 'OnlineBackup_Yes': 196.48316094827587, 'OnlineBackup_No_internet_service': 109.92504625000001, 'MonthlyCharges': 342.00353185285184, 'SeniorCitizen_1': 309.34918597030304, 'MultipleLines_Yes': 380.1506658308333, 'TotalCharges': 296.62588495325105, 'PhoneService_Yes': 304.4257649828572, 'Contract_Two_year': 1146.5161660433334, 'StreamingMovies_Yes': 381.53226115238095, 'PaymentMethod_Mailed_check': 234.88167460000003, 'OnlineSecurity_No_internet_service': 447.6104902833333, 'StreamingTV_Yes': 370.2102613349999, 'Dependents_Yes': 287.53758453310354, 'MultipleLines_No_phone_service': 289.594228045, 'gender_Male': 151.58714499687494, 'PaymentMethod_Credit_card_automatic_': 193.29150844722218}\n",
            "total_gain:  {'tenure': 4775.303068230001, 'InternetService_No': 1262.4058595099998, 'Contract_One_year': 1053.8022910710001, 'PaperlessBilling_Yes': 392.66719659999984, 'TechSupport_Yes': 617.793506689, 'InternetService_Fiber_optic': 2885.4552571080003, 'PaymentMethod_Electronic_check': 1041.9880259110005, 'Partner_Yes': 137.072712225, 'DeviceProtection_Yes': 49.246863837999996, 'OnlineSecurity_Yes': 696.0846283870001, 'OnlineBackup_Yes': 197.25750888400003, 'OnlineBackup_No_internet_service': 63.5077947, 'MonthlyCharges': 1693.0811851398996, 'SeniorCitizen_1': 177.31431030399997, 'MultipleLines_Yes': 212.81719852400002, 'TotalCharges': 2659.1168100407012, 'PhoneService_Yes': 56.39248997300001, 'Contract_Two_year': 2627.2538508509992, 'StreamingMovies_Yes': 305.7267022409999, 'PaymentMethod_Mailed_check': 48.519340518, 'OnlineSecurity_No_internet_service': 75.94589854, 'StreamingTV_Yes': 99.71864765, 'Dependents_Yes': 120.29704267599996, 'MultipleLines_No_phone_service': 26.079191198000004, 'gender_Male': 112.31444048700001, 'PaymentMethod_Credit_card_automatic_': 59.178224527}\n",
            "total_cover:  {'tenure': 89429.37070716996, 'InternetService_No': 13538.221750600003, 'Contract_One_year': 20867.976839699997, 'PaperlessBilling_Yes': 20403.268108269996, 'TechSupport_Yes': 11989.043812290001, 'InternetService_Fiber_optic': 17905.139050399997, 'PaymentMethod_Electronic_check': 12895.673541140004, 'Partner_Yes': 2647.31611149, 'DeviceProtection_Yes': 1849.8865138400004, 'OnlineSecurity_Yes': 14004.428856080001, 'OnlineBackup_Yes': 5698.0116675, 'OnlineBackup_No_internet_service': 549.6252312500001, 'MonthlyCharges': 89946.92887730003, 'SeniorCitizen_1': 10208.52313702, 'MultipleLines_Yes': 13685.42396991, 'TotalCharges': 95810.16083990008, 'PhoneService_Yes': 4261.96070976, 'Contract_Two_year': 34395.484981300004, 'StreamingMovies_Yes': 8012.1774841999995, 'PaymentMethod_Mailed_check': 3053.4617698, 'OnlineSecurity_No_internet_service': 2685.6629417, 'StreamingTV_Yes': 9625.466794709999, 'Dependents_Yes': 8338.589951460002, 'MultipleLines_No_phone_service': 2895.94228045, 'gender_Male': 4850.788639899998, 'PaymentMethod_Credit_card_automatic_': 3479.2471520499994}\n"
          ]
        },
        {
          "output_type": "execute_result",
          "data": {
            "text/plain": [
              "<graphviz.dot.Digraph at 0x7f121d70f250>"
            ],
            "image/svg+xml": "<?xml version=\"1.0\" encoding=\"UTF-8\" standalone=\"no\"?>\n<!DOCTYPE svg PUBLIC \"-//W3C//DTD SVG 1.1//EN\"\n \"http://www.w3.org/Graphics/SVG/1.1/DTD/svg11.dtd\">\n<!-- Generated by graphviz version 2.40.1 (20161225.0304)\n -->\n<!-- Title: %3 Pages: 1 -->\n<svg width=\"720pt\" height=\"194pt\"\n viewBox=\"0.00 0.00 720.00 193.65\" xmlns=\"http://www.w3.org/2000/svg\" xmlns:xlink=\"http://www.w3.org/1999/xlink\">\n<g id=\"graph0\" class=\"graph\" transform=\"scale(.494 .494) rotate(0) translate(4 388)\">\n<title>%3</title>\n<polygon fill=\"#ffffff\" stroke=\"transparent\" points=\"-4,4 -4,-388 1453.5,-388 1453.5,4 -4,4\"/>\n<!-- 0 -->\n<g id=\"node1\" class=\"node\">\n<title>0</title>\n<path fill=\"#78cb0e\" stroke=\"#000000\" d=\"M927,-384C927,-384 808,-384 808,-384 802,-384 796,-378 796,-372 796,-372 796,-360 796,-360 796,-354 802,-348 808,-348 808,-348 927,-348 927,-348 933,-348 939,-354 939,-360 939,-360 939,-372 939,-372 939,-378 933,-384 927,-384\"/>\n<text text-anchor=\"middle\" x=\"867.5\" y=\"-362.3\" font-family=\"Times,serif\" font-size=\"14.00\" fill=\"#000000\">tenure&lt;&#45;0.401956767</text>\n</g>\n<!-- 1 -->\n<g id=\"node2\" class=\"node\">\n<title>1</title>\n<path fill=\"#78cb0e\" stroke=\"#000000\" d=\"M771,-297C771,-297 652,-297 652,-297 646,-297 640,-291 640,-285 640,-285 640,-273 640,-273 640,-267 646,-261 652,-261 652,-261 771,-261 771,-261 777,-261 783,-267 783,-273 783,-273 783,-285 783,-285 783,-291 777,-297 771,-297\"/>\n<text text-anchor=\"middle\" x=\"711.5\" y=\"-275.3\" font-family=\"Times,serif\" font-size=\"14.00\" fill=\"#000000\">InternetService_No&lt;1</text>\n</g>\n<!-- 0&#45;&gt;1 -->\n<g id=\"edge1\" class=\"edge\">\n<title>0&#45;&gt;1</title>\n<path fill=\"none\" stroke=\"#0000ff\" d=\"M835.1767,-347.9735C811.227,-334.617 778.4065,-316.3133 752.5939,-301.9177\"/>\n<polygon fill=\"#0000ff\" stroke=\"#0000ff\" points=\"754.2203,-298.8173 743.7819,-297.0034 750.8108,-304.9309 754.2203,-298.8173\"/>\n<text text-anchor=\"middle\" x=\"835\" y=\"-318.8\" font-family=\"Times,serif\" font-size=\"14.00\" fill=\"#000000\">yes, missing</text>\n</g>\n<!-- 2 -->\n<g id=\"node3\" class=\"node\">\n<title>2</title>\n<path fill=\"#78cb0e\" stroke=\"#000000\" d=\"M1074,-297C1074,-297 955,-297 955,-297 949,-297 943,-291 943,-285 943,-285 943,-273 943,-273 943,-267 949,-261 955,-261 955,-261 1074,-261 1074,-261 1080,-261 1086,-267 1086,-273 1086,-273 1086,-285 1086,-285 1086,-291 1080,-297 1074,-297\"/>\n<text text-anchor=\"middle\" x=\"1014.5\" y=\"-275.3\" font-family=\"Times,serif\" font-size=\"14.00\" fill=\"#000000\">InternetService_No&lt;1</text>\n</g>\n<!-- 0&#45;&gt;2 -->\n<g id=\"edge2\" class=\"edge\">\n<title>0&#45;&gt;2</title>\n<path fill=\"none\" stroke=\"#ff0000\" d=\"M897.9585,-347.9735C920.4279,-334.6753 951.1835,-316.473 975.4579,-302.1065\"/>\n<polygon fill=\"#ff0000\" stroke=\"#ff0000\" points=\"977.2574,-305.1086 984.0805,-297.0034 973.6921,-299.0846 977.2574,-305.1086\"/>\n<text text-anchor=\"middle\" x=\"958.5\" y=\"-318.8\" font-family=\"Times,serif\" font-size=\"14.00\" fill=\"#000000\">no</text>\n</g>\n<!-- 3 -->\n<g id=\"node4\" class=\"node\">\n<title>3</title>\n<path fill=\"#78cb0e\" stroke=\"#000000\" d=\"M504.5,-210C504.5,-210 384.5,-210 384.5,-210 378.5,-210 372.5,-204 372.5,-198 372.5,-198 372.5,-186 372.5,-186 372.5,-180 378.5,-174 384.5,-174 384.5,-174 504.5,-174 504.5,-174 510.5,-174 516.5,-180 516.5,-186 516.5,-186 516.5,-198 516.5,-198 516.5,-204 510.5,-210 504.5,-210\"/>\n<text text-anchor=\"middle\" x=\"444.5\" y=\"-188.3\" font-family=\"Times,serif\" font-size=\"14.00\" fill=\"#000000\">Contract_One_year&lt;1</text>\n</g>\n<!-- 1&#45;&gt;3 -->\n<g id=\"edge3\" class=\"edge\">\n<title>1&#45;&gt;3</title>\n<path fill=\"none\" stroke=\"#0000ff\" d=\"M656.1774,-260.9735C613.4861,-247.0629 554.3263,-227.7861 509.3993,-213.147\"/>\n<polygon fill=\"#0000ff\" stroke=\"#0000ff\" points=\"510.344,-209.7737 499.7517,-210.0034 508.1753,-216.4293 510.344,-209.7737\"/>\n<text text-anchor=\"middle\" x=\"630\" y=\"-231.8\" font-family=\"Times,serif\" font-size=\"14.00\" fill=\"#000000\">yes, missing</text>\n</g>\n<!-- 4 -->\n<g id=\"node5\" class=\"node\">\n<title>4</title>\n<path fill=\"#78cb0e\" stroke=\"#000000\" d=\"M767.5,-210C767.5,-210 655.5,-210 655.5,-210 649.5,-210 643.5,-204 643.5,-198 643.5,-198 643.5,-186 643.5,-186 643.5,-180 649.5,-174 655.5,-174 655.5,-174 767.5,-174 767.5,-174 773.5,-174 779.5,-180 779.5,-186 779.5,-186 779.5,-198 779.5,-198 779.5,-204 773.5,-210 767.5,-210\"/>\n<text text-anchor=\"middle\" x=\"711.5\" y=\"-188.3\" font-family=\"Times,serif\" font-size=\"14.00\" fill=\"#000000\">tenure&lt;&#45;1.25708437</text>\n</g>\n<!-- 1&#45;&gt;4 -->\n<g id=\"edge4\" class=\"edge\">\n<title>1&#45;&gt;4</title>\n<path fill=\"none\" stroke=\"#ff0000\" d=\"M711.5,-260.9735C711.5,-249.1918 711.5,-233.5607 711.5,-220.1581\"/>\n<polygon fill=\"#ff0000\" stroke=\"#ff0000\" points=\"715.0001,-220.0033 711.5,-210.0034 708.0001,-220.0034 715.0001,-220.0033\"/>\n<text text-anchor=\"middle\" x=\"719.5\" y=\"-231.8\" font-family=\"Times,serif\" font-size=\"14.00\" fill=\"#000000\">no</text>\n</g>\n<!-- 5 -->\n<g id=\"node16\" class=\"node\">\n<title>5</title>\n<path fill=\"#78cb0e\" stroke=\"#000000\" d=\"M1069.5,-210C1069.5,-210 959.5,-210 959.5,-210 953.5,-210 947.5,-204 947.5,-198 947.5,-198 947.5,-186 947.5,-186 947.5,-180 953.5,-174 959.5,-174 959.5,-174 1069.5,-174 1069.5,-174 1075.5,-174 1081.5,-180 1081.5,-186 1081.5,-186 1081.5,-198 1081.5,-198 1081.5,-204 1075.5,-210 1069.5,-210\"/>\n<text text-anchor=\"middle\" x=\"1014.5\" y=\"-188.3\" font-family=\"Times,serif\" font-size=\"14.00\" fill=\"#000000\">TechSupport_Yes&lt;1</text>\n</g>\n<!-- 2&#45;&gt;5 -->\n<g id=\"edge15\" class=\"edge\">\n<title>2&#45;&gt;5</title>\n<path fill=\"none\" stroke=\"#0000ff\" d=\"M1014.5,-260.9735C1014.5,-249.1918 1014.5,-233.5607 1014.5,-220.1581\"/>\n<polygon fill=\"#0000ff\" stroke=\"#0000ff\" points=\"1018.0001,-220.0033 1014.5,-210.0034 1011.0001,-220.0034 1018.0001,-220.0033\"/>\n<text text-anchor=\"middle\" x=\"1050\" y=\"-231.8\" font-family=\"Times,serif\" font-size=\"14.00\" fill=\"#000000\">yes, missing</text>\n</g>\n<!-- 6 -->\n<g id=\"node17\" class=\"node\">\n<title>6</title>\n<polygon fill=\"#e48038\" stroke=\"#000000\" points=\"1227.5,-210 1099.5,-210 1099.5,-174 1227.5,-174 1227.5,-210\"/>\n<text text-anchor=\"middle\" x=\"1163.5\" y=\"-188.3\" font-family=\"Times,serif\" font-size=\"14.00\" fill=\"#000000\">leaf=&#45;0.169129714</text>\n</g>\n<!-- 2&#45;&gt;6 -->\n<g id=\"edge16\" class=\"edge\">\n<title>2&#45;&gt;6</title>\n<path fill=\"none\" stroke=\"#ff0000\" d=\"M1055.1894,-260.8883C1066.4858,-255.48 1078.6297,-249.3032 1089.5,-243 1103.428,-234.9238 1118.1507,-225.0722 1130.7646,-216.1887\"/>\n<polygon fill=\"#ff0000\" stroke=\"#ff0000\" points=\"1133.015,-218.8827 1139.1247,-210.2269 1128.9507,-213.1834 1133.015,-218.8827\"/>\n<text text-anchor=\"middle\" x=\"1121.5\" y=\"-231.8\" font-family=\"Times,serif\" font-size=\"14.00\" fill=\"#000000\">no</text>\n</g>\n<!-- 7 -->\n<g id=\"node6\" class=\"node\">\n<title>7</title>\n<path fill=\"#78cb0e\" stroke=\"#000000\" d=\"M252.5,-123C252.5,-123 124.5,-123 124.5,-123 118.5,-123 112.5,-117 112.5,-111 112.5,-111 112.5,-99 112.5,-99 112.5,-93 118.5,-87 124.5,-87 124.5,-87 252.5,-87 252.5,-87 258.5,-87 264.5,-93 264.5,-99 264.5,-99 264.5,-111 264.5,-111 264.5,-117 258.5,-123 252.5,-123\"/>\n<text text-anchor=\"middle\" x=\"188.5\" y=\"-101.3\" font-family=\"Times,serif\" font-size=\"14.00\" fill=\"#000000\">PaperlessBilling_Yes&lt;1</text>\n</g>\n<!-- 3&#45;&gt;7 -->\n<g id=\"edge5\" class=\"edge\">\n<title>3&#45;&gt;7</title>\n<path fill=\"none\" stroke=\"#0000ff\" d=\"M391.4566,-173.9735C350.61,-160.0921 294.0394,-140.8669 250.9966,-126.2391\"/>\n<polygon fill=\"#0000ff\" stroke=\"#0000ff\" points=\"252.0698,-122.9073 241.4754,-123.0034 249.8174,-129.535 252.0698,-122.9073\"/>\n<text text-anchor=\"middle\" x=\"368\" y=\"-144.8\" font-family=\"Times,serif\" font-size=\"14.00\" fill=\"#000000\">yes, missing</text>\n</g>\n<!-- 8 -->\n<g id=\"node7\" class=\"node\">\n<title>8</title>\n<path fill=\"#78cb0e\" stroke=\"#000000\" d=\"M500.5,-123C500.5,-123 388.5,-123 388.5,-123 382.5,-123 376.5,-117 376.5,-111 376.5,-111 376.5,-99 376.5,-99 376.5,-93 382.5,-87 388.5,-87 388.5,-87 500.5,-87 500.5,-87 506.5,-87 512.5,-93 512.5,-99 512.5,-99 512.5,-111 512.5,-111 512.5,-117 506.5,-123 500.5,-123\"/>\n<text text-anchor=\"middle\" x=\"444.5\" y=\"-101.3\" font-family=\"Times,serif\" font-size=\"14.00\" fill=\"#000000\">tenure&lt;&#45;0.44267714</text>\n</g>\n<!-- 3&#45;&gt;8 -->\n<g id=\"edge6\" class=\"edge\">\n<title>3&#45;&gt;8</title>\n<path fill=\"none\" stroke=\"#ff0000\" d=\"M444.5,-173.9735C444.5,-162.1918 444.5,-146.5607 444.5,-133.1581\"/>\n<polygon fill=\"#ff0000\" stroke=\"#ff0000\" points=\"448.0001,-133.0033 444.5,-123.0034 441.0001,-133.0034 448.0001,-133.0033\"/>\n<text text-anchor=\"middle\" x=\"452.5\" y=\"-144.8\" font-family=\"Times,serif\" font-size=\"14.00\" fill=\"#000000\">no</text>\n</g>\n<!-- 9 -->\n<g id=\"node12\" class=\"node\">\n<title>9</title>\n<path fill=\"#78cb0e\" stroke=\"#000000\" d=\"M716.5,-123C716.5,-123 588.5,-123 588.5,-123 582.5,-123 576.5,-117 576.5,-111 576.5,-111 576.5,-99 576.5,-99 576.5,-93 582.5,-87 588.5,-87 588.5,-87 716.5,-87 716.5,-87 722.5,-87 728.5,-93 728.5,-99 728.5,-99 728.5,-111 728.5,-111 728.5,-117 722.5,-123 716.5,-123\"/>\n<text text-anchor=\"middle\" x=\"652.5\" y=\"-101.3\" font-family=\"Times,serif\" font-size=\"14.00\" fill=\"#000000\">PaperlessBilling_Yes&lt;1</text>\n</g>\n<!-- 4&#45;&gt;9 -->\n<g id=\"edge11\" class=\"edge\">\n<title>4&#45;&gt;9</title>\n<path fill=\"none\" stroke=\"#0000ff\" d=\"M699.2752,-173.9735C690.9688,-161.7252 679.8411,-145.3165 670.5232,-131.5766\"/>\n<polygon fill=\"#0000ff\" stroke=\"#0000ff\" points=\"673.2186,-129.3153 664.7092,-123.0034 667.4252,-133.2442 673.2186,-129.3153\"/>\n<text text-anchor=\"middle\" x=\"722\" y=\"-144.8\" font-family=\"Times,serif\" font-size=\"14.00\" fill=\"#000000\">yes, missing</text>\n</g>\n<!-- 10 -->\n<g id=\"node13\" class=\"node\">\n<title>10</title>\n<polygon fill=\"#e48038\" stroke=\"#000000\" points=\"874.5,-123 746.5,-123 746.5,-87 874.5,-87 874.5,-123\"/>\n<text text-anchor=\"middle\" x=\"810.5\" y=\"-101.3\" font-family=\"Times,serif\" font-size=\"14.00\" fill=\"#000000\">leaf=&#45;0.110729612</text>\n</g>\n<!-- 4&#45;&gt;10 -->\n<g id=\"edge12\" class=\"edge\">\n<title>4&#45;&gt;10</title>\n<path fill=\"none\" stroke=\"#ff0000\" d=\"M738.3928,-173.9934C746.0758,-168.4915 754.3098,-162.2393 761.5,-156 770.4464,-148.2368 779.6083,-139.0823 787.5529,-130.6876\"/>\n<polygon fill=\"#ff0000\" stroke=\"#ff0000\" points=\"790.2192,-132.96 794.4656,-123.2533 785.0929,-128.1933 790.2192,-132.96\"/>\n<text text-anchor=\"middle\" x=\"785.5\" y=\"-144.8\" font-family=\"Times,serif\" font-size=\"14.00\" fill=\"#000000\">no</text>\n</g>\n<!-- 13 -->\n<g id=\"node8\" class=\"node\">\n<title>13</title>\n<polygon fill=\"#e48038\" stroke=\"#000000\" points=\"131,-36 0,-36 0,0 131,0 131,-36\"/>\n<text text-anchor=\"middle\" x=\"65.5\" y=\"-14.3\" font-family=\"Times,serif\" font-size=\"14.00\" fill=\"#000000\">leaf=0.0610722601</text>\n</g>\n<!-- 7&#45;&gt;13 -->\n<g id=\"edge7\" class=\"edge\">\n<title>7&#45;&gt;13</title>\n<path fill=\"none\" stroke=\"#0000ff\" d=\"M143.7253,-86.8307C133.3764,-81.7443 122.7089,-75.737 113.5,-69 103.7327,-61.8545 94.3047,-52.556 86.4284,-43.8589\"/>\n<polygon fill=\"#0000ff\" stroke=\"#0000ff\" points=\"88.8817,-41.3472 79.6663,-36.1197 83.6104,-45.9531 88.8817,-41.3472\"/>\n<text text-anchor=\"middle\" x=\"149\" y=\"-57.8\" font-family=\"Times,serif\" font-size=\"14.00\" fill=\"#000000\">yes, missing</text>\n</g>\n<!-- 14 -->\n<g id=\"node9\" class=\"node\">\n<title>14</title>\n<polygon fill=\"#e48038\" stroke=\"#000000\" points=\"228,-36 149,-36 149,0 228,0 228,-36\"/>\n<text text-anchor=\"middle\" x=\"188.5\" y=\"-14.3\" font-family=\"Times,serif\" font-size=\"14.00\" fill=\"#000000\">leaf=0.125</text>\n</g>\n<!-- 7&#45;&gt;14 -->\n<g id=\"edge8\" class=\"edge\">\n<title>7&#45;&gt;14</title>\n<path fill=\"none\" stroke=\"#ff0000\" d=\"M188.5,-86.9735C188.5,-75.1918 188.5,-59.5607 188.5,-46.1581\"/>\n<polygon fill=\"#ff0000\" stroke=\"#ff0000\" points=\"192.0001,-46.0033 188.5,-36.0034 185.0001,-46.0034 192.0001,-46.0033\"/>\n<text text-anchor=\"middle\" x=\"196.5\" y=\"-57.8\" font-family=\"Times,serif\" font-size=\"14.00\" fill=\"#000000\">no</text>\n</g>\n<!-- 15 -->\n<g id=\"node10\" class=\"node\">\n<title>15</title>\n<polygon fill=\"#e48038\" stroke=\"#000000\" points=\"382.5,-36 246.5,-36 246.5,0 382.5,0 382.5,-36\"/>\n<text text-anchor=\"middle\" x=\"314.5\" y=\"-14.3\" font-family=\"Times,serif\" font-size=\"14.00\" fill=\"#000000\">leaf=&#45;0.0540146008</text>\n</g>\n<!-- 8&#45;&gt;15 -->\n<g id=\"edge9\" class=\"edge\">\n<title>8&#45;&gt;15</title>\n<path fill=\"none\" stroke=\"#0000ff\" d=\"M410.9831,-86.9305C401.3106,-81.4271 390.8479,-75.19 381.5,-69 369.262,-60.8963 356.3172,-51.304 345.1025,-42.6374\"/>\n<polygon fill=\"#0000ff\" stroke=\"#0000ff\" points=\"346.9387,-39.6304 336.9042,-36.2304 342.6283,-45.1459 346.9387,-39.6304\"/>\n<text text-anchor=\"middle\" x=\"417\" y=\"-57.8\" font-family=\"Times,serif\" font-size=\"14.00\" fill=\"#000000\">yes, missing</text>\n</g>\n<!-- 16 -->\n<g id=\"node11\" class=\"node\">\n<title>16</title>\n<polygon fill=\"#e48038\" stroke=\"#000000\" points=\"540,-36 401,-36 401,0 540,0 540,-36\"/>\n<text text-anchor=\"middle\" x=\"470.5\" y=\"-14.3\" font-family=\"Times,serif\" font-size=\"14.00\" fill=\"#000000\">leaf=0.00800000038</text>\n</g>\n<!-- 8&#45;&gt;16 -->\n<g id=\"edge10\" class=\"edge\">\n<title>8&#45;&gt;16</title>\n<path fill=\"none\" stroke=\"#ff0000\" d=\"M449.8872,-86.9735C453.4431,-75.0751 458.1722,-59.2508 462.2037,-45.7606\"/>\n<polygon fill=\"#ff0000\" stroke=\"#ff0000\" points=\"465.6097,-46.5869 465.1197,-36.0034 458.9028,-44.5825 465.6097,-46.5869\"/>\n<text text-anchor=\"middle\" x=\"467.5\" y=\"-57.8\" font-family=\"Times,serif\" font-size=\"14.00\" fill=\"#000000\">no</text>\n</g>\n<!-- 17 -->\n<g id=\"node14\" class=\"node\">\n<title>17</title>\n<polygon fill=\"#e48038\" stroke=\"#000000\" points=\"697,-36 558,-36 558,0 697,0 697,-36\"/>\n<text text-anchor=\"middle\" x=\"627.5\" y=\"-14.3\" font-family=\"Times,serif\" font-size=\"14.00\" fill=\"#000000\">leaf=0.00253164559</text>\n</g>\n<!-- 9&#45;&gt;17 -->\n<g id=\"edge13\" class=\"edge\">\n<title>9&#45;&gt;17</title>\n<path fill=\"none\" stroke=\"#0000ff\" d=\"M647.32,-86.9735C643.9009,-75.0751 639.3537,-59.2508 635.4772,-45.7606\"/>\n<polygon fill=\"#0000ff\" stroke=\"#0000ff\" points=\"638.7991,-44.6478 632.6734,-36.0034 632.0714,-46.5811 638.7991,-44.6478\"/>\n<text text-anchor=\"middle\" x=\"677\" y=\"-57.8\" font-family=\"Times,serif\" font-size=\"14.00\" fill=\"#000000\">yes, missing</text>\n</g>\n<!-- 18 -->\n<g id=\"node15\" class=\"node\">\n<title>18</title>\n<polygon fill=\"#e48038\" stroke=\"#000000\" points=\"846,-36 715,-36 715,0 846,0 846,-36\"/>\n<text text-anchor=\"middle\" x=\"780.5\" y=\"-14.3\" font-family=\"Times,serif\" font-size=\"14.00\" fill=\"#000000\">leaf=0.0711864457</text>\n</g>\n<!-- 9&#45;&gt;18 -->\n<g id=\"edge14\" class=\"edge\">\n<title>9&#45;&gt;18</title>\n<path fill=\"none\" stroke=\"#ff0000\" d=\"M686.989,-86.9326C696.7239,-81.4778 707.1944,-75.2659 716.5,-69 728.4267,-60.9692 740.9256,-51.3176 751.6803,-42.5818\"/>\n<polygon fill=\"#ff0000\" stroke=\"#ff0000\" points=\"754.0309,-45.1802 759.5262,-36.1219 749.5815,-39.7761 754.0309,-45.1802\"/>\n<text text-anchor=\"middle\" x=\"745.5\" y=\"-57.8\" font-family=\"Times,serif\" font-size=\"14.00\" fill=\"#000000\">no</text>\n</g>\n<!-- 11 -->\n<g id=\"node18\" class=\"node\">\n<title>11</title>\n<path fill=\"#78cb0e\" stroke=\"#000000\" d=\"M1074.5,-123C1074.5,-123 954.5,-123 954.5,-123 948.5,-123 942.5,-117 942.5,-111 942.5,-111 942.5,-99 942.5,-99 942.5,-93 948.5,-87 954.5,-87 954.5,-87 1074.5,-87 1074.5,-87 1080.5,-87 1086.5,-93 1086.5,-99 1086.5,-99 1086.5,-111 1086.5,-111 1086.5,-117 1080.5,-123 1074.5,-123\"/>\n<text text-anchor=\"middle\" x=\"1014.5\" y=\"-101.3\" font-family=\"Times,serif\" font-size=\"14.00\" fill=\"#000000\">Contract_One_year&lt;1</text>\n</g>\n<!-- 5&#45;&gt;11 -->\n<g id=\"edge17\" class=\"edge\">\n<title>5&#45;&gt;11</title>\n<path fill=\"none\" stroke=\"#0000ff\" d=\"M1014.5,-173.9735C1014.5,-162.1918 1014.5,-146.5607 1014.5,-133.1581\"/>\n<polygon fill=\"#0000ff\" stroke=\"#0000ff\" points=\"1018.0001,-133.0033 1014.5,-123.0034 1011.0001,-133.0034 1018.0001,-133.0033\"/>\n<text text-anchor=\"middle\" x=\"1050\" y=\"-144.8\" font-family=\"Times,serif\" font-size=\"14.00\" fill=\"#000000\">yes, missing</text>\n</g>\n<!-- 12 -->\n<g id=\"node19\" class=\"node\">\n<title>12</title>\n<path fill=\"#78cb0e\" stroke=\"#000000\" d=\"M1293,-123C1293,-123 1178,-123 1178,-123 1172,-123 1166,-117 1166,-111 1166,-111 1166,-99 1166,-99 1166,-93 1172,-87 1178,-87 1178,-87 1293,-87 1293,-87 1299,-87 1305,-93 1305,-99 1305,-99 1305,-111 1305,-111 1305,-117 1299,-123 1293,-123\"/>\n<text text-anchor=\"middle\" x=\"1235.5\" y=\"-101.3\" font-family=\"Times,serif\" font-size=\"14.00\" fill=\"#000000\">tenure&lt;0.901094913</text>\n</g>\n<!-- 5&#45;&gt;12 -->\n<g id=\"edge18\" class=\"edge\">\n<title>5&#45;&gt;12</title>\n<path fill=\"none\" stroke=\"#ff0000\" d=\"M1060.2913,-173.9735C1095.109,-160.267 1143.1608,-141.3507 1180.1372,-126.7944\"/>\n<polygon fill=\"#ff0000\" stroke=\"#ff0000\" points=\"1181.7444,-129.9232 1189.7673,-123.0034 1179.1803,-123.4097 1181.7444,-129.9232\"/>\n<text text-anchor=\"middle\" x=\"1146.5\" y=\"-144.8\" font-family=\"Times,serif\" font-size=\"14.00\" fill=\"#000000\">no</text>\n</g>\n<!-- 19 -->\n<g id=\"node20\" class=\"node\">\n<title>19</title>\n<polygon fill=\"#e48038\" stroke=\"#000000\" points=\"995,-36 864,-36 864,0 995,0 995,-36\"/>\n<text text-anchor=\"middle\" x=\"929.5\" y=\"-14.3\" font-family=\"Times,serif\" font-size=\"14.00\" fill=\"#000000\">leaf=0.0310400017</text>\n</g>\n<!-- 11&#45;&gt;19 -->\n<g id=\"edge19\" class=\"edge\">\n<title>11&#45;&gt;19</title>\n<path fill=\"none\" stroke=\"#0000ff\" d=\"M989.801,-86.9192C982.949,-81.4643 975.6955,-75.2555 969.5,-69 962.0951,-61.5234 954.7625,-52.7036 948.4375,-44.5197\"/>\n<polygon fill=\"#0000ff\" stroke=\"#0000ff\" points=\"951.0621,-42.1867 942.2502,-36.3043 945.4705,-46.3979 951.0621,-42.1867\"/>\n<text text-anchor=\"middle\" x=\"1005\" y=\"-57.8\" font-family=\"Times,serif\" font-size=\"14.00\" fill=\"#000000\">yes, missing</text>\n</g>\n<!-- 20 -->\n<g id=\"node21\" class=\"node\">\n<title>20</title>\n<polygon fill=\"#e48038\" stroke=\"#000000\" points=\"1149.5,-36 1013.5,-36 1013.5,0 1149.5,0 1149.5,-36\"/>\n<text text-anchor=\"middle\" x=\"1081.5\" y=\"-14.3\" font-family=\"Times,serif\" font-size=\"14.00\" fill=\"#000000\">leaf=&#45;0.0557235442</text>\n</g>\n<!-- 11&#45;&gt;20 -->\n<g id=\"edge20\" class=\"edge\">\n<title>11&#45;&gt;20</title>\n<path fill=\"none\" stroke=\"#ff0000\" d=\"M1028.3824,-86.9735C1037.9049,-74.6085 1050.6926,-58.0036 1061.3348,-44.1847\"/>\n<polygon fill=\"#ff0000\" stroke=\"#ff0000\" points=\"1064.3068,-46.0618 1067.6353,-36.0034 1058.7608,-41.7907 1064.3068,-46.0618\"/>\n<text text-anchor=\"middle\" x=\"1060.5\" y=\"-57.8\" font-family=\"Times,serif\" font-size=\"14.00\" fill=\"#000000\">no</text>\n</g>\n<!-- 21 -->\n<g id=\"node22\" class=\"node\">\n<title>21</title>\n<polygon fill=\"#e48038\" stroke=\"#000000\" points=\"1303.5,-36 1167.5,-36 1167.5,0 1303.5,0 1303.5,-36\"/>\n<text text-anchor=\"middle\" x=\"1235.5\" y=\"-14.3\" font-family=\"Times,serif\" font-size=\"14.00\" fill=\"#000000\">leaf=&#45;0.0645367429</text>\n</g>\n<!-- 12&#45;&gt;21 -->\n<g id=\"edge21\" class=\"edge\">\n<title>12&#45;&gt;21</title>\n<path fill=\"none\" stroke=\"#0000ff\" d=\"M1235.5,-86.9735C1235.5,-75.1918 1235.5,-59.5607 1235.5,-46.1581\"/>\n<polygon fill=\"#0000ff\" stroke=\"#0000ff\" points=\"1239.0001,-46.0033 1235.5,-36.0034 1232.0001,-46.0034 1239.0001,-46.0033\"/>\n<text text-anchor=\"middle\" x=\"1271\" y=\"-57.8\" font-family=\"Times,serif\" font-size=\"14.00\" fill=\"#000000\">yes, missing</text>\n</g>\n<!-- 22 -->\n<g id=\"node23\" class=\"node\">\n<title>22</title>\n<polygon fill=\"#e48038\" stroke=\"#000000\" points=\"1449.5,-36 1321.5,-36 1321.5,0 1449.5,0 1449.5,-36\"/>\n<text text-anchor=\"middle\" x=\"1385.5\" y=\"-14.3\" font-family=\"Times,serif\" font-size=\"14.00\" fill=\"#000000\">leaf=&#45;0.129958972</text>\n</g>\n<!-- 12&#45;&gt;22 -->\n<g id=\"edge22\" class=\"edge\">\n<title>12&#45;&gt;22</title>\n<path fill=\"none\" stroke=\"#ff0000\" d=\"M1276.1637,-86.8438C1287.4599,-81.435 1299.6101,-75.2692 1310.5,-69 1324.5813,-60.8936 1339.4962,-51.0362 1352.2849,-42.1565\"/>\n<polygon fill=\"#ff0000\" stroke=\"#ff0000\" points=\"1354.5933,-44.8121 1360.7626,-36.1986 1350.5684,-39.0849 1354.5933,-44.8121\"/>\n<text text-anchor=\"middle\" x=\"1342.5\" y=\"-57.8\" font-family=\"Times,serif\" font-size=\"14.00\" fill=\"#000000\">no</text>\n</g>\n</g>\n</svg>\n"
          },
          "metadata": {},
          "execution_count": 238
        }
      ]
    },
    {
      "cell_type": "markdown",
      "metadata": {
        "id": "HQmtkpLMm7Nk"
      },
      "source": [
        "## Naive Bayes"
      ]
    },
    {
      "cell_type": "code",
      "metadata": {
        "colab": {
          "base_uri": "https://localhost:8080/"
        },
        "id": "A-rRxtTSnEvT",
        "outputId": "0d8b53f2-0c67-417f-d813-263dbcf27376"
      },
      "source": [
        "model=GaussianNB()\n",
        "model.fit(X_train,y_train)\n",
        "y_train_predict=model.predict(X_train)\n",
        "y_test_predict=model.predict(X_test)\n",
        "print(metrics.classification_report(y_train,y_train_predict))\n",
        "print(metrics.classification_report(y_test,y_test_predict))"
      ],
      "execution_count": 239,
      "outputs": [
        {
          "output_type": "stream",
          "name": "stdout",
          "text": [
            "              precision    recall  f1-score   support\n",
            "\n",
            "           0       0.93      0.59      0.72      3880\n",
            "           1       0.43      0.88      0.58      1402\n",
            "\n",
            "    accuracy                           0.66      5282\n",
            "   macro avg       0.68      0.73      0.65      5282\n",
            "weighted avg       0.80      0.66      0.68      5282\n",
            "\n",
            "              precision    recall  f1-score   support\n",
            "\n",
            "           0       0.93      0.59      0.72      1294\n",
            "           1       0.43      0.87      0.58       467\n",
            "\n",
            "    accuracy                           0.66      1761\n",
            "   macro avg       0.68      0.73      0.65      1761\n",
            "weighted avg       0.79      0.66      0.68      1761\n",
            "\n"
          ]
        }
      ]
    },
    {
      "cell_type": "markdown",
      "metadata": {
        "id": "VP6KWjJtFe43"
      },
      "source": [
        "## Support Vector Machine"
      ]
    },
    {
      "cell_type": "code",
      "metadata": {
        "colab": {
          "base_uri": "https://localhost:8080/"
        },
        "id": "SBsD5uFZFooQ",
        "outputId": "1dfb4a0d-05ff-4d8f-8df5-9d901d057cdc"
      },
      "source": [
        "clf_svm=SVC(random_state=26)\n",
        "clf_svm.fit(X_train,y_train)\n",
        "y_train_predict=model.predict(X_train)\n",
        "y_test_predict=model.predict(X_test)\n",
        "print(metrics.classification_report(y_train,y_train_predict))\n",
        "print(metrics.classification_report(y_test,y_test_predict))"
      ],
      "execution_count": 240,
      "outputs": [
        {
          "output_type": "stream",
          "name": "stdout",
          "text": [
            "              precision    recall  f1-score   support\n",
            "\n",
            "           0       0.93      0.59      0.72      3880\n",
            "           1       0.43      0.88      0.58      1402\n",
            "\n",
            "    accuracy                           0.66      5282\n",
            "   macro avg       0.68      0.73      0.65      5282\n",
            "weighted avg       0.80      0.66      0.68      5282\n",
            "\n",
            "              precision    recall  f1-score   support\n",
            "\n",
            "           0       0.93      0.59      0.72      1294\n",
            "           1       0.43      0.87      0.58       467\n",
            "\n",
            "    accuracy                           0.66      1761\n",
            "   macro avg       0.68      0.73      0.65      1761\n",
            "weighted avg       0.79      0.66      0.68      1761\n",
            "\n"
          ]
        }
      ]
    },
    {
      "cell_type": "code",
      "metadata": {
        "colab": {
          "base_uri": "https://localhost:8080/",
          "height": 350
        },
        "id": "VuJOf5X8FzNB",
        "outputId": "04cb4241-c4ba-4d86-d327-b4e919125fc1"
      },
      "source": [
        "plot_confusion_matrix(clf_svm,X_test,y_test, values_format='d',display_labels=['Did not Churn','Churn'])"
      ],
      "execution_count": 241,
      "outputs": [
        {
          "output_type": "stream",
          "name": "stderr",
          "text": [
            "/usr/local/lib/python3.7/dist-packages/sklearn/utils/deprecation.py:87: FutureWarning: Function plot_confusion_matrix is deprecated; Function `plot_confusion_matrix` is deprecated in 1.0 and will be removed in 1.2. Use one of the class methods: ConfusionMatrixDisplay.from_predictions or ConfusionMatrixDisplay.from_estimator.\n",
            "  warnings.warn(msg, category=FutureWarning)\n"
          ]
        },
        {
          "output_type": "execute_result",
          "data": {
            "text/plain": [
              "<sklearn.metrics._plot.confusion_matrix.ConfusionMatrixDisplay at 0x7f121d728150>"
            ]
          },
          "metadata": {},
          "execution_count": 241
        },
        {
          "output_type": "display_data",
          "data": {
            "image/png": "[encoded data removed]",
            "text/plain": [
              "<Figure size 432x288 with 2 Axes>"
            ]
          },
          "metadata": {
            "needs_background": "light"
          }
        }
      ]
    },
    {
      "cell_type": "code",
      "metadata": {
        "colab": {
          "base_uri": "https://localhost:8080/"
        },
        "id": "Z4NbCq-LGAHa",
        "outputId": "a378e15f-7d42-4e52-f766-ba96a154141d"
      },
      "source": [
        "\n",
        "param_grid=[\n",
        "            {'C':[1,100,500,2000,1000],\n",
        "             'gamma':[0.00001,1,0.01,0.1,0.5],\n",
        "             'kernel':['rbf']}\n",
        "]\n",
        "\n",
        "optimal_params= GridSearchCV( SVC(), param_grid, cv=5, scoring='f1_macro')\n",
        "\n",
        "optimal_params.fit(X_train,y_train)\n",
        "print(optimal_params.best_params_)"
      ],
      "execution_count": 242,
      "outputs": [
        {
          "output_type": "stream",
          "name": "stdout",
          "text": [
            "{'C': 1000, 'gamma': 0.01, 'kernel': 'rbf'}\n"
          ]
        }
      ]
    },
    {
      "cell_type": "code",
      "metadata": {
        "colab": {
          "base_uri": "https://localhost:8080/"
        },
        "id": "1l-ZQfjWGUqq",
        "outputId": "a316cb36-6dcb-45b9-f160-ff370e97bc36"
      },
      "source": [
        "clf_svm=SVC(random_state=26,C=1000, gamma=0.00001, kernel= 'rbf')\n",
        "clf_svm.fit(X_train,y_train)\n",
        "y_train_predict=model.predict(X_train)\n",
        "y_test_predict=model.predict(X_test)\n",
        "print(metrics.classification_report(y_train,y_train_predict))\n",
        "print(metrics.classification_report(y_test,y_test_predict))"
      ],
      "execution_count": 243,
      "outputs": [
        {
          "output_type": "stream",
          "name": "stdout",
          "text": [
            "              precision    recall  f1-score   support\n",
            "\n",
            "           0       0.93      0.59      0.72      3880\n",
            "           1       0.43      0.88      0.58      1402\n",
            "\n",
            "    accuracy                           0.66      5282\n",
            "   macro avg       0.68      0.73      0.65      5282\n",
            "weighted avg       0.80      0.66      0.68      5282\n",
            "\n",
            "              precision    recall  f1-score   support\n",
            "\n",
            "           0       0.93      0.59      0.72      1294\n",
            "           1       0.43      0.87      0.58       467\n",
            "\n",
            "    accuracy                           0.66      1761\n",
            "   macro avg       0.68      0.73      0.65      1761\n",
            "weighted avg       0.79      0.66      0.68      1761\n",
            "\n"
          ]
        }
      ]
    },
    {
      "cell_type": "code",
      "metadata": {
        "colab": {
          "base_uri": "https://localhost:8080/",
          "height": 354
        },
        "id": "h9wN2cWiGs5s",
        "outputId": "bbfbcd50-bd2e-4ddf-88fb-62c2ae59bfc4"
      },
      "source": [
        "plot_confusion_matrix(clf_svm,X_train,y_train, values_format='d',display_labels=['Did not Churn','Churn'])"
      ],
      "execution_count": 244,
      "outputs": [
        {
          "output_type": "stream",
          "name": "stderr",
          "text": [
            "/usr/local/lib/python3.7/dist-packages/sklearn/utils/deprecation.py:87: FutureWarning: Function plot_confusion_matrix is deprecated; Function `plot_confusion_matrix` is deprecated in 1.0 and will be removed in 1.2. Use one of the class methods: ConfusionMatrixDisplay.from_predictions or ConfusionMatrixDisplay.from_estimator.\n",
            "  warnings.warn(msg, category=FutureWarning)\n"
          ]
        },
        {
          "output_type": "execute_result",
          "data": {
            "text/plain": [
              "<sklearn.metrics._plot.confusion_matrix.ConfusionMatrixDisplay at 0x7f121d5e0410>"
            ]
          },
          "metadata": {},
          "execution_count": 244
        },
        {
          "output_type": "display_data",
          "data": {
            "image/png": "[encoded data removed]",
            "text/plain": [
              "<Figure size 432x288 with 2 Axes>"
            ]
          },
          "metadata": {
            "needs_background": "light"
          }
        }
      ]
    },
    {
      "cell_type": "code",
      "metadata": {
        "id": "mePDqLBeHAR9"
      },
      "source": [
        "from sklearn.decomposition import PCA"
      ],
      "execution_count": 245,
      "outputs": []
    },
    {
      "cell_type": "code",
      "metadata": {
        "colab": {
          "base_uri": "https://localhost:8080/",
          "height": 295
        },
        "id": "fkwZJtvsHBfm",
        "outputId": "2820b1eb-4afc-475b-a250-831883d8b419"
      },
      "source": [
        "pca=PCA() #PCA centers the data but does not scale it\n",
        "X_train_pca=pca.fit_transform(X_train)\n",
        "\n",
        "per_var=np.round(pca.explained_variance_ratio_*100, decimals=1) #Percentage of variance explained by each of the selected components.\n",
        "labels=[str(x) for x in range(1, len(per_var)+1)]\n",
        "\n",
        "plt.bar(x=range(1,len(per_var)+1), height=per_var)\n",
        "plt.tick_params( axis= 'x',which='both',bottom=True, top=True, labelbottom=True)\n",
        "\n",
        "plt.ylabel('Percentage of Explained Variance')\n",
        "plt.xlabel('Principal Components')\n",
        "plt.title('Screen Plot')\n",
        "plt.show()"
      ],
      "execution_count": 246,
      "outputs": [
        {
          "output_type": "display_data",
          "data": {
            "image/png": "[encoded data removed]",
            "text/plain": [
              "<Figure size 432x288 with 1 Axes>"
            ]
          },
          "metadata": {
            "needs_background": "light"
          }
        }
      ]
    },
    {
      "cell_type": "code",
      "metadata": {
        "colab": {
          "base_uri": "https://localhost:8080/"
        },
        "id": "fwsU4PJwiERi",
        "outputId": "b7435e4d-985f-4e6d-90e9-1a42d3d94871"
      },
      "source": [
        "#lets do PCA\n",
        "\n",
        "train_pc1_coords=X_train_pca[:,0]\n",
        "train_pc2_coords=X_train_pca[:,1]\n",
        "\n",
        "#now centre and scale the PCs\n",
        "pca_train_scaled=np.column_stack((train_pc1_coords,train_pc2_coords))\n",
        "\n",
        "param_grid=[{'C':[1,10,100,1000,2500],\n",
        "             'gamma':['scale',0.5,0.1,0.001,0.00001,0.0001],\n",
        "             'kernel':['rbf']}]\n",
        "\n",
        "optimal_params= GridSearchCV(SVC(),param_grid,cv=5,scoring='accuracy',verbose=0)\n",
        "\n",
        "optimal_params.fit(pca_train_scaled,y_train)\n",
        "print(optimal_params.best_params_)"
      ],
      "execution_count": 247,
      "outputs": [
        {
          "output_type": "stream",
          "name": "stdout",
          "text": [
            "{'C': 100, 'gamma': 'scale', 'kernel': 'rbf'}\n"
          ]
        }
      ]
    },
    {
      "cell_type": "code",
      "metadata": {
        "colab": {
          "base_uri": "https://localhost:8080/",
          "height": 621
        },
        "id": "MKEDr86Ti_wO",
        "outputId": "7f2a4429-0a4b-4fc8-aaa1-1eb1e8e85d7f"
      },
      "source": [
        "clf_svm=SVC(random_state=42,C=100,gamma='scale',kernel='rbf')\n",
        "clf_svm.fit(pca_train_scaled, y_train)\n",
        "\n",
        "##Transform test dataset with PCA...\n",
        "X_test_pca=pca.transform(X_train)\n",
        "#X_test_pca=pca.transform(X_test_scaled)\n",
        "\n",
        "test_pc1_coords=X_test_pca[:,0]\n",
        "test_pc2_coords=X_test_pca[:,1]\n",
        "\n",
        "##Now create a matrix of points that we can use to show\n",
        "##decision regions\n",
        "##the matrix will be a little bit larger than the \n",
        "##transformed PCA points so that we can plot all of \n",
        "##the PCA points on it without being on the edge\n",
        "x_min=test_pc1_coords.min()-1\n",
        "x_max=test_pc1_coords.max()+1\n",
        "\n",
        "y_min=test_pc2_coords.min()-1\n",
        "y_max=test_pc2_coords.max()+1\n",
        "\n",
        "xx,yy= np.meshgrid(np.arange(start=x_min, stop=x_max, step=0.1),\n",
        "                   np.arange(start=y_min,stop=y_max,step=0.1))\n",
        "\n",
        "##now we will classify every point in that \n",
        "##matrix with the SVM. Points on one sie of the \n",
        "##calssification boudary will get 0, and points on the other side will get 1.\n",
        "Z= clf_svm.predict(np.column_stack((xx.ravel(),yy.ravel())))\n",
        "## right now , Z is just a long array of lots of 0s and 1s which reflect how each point in mesh was classified.\n",
        "##We use reshape() so that each classification(0or1) corresponds to a specific point in matrix.\n",
        "Z=Z.reshape(xx.shape)\n",
        "\n",
        "fig,ax=plt.subplots(figsize=(10,10))\n",
        "## now we will use contourf() to draw a filled contour plot\n",
        "## using the matrix values and classifications.\n",
        "## The contours will be filled according to the \n",
        "## predicted classifications (0s and 1s) in z\n",
        "ax.contourf (xx,yy,Z,alpha=0.1)\n",
        "\n",
        "#now create custom colors for the actual data points\n",
        "cmap=matplotlib.colors.ListedColormap(['#e41a1c','#4daf4a'])\n",
        "##now draw the actual ata points- these wil\n",
        "##be colored by their known (not predicted) classifications\n",
        "##Note: setting alpha=0.7 lets us see if we are covering up a point\n",
        "##scatter = ax.scatter(test_pc1_coords, test_pc2_coords, c=y_test,)\n",
        "scatter = ax.scatter(test_pc1_coords, test_pc2_coords, c=y_train, cmap=cmap,s=100,edgecolors='k',alpha=0.7)\n",
        "\n",
        "##now create legend\n",
        "legend=ax.legend(scatter.legend_elements()[0], scatter.legend_elements()[1], loc='upper right')\n",
        "\n",
        "legend.get_texts()[0].set_text('No Default')\n",
        "legend.get_texts()[1].set_text('Yes Default')\n",
        "\n",
        "##Now add axis labels and titles\n",
        "ax.set_ylabel('PC2')\n",
        "ax.set_xlabel('PC1')\n",
        "ax.set_title('Default and not defaulted PCA transformed chart')\n",
        "plt.savefig('svm_default.png')\n",
        "plt.show()"
      ],
      "execution_count": 248,
      "outputs": [
        {
          "output_type": "display_data",
          "data": {
            "image/png": "[encoded data removed]",
            "text/plain": [
              "<Figure size 720x720 with 1 Axes>"
            ]
          },
          "metadata": {
            "needs_background": "light"
          }
        }
      ]
    },
    {
      "cell_type": "markdown",
      "metadata": {
        "id": "Rt5K2BPkmKo8"
      },
      "source": [
        "# KNN"
      ]
    },
    {
      "cell_type": "code",
      "metadata": {
        "colab": {
          "base_uri": "https://localhost:8080/"
        },
        "id": "PbUDtlr_m1bc",
        "outputId": "3ba183ed-1a03-4378-d216-24223bf514e8"
      },
      "source": [
        "# instantiate the KNN classifier\n",
        "model = KNeighborsClassifier()\n",
        "model.fit(X_train, y_train)\n",
        "y_train_predict=model.predict(X_train)\n",
        "y_test_predict=model.predict(X_test)\n",
        "print(metrics.classification_report(y_train,y_train_predict))\n",
        "print(metrics.classification_report(y_test,y_test_predict))"
      ],
      "execution_count": 249,
      "outputs": [
        {
          "output_type": "stream",
          "name": "stdout",
          "text": [
            "              precision    recall  f1-score   support\n",
            "\n",
            "           0       0.87      0.90      0.89      3880\n",
            "           1       0.71      0.63      0.67      1402\n",
            "\n",
            "    accuracy                           0.83      5282\n",
            "   macro avg       0.79      0.77      0.78      5282\n",
            "weighted avg       0.83      0.83      0.83      5282\n",
            "\n",
            "              precision    recall  f1-score   support\n",
            "\n",
            "           0       0.84      0.84      0.84      1294\n",
            "           1       0.56      0.55      0.56       467\n",
            "\n",
            "    accuracy                           0.77      1761\n",
            "   macro avg       0.70      0.70      0.70      1761\n",
            "weighted avg       0.77      0.77      0.77      1761\n",
            "\n"
          ]
        }
      ]
    },
    {
      "cell_type": "code",
      "metadata": {
        "colab": {
          "base_uri": "https://localhost:8080/"
        },
        "id": "wNfagS5HncUL",
        "outputId": "8dd48345-5465-44ee-fb48-ebce341f3a9c"
      },
      "source": [
        "param_grid = {\n",
        "    'n_neighbors':[15,17,19,21,23,25],\n",
        "    'weights': ['uniform'],\n",
        "    'metric': ['manhattan']\n",
        "\n",
        "}\n",
        "\n",
        "knn = GridSearchCV(KNeighborsClassifier(),param_grid=param_grid, cv= 5,scoring='f1_macro',n_jobs = -1)\n",
        "knn.fit(X_train,y_train)\n",
        "print(knn.best_params_)"
      ],
      "execution_count": 250,
      "outputs": [
        {
          "output_type": "stream",
          "name": "stdout",
          "text": [
            "{'metric': 'manhattan', 'n_neighbors': 19, 'weights': 'uniform'}\n"
          ]
        }
      ]
    },
    {
      "cell_type": "code",
      "metadata": {
        "colab": {
          "base_uri": "https://localhost:8080/"
        },
        "id": "hvZwwDRXn3F2",
        "outputId": "b403088d-0e12-4d2e-dca6-24ff026d84a7"
      },
      "source": [
        "knn = KNeighborsClassifier(n_neighbors=5,weights='uniform',metric='manhattan')\n",
        "knn.fit(X_train,y_train)\n",
        "y_train_predict = knn.predict(X_train)\n",
        "y_test_predict = knn.predict(X_test)\n",
        "print(metrics.classification_report(y_train,y_train_predict))\n",
        "print(metrics.classification_report(y_test,y_test_predict))\n",
        "\n",
        "#we can seee that i have fit with 5 n_neighbors instead of 19.\n",
        "#because the train data deteriorates with increasing n_neighbors eventhough the test data has better results."
      ],
      "execution_count": 251,
      "outputs": [
        {
          "output_type": "stream",
          "name": "stdout",
          "text": [
            "              precision    recall  f1-score   support\n",
            "\n",
            "           0       0.88      0.91      0.89      3880\n",
            "           1       0.72      0.65      0.68      1402\n",
            "\n",
            "    accuracy                           0.84      5282\n",
            "   macro avg       0.80      0.78      0.79      5282\n",
            "weighted avg       0.84      0.84      0.84      5282\n",
            "\n",
            "              precision    recall  f1-score   support\n",
            "\n",
            "           0       0.84      0.84      0.84      1294\n",
            "           1       0.56      0.56      0.56       467\n",
            "\n",
            "    accuracy                           0.77      1761\n",
            "   macro avg       0.70      0.70      0.70      1761\n",
            "weighted avg       0.77      0.77      0.77      1761\n",
            "\n"
          ]
        }
      ]
    }
  ]
}