{
  "nbformat": 4,
  "nbformat_minor": 0,
  "metadata": {
    "colab": {
      "name": "hierarchial_dendrogram.ipynb",
      "provenance": [],
      "authorship_tag": "ABX9TyN4zbcCLHUr6nNDnaFhCz94",
      "include_colab_link": true
    },
    "kernelspec": {
      "name": "python3",
      "display_name": "Python 3"
    },
    "language_info": {
      "name": "python"
    }
  },
  "cells": [
    {
      "cell_type": "markdown",
      "metadata": {
        "id": "view-in-github",
        "colab_type": "text"
      },
      "source": [
        "<a href=\"https://colab.research.google.com/github/John260260/Classification_problms_ML/blob/main/hierarchial_dendrogram.ipynb\" target=\"_parent\"><img src=\"https://colab.research.google.com/assets/colab-badge.svg\" alt=\"Open In Colab\"/></a>"
      ]
    },
    {
      "cell_type": "code",
      "metadata": {
        "id": "p2_kEd-m5l_B"
      },
      "source": [
        "from scipy.cluster.hierarchy import linkage,dendrogram\n",
        "import matplotlib.pyplot as plt\n",
        "import pandas as pd\n",
        "from collections import Counter"
      ],
      "execution_count": null,
      "outputs": []
    },
    {
      "cell_type": "code",
      "metadata": {
        "id": "nAJTKE-H55Jn"
      },
      "source": [
        "seeds_df=pd.read_csv(\"https://raw.githubusercontent.com/vihar/unsupervised-learning-with-python/master/seeds-less-rows.csv\")"
      ],
      "execution_count": 28,
      "outputs": []
    },
    {
      "cell_type": "code",
      "metadata": {
        "colab": {
          "base_uri": "https://localhost:8080/",
          "height": 204
        },
        "id": "Gz0twwOs6ess",
        "outputId": "237335e4-5c6c-49bc-8572-b47ec38d1bee"
      },
      "source": [
        "seeds_df.head(5)"
      ],
      "execution_count": 29,
      "outputs": [
        {
          "output_type": "execute_result",
          "data": {
            "text/html": [
              "<div>\n",
              "<style scoped>\n",
              "    .dataframe tbody tr th:only-of-type {\n",
              "        vertical-align: middle;\n",
              "    }\n",
              "\n",
              "    .dataframe tbody tr th {\n",
              "        vertical-align: top;\n",
              "    }\n",
              "\n",
              "    .dataframe thead th {\n",
              "        text-align: right;\n",
              "    }\n",
              "</style>\n",
              "<table border=\"1\" class=\"dataframe\">\n",
              "  <thead>\n",
              "    <tr style=\"text-align: right;\">\n",
              "      <th></th>\n",
              "      <th>area</th>\n",
              "      <th>perimeter</th>\n",
              "      <th>compactness</th>\n",
              "      <th>length</th>\n",
              "      <th>width</th>\n",
              "      <th>asymmetry_coefficient</th>\n",
              "      <th>groove_length</th>\n",
              "      <th>grain_variety</th>\n",
              "    </tr>\n",
              "  </thead>\n",
              "  <tbody>\n",
              "    <tr>\n",
              "      <th>0</th>\n",
              "      <td>14.88</td>\n",
              "      <td>14.57</td>\n",
              "      <td>0.8811</td>\n",
              "      <td>5.554</td>\n",
              "      <td>3.333</td>\n",
              "      <td>1.018</td>\n",
              "      <td>4.956</td>\n",
              "      <td>Kama wheat</td>\n",
              "    </tr>\n",
              "    <tr>\n",
              "      <th>1</th>\n",
              "      <td>14.69</td>\n",
              "      <td>14.49</td>\n",
              "      <td>0.8799</td>\n",
              "      <td>5.563</td>\n",
              "      <td>3.259</td>\n",
              "      <td>3.586</td>\n",
              "      <td>5.219</td>\n",
              "      <td>Kama wheat</td>\n",
              "    </tr>\n",
              "    <tr>\n",
              "      <th>2</th>\n",
              "      <td>14.03</td>\n",
              "      <td>14.16</td>\n",
              "      <td>0.8796</td>\n",
              "      <td>5.438</td>\n",
              "      <td>3.201</td>\n",
              "      <td>1.717</td>\n",
              "      <td>5.001</td>\n",
              "      <td>Kama wheat</td>\n",
              "    </tr>\n",
              "    <tr>\n",
              "      <th>3</th>\n",
              "      <td>13.99</td>\n",
              "      <td>13.83</td>\n",
              "      <td>0.9183</td>\n",
              "      <td>5.119</td>\n",
              "      <td>3.383</td>\n",
              "      <td>5.234</td>\n",
              "      <td>4.781</td>\n",
              "      <td>Kama wheat</td>\n",
              "    </tr>\n",
              "    <tr>\n",
              "      <th>4</th>\n",
              "      <td>14.11</td>\n",
              "      <td>14.26</td>\n",
              "      <td>0.8722</td>\n",
              "      <td>5.520</td>\n",
              "      <td>3.168</td>\n",
              "      <td>2.688</td>\n",
              "      <td>5.219</td>\n",
              "      <td>Kama wheat</td>\n",
              "    </tr>\n",
              "  </tbody>\n",
              "</table>\n",
              "</div>"
            ],
            "text/plain": [
              "    area  perimeter  ...  groove_length  grain_variety\n",
              "0  14.88      14.57  ...          4.956     Kama wheat\n",
              "1  14.69      14.49  ...          5.219     Kama wheat\n",
              "2  14.03      14.16  ...          5.001     Kama wheat\n",
              "3  13.99      13.83  ...          4.781     Kama wheat\n",
              "4  14.11      14.26  ...          5.219     Kama wheat\n",
              "\n",
              "[5 rows x 8 columns]"
            ]
          },
          "metadata": {},
          "execution_count": 29
        }
      ]
    },
    {
      "cell_type": "code",
      "metadata": {
        "colab": {
          "base_uri": "https://localhost:8080/"
        },
        "id": "PrkT7dYE6gny",
        "outputId": "e536d934-65b6-4886-a5c9-7867ae5a9391"
      },
      "source": [
        "Counter(seeds_df['grain_variety'])"
      ],
      "execution_count": null,
      "outputs": [
        {
          "output_type": "execute_result",
          "data": {
            "text/plain": [
              "Counter({'Canadian wheat': 14, 'Kama wheat': 14, 'Rosa wheat': 14})"
            ]
          },
          "metadata": {},
          "execution_count": 8
        }
      ]
    },
    {
      "cell_type": "code",
      "metadata": {
        "colab": {
          "base_uri": "https://localhost:8080/"
        },
        "id": "HPzSOT9C63yB",
        "outputId": "a65d3d16-7506-473a-e2fd-dabba322c5b8"
      },
      "source": [
        "seeds_df.shape"
      ],
      "execution_count": null,
      "outputs": [
        {
          "output_type": "execute_result",
          "data": {
            "text/plain": [
              "(42, 8)"
            ]
          },
          "metadata": {},
          "execution_count": 9
        }
      ]
    },
    {
      "cell_type": "code",
      "metadata": {
        "id": "QTyt6x2i69O_"
      },
      "source": [
        "#varieties=seeds_df.pop('grain_variety',axis=1,inplace=True)"
      ],
      "execution_count": null,
      "outputs": []
    },
    {
      "cell_type": "code",
      "metadata": {
        "id": "E_Em_nRS7TLd"
      },
      "source": [
        "varieties=list(seeds_df.pop('grain_variety')) #to be labelled on basis of grain_varieties"
      ],
      "execution_count": 31,
      "outputs": []
    },
    {
      "cell_type": "code",
      "metadata": {
        "id": "fTGqHjNV7XOl"
      },
      "source": [
        "varieties"
      ],
      "execution_count": null,
      "outputs": []
    },
    {
      "cell_type": "code",
      "metadata": {
        "id": "Sa697l-K79VG"
      },
      "source": [
        "samples=seeds_df.values"
      ],
      "execution_count": 33,
      "outputs": []
    },
    {
      "cell_type": "code",
      "metadata": {
        "id": "CqLd-dwk8Qzv"
      },
      "source": [
        "samples"
      ],
      "execution_count": null,
      "outputs": []
    },
    {
      "cell_type": "code",
      "metadata": {
        "id": "CnnqhKr68RmA"
      },
      "source": [
        "mergings=linkage(samples,method='complete')"
      ],
      "execution_count": 34,
      "outputs": []
    },
    {
      "cell_type": "code",
      "metadata": {
        "id": "GIh3i1yn-MLC",
        "colab": {
          "base_uri": "https://localhost:8080/"
        },
        "outputId": "f269c847-a824-4cb7-9a43-c107ec16a506"
      },
      "source": [
        "mergings"
      ],
      "execution_count": null,
      "outputs": [
        {
          "output_type": "execute_result",
          "data": {
            "text/plain": [
              "array([[33.        , 36.        ,  0.27162909,  2.        ],\n",
              "       [21.        , 26.        ,  0.31365739,  2.        ],\n",
              "       [18.        , 43.        ,  0.32846589,  3.        ],\n",
              "       [38.        , 41.        ,  0.34657328,  2.        ],\n",
              "       [19.        , 22.        ,  0.37233454,  2.        ],\n",
              "       [15.        , 27.        ,  0.38916958,  2.        ],\n",
              "       [ 4.        , 11.        ,  0.48519909,  2.        ],\n",
              "       [ 2.        , 13.        ,  0.60220511,  2.        ],\n",
              "       [23.        , 25.        ,  0.64447995,  2.        ],\n",
              "       [ 0.        ,  9.        ,  0.66671658,  2.        ],\n",
              "       [32.        , 37.        ,  0.68359363,  2.        ],\n",
              "       [39.        , 42.        ,  0.75541297,  3.        ],\n",
              "       [12.        , 29.        ,  0.76129577,  2.        ],\n",
              "       [30.        , 34.        ,  0.79066703,  2.        ],\n",
              "       [24.        , 47.        ,  0.89015184,  3.        ],\n",
              "       [ 1.        ,  6.        ,  0.96077742,  2.        ],\n",
              "       [31.        , 45.        ,  0.98956619,  3.        ],\n",
              "       [16.        , 50.        ,  1.05891757,  3.        ],\n",
              "       [17.        , 20.        ,  1.11543099,  2.        ],\n",
              "       [ 8.        , 40.        ,  1.13733735,  2.        ],\n",
              "       [44.        , 46.        ,  1.1662041 ,  5.        ],\n",
              "       [ 5.        , 61.        ,  1.28676337,  3.        ],\n",
              "       [35.        , 52.        ,  1.37690488,  3.        ],\n",
              "       [48.        , 49.        ,  1.52865125,  4.        ],\n",
              "       [53.        , 64.        ,  1.66517195,  6.        ],\n",
              "       [14.        , 56.        ,  1.74234784,  4.        ],\n",
              "       [51.        , 65.        ,  1.91015424,  6.        ],\n",
              "       [ 7.        , 57.        ,  1.91749035,  3.        ],\n",
              "       [28.        , 55.        ,  2.08980038,  3.        ],\n",
              "       [54.        , 58.        ,  2.13385537,  5.        ],\n",
              "       [ 3.        , 10.        ,  2.22187038,  2.        ],\n",
              "       [59.        , 67.        ,  2.31852251,  7.        ],\n",
              "       [60.        , 62.        ,  2.33686195,  7.        ],\n",
              "       [68.        , 69.        ,  2.76779035,  9.        ],\n",
              "       [66.        , 70.        ,  3.13448417,  9.        ],\n",
              "       [63.        , 71.        ,  3.25744652,  8.        ],\n",
              "       [73.        , 74.        ,  3.71580316, 14.        ],\n",
              "       [72.        , 75.        ,  4.68116988, 11.        ],\n",
              "       [76.        , 77.        ,  5.45789312, 17.        ],\n",
              "       [78.        , 79.        ,  6.74608427, 25.        ],\n",
              "       [80.        , 81.        ,  9.61230238, 42.        ]])"
            ]
          },
          "metadata": {},
          "execution_count": 27
        }
      ]
    },
    {
      "cell_type": "code",
      "metadata": {
        "colab": {
          "base_uri": "https://localhost:8080/",
          "height": 413
        },
        "id": "quiEYaap80zq",
        "outputId": "1ad73d59-718c-43ab-df5c-b2e70de0d3a3"
      },
      "source": [
        "plt.figure(figsize=(12, 6))\n",
        "dendrogram(mergings,\n",
        "           labels=varieties,\n",
        "           leaf_rotation=90,\n",
        "           leaf_font_size=6,\n",
        "          )\n",
        "\n",
        "plt.show()"
      ],
      "execution_count": 35,
      "outputs": [
        {
          "output_type": "display_data",
          "data": {
            "image/png": "[encoded data removed]",
            "text/plain": [
              "<Figure size 864x432 with 1 Axes>"
            ]
          },
          "metadata": {
            "needs_background": "light"
          }
        }
      ]
    },
    {
      "cell_type": "code",
      "metadata": {
        "id": "y7BGC9sI9cDc"
      },
      "source": [
        "mergings2=linkage(samples,method='single')"
      ],
      "execution_count": 37,
      "outputs": []
    },
    {
      "cell_type": "code",
      "metadata": {
        "colab": {
          "base_uri": "https://localhost:8080/",
          "height": 412
        },
        "id": "h0a9mNadCYgE",
        "outputId": "831619de-6a77-44e2-e690-833db939900e"
      },
      "source": [
        "plt.figure(figsize=(12, 6))\n",
        "dendrogram(mergings2,\n",
        "           labels=varieties,\n",
        "           leaf_rotation=90,\n",
        "           leaf_font_size=6,\n",
        "          )\n",
        "\n",
        "plt.show()"
      ],
      "execution_count": 38,
      "outputs": [
        {
          "output_type": "display_data",
          "data": {
            "image/png": "[encoded data removed]",
            "text/plain": [
              "<Figure size 864x432 with 1 Axes>"
            ]
          },
          "metadata": {
            "needs_background": "light"
          }
        }
      ]
    },
    {
      "cell_type": "code",
      "metadata": {
        "id": "e0qGbBvCChjw"
      },
      "source": [
        "mergings3=linkage(samples,method='average')"
      ],
      "execution_count": 39,
      "outputs": []
    },
    {
      "cell_type": "code",
      "metadata": {
        "colab": {
          "base_uri": "https://localhost:8080/",
          "height": 412
        },
        "id": "zx1U-qOkCxfM",
        "outputId": "86feb803-c39f-49ea-f721-7fb42f956a4f"
      },
      "source": [
        "plt.figure(figsize=(12, 6))\n",
        "dendrogram(mergings3,\n",
        "           labels=varieties,\n",
        "           leaf_rotation=90,\n",
        "           leaf_font_size=6,\n",
        "          )\n",
        "\n",
        "plt.show()"
      ],
      "execution_count": 41,
      "outputs": [
        {
          "output_type": "display_data",
          "data": {
            "image/png": "[encoded data removed]",
            "text/plain": [
              "<Figure size 864x432 with 1 Axes>"
            ]
          },
          "metadata": {
            "needs_background": "light"
          }
        }
      ]
    },
    {
      "cell_type": "code",
      "metadata": {
        "id": "ahcFBYqaC07C"
      },
      "source": [
        "mergings4=linkage(samples,method='ward')"
      ],
      "execution_count": 43,
      "outputs": []
    },
    {
      "cell_type": "code",
      "metadata": {
        "colab": {
          "base_uri": "https://localhost:8080/",
          "height": 412
        },
        "id": "7_hrXaSDC-YK",
        "outputId": "fb850e23-07ac-4b94-a6d7-9d39af4ce312"
      },
      "source": [
        "plt.figure(figsize=(12, 6))\n",
        "dendrogram(mergings4,\n",
        "           labels=varieties,\n",
        "           leaf_rotation=90,\n",
        "           leaf_font_size=6,\n",
        "          )\n",
        "\n",
        "plt.show()"
      ],
      "execution_count": 45,
      "outputs": [
        {
          "output_type": "display_data",
          "data": {
            "image/png": "[encoded data removed]",
            "text/plain": [
              "<Figure size 864x432 with 1 Axes>"
            ]
          },
          "metadata": {
            "needs_background": "light"
          }
        }
      ]
    },
    {
      "cell_type": "code",
      "metadata": {
        "id": "K7qkDayADEDi"
      },
      "source": [
        ""
      ],
      "execution_count": 44,
      "outputs": []
    }
  ]
}