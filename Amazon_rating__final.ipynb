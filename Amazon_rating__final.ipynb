{
  "nbformat": 4,
  "nbformat_minor": 0,
  "metadata": {
    "colab": {
      "name": "Amazon_rating _final.ipynb",
      "provenance": [],
      "collapsed_sections": [],
      "mount_file_id": "1JkMaYslFmYDZLoK8AuDHZA7U4BjfZfEn",
      "authorship_tag": "ABX9TyMsmZmHKkWbcavSrzEdFkKM",
      "include_colab_link": true
    },
    "kernelspec": {
      "name": "python3",
      "display_name": "Python 3"
    },
    "language_info": {
      "name": "python"
    }
  },
  "cells": [
    {
      "cell_type": "markdown",
      "metadata": {
        "id": "view-in-github",
        "colab_type": "text"
      },
      "source": [
        "<a href=\"https://colab.research.google.com/github/John260260/Classification_problms_ML/blob/main/Amazon_rating__final.ipynb\" target=\"_parent\"><img src=\"https://colab.research.google.com/assets/colab-badge.svg\" alt=\"Open In Colab\"/></a>"
      ]
    },
    {
      "cell_type": "code",
      "metadata": {
        "colab": {
          "base_uri": "https://localhost:8080/"
        },
        "id": "1xCTJ8IRK_BW",
        "outputId": "dff6c4b8-42e0-4b67-9e31-ed3f54edbc0f"
      },
      "source": [
        "import pandas as pd\n",
        "import numpy as np\n",
        "import matplotlib.pyplot as plt\n",
        "import seaborn as sns\n",
        "import nltk\n",
        "import warnings\n",
        "from collections import Counter\n",
        "from sklearn import metrics\n",
        "from sklearn.svm import SVC, LinearSVC\n",
        "from sklearn.model_selection import GridSearchCV, cross_val_score, train_test_split\n",
        "from sklearn.pipeline import make_pipeline\n",
        "from sklearn.feature_extraction.text import CountVectorizer,TfidfVectorizer\n",
        "warnings.filterwarnings('ignore')\n",
        "from nltk.corpus import stopwords\n",
        "nltk.download('stopwords')\n",
        "stopwords.words('english')\n",
        "stop_words=stopwords.words('english')\n",
        "%matplotlib inline"
      ],
      "execution_count": 4,
      "outputs": [
        {
          "output_type": "stream",
          "text": [
            "[nltk_data] Downloading package stopwords to /root/nltk_data...\n",
            "[nltk_data]   Unzipping corpora/stopwords.zip.\n"
          ],
          "name": "stdout"
        }
      ]
    },
    {
      "cell_type": "code",
      "metadata": {
        "id": "gClxtkpiYBgg"
      },
      "source": [
        "df=pd.read_csv('/content/drive/MyDrive/amazonReview.csv')"
      ],
      "execution_count": 5,
      "outputs": []
    },
    {
      "cell_type": "code",
      "metadata": {
        "colab": {
          "base_uri": "https://localhost:8080/",
          "height": 266
        },
        "id": "_17fH0okaBfe",
        "outputId": "7e7e6341-a3ed-46d0-a7b4-4d4a28bb520d"
      },
      "source": [
        "df.head(7)"
      ],
      "execution_count": 5,
      "outputs": [
        {
          "output_type": "execute_result",
          "data": {
            "text/html": [
              "<div>\n",
              "<style scoped>\n",
              "    .dataframe tbody tr th:only-of-type {\n",
              "        vertical-align: middle;\n",
              "    }\n",
              "\n",
              "    .dataframe tbody tr th {\n",
              "        vertical-align: top;\n",
              "    }\n",
              "\n",
              "    .dataframe thead th {\n",
              "        text-align: right;\n",
              "    }\n",
              "</style>\n",
              "<table border=\"1\" class=\"dataframe\">\n",
              "  <thead>\n",
              "    <tr style=\"text-align: right;\">\n",
              "      <th></th>\n",
              "      <th>Reviewer name</th>\n",
              "      <th>title</th>\n",
              "      <th>Review body</th>\n",
              "      <th>Review rating</th>\n",
              "      <th>sentiment</th>\n",
              "    </tr>\n",
              "  </thead>\n",
              "  <tbody>\n",
              "    <tr>\n",
              "      <th>0</th>\n",
              "      <td>Genuine buyer</td>\n",
              "      <td>Pros and cons</td>\n",
              "      <td>Great quality and the sound is actually great....</td>\n",
              "      <td>5.0 out of 5 stars</td>\n",
              "      <td>positive</td>\n",
              "    </tr>\n",
              "    <tr>\n",
              "      <th>1</th>\n",
              "      <td>CHETAN SHETTER</td>\n",
              "      <td>Never Expected in this price range... I Assure...</td>\n",
              "      <td>I've been using this from past 6 months. This ...</td>\n",
              "      <td>5.0 out of 5 stars</td>\n",
              "      <td>positive</td>\n",
              "    </tr>\n",
              "    <tr>\n",
              "      <th>2</th>\n",
              "      <td>Kiran Kumar M</td>\n",
              "      <td>Bass bastler, Awesome HD quality sound, rockin...</td>\n",
              "      <td>Perfect bass and nice one. Superb sound and it...</td>\n",
              "      <td>5.0 out of 5 stars</td>\n",
              "      <td>positive</td>\n",
              "    </tr>\n",
              "    <tr>\n",
              "      <th>3</th>\n",
              "      <td>Raj Patel</td>\n",
              "      <td>Maybe buy boat basshead 100</td>\n",
              "      <td>Here is the review after 1 week of usePros:1.B...</td>\n",
              "      <td>4.0 out of 5 stars</td>\n",
              "      <td>positive</td>\n",
              "    </tr>\n",
              "    <tr>\n",
              "      <th>4</th>\n",
              "      <td>SANJAY KUMAR TIWARI</td>\n",
              "      <td>Superb head stereo better than leading brands.</td>\n",
              "      <td>Purchased after seeing review with suspicion t...</td>\n",
              "      <td>5.0 out of 5 stars</td>\n",
              "      <td>positive</td>\n",
              "    </tr>\n",
              "    <tr>\n",
              "      <th>5</th>\n",
              "      <td>WR</td>\n",
              "      <td>Fadoo sound quality.😎🤘👏🙌</td>\n",
              "      <td>A real value for money product.Sound quality- ...</td>\n",
              "      <td>5.0 out of 5 stars</td>\n",
              "      <td>positive</td>\n",
              "    </tr>\n",
              "    <tr>\n",
              "      <th>6</th>\n",
              "      <td>Maghi</td>\n",
              "      <td>Awesome sound quality and worth of buy the pro...</td>\n",
              "      <td>Very good quality superb</td>\n",
              "      <td>5.0 out of 5 stars</td>\n",
              "      <td>positive</td>\n",
              "    </tr>\n",
              "  </tbody>\n",
              "</table>\n",
              "</div>"
            ],
            "text/plain": [
              "         Reviewer name  ... sentiment\n",
              "0        Genuine buyer  ...  positive\n",
              "1       CHETAN SHETTER  ...  positive\n",
              "2        Kiran Kumar M  ...  positive\n",
              "3            Raj Patel  ...  positive\n",
              "4  SANJAY KUMAR TIWARI  ...  positive\n",
              "5                   WR  ...  positive\n",
              "6                Maghi  ...  positive\n",
              "\n",
              "[7 rows x 5 columns]"
            ]
          },
          "metadata": {
            "tags": []
          },
          "execution_count": 5
        }
      ]
    },
    {
      "cell_type": "code",
      "metadata": {
        "colab": {
          "base_uri": "https://localhost:8080/"
        },
        "id": "AUWgPue8akPU",
        "outputId": "e1d10809-bfdb-4037-b0ba-45db35f61cad"
      },
      "source": [
        "Counter (df['Review rating'])"
      ],
      "execution_count": null,
      "outputs": [
        {
          "output_type": "execute_result",
          "data": {
            "text/plain": [
              "Counter({'1.0 out of 5 stars': 35191,\n",
              "         '2.0 out of 5 stars': 11411,\n",
              "         '3.0 out of 5 stars': 17819,\n",
              "         '4.0 out of 5 stars': 106584,\n",
              "         '5.0 out of 5 stars': 240739,\n",
              "         nan: 38035})"
            ]
          },
          "metadata": {
            "tags": []
          },
          "execution_count": 6
        },
        {
          "output_type": "execute_result",
          "data": {
            "text/plain": [
              "Counter({'1.0 out of 5 stars': 35191,\n",
              "         '2.0 out of 5 stars': 11411,\n",
              "         '3.0 out of 5 stars': 17819,\n",
              "         '4.0 out of 5 stars': 106584,\n",
              "         '5.0 out of 5 stars': 240739,\n",
              "         nan: 38035})"
            ]
          },
          "metadata": {
            "tags": []
          },
          "execution_count": 8
        }
      ]
    },
    {
      "cell_type": "code",
      "metadata": {
        "colab": {
          "base_uri": "https://localhost:8080/"
        },
        "id": "kRQVy_Gias_8",
        "outputId": "775f11cc-608d-44aa-f300-904b874aa54d"
      },
      "source": [
        "Counter (df['sentiment'])"
      ],
      "execution_count": null,
      "outputs": [
        {
          "output_type": "execute_result",
          "data": {
            "text/plain": [
              "Counter({'negative': 66657, 'positive': 383122})"
            ]
          },
          "metadata": {
            "tags": []
          },
          "execution_count": 7
        }
      ]
    },
    {
      "cell_type": "markdown",
      "metadata": {
        "id": "RM-sCnAOadXg"
      },
      "source": [
        "review rating prediction"
      ]
    },
    {
      "cell_type": "code",
      "metadata": {
        "id": "kaV3VV9QaLki"
      },
      "source": [
        "df_review= df.copy()"
      ],
      "execution_count": 6,
      "outputs": []
    },
    {
      "cell_type": "code",
      "metadata": {
        "id": "Key5QSnTbHUT"
      },
      "source": [
        "df_review= df_review[df_review['Review rating'].notna()]"
      ],
      "execution_count": 7,
      "outputs": []
    },
    {
      "cell_type": "code",
      "metadata": {
        "colab": {
          "base_uri": "https://localhost:8080/"
        },
        "id": "r3VhKEITbhuV",
        "outputId": "a52f71e8-45c5-4832-e2b3-579a885f2d2a"
      },
      "source": [
        "Counter(df['Review rating'])"
      ],
      "execution_count": null,
      "outputs": [
        {
          "output_type": "execute_result",
          "data": {
            "text/plain": [
              "Counter({'1.0 out of 5 stars': 35191,\n",
              "         '2.0 out of 5 stars': 11411,\n",
              "         '3.0 out of 5 stars': 17819,\n",
              "         '4.0 out of 5 stars': 106584,\n",
              "         '5.0 out of 5 stars': 240739,\n",
              "         nan: 38035})"
            ]
          },
          "metadata": {
            "tags": []
          },
          "execution_count": 7
        }
      ]
    },
    {
      "cell_type": "code",
      "metadata": {
        "id": "s6k7k_VmcZxH"
      },
      "source": [
        "df_review.reset_index(drop=True, inplace=True)"
      ],
      "execution_count": 8,
      "outputs": []
    },
    {
      "cell_type": "code",
      "metadata": {
        "colab": {
          "base_uri": "https://localhost:8080/",
          "height": 235
        },
        "id": "AhwEgLjEdpfu",
        "outputId": "0204135b-d843-4c7f-a1fa-dc9b62067343"
      },
      "source": [
        "df_review[['Review rating','Review body']].groupby('Review rating').count()"
      ],
      "execution_count": 9,
      "outputs": [
        {
          "output_type": "execute_result",
          "data": {
            "text/html": [
              "<div>\n",
              "<style scoped>\n",
              "    .dataframe tbody tr th:only-of-type {\n",
              "        vertical-align: middle;\n",
              "    }\n",
              "\n",
              "    .dataframe tbody tr th {\n",
              "        vertical-align: top;\n",
              "    }\n",
              "\n",
              "    .dataframe thead th {\n",
              "        text-align: right;\n",
              "    }\n",
              "</style>\n",
              "<table border=\"1\" class=\"dataframe\">\n",
              "  <thead>\n",
              "    <tr style=\"text-align: right;\">\n",
              "      <th></th>\n",
              "      <th>Review body</th>\n",
              "    </tr>\n",
              "    <tr>\n",
              "      <th>Review rating</th>\n",
              "      <th></th>\n",
              "    </tr>\n",
              "  </thead>\n",
              "  <tbody>\n",
              "    <tr>\n",
              "      <th>1.0 out of 5 stars</th>\n",
              "      <td>35190</td>\n",
              "    </tr>\n",
              "    <tr>\n",
              "      <th>2.0 out of 5 stars</th>\n",
              "      <td>11409</td>\n",
              "    </tr>\n",
              "    <tr>\n",
              "      <th>3.0 out of 5 stars</th>\n",
              "      <td>17819</td>\n",
              "    </tr>\n",
              "    <tr>\n",
              "      <th>4.0 out of 5 stars</th>\n",
              "      <td>106564</td>\n",
              "    </tr>\n",
              "    <tr>\n",
              "      <th>5.0 out of 5 stars</th>\n",
              "      <td>240706</td>\n",
              "    </tr>\n",
              "  </tbody>\n",
              "</table>\n",
              "</div>"
            ],
            "text/plain": [
              "                    Review body\n",
              "Review rating                  \n",
              "1.0 out of 5 stars        35190\n",
              "2.0 out of 5 stars        11409\n",
              "3.0 out of 5 stars        17819\n",
              "4.0 out of 5 stars       106564\n",
              "5.0 out of 5 stars       240706"
            ]
          },
          "metadata": {
            "tags": []
          },
          "execution_count": 9
        }
      ]
    },
    {
      "cell_type": "code",
      "metadata": {
        "colab": {
          "base_uri": "https://localhost:8080/"
        },
        "id": "rVSeujCndwdL",
        "outputId": "f5d7a2cf-049b-49a8-b908-1188f29db7f8"
      },
      "source": [
        "len(df_review)"
      ],
      "execution_count": null,
      "outputs": [
        {
          "output_type": "execute_result",
          "data": {
            "text/plain": [
              "411744"
            ]
          },
          "metadata": {
            "tags": []
          },
          "execution_count": 10
        }
      ]
    },
    {
      "cell_type": "code",
      "metadata": {
        "colab": {
          "base_uri": "https://localhost:8080/",
          "height": 235
        },
        "id": "HrTG-3uodJbQ",
        "outputId": "6706ec83-fe7d-46ce-ca1a-aa94a49e72ef"
      },
      "source": [
        "df_review[['Review rating','Review body']].groupby('Review rating').count()*100/len(df_review)"
      ],
      "execution_count": 10,
      "outputs": [
        {
          "output_type": "execute_result",
          "data": {
            "text/html": [
              "<div>\n",
              "<style scoped>\n",
              "    .dataframe tbody tr th:only-of-type {\n",
              "        vertical-align: middle;\n",
              "    }\n",
              "\n",
              "    .dataframe tbody tr th {\n",
              "        vertical-align: top;\n",
              "    }\n",
              "\n",
              "    .dataframe thead th {\n",
              "        text-align: right;\n",
              "    }\n",
              "</style>\n",
              "<table border=\"1\" class=\"dataframe\">\n",
              "  <thead>\n",
              "    <tr style=\"text-align: right;\">\n",
              "      <th></th>\n",
              "      <th>Review body</th>\n",
              "    </tr>\n",
              "    <tr>\n",
              "      <th>Review rating</th>\n",
              "      <th></th>\n",
              "    </tr>\n",
              "  </thead>\n",
              "  <tbody>\n",
              "    <tr>\n",
              "      <th>1.0 out of 5 stars</th>\n",
              "      <td>8.546573</td>\n",
              "    </tr>\n",
              "    <tr>\n",
              "      <th>2.0 out of 5 stars</th>\n",
              "      <td>2.770896</td>\n",
              "    </tr>\n",
              "    <tr>\n",
              "      <th>3.0 out of 5 stars</th>\n",
              "      <td>4.327689</td>\n",
              "    </tr>\n",
              "    <tr>\n",
              "      <th>4.0 out of 5 stars</th>\n",
              "      <td>25.881130</td>\n",
              "    </tr>\n",
              "    <tr>\n",
              "      <th>5.0 out of 5 stars</th>\n",
              "      <td>58.460111</td>\n",
              "    </tr>\n",
              "  </tbody>\n",
              "</table>\n",
              "</div>"
            ],
            "text/plain": [
              "                    Review body\n",
              "Review rating                  \n",
              "1.0 out of 5 stars     8.546573\n",
              "2.0 out of 5 stars     2.770896\n",
              "3.0 out of 5 stars     4.327689\n",
              "4.0 out of 5 stars    25.881130\n",
              "5.0 out of 5 stars    58.460111"
            ]
          },
          "metadata": {
            "tags": []
          },
          "execution_count": 10
        }
      ]
    },
    {
      "cell_type": "code",
      "metadata": {
        "id": "oLjr6Se0e_ga"
      },
      "source": [
        "temp_=df_review[['Review rating','Review body']].groupby('Review rating').count()*100/len(df_review)"
      ],
      "execution_count": 11,
      "outputs": []
    },
    {
      "cell_type": "code",
      "metadata": {
        "colab": {
          "base_uri": "https://localhost:8080/",
          "height": 334
        },
        "id": "CD4ZuE7Vdmyp",
        "outputId": "16ed9fc0-b14f-480e-ebc6-fecd4aea5413"
      },
      "source": [
        "plt.figure(figsize=(10,5))\n",
        "sns.barplot(x=temp_.index, y=temp_['Review body'])\n",
        "#sns.barplot(temp_.index,'Review body', data=temp_)\n",
        "plt.show()"
      ],
      "execution_count": null,
      "outputs": [
        {
          "output_type": "display_data",
          "data": {
            "image/png": "[encoded data removed]",
            "text/plain": [
              "<Figure size 720x360 with 1 Axes>"
            ]
          },
          "metadata": {
            "tags": [],
            "needs_background": "light"
          }
        }
      ]
    },
    {
      "cell_type": "code",
      "metadata": {
        "colab": {
          "base_uri": "https://localhost:8080/"
        },
        "id": "tnxLEk0ChcLs",
        "outputId": "1e04be5d-0066-490e-c9bf-5d28d4dfa3d3"
      },
      "source": [
        "len(temp_)"
      ],
      "execution_count": null,
      "outputs": [
        {
          "output_type": "execute_result",
          "data": {
            "text/plain": [
              "5"
            ]
          },
          "metadata": {
            "tags": []
          },
          "execution_count": 14
        }
      ]
    },
    {
      "cell_type": "code",
      "metadata": {
        "colab": {
          "base_uri": "https://localhost:8080/"
        },
        "id": "VUYWKJzYg94z",
        "outputId": "f6fbb0df-d49f-4669-c4d0-1f864315455f"
      },
      "source": [
        "len(temp_.sample(frac=0.5))"
      ],
      "execution_count": null,
      "outputs": [
        {
          "output_type": "execute_result",
          "data": {
            "text/plain": [
              "2"
            ]
          },
          "metadata": {
            "tags": []
          },
          "execution_count": 66
        }
      ]
    },
    {
      "cell_type": "code",
      "metadata": {
        "id": "MvQa0AatmLsc"
      },
      "source": [
        "df_final=pd.DataFrame()"
      ],
      "execution_count": 14,
      "outputs": []
    },
    {
      "cell_type": "code",
      "metadata": {
        "id": "v51TdtKShZEN"
      },
      "source": [
        "#undersampling of majority /class\n",
        "temp_= temp_=df_review[df_review['Review rating']=='5.0 out of 5 stars']\n",
        "temp_=temp_.sample(frac=0.5)\n",
        "df_final=pd.concat([df_final,temp_],axis=0)"
      ],
      "execution_count": 15,
      "outputs": []
    },
    {
      "cell_type": "code",
      "metadata": {
        "id": "A7BfRzomm-t2"
      },
      "source": [
        "#Over Sampling\n",
        "temp_= temp_=df_review[df_review['Review rating']=='1.0 out of 5 stars']\n",
        "temp_=temp_.sample(frac=1.3, replace=True)\n",
        "df_final=pd.concat([df_final,temp_],axis=0)"
      ],
      "execution_count": 16,
      "outputs": []
    },
    {
      "cell_type": "code",
      "metadata": {
        "id": "2VtARvlcnWHO"
      },
      "source": [
        "temp_= temp_=df_review[df_review['Review rating']=='2.0 out of 5 stars']\n",
        "temp_=temp_.sample(frac=2.2, replace=True)\n",
        "df_final=pd.concat([df_final,temp_],axis=0)"
      ],
      "execution_count": 17,
      "outputs": []
    },
    {
      "cell_type": "code",
      "metadata": {
        "id": "EqPa4Nynnpi7"
      },
      "source": [
        "temp_= temp_=df_review[df_review['Review rating']=='3.0 out of 5 stars']\n",
        "temp_=temp_.sample(frac=1.5, replace=True)\n",
        "df_final=pd.concat([df_final,temp_],axis=0)"
      ],
      "execution_count": 18,
      "outputs": []
    },
    {
      "cell_type": "code",
      "metadata": {
        "id": "e2U2_l6Gn1ei"
      },
      "source": [
        "temp_= temp_=df_review[df_review['Review rating']=='4.0 out of 5 stars']\n",
        "df_final=pd.concat([df_final,temp_],axis=0)"
      ],
      "execution_count": 19,
      "outputs": []
    },
    {
      "cell_type": "code",
      "metadata": {
        "colab": {
          "base_uri": "https://localhost:8080/"
        },
        "id": "K1fw6AxAoyHU",
        "outputId": "753adcdc-b0a3-4ecc-843d-79b86c2f4a0f"
      },
      "source": [
        "df_final.shape"
      ],
      "execution_count": 20,
      "outputs": [
        {
          "output_type": "execute_result",
          "data": {
            "text/plain": [
              "(324534, 5)"
            ]
          },
          "metadata": {
            "tags": []
          },
          "execution_count": 20
        }
      ]
    },
    {
      "cell_type": "code",
      "metadata": {
        "colab": {
          "base_uri": "https://localhost:8080/",
          "height": 334
        },
        "id": "QlXMWqmWn8VP",
        "outputId": "f50d6fb1-7de9-4707-9ca5-f889f14031cb"
      },
      "source": [
        "temp_=df_final[['Review rating', 'Review body']].groupby('Review rating').count()*100/len(df_final)\n",
        "plt.figure(figsize=(10,5))\n",
        "sns.barplot(x=temp_.index, y=temp_['Review body'])\n",
        "#sns.barplot(temp_.index,'Review body', data=temp_)\n",
        "plt.show()"
      ],
      "execution_count": 21,
      "outputs": [
        {
          "output_type": "display_data",
          "data": {
            "image/png": "[encoded data removed]",
            "text/plain": [
              "<Figure size 720x360 with 1 Axes>"
            ]
          },
          "metadata": {
            "tags": [],
            "needs_background": "light"
          }
        }
      ]
    },
    {
      "cell_type": "code",
      "metadata": {
        "id": "-z-4lnOpoU03"
      },
      "source": [
        "df.final=df_final.sample(frac=1) #shuffling the database"
      ],
      "execution_count": 22,
      "outputs": []
    },
    {
      "cell_type": "code",
      "metadata": {
        "id": "z536VIR5pM2b"
      },
      "source": [
        "df.final.reset_index(drop=True, inplace=True)"
      ],
      "execution_count": 23,
      "outputs": []
    },
    {
      "cell_type": "code",
      "metadata": {
        "colab": {
          "base_uri": "https://localhost:8080/"
        },
        "id": "fjDANh1GuOiy",
        "outputId": "dd801a8e-04c5-4db8-f312-529fff207835"
      },
      "source": [
        "df_final.isnull().sum()"
      ],
      "execution_count": 24,
      "outputs": [
        {
          "output_type": "execute_result",
          "data": {
            "text/plain": [
              "Reviewer name     1\n",
              "title            50\n",
              "Review body      38\n",
              "Review rating     0\n",
              "sentiment         0\n",
              "dtype: int64"
            ]
          },
          "metadata": {
            "tags": []
          },
          "execution_count": 24
        }
      ]
    },
    {
      "cell_type": "code",
      "metadata": {
        "id": "x_ZpWbYHuZkI"
      },
      "source": [
        "df_final.dropna(inplace=True)"
      ],
      "execution_count": 25,
      "outputs": []
    },
    {
      "cell_type": "code",
      "metadata": {
        "colab": {
          "base_uri": "https://localhost:8080/"
        },
        "id": "tRhAJVkkujRw",
        "outputId": "b0587e45-c6bb-46c3-8023-2909153139ed"
      },
      "source": [
        "df_final.isnull().sum()"
      ],
      "execution_count": 26,
      "outputs": [
        {
          "output_type": "execute_result",
          "data": {
            "text/plain": [
              "Reviewer name    0\n",
              "title            0\n",
              "Review body      0\n",
              "Review rating    0\n",
              "sentiment        0\n",
              "dtype: int64"
            ]
          },
          "metadata": {
            "tags": []
          },
          "execution_count": 26
        }
      ]
    },
    {
      "cell_type": "markdown",
      "metadata": {
        "id": "gnhp4N_EtAdW"
      },
      "source": [
        "MODEL BUILDING"
      ]
    },
    {
      "cell_type": "code",
      "metadata": {
        "id": "yVWJTvlNq8mo"
      },
      "source": [
        "x= df_final['Review body']\n",
        "y= df_final['Review rating']"
      ],
      "execution_count": 27,
      "outputs": []
    },
    {
      "cell_type": "code",
      "metadata": {
        "colab": {
          "base_uri": "https://localhost:8080/"
        },
        "id": "xenwnOdJ-xmP",
        "outputId": "a24e1f37-dbf4-458b-8a16-a067ab9c3869"
      },
      "source": [
        "x.shape"
      ],
      "execution_count": null,
      "outputs": [
        {
          "output_type": "execute_result",
          "data": {
            "text/plain": [
              "(324470, 2)"
            ]
          },
          "metadata": {
            "tags": []
          },
          "execution_count": 50
        }
      ]
    },
    {
      "cell_type": "code",
      "metadata": {
        "id": "V7d7UKZXtMxK"
      },
      "source": [
        "x_train,x_test,y_train,y_test=train_test_split(x,y,test_size=0.3,random_state=123)"
      ],
      "execution_count": 28,
      "outputs": []
    },
    {
      "cell_type": "code",
      "metadata": {
        "id": "3Tgs2nDxtdNc"
      },
      "source": [
        "pipe_line=make_pipeline(TfidfVectorizer(),LinearSVC(class_weight='balanced'))"
      ],
      "execution_count": 29,
      "outputs": []
    },
    {
      "cell_type": "code",
      "metadata": {
        "colab": {
          "base_uri": "https://localhost:8080/"
        },
        "id": "6_yt11xqtzlT",
        "outputId": "5a64e136-6271-4376-da59-db4e82e732a1"
      },
      "source": [
        "pipe_line.fit(x_train,y_train)"
      ],
      "execution_count": 30,
      "outputs": [
        {
          "output_type": "execute_result",
          "data": {
            "text/plain": [
              "Pipeline(memory=None,\n",
              "         steps=[('tfidfvectorizer',\n",
              "                 TfidfVectorizer(analyzer='word', binary=False,\n",
              "                                 decode_error='strict',\n",
              "                                 dtype=<class 'numpy.float64'>,\n",
              "                                 encoding='utf-8', input='content',\n",
              "                                 lowercase=True, max_df=1.0, max_features=None,\n",
              "                                 min_df=1, ngram_range=(1, 1), norm='l2',\n",
              "                                 preprocessor=None, smooth_idf=True,\n",
              "                                 stop_words=None, strip_accents=None,\n",
              "                                 sublinear_tf=False,\n",
              "                                 token_pattern='(?u)\\\\b\\\\w\\\\w+\\\\b',\n",
              "                                 tokenizer=None, use_idf=True,\n",
              "                                 vocabulary=None)),\n",
              "                ('linearsvc',\n",
              "                 LinearSVC(C=1.0, class_weight='balanced', dual=True,\n",
              "                           fit_intercept=True, intercept_scaling=1,\n",
              "                           loss='squared_hinge', max_iter=1000,\n",
              "                           multi_class='ovr', penalty='l2', random_state=None,\n",
              "                           tol=0.0001, verbose=0))],\n",
              "         verbose=False)"
            ]
          },
          "metadata": {
            "tags": []
          },
          "execution_count": 30
        }
      ]
    },
    {
      "cell_type": "code",
      "metadata": {
        "colab": {
          "base_uri": "https://localhost:8080/",
          "height": 357
        },
        "id": "tShLn1qVxRFa",
        "outputId": "1eb2740a-5830-40d1-f02b-a812d5b98af6"
      },
      "source": [
        "f1_train= metrics.f1_score(y_train,pipe_line.predict(x_train))\n",
        "f1_test= metrics.f1_score(y_test,pipe_line.predict(x_test))\n",
        "cross_val= np.mean(cross_val_score(pipe_line, x_train,y_train, scoring='f1'))\n",
        "print('F1-Score: \\n Train:{} Test: {} Cross_val: {}'.format(f1_train,f1_test,cross_val))"
      ],
      "execution_count": 31,
      "outputs": [
        {
          "output_type": "error",
          "ename": "ValueError",
          "evalue": "ignored",
          "traceback": [
            "\u001b[0;31m---------------------------------------------------------------------------\u001b[0m",
            "\u001b[0;31mValueError\u001b[0m                                Traceback (most recent call last)",
            "\u001b[0;32m<ipython-input-31-2880e861a205>\u001b[0m in \u001b[0;36m<module>\u001b[0;34m()\u001b[0m\n\u001b[0;32m----> 1\u001b[0;31m \u001b[0mf1_train\u001b[0m\u001b[0;34m=\u001b[0m \u001b[0mmetrics\u001b[0m\u001b[0;34m.\u001b[0m\u001b[0mf1_score\u001b[0m\u001b[0;34m(\u001b[0m\u001b[0my_train\u001b[0m\u001b[0;34m,\u001b[0m\u001b[0mpipe_line\u001b[0m\u001b[0;34m.\u001b[0m\u001b[0mpredict\u001b[0m\u001b[0;34m(\u001b[0m\u001b[0mx_train\u001b[0m\u001b[0;34m)\u001b[0m\u001b[0;34m)\u001b[0m\u001b[0;34m\u001b[0m\u001b[0;34m\u001b[0m\u001b[0m\n\u001b[0m\u001b[1;32m      2\u001b[0m \u001b[0mf1_test\u001b[0m\u001b[0;34m=\u001b[0m \u001b[0mmetrics\u001b[0m\u001b[0;34m.\u001b[0m\u001b[0mf1_score\u001b[0m\u001b[0;34m(\u001b[0m\u001b[0my_test\u001b[0m\u001b[0;34m,\u001b[0m\u001b[0mpipe_line\u001b[0m\u001b[0;34m.\u001b[0m\u001b[0mpredict\u001b[0m\u001b[0;34m(\u001b[0m\u001b[0mx_test\u001b[0m\u001b[0;34m)\u001b[0m\u001b[0;34m)\u001b[0m\u001b[0;34m\u001b[0m\u001b[0;34m\u001b[0m\u001b[0m\n\u001b[1;32m      3\u001b[0m \u001b[0mcross_val\u001b[0m\u001b[0;34m=\u001b[0m \u001b[0mnp\u001b[0m\u001b[0;34m.\u001b[0m\u001b[0mmean\u001b[0m\u001b[0;34m(\u001b[0m\u001b[0mcross_val_score\u001b[0m\u001b[0;34m(\u001b[0m\u001b[0mpipe_line\u001b[0m\u001b[0;34m,\u001b[0m \u001b[0mx_train\u001b[0m\u001b[0;34m,\u001b[0m\u001b[0my_train\u001b[0m\u001b[0;34m,\u001b[0m \u001b[0mscoring\u001b[0m\u001b[0;34m=\u001b[0m\u001b[0;34m'f1'\u001b[0m\u001b[0;34m)\u001b[0m\u001b[0;34m)\u001b[0m\u001b[0;34m\u001b[0m\u001b[0;34m\u001b[0m\u001b[0m\n\u001b[1;32m      4\u001b[0m \u001b[0mprint\u001b[0m\u001b[0;34m(\u001b[0m\u001b[0;34m'F1-Score: \\n Train:{} Test: {} Cross_val: {}'\u001b[0m\u001b[0;34m.\u001b[0m\u001b[0mformat\u001b[0m\u001b[0;34m(\u001b[0m\u001b[0mf1_train\u001b[0m\u001b[0;34m,\u001b[0m\u001b[0mf1_test\u001b[0m\u001b[0;34m,\u001b[0m\u001b[0mcross_val\u001b[0m\u001b[0;34m)\u001b[0m\u001b[0;34m)\u001b[0m\u001b[0;34m\u001b[0m\u001b[0;34m\u001b[0m\u001b[0m\n",
            "\u001b[0;32m/usr/local/lib/python3.7/dist-packages/sklearn/metrics/_classification.py\u001b[0m in \u001b[0;36mf1_score\u001b[0;34m(y_true, y_pred, labels, pos_label, average, sample_weight, zero_division)\u001b[0m\n\u001b[1;32m   1097\u001b[0m                        \u001b[0mpos_label\u001b[0m\u001b[0;34m=\u001b[0m\u001b[0mpos_label\u001b[0m\u001b[0;34m,\u001b[0m \u001b[0maverage\u001b[0m\u001b[0;34m=\u001b[0m\u001b[0maverage\u001b[0m\u001b[0;34m,\u001b[0m\u001b[0;34m\u001b[0m\u001b[0;34m\u001b[0m\u001b[0m\n\u001b[1;32m   1098\u001b[0m                        \u001b[0msample_weight\u001b[0m\u001b[0;34m=\u001b[0m\u001b[0msample_weight\u001b[0m\u001b[0;34m,\u001b[0m\u001b[0;34m\u001b[0m\u001b[0;34m\u001b[0m\u001b[0m\n\u001b[0;32m-> 1099\u001b[0;31m                        zero_division=zero_division)\n\u001b[0m\u001b[1;32m   1100\u001b[0m \u001b[0;34m\u001b[0m\u001b[0m\n\u001b[1;32m   1101\u001b[0m \u001b[0;34m\u001b[0m\u001b[0m\n",
            "\u001b[0;32m/usr/local/lib/python3.7/dist-packages/sklearn/metrics/_classification.py\u001b[0m in \u001b[0;36mfbeta_score\u001b[0;34m(y_true, y_pred, beta, labels, pos_label, average, sample_weight, zero_division)\u001b[0m\n\u001b[1;32m   1224\u001b[0m                                                  \u001b[0mwarn_for\u001b[0m\u001b[0;34m=\u001b[0m\u001b[0;34m(\u001b[0m\u001b[0;34m'f-score'\u001b[0m\u001b[0;34m,\u001b[0m\u001b[0;34m)\u001b[0m\u001b[0;34m,\u001b[0m\u001b[0;34m\u001b[0m\u001b[0;34m\u001b[0m\u001b[0m\n\u001b[1;32m   1225\u001b[0m                                                  \u001b[0msample_weight\u001b[0m\u001b[0;34m=\u001b[0m\u001b[0msample_weight\u001b[0m\u001b[0;34m,\u001b[0m\u001b[0;34m\u001b[0m\u001b[0;34m\u001b[0m\u001b[0m\n\u001b[0;32m-> 1226\u001b[0;31m                                                  zero_division=zero_division)\n\u001b[0m\u001b[1;32m   1227\u001b[0m     \u001b[0;32mreturn\u001b[0m \u001b[0mf\u001b[0m\u001b[0;34m\u001b[0m\u001b[0;34m\u001b[0m\u001b[0m\n\u001b[1;32m   1228\u001b[0m \u001b[0;34m\u001b[0m\u001b[0m\n",
            "\u001b[0;32m/usr/local/lib/python3.7/dist-packages/sklearn/metrics/_classification.py\u001b[0m in \u001b[0;36mprecision_recall_fscore_support\u001b[0;34m(y_true, y_pred, beta, labels, pos_label, average, warn_for, sample_weight, zero_division)\u001b[0m\n\u001b[1;32m   1482\u001b[0m         \u001b[0;32mraise\u001b[0m \u001b[0mValueError\u001b[0m\u001b[0;34m(\u001b[0m\u001b[0;34m\"beta should be >=0 in the F-beta score\"\u001b[0m\u001b[0;34m)\u001b[0m\u001b[0;34m\u001b[0m\u001b[0;34m\u001b[0m\u001b[0m\n\u001b[1;32m   1483\u001b[0m     labels = _check_set_wise_labels(y_true, y_pred, average, labels,\n\u001b[0;32m-> 1484\u001b[0;31m                                     pos_label)\n\u001b[0m\u001b[1;32m   1485\u001b[0m \u001b[0;34m\u001b[0m\u001b[0m\n\u001b[1;32m   1486\u001b[0m     \u001b[0;31m# Calculate tp_sum, pred_sum, true_sum ###\u001b[0m\u001b[0;34m\u001b[0m\u001b[0;34m\u001b[0m\u001b[0;34m\u001b[0m\u001b[0m\n",
            "\u001b[0;32m/usr/local/lib/python3.7/dist-packages/sklearn/metrics/_classification.py\u001b[0m in \u001b[0;36m_check_set_wise_labels\u001b[0;34m(y_true, y_pred, average, labels, pos_label)\u001b[0m\n\u001b[1;32m   1314\u001b[0m             raise ValueError(\"Target is %s but average='binary'. Please \"\n\u001b[1;32m   1315\u001b[0m                              \u001b[0;34m\"choose another average setting, one of %r.\"\u001b[0m\u001b[0;34m\u001b[0m\u001b[0;34m\u001b[0m\u001b[0m\n\u001b[0;32m-> 1316\u001b[0;31m                              % (y_type, average_options))\n\u001b[0m\u001b[1;32m   1317\u001b[0m     \u001b[0;32melif\u001b[0m \u001b[0mpos_label\u001b[0m \u001b[0;32mnot\u001b[0m \u001b[0;32min\u001b[0m \u001b[0;34m(\u001b[0m\u001b[0;32mNone\u001b[0m\u001b[0;34m,\u001b[0m \u001b[0;36m1\u001b[0m\u001b[0;34m)\u001b[0m\u001b[0;34m:\u001b[0m\u001b[0;34m\u001b[0m\u001b[0;34m\u001b[0m\u001b[0m\n\u001b[1;32m   1318\u001b[0m         warnings.warn(\"Note that pos_label (set to %r) is ignored when \"\n",
            "\u001b[0;31mValueError\u001b[0m: Target is multiclass but average='binary'. Please choose another average setting, one of [None, 'micro', 'macro', 'weighted']."
          ]
        }
      ]
    },
    {
      "cell_type": "code",
      "metadata": {
        "colab": {
          "base_uri": "https://localhost:8080/",
          "height": 163
        },
        "id": "5l8mQj1XuulH",
        "outputId": "9d6a01c7-66ef-4adf-abdd-3eaf7d115aec"
      },
      "source": [
        "metrics.get_scorer"
      ],
      "execution_count": null,
      "outputs": [
        {
          "output_type": "error",
          "ename": "TypeError",
          "evalue": "ignored",
          "traceback": [
            "\u001b[0;31m---------------------------------------------------------------------------\u001b[0m",
            "\u001b[0;31mTypeError\u001b[0m                                 Traceback (most recent call last)",
            "\u001b[0;32m<ipython-input-39-5b145d181360>\u001b[0m in \u001b[0;36m<module>\u001b[0;34m()\u001b[0m\n\u001b[0;32m----> 1\u001b[0;31m \u001b[0mmetrics\u001b[0m\u001b[0;34m.\u001b[0m\u001b[0mget_scorer\u001b[0m\u001b[0;34m(\u001b[0m\u001b[0;34m)\u001b[0m\u001b[0;34m\u001b[0m\u001b[0;34m\u001b[0m\u001b[0m\n\u001b[0m",
            "\u001b[0;31mTypeError\u001b[0m: get_scorer() missing 1 required positional argument: 'scoring'"
          ]
        }
      ]
    },
    {
      "cell_type": "code",
      "metadata": {
        "colab": {
          "base_uri": "https://localhost:8080/"
        },
        "id": "0-qPW0F178CB",
        "outputId": "1f42b29f-af94-45c6-e63c-09e60d6165ff"
      },
      "source": [
        "print(metrics.classification_report(y_test,pipe_line.predict(x_test)))"
      ],
      "execution_count": 31,
      "outputs": [
        {
          "output_type": "stream",
          "text": [
            "                    precision    recall  f1-score   support\n",
            "\n",
            "1.0 out of 5 stars       0.68      0.79      0.73     13842\n",
            "2.0 out of 5 stars       0.47      0.57      0.51      7535\n",
            "3.0 out of 5 stars       0.40      0.46      0.42      7893\n",
            "4.0 out of 5 stars       0.58      0.47      0.52     31957\n",
            "5.0 out of 5 stars       0.67      0.69      0.68     36111\n",
            "\n",
            "          accuracy                           0.60     97338\n",
            "         macro avg       0.56      0.60      0.57     97338\n",
            "      weighted avg       0.60      0.60      0.60     97338\n",
            "\n"
          ],
          "name": "stdout"
        }
      ]
    },
    {
      "cell_type": "code",
      "metadata": {
        "id": "DTr8l6Wf9Cf5"
      },
      "source": [
        "x= df_final['Review body']+ df_final['title']\n",
        "y= df_final['Review rating']"
      ],
      "execution_count": 33,
      "outputs": []
    },
    {
      "cell_type": "code",
      "metadata": {
        "colab": {
          "base_uri": "https://localhost:8080/"
        },
        "id": "OGNJE6go97m_",
        "outputId": "a6335831-0eb8-4d17-a720-a6945500d33c"
      },
      "source": [
        "x.shape"
      ],
      "execution_count": null,
      "outputs": [
        {
          "output_type": "execute_result",
          "data": {
            "text/plain": [
              "(324470, 2)"
            ]
          },
          "metadata": {
            "tags": []
          },
          "execution_count": 53
        }
      ]
    },
    {
      "cell_type": "code",
      "metadata": {
        "id": "myxMcAoz98k3"
      },
      "source": [
        "x_train,x_test,y_train,y_test=train_test_split(x,y,test_size=0.3,random_state=123)"
      ],
      "execution_count": 34,
      "outputs": []
    },
    {
      "cell_type": "code",
      "metadata": {
        "colab": {
          "base_uri": "https://localhost:8080/",
          "height": 35
        },
        "id": "z2f5tTKsEOXe",
        "outputId": "bdc3f839-de23-49dd-f7d4-6873bbc6ae8f"
      },
      "source": [
        "df.loc[36884] ['Review body']"
      ],
      "execution_count": null,
      "outputs": [
        {
          "output_type": "execute_result",
          "data": {
            "application/vnd.google.colaboratory.intrinsic+json": {
              "type": "string"
            },
            "text/plain": [
              "'I am writing after 3 days of use, I can say the earphones are light weight and form good fit. The battery life is also pretty good'"
            ]
          },
          "metadata": {
            "tags": []
          },
          "execution_count": 75
        }
      ]
    },
    {
      "cell_type": "code",
      "metadata": {
        "colab": {
          "base_uri": "https://localhost:8080/",
          "height": 35
        },
        "id": "HaLbQHeHEAAf",
        "outputId": "196a7db7-5358-411e-8f57-661876e522ce"
      },
      "source": [
        "x.loc[36884]"
      ],
      "execution_count": null,
      "outputs": [
        {
          "output_type": "execute_result",
          "data": {
            "application/vnd.google.colaboratory.intrinsic+json": {
              "type": "string"
            },
            "text/plain": [
              "'I am writing after 3 days of use, I can say the earphones are light weight and form good fit. The battery life is also pretty goodGood fit'"
            ]
          },
          "metadata": {
            "tags": []
          },
          "execution_count": 73
        }
      ]
    },
    {
      "cell_type": "code",
      "metadata": {
        "colab": {
          "base_uri": "https://localhost:8080/"
        },
        "id": "__yGeCPoDxCD",
        "outputId": "83621962-3f98-4a74-ff06-7798fdd3eb5e"
      },
      "source": [
        "x.head(5)"
      ],
      "execution_count": null,
      "outputs": [
        {
          "output_type": "execute_result",
          "data": {
            "text/plain": [
              "36884     I am writing after 3 days of use, I can say th...\n",
              "50093     I Purchased this earphones great Indian festiv...\n",
              "197644    Nice earbud s good sound quality best bass qua...\n",
              "277669    Superbly matches the screen size of Redmi Note...\n",
              "241111    Worst earphone. Earphones stopped working afte...\n",
              "dtype: object"
            ]
          },
          "metadata": {
            "tags": []
          },
          "execution_count": 72
        }
      ]
    },
    {
      "cell_type": "code",
      "metadata": {
        "colab": {
          "base_uri": "https://localhost:8080/"
        },
        "id": "EN8eG0qlAm0Z",
        "outputId": "f3259aee-6402-4357-d34d-78ca007beb46"
      },
      "source": [
        "x_train.shape"
      ],
      "execution_count": 35,
      "outputs": [
        {
          "output_type": "execute_result",
          "data": {
            "text/plain": [
              "(227123,)"
            ]
          },
          "metadata": {
            "tags": []
          },
          "execution_count": 35
        }
      ]
    },
    {
      "cell_type": "code",
      "metadata": {
        "colab": {
          "base_uri": "https://localhost:8080/"
        },
        "id": "tzRlTi7qA31M",
        "outputId": "17c4f024-d744-4cfd-c6c8-94fd7f70d81e"
      },
      "source": [
        "y_train.shape"
      ],
      "execution_count": null,
      "outputs": [
        {
          "output_type": "execute_result",
          "data": {
            "text/plain": [
              "(227129,)"
            ]
          },
          "metadata": {
            "tags": []
          },
          "execution_count": 70
        }
      ]
    },
    {
      "cell_type": "code",
      "metadata": {
        "colab": {
          "base_uri": "https://localhost:8080/"
        },
        "id": "snSanHoy-DPB",
        "outputId": "f069bd9f-4be2-4cf8-99d1-9bd67963cb9d"
      },
      "source": [
        "pipe_line=make_pipeline(TfidfVectorizer(),LinearSVC(class_weight='balanced'))\n",
        "pipe_line.fit(x_train,y_train)"
      ],
      "execution_count": 36,
      "outputs": [
        {
          "output_type": "execute_result",
          "data": {
            "text/plain": [
              "Pipeline(memory=None,\n",
              "         steps=[('tfidfvectorizer',\n",
              "                 TfidfVectorizer(analyzer='word', binary=False,\n",
              "                                 decode_error='strict',\n",
              "                                 dtype=<class 'numpy.float64'>,\n",
              "                                 encoding='utf-8', input='content',\n",
              "                                 lowercase=True, max_df=1.0, max_features=None,\n",
              "                                 min_df=1, ngram_range=(1, 1), norm='l2',\n",
              "                                 preprocessor=None, smooth_idf=True,\n",
              "                                 stop_words=None, strip_accents=None,\n",
              "                                 sublinear_tf=False,\n",
              "                                 token_pattern='(?u)\\\\b\\\\w\\\\w+\\\\b',\n",
              "                                 tokenizer=None, use_idf=True,\n",
              "                                 vocabulary=None)),\n",
              "                ('linearsvc',\n",
              "                 LinearSVC(C=1.0, class_weight='balanced', dual=True,\n",
              "                           fit_intercept=True, intercept_scaling=1,\n",
              "                           loss='squared_hinge', max_iter=1000,\n",
              "                           multi_class='ovr', penalty='l2', random_state=None,\n",
              "                           tol=0.0001, verbose=0))],\n",
              "         verbose=False)"
            ]
          },
          "metadata": {
            "tags": []
          },
          "execution_count": 36
        }
      ]
    },
    {
      "cell_type": "code",
      "metadata": {
        "colab": {
          "base_uri": "https://localhost:8080/"
        },
        "id": "vaN4WBmB-f2V",
        "outputId": "a5db5021-b164-4a60-c34e-37fcdf71e02f"
      },
      "source": [
        "print(metrics.classification_report(y_test,pipe_line.predict(x_test)))"
      ],
      "execution_count": 37,
      "outputs": [
        {
          "output_type": "stream",
          "text": [
            "                    precision    recall  f1-score   support\n",
            "\n",
            "1.0 out of 5 stars       0.75      0.83      0.79     13773\n",
            "2.0 out of 5 stars       0.57      0.67      0.62      7588\n",
            "3.0 out of 5 stars       0.49      0.57      0.53      7926\n",
            "4.0 out of 5 stars       0.61      0.53      0.57     31941\n",
            "5.0 out of 5 stars       0.70      0.70      0.70     36111\n",
            "\n",
            "          accuracy                           0.65     97339\n",
            "         macro avg       0.62      0.66      0.64     97339\n",
            "      weighted avg       0.65      0.65      0.65     97339\n",
            "\n"
          ],
          "name": "stdout"
        }
      ]
    },
    {
      "cell_type": "code",
      "metadata": {
        "colab": {
          "base_uri": "https://localhost:8080/"
        },
        "id": "oOtsIQC1DjnV",
        "outputId": "ca47564d-4e87-4046-8081-20e5c26f91fe"
      },
      "source": [
        "Counter(df['sentiment'])"
      ],
      "execution_count": null,
      "outputs": [
        {
          "output_type": "execute_result",
          "data": {
            "text/plain": [
              "Counter({'negative': 66657, 'positive': 383122})"
            ]
          },
          "metadata": {
            "tags": []
          },
          "execution_count": 77
        }
      ]
    },
    {
      "cell_type": "code",
      "metadata": {
        "id": "VYxRAdikE8wb"
      },
      "source": [
        "df['sentiment']= np.where(df['sentiment']=='positive',1,0)"
      ],
      "execution_count": 38,
      "outputs": []
    },
    {
      "cell_type": "code",
      "metadata": {
        "colab": {
          "base_uri": "https://localhost:8080/"
        },
        "id": "5i9eRSstFM3z",
        "outputId": "13a9f47e-27e3-416c-bdd2-ee23f7c22063"
      },
      "source": [
        "Counter(df['sentiment'])"
      ],
      "execution_count": null,
      "outputs": [
        {
          "output_type": "execute_result",
          "data": {
            "text/plain": [
              "Counter({0: 66657, 1: 383122})"
            ]
          },
          "metadata": {
            "tags": []
          },
          "execution_count": 79
        }
      ]
    },
    {
      "cell_type": "code",
      "metadata": {
        "id": "G81pW4rFFPTC"
      },
      "source": [
        "x= df_final['Review body']+ df_final['title']\n",
        "y= df_final['sentiment']"
      ],
      "execution_count": 39,
      "outputs": []
    },
    {
      "cell_type": "code",
      "metadata": {
        "colab": {
          "base_uri": "https://localhost:8080/"
        },
        "id": "K4kjHeioGMF6",
        "outputId": "4cbd5b2c-133e-4b72-8caf-788fa6bd866f"
      },
      "source": [
        "x_train,x_test,y_train,y_test=train_test_split(x,y,test_size=0.3,random_state=123)\n",
        "pipe_line=make_pipeline(TfidfVectorizer(),LinearSVC(class_weight='balanced'))\n",
        "pipe_line.fit(x_train,y_train)\n",
        "print(metrics.classification_report(y_test,pipe_line.predict(x_test)))"
      ],
      "execution_count": 40,
      "outputs": [
        {
          "output_type": "stream",
          "text": [
            "              precision    recall  f1-score   support\n",
            "\n",
            "    negative       0.81      0.91      0.86     29286\n",
            "    positive       0.96      0.91      0.93     68053\n",
            "\n",
            "    accuracy                           0.91     97339\n",
            "   macro avg       0.88      0.91      0.89     97339\n",
            "weighted avg       0.91      0.91      0.91     97339\n",
            "\n"
          ],
          "name": "stdout"
        }
      ]
    },
    {
      "cell_type": "code",
      "metadata": {
        "colab": {
          "base_uri": "https://localhost:8080/"
        },
        "id": "c4S8nv0oFV2h",
        "outputId": "3c48f325-42c5-458b-c486-668226d87316"
      },
      "source": [
        ""
      ],
      "execution_count": null,
      "outputs": [
        {
          "output_type": "stream",
          "text": [
            "                    precision    recall  f1-score   support\n",
            "\n",
            "1.0 out of 5 stars       0.74      0.85      0.79     13774\n",
            "2.0 out of 5 stars       0.70      0.53      0.61      7546\n",
            "3.0 out of 5 stars       0.67      0.41      0.51      7970\n",
            "4.0 out of 5 stars       0.56      0.56      0.56     31960\n",
            "5.0 out of 5 stars       0.66      0.71      0.68     36091\n",
            "\n",
            "          accuracy                           0.64     97341\n",
            "         macro avg       0.67      0.61      0.63     97341\n",
            "      weighted avg       0.64      0.64      0.64     97341\n",
            "\n"
          ],
          "name": "stdout"
        }
      ]
    },
    {
      "cell_type": "code",
      "metadata": {
        "id": "Tf-SRs0vFiU0"
      },
      "source": [
        "import pickle #saving model using pickle"
      ],
      "execution_count": 2,
      "outputs": []
    },
    {
      "cell_type": "code",
      "metadata": {
        "id": "5TKwBj5ksnMJ"
      },
      "source": [
        "#save the file to disk\n",
        "\n",
        "filename= 'review_rating.sav'\n",
        "pickle.dump(pipe_line, open(filename,'wb'))"
      ],
      "execution_count": 34,
      "outputs": []
    },
    {
      "cell_type": "code",
      "metadata": {
        "id": "8lmHlpCAs3sY"
      },
      "source": [
        ""
      ],
      "execution_count": null,
      "outputs": []
    }
  ]
}