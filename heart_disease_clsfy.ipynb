{
  "nbformat": 4,
  "nbformat_minor": 0,
  "metadata": {
    "colab": {
      "name": "heart disease clsfy.ipynb",
      "provenance": [],
      "collapsed_sections": [],
      "include_colab_link": true
    },
    "kernelspec": {
      "name": "python3",
      "display_name": "Python 3"
    },
    "language_info": {
      "name": "python"
    }
  },
  "cells": [
    {
      "cell_type": "markdown",
      "metadata": {
        "id": "view-in-github",
        "colab_type": "text"
      },
      "source": [
        "<a href=\"https://colab.research.google.com/github/John260260/Classification_problms_ML/blob/main/heart_disease_clsfy.ipynb\" target=\"_parent\"><img src=\"https://colab.research.google.com/assets/colab-badge.svg\" alt=\"Open In Colab\"/></a>"
      ]
    },
    {
      "cell_type": "code",
      "metadata": {
        "id": "u4qmNNbAPSGS"
      },
      "source": [
        "import pandas as pd\n",
        "import numpy as np\n",
        "from sklearn.tree import DecisionTreeClassifier\n",
        "from sklearn.ensemble import RandomForestClassifier\n",
        "import xgboost\n",
        "from sklearn.linear_model import LogisticRegression\n",
        "from sklearn.preprocessing import StandardScaler\n",
        "from sklearn import metrics\n",
        "from sklearn.model_selection import GridSearchCV,train_test_split\n",
        "import seaborn as sns\n",
        "from collections import Counter\n",
        "import matplotlib.pyplot as plt\n",
        "%matplotlib inline"
      ],
      "execution_count": null,
      "outputs": []
    },
    {
      "cell_type": "code",
      "metadata": {
        "id": "ExHkUUBeLXu1"
      },
      "source": [
        "df = pd.read_csv('/content/drive/MyDrive/heart.csv')"
      ],
      "execution_count": null,
      "outputs": []
    },
    {
      "cell_type": "code",
      "metadata": {
        "colab": {
          "base_uri": "https://localhost:8080/",
          "height": 359
        },
        "id": "dQnhIGRHSWf-",
        "outputId": "2d4d9947-4a19-4df3-ac15-be889ff425b4"
      },
      "source": [
        "df.head(10)"
      ],
      "execution_count": null,
      "outputs": [
        {
          "output_type": "execute_result",
          "data": {
            "text/html": [
              "<div>\n",
              "<style scoped>\n",
              "    .dataframe tbody tr th:only-of-type {\n",
              "        vertical-align: middle;\n",
              "    }\n",
              "\n",
              "    .dataframe tbody tr th {\n",
              "        vertical-align: top;\n",
              "    }\n",
              "\n",
              "    .dataframe thead th {\n",
              "        text-align: right;\n",
              "    }\n",
              "</style>\n",
              "<table border=\"1\" class=\"dataframe\">\n",
              "  <thead>\n",
              "    <tr style=\"text-align: right;\">\n",
              "      <th></th>\n",
              "      <th>age</th>\n",
              "      <th>sex</th>\n",
              "      <th>cp</th>\n",
              "      <th>trestbps</th>\n",
              "      <th>chol</th>\n",
              "      <th>fbs</th>\n",
              "      <th>restecg</th>\n",
              "      <th>thalach</th>\n",
              "      <th>exang</th>\n",
              "      <th>oldpeak</th>\n",
              "      <th>slope</th>\n",
              "      <th>ca</th>\n",
              "      <th>thal</th>\n",
              "      <th>target</th>\n",
              "    </tr>\n",
              "  </thead>\n",
              "  <tbody>\n",
              "    <tr>\n",
              "      <th>0</th>\n",
              "      <td>63</td>\n",
              "      <td>1</td>\n",
              "      <td>3</td>\n",
              "      <td>145</td>\n",
              "      <td>233</td>\n",
              "      <td>1</td>\n",
              "      <td>0</td>\n",
              "      <td>150</td>\n",
              "      <td>0</td>\n",
              "      <td>2.3</td>\n",
              "      <td>0</td>\n",
              "      <td>0</td>\n",
              "      <td>1</td>\n",
              "      <td>1</td>\n",
              "    </tr>\n",
              "    <tr>\n",
              "      <th>1</th>\n",
              "      <td>37</td>\n",
              "      <td>1</td>\n",
              "      <td>2</td>\n",
              "      <td>130</td>\n",
              "      <td>250</td>\n",
              "      <td>0</td>\n",
              "      <td>1</td>\n",
              "      <td>187</td>\n",
              "      <td>0</td>\n",
              "      <td>3.5</td>\n",
              "      <td>0</td>\n",
              "      <td>0</td>\n",
              "      <td>2</td>\n",
              "      <td>1</td>\n",
              "    </tr>\n",
              "    <tr>\n",
              "      <th>2</th>\n",
              "      <td>41</td>\n",
              "      <td>0</td>\n",
              "      <td>1</td>\n",
              "      <td>130</td>\n",
              "      <td>204</td>\n",
              "      <td>0</td>\n",
              "      <td>0</td>\n",
              "      <td>172</td>\n",
              "      <td>0</td>\n",
              "      <td>1.4</td>\n",
              "      <td>2</td>\n",
              "      <td>0</td>\n",
              "      <td>2</td>\n",
              "      <td>1</td>\n",
              "    </tr>\n",
              "    <tr>\n",
              "      <th>3</th>\n",
              "      <td>56</td>\n",
              "      <td>1</td>\n",
              "      <td>1</td>\n",
              "      <td>120</td>\n",
              "      <td>236</td>\n",
              "      <td>0</td>\n",
              "      <td>1</td>\n",
              "      <td>178</td>\n",
              "      <td>0</td>\n",
              "      <td>0.8</td>\n",
              "      <td>2</td>\n",
              "      <td>0</td>\n",
              "      <td>2</td>\n",
              "      <td>1</td>\n",
              "    </tr>\n",
              "    <tr>\n",
              "      <th>4</th>\n",
              "      <td>57</td>\n",
              "      <td>0</td>\n",
              "      <td>0</td>\n",
              "      <td>120</td>\n",
              "      <td>354</td>\n",
              "      <td>0</td>\n",
              "      <td>1</td>\n",
              "      <td>163</td>\n",
              "      <td>1</td>\n",
              "      <td>0.6</td>\n",
              "      <td>2</td>\n",
              "      <td>0</td>\n",
              "      <td>2</td>\n",
              "      <td>1</td>\n",
              "    </tr>\n",
              "    <tr>\n",
              "      <th>5</th>\n",
              "      <td>57</td>\n",
              "      <td>1</td>\n",
              "      <td>0</td>\n",
              "      <td>140</td>\n",
              "      <td>192</td>\n",
              "      <td>0</td>\n",
              "      <td>1</td>\n",
              "      <td>148</td>\n",
              "      <td>0</td>\n",
              "      <td>0.4</td>\n",
              "      <td>1</td>\n",
              "      <td>0</td>\n",
              "      <td>1</td>\n",
              "      <td>1</td>\n",
              "    </tr>\n",
              "    <tr>\n",
              "      <th>6</th>\n",
              "      <td>56</td>\n",
              "      <td>0</td>\n",
              "      <td>1</td>\n",
              "      <td>140</td>\n",
              "      <td>294</td>\n",
              "      <td>0</td>\n",
              "      <td>0</td>\n",
              "      <td>153</td>\n",
              "      <td>0</td>\n",
              "      <td>1.3</td>\n",
              "      <td>1</td>\n",
              "      <td>0</td>\n",
              "      <td>2</td>\n",
              "      <td>1</td>\n",
              "    </tr>\n",
              "    <tr>\n",
              "      <th>7</th>\n",
              "      <td>44</td>\n",
              "      <td>1</td>\n",
              "      <td>1</td>\n",
              "      <td>120</td>\n",
              "      <td>263</td>\n",
              "      <td>0</td>\n",
              "      <td>1</td>\n",
              "      <td>173</td>\n",
              "      <td>0</td>\n",
              "      <td>0.0</td>\n",
              "      <td>2</td>\n",
              "      <td>0</td>\n",
              "      <td>3</td>\n",
              "      <td>1</td>\n",
              "    </tr>\n",
              "    <tr>\n",
              "      <th>8</th>\n",
              "      <td>52</td>\n",
              "      <td>1</td>\n",
              "      <td>2</td>\n",
              "      <td>172</td>\n",
              "      <td>199</td>\n",
              "      <td>1</td>\n",
              "      <td>1</td>\n",
              "      <td>162</td>\n",
              "      <td>0</td>\n",
              "      <td>0.5</td>\n",
              "      <td>2</td>\n",
              "      <td>0</td>\n",
              "      <td>3</td>\n",
              "      <td>1</td>\n",
              "    </tr>\n",
              "    <tr>\n",
              "      <th>9</th>\n",
              "      <td>57</td>\n",
              "      <td>1</td>\n",
              "      <td>2</td>\n",
              "      <td>150</td>\n",
              "      <td>168</td>\n",
              "      <td>0</td>\n",
              "      <td>1</td>\n",
              "      <td>174</td>\n",
              "      <td>0</td>\n",
              "      <td>1.6</td>\n",
              "      <td>2</td>\n",
              "      <td>0</td>\n",
              "      <td>2</td>\n",
              "      <td>1</td>\n",
              "    </tr>\n",
              "  </tbody>\n",
              "</table>\n",
              "</div>"
            ],
            "text/plain": [
              "   age  sex  cp  trestbps  chol  fbs  ...  exang  oldpeak  slope  ca  thal  target\n",
              "0   63    1   3       145   233    1  ...      0      2.3      0   0     1       1\n",
              "1   37    1   2       130   250    0  ...      0      3.5      0   0     2       1\n",
              "2   41    0   1       130   204    0  ...      0      1.4      2   0     2       1\n",
              "3   56    1   1       120   236    0  ...      0      0.8      2   0     2       1\n",
              "4   57    0   0       120   354    0  ...      1      0.6      2   0     2       1\n",
              "5   57    1   0       140   192    0  ...      0      0.4      1   0     1       1\n",
              "6   56    0   1       140   294    0  ...      0      1.3      1   0     2       1\n",
              "7   44    1   1       120   263    0  ...      0      0.0      2   0     3       1\n",
              "8   52    1   2       172   199    1  ...      0      0.5      2   0     3       1\n",
              "9   57    1   2       150   168    0  ...      0      1.6      2   0     2       1\n",
              "\n",
              "[10 rows x 14 columns]"
            ]
          },
          "metadata": {
            "tags": []
          },
          "execution_count": 4
        }
      ]
    },
    {
      "cell_type": "markdown",
      "metadata": {
        "id": "d9Rc55_KVBym"
      },
      "source": [
        "sex :(1 = male; 0 = female)\n",
        "\n",
        "cp: chest pain type\n",
        "\n",
        "trestbps: resting blood pressure (in mm Hg on admission to the hospital)\n",
        "\n",
        "chol: serum cholestoral in mg/dl\n",
        "\n",
        "fbs: (fasting blood sugar &gt; 120 mg/dl) (1 = true; 0 = false)\n",
        "\n",
        "restecg: resting electrocardiographic results\n",
        "\n",
        "thalach: maximum heart rate achieved\n",
        "\n",
        "exang: exercise induced angina (1 = yes; 0 = no)\n",
        "\n",
        "oldpeak: ST depression induced by exercise relative to rest\n",
        "\n",
        "slope: the slope of the peak exercise ST segment\n",
        "\n",
        "ca: number of major vessels (0-3) colored by flourosopy\n",
        "\n",
        "thal: 3 = normal; 6 = fixed defect; 7 = reversable defect"
      ]
    },
    {
      "cell_type": "code",
      "metadata": {
        "colab": {
          "base_uri": "https://localhost:8080/"
        },
        "id": "PZWStD8xSZn1",
        "outputId": "0ed35198-6423-4c95-c091-66315b1baa9d"
      },
      "source": [
        "df.columns"
      ],
      "execution_count": null,
      "outputs": [
        {
          "output_type": "execute_result",
          "data": {
            "text/plain": [
              "Index(['age', 'sex', 'cp', 'trestbps', 'chol', 'fbs', 'restecg', 'thalach',\n",
              "       'exang', 'oldpeak', 'slope', 'ca', 'thal', 'target'],\n",
              "      dtype='object')"
            ]
          },
          "metadata": {
            "tags": []
          },
          "execution_count": 4
        }
      ]
    },
    {
      "cell_type": "code",
      "metadata": {
        "colab": {
          "base_uri": "https://localhost:8080/"
        },
        "id": "fLnWDDftSiOn",
        "outputId": "4d5a3753-39b9-4697-aefc-85ccd7aed2f4"
      },
      "source": [
        "Counter(df['target'])"
      ],
      "execution_count": null,
      "outputs": [
        {
          "output_type": "execute_result",
          "data": {
            "text/plain": [
              "Counter({0: 138, 1: 165})"
            ]
          },
          "metadata": {
            "tags": []
          },
          "execution_count": 5
        }
      ]
    },
    {
      "cell_type": "code",
      "metadata": {
        "colab": {
          "base_uri": "https://localhost:8080/"
        },
        "id": "VqKy5_IvSm9H",
        "outputId": "d95f797c-56cf-4c7a-b8f7-ce755c77ec03"
      },
      "source": [
        "138/(138+165)  #balanced distribution"
      ],
      "execution_count": null,
      "outputs": [
        {
          "output_type": "execute_result",
          "data": {
            "text/plain": [
              "0.45544554455445546"
            ]
          },
          "metadata": {
            "tags": []
          },
          "execution_count": 6
        }
      ]
    },
    {
      "cell_type": "code",
      "metadata": {
        "colab": {
          "base_uri": "https://localhost:8080/"
        },
        "id": "TZnnPJt_Vc15",
        "outputId": "b021f13a-80af-456e-8631-31b0875c147d"
      },
      "source": [
        "df.isnull().any()"
      ],
      "execution_count": null,
      "outputs": [
        {
          "output_type": "execute_result",
          "data": {
            "text/plain": [
              "age         False\n",
              "sex         False\n",
              "cp          False\n",
              "trestbps    False\n",
              "chol        False\n",
              "fbs         False\n",
              "restecg     False\n",
              "thalach     False\n",
              "exang       False\n",
              "oldpeak     False\n",
              "slope       False\n",
              "ca          False\n",
              "thal        False\n",
              "target      False\n",
              "dtype: bool"
            ]
          },
          "metadata": {
            "tags": []
          },
          "execution_count": 7
        }
      ]
    },
    {
      "cell_type": "code",
      "metadata": {
        "colab": {
          "base_uri": "https://localhost:8080/"
        },
        "id": "WdHnwLFDVqYw",
        "outputId": "285bc6f1-8b22-48f0-f323-49b0ceae73bf"
      },
      "source": [
        "df.shape"
      ],
      "execution_count": null,
      "outputs": [
        {
          "output_type": "execute_result",
          "data": {
            "text/plain": [
              "(303, 14)"
            ]
          },
          "metadata": {
            "tags": []
          },
          "execution_count": 8
        }
      ]
    },
    {
      "cell_type": "code",
      "metadata": {
        "colab": {
          "base_uri": "https://localhost:8080/"
        },
        "id": "Pvtzw6tgWDHi",
        "outputId": "9754065a-1caa-4ccf-bf3e-c3d2fffec9d3"
      },
      "source": [
        "df.info()"
      ],
      "execution_count": null,
      "outputs": [
        {
          "output_type": "stream",
          "text": [
            "<class 'pandas.core.frame.DataFrame'>\n",
            "RangeIndex: 303 entries, 0 to 302\n",
            "Data columns (total 14 columns):\n",
            " #   Column    Non-Null Count  Dtype  \n",
            "---  ------    --------------  -----  \n",
            " 0   age       303 non-null    int64  \n",
            " 1   sex       303 non-null    int64  \n",
            " 2   cp        303 non-null    int64  \n",
            " 3   trestbps  303 non-null    int64  \n",
            " 4   chol      303 non-null    int64  \n",
            " 5   fbs       303 non-null    int64  \n",
            " 6   restecg   303 non-null    int64  \n",
            " 7   thalach   303 non-null    int64  \n",
            " 8   exang     303 non-null    int64  \n",
            " 9   oldpeak   303 non-null    float64\n",
            " 10  slope     303 non-null    int64  \n",
            " 11  ca        303 non-null    int64  \n",
            " 12  thal      303 non-null    int64  \n",
            " 13  target    303 non-null    int64  \n",
            "dtypes: float64(1), int64(13)\n",
            "memory usage: 33.3 KB\n"
          ],
          "name": "stdout"
        }
      ]
    },
    {
      "cell_type": "code",
      "metadata": {
        "colab": {
          "base_uri": "https://localhost:8080/"
        },
        "id": "sYwA1hd4WYwM",
        "outputId": "945b538a-688f-4c96-e16f-cdffe2c618e2"
      },
      "source": [
        "Counter (df['thal'])"
      ],
      "execution_count": null,
      "outputs": [
        {
          "output_type": "execute_result",
          "data": {
            "text/plain": [
              "Counter({0: 2, 1: 18, 2: 166, 3: 117})"
            ]
          },
          "metadata": {
            "tags": []
          },
          "execution_count": 10
        }
      ]
    },
    {
      "cell_type": "code",
      "metadata": {
        "colab": {
          "base_uri": "https://localhost:8080/"
        },
        "id": "2c8oMGwUrYsJ",
        "outputId": "a9982fb7-00c8-41f9-af8a-08ae8a0ac411"
      },
      "source": [
        "Counter (df['cp'])"
      ],
      "execution_count": null,
      "outputs": [
        {
          "output_type": "execute_result",
          "data": {
            "text/plain": [
              "Counter({0: 143, 1: 50, 2: 87, 3: 23})"
            ]
          },
          "metadata": {
            "tags": []
          },
          "execution_count": 11
        }
      ]
    },
    {
      "cell_type": "code",
      "metadata": {
        "colab": {
          "base_uri": "https://localhost:8080/"
        },
        "id": "EdUca89KfyF_",
        "outputId": "33465693-158d-47ca-dde1-171764777e6e"
      },
      "source": [
        "Counter (df['sex'])"
      ],
      "execution_count": null,
      "outputs": [
        {
          "output_type": "execute_result",
          "data": {
            "text/plain": [
              "Counter({0: 96, 1: 207})"
            ]
          },
          "metadata": {
            "tags": []
          },
          "execution_count": 12
        }
      ]
    },
    {
      "cell_type": "code",
      "metadata": {
        "colab": {
          "base_uri": "https://localhost:8080/"
        },
        "id": "b0j9Xh6Krb3O",
        "outputId": "8e4e506d-5057-47f5-944e-d465ddfe7ff2"
      },
      "source": [
        "Counter (df['trestbps'])"
      ],
      "execution_count": null,
      "outputs": [
        {
          "output_type": "execute_result",
          "data": {
            "text/plain": [
              "Counter({94: 2,\n",
              "         100: 4,\n",
              "         101: 1,\n",
              "         102: 2,\n",
              "         104: 1,\n",
              "         105: 3,\n",
              "         106: 1,\n",
              "         108: 6,\n",
              "         110: 19,\n",
              "         112: 9,\n",
              "         114: 1,\n",
              "         115: 3,\n",
              "         117: 1,\n",
              "         118: 7,\n",
              "         120: 37,\n",
              "         122: 4,\n",
              "         123: 1,\n",
              "         124: 6,\n",
              "         125: 11,\n",
              "         126: 3,\n",
              "         128: 12,\n",
              "         129: 1,\n",
              "         130: 36,\n",
              "         132: 8,\n",
              "         134: 5,\n",
              "         135: 6,\n",
              "         136: 3,\n",
              "         138: 13,\n",
              "         140: 32,\n",
              "         142: 3,\n",
              "         144: 2,\n",
              "         145: 5,\n",
              "         146: 2,\n",
              "         148: 2,\n",
              "         150: 17,\n",
              "         152: 5,\n",
              "         154: 1,\n",
              "         155: 1,\n",
              "         156: 1,\n",
              "         160: 11,\n",
              "         164: 1,\n",
              "         165: 1,\n",
              "         170: 4,\n",
              "         172: 1,\n",
              "         174: 1,\n",
              "         178: 2,\n",
              "         180: 3,\n",
              "         192: 1,\n",
              "         200: 1})"
            ]
          },
          "metadata": {
            "tags": []
          },
          "execution_count": 13
        }
      ]
    },
    {
      "cell_type": "code",
      "metadata": {
        "colab": {
          "base_uri": "https://localhost:8080/"
        },
        "id": "bEh-WvS6t4fK",
        "outputId": "30ad8dcf-e477-4141-a453-07bcaef5628d"
      },
      "source": [
        "Counter (df['chol'])"
      ],
      "execution_count": null,
      "outputs": [
        {
          "output_type": "execute_result",
          "data": {
            "text/plain": [
              "Counter({126: 1,\n",
              "         131: 1,\n",
              "         141: 1,\n",
              "         149: 2,\n",
              "         157: 1,\n",
              "         160: 1,\n",
              "         164: 1,\n",
              "         166: 1,\n",
              "         167: 1,\n",
              "         168: 1,\n",
              "         169: 1,\n",
              "         172: 1,\n",
              "         174: 1,\n",
              "         175: 3,\n",
              "         176: 1,\n",
              "         177: 4,\n",
              "         178: 1,\n",
              "         180: 1,\n",
              "         182: 1,\n",
              "         183: 1,\n",
              "         184: 1,\n",
              "         185: 1,\n",
              "         186: 1,\n",
              "         187: 1,\n",
              "         188: 2,\n",
              "         192: 2,\n",
              "         193: 2,\n",
              "         195: 1,\n",
              "         196: 2,\n",
              "         197: 6,\n",
              "         198: 2,\n",
              "         199: 3,\n",
              "         200: 1,\n",
              "         201: 3,\n",
              "         203: 3,\n",
              "         204: 6,\n",
              "         205: 2,\n",
              "         206: 2,\n",
              "         207: 2,\n",
              "         208: 2,\n",
              "         209: 2,\n",
              "         210: 1,\n",
              "         211: 4,\n",
              "         212: 5,\n",
              "         213: 2,\n",
              "         214: 2,\n",
              "         215: 1,\n",
              "         216: 2,\n",
              "         217: 1,\n",
              "         218: 2,\n",
              "         219: 3,\n",
              "         220: 3,\n",
              "         221: 2,\n",
              "         222: 2,\n",
              "         223: 3,\n",
              "         224: 1,\n",
              "         225: 2,\n",
              "         226: 4,\n",
              "         227: 2,\n",
              "         228: 2,\n",
              "         229: 3,\n",
              "         230: 3,\n",
              "         231: 3,\n",
              "         232: 2,\n",
              "         233: 4,\n",
              "         234: 6,\n",
              "         235: 2,\n",
              "         236: 3,\n",
              "         237: 1,\n",
              "         239: 4,\n",
              "         240: 4,\n",
              "         241: 1,\n",
              "         242: 1,\n",
              "         243: 4,\n",
              "         244: 3,\n",
              "         245: 3,\n",
              "         246: 3,\n",
              "         247: 2,\n",
              "         248: 2,\n",
              "         249: 3,\n",
              "         250: 3,\n",
              "         252: 1,\n",
              "         253: 2,\n",
              "         254: 5,\n",
              "         255: 2,\n",
              "         256: 3,\n",
              "         257: 1,\n",
              "         258: 3,\n",
              "         259: 1,\n",
              "         260: 2,\n",
              "         261: 2,\n",
              "         262: 1,\n",
              "         263: 3,\n",
              "         264: 2,\n",
              "         265: 2,\n",
              "         266: 2,\n",
              "         267: 2,\n",
              "         268: 2,\n",
              "         269: 5,\n",
              "         270: 2,\n",
              "         271: 2,\n",
              "         273: 2,\n",
              "         274: 3,\n",
              "         275: 2,\n",
              "         276: 1,\n",
              "         277: 2,\n",
              "         278: 1,\n",
              "         281: 1,\n",
              "         282: 4,\n",
              "         283: 3,\n",
              "         284: 1,\n",
              "         286: 2,\n",
              "         288: 3,\n",
              "         289: 2,\n",
              "         290: 1,\n",
              "         293: 1,\n",
              "         294: 2,\n",
              "         295: 2,\n",
              "         298: 2,\n",
              "         299: 2,\n",
              "         300: 1,\n",
              "         302: 2,\n",
              "         303: 3,\n",
              "         304: 2,\n",
              "         305: 1,\n",
              "         306: 1,\n",
              "         307: 1,\n",
              "         308: 2,\n",
              "         309: 3,\n",
              "         311: 1,\n",
              "         313: 1,\n",
              "         315: 2,\n",
              "         318: 2,\n",
              "         319: 1,\n",
              "         321: 1,\n",
              "         322: 1,\n",
              "         325: 2,\n",
              "         326: 1,\n",
              "         327: 1,\n",
              "         330: 2,\n",
              "         335: 2,\n",
              "         340: 1,\n",
              "         341: 1,\n",
              "         342: 1,\n",
              "         353: 1,\n",
              "         354: 1,\n",
              "         360: 1,\n",
              "         394: 1,\n",
              "         407: 1,\n",
              "         409: 1,\n",
              "         417: 1,\n",
              "         564: 1})"
            ]
          },
          "metadata": {
            "tags": []
          },
          "execution_count": 14
        }
      ]
    },
    {
      "cell_type": "code",
      "metadata": {
        "colab": {
          "base_uri": "https://localhost:8080/"
        },
        "id": "m_R7FUc7uKCk",
        "outputId": "246402e2-52e3-4d28-d202-8051cceacb51"
      },
      "source": [
        "Counter (df['fbs'])"
      ],
      "execution_count": null,
      "outputs": [
        {
          "output_type": "execute_result",
          "data": {
            "text/plain": [
              "Counter({0: 258, 1: 45})"
            ]
          },
          "metadata": {
            "tags": []
          },
          "execution_count": 15
        }
      ]
    },
    {
      "cell_type": "code",
      "metadata": {
        "colab": {
          "base_uri": "https://localhost:8080/"
        },
        "id": "sVHay9Wqqx3x",
        "outputId": "39a3ea7b-6f6f-48f0-eaa1-b60dc32941df"
      },
      "source": [
        "Counter (df['restecg'])"
      ],
      "execution_count": null,
      "outputs": [
        {
          "output_type": "execute_result",
          "data": {
            "text/plain": [
              "Counter({0: 147, 1: 152, 2: 4})"
            ]
          },
          "metadata": {
            "tags": []
          },
          "execution_count": 16
        }
      ]
    },
    {
      "cell_type": "code",
      "metadata": {
        "colab": {
          "base_uri": "https://localhost:8080/"
        },
        "id": "E5JsOKm9uSyL",
        "outputId": "481d9c4d-e76f-4b8a-93b0-14ecd5f3f58e"
      },
      "source": [
        "Counter (df['thalach'])"
      ],
      "execution_count": null,
      "outputs": [
        {
          "output_type": "execute_result",
          "data": {
            "text/plain": [
              "Counter({71: 1,\n",
              "         88: 1,\n",
              "         90: 1,\n",
              "         95: 1,\n",
              "         96: 2,\n",
              "         97: 1,\n",
              "         99: 1,\n",
              "         103: 2,\n",
              "         105: 3,\n",
              "         106: 1,\n",
              "         108: 2,\n",
              "         109: 2,\n",
              "         111: 3,\n",
              "         112: 2,\n",
              "         113: 1,\n",
              "         114: 3,\n",
              "         115: 3,\n",
              "         116: 2,\n",
              "         117: 1,\n",
              "         118: 1,\n",
              "         120: 3,\n",
              "         121: 1,\n",
              "         122: 4,\n",
              "         123: 2,\n",
              "         124: 1,\n",
              "         125: 7,\n",
              "         126: 4,\n",
              "         127: 1,\n",
              "         128: 1,\n",
              "         129: 1,\n",
              "         130: 4,\n",
              "         131: 4,\n",
              "         132: 7,\n",
              "         133: 2,\n",
              "         134: 1,\n",
              "         136: 2,\n",
              "         137: 1,\n",
              "         138: 3,\n",
              "         139: 2,\n",
              "         140: 6,\n",
              "         141: 3,\n",
              "         142: 6,\n",
              "         143: 7,\n",
              "         144: 7,\n",
              "         145: 4,\n",
              "         146: 4,\n",
              "         147: 5,\n",
              "         148: 3,\n",
              "         149: 2,\n",
              "         150: 7,\n",
              "         151: 4,\n",
              "         152: 8,\n",
              "         153: 3,\n",
              "         154: 5,\n",
              "         155: 4,\n",
              "         156: 6,\n",
              "         157: 5,\n",
              "         158: 6,\n",
              "         159: 4,\n",
              "         160: 9,\n",
              "         161: 5,\n",
              "         162: 11,\n",
              "         163: 9,\n",
              "         164: 2,\n",
              "         165: 5,\n",
              "         166: 3,\n",
              "         167: 1,\n",
              "         168: 5,\n",
              "         169: 6,\n",
              "         170: 5,\n",
              "         171: 4,\n",
              "         172: 7,\n",
              "         173: 8,\n",
              "         174: 5,\n",
              "         175: 3,\n",
              "         177: 1,\n",
              "         178: 5,\n",
              "         179: 5,\n",
              "         180: 2,\n",
              "         181: 2,\n",
              "         182: 5,\n",
              "         184: 1,\n",
              "         185: 1,\n",
              "         186: 2,\n",
              "         187: 1,\n",
              "         188: 1,\n",
              "         190: 1,\n",
              "         192: 1,\n",
              "         194: 1,\n",
              "         195: 1,\n",
              "         202: 1})"
            ]
          },
          "metadata": {
            "tags": []
          },
          "execution_count": 17
        }
      ]
    },
    {
      "cell_type": "code",
      "metadata": {
        "colab": {
          "base_uri": "https://localhost:8080/"
        },
        "id": "OoHKuFLhuYdv",
        "outputId": "9b26a0d5-0692-4944-baf3-d6500ed1129f"
      },
      "source": [
        "Counter (df['oldpeak'])"
      ],
      "execution_count": null,
      "outputs": [
        {
          "output_type": "execute_result",
          "data": {
            "text/plain": [
              "Counter({0.0: 99,\n",
              "         0.1: 7,\n",
              "         0.2: 12,\n",
              "         0.3: 3,\n",
              "         0.4: 9,\n",
              "         0.5: 5,\n",
              "         0.6: 14,\n",
              "         0.7: 1,\n",
              "         0.8: 13,\n",
              "         0.9: 3,\n",
              "         1.0: 14,\n",
              "         1.1: 2,\n",
              "         1.2: 17,\n",
              "         1.3: 1,\n",
              "         1.4: 13,\n",
              "         1.5: 5,\n",
              "         1.6: 11,\n",
              "         1.8: 10,\n",
              "         1.9: 5,\n",
              "         2.0: 9,\n",
              "         2.1: 1,\n",
              "         2.2: 4,\n",
              "         2.3: 2,\n",
              "         2.4: 3,\n",
              "         2.5: 2,\n",
              "         2.6: 6,\n",
              "         2.8: 6,\n",
              "         2.9: 1,\n",
              "         3.0: 5,\n",
              "         3.1: 1,\n",
              "         3.2: 2,\n",
              "         3.4: 3,\n",
              "         3.5: 1,\n",
              "         3.6: 4,\n",
              "         3.8: 1,\n",
              "         4.0: 3,\n",
              "         4.2: 2,\n",
              "         4.4: 1,\n",
              "         5.6: 1,\n",
              "         6.2: 1})"
            ]
          },
          "metadata": {
            "tags": []
          },
          "execution_count": 18
        }
      ]
    },
    {
      "cell_type": "code",
      "metadata": {
        "colab": {
          "base_uri": "https://localhost:8080/"
        },
        "id": "yoB05u87uuAf",
        "outputId": "a66c7ca6-f3d5-45e0-ca8d-e09d5a7777c9"
      },
      "source": [
        "Counter (df['slope'])"
      ],
      "execution_count": null,
      "outputs": [
        {
          "output_type": "execute_result",
          "data": {
            "text/plain": [
              "Counter({0: 21, 1: 140, 2: 142})"
            ]
          },
          "metadata": {
            "tags": []
          },
          "execution_count": 19
        }
      ]
    },
    {
      "cell_type": "code",
      "metadata": {
        "colab": {
          "base_uri": "https://localhost:8080/"
        },
        "id": "3mstxhR3u0p3",
        "outputId": "995160e1-71fa-40dd-da3e-b13512844806"
      },
      "source": [
        "Counter (df['ca'])"
      ],
      "execution_count": null,
      "outputs": [
        {
          "output_type": "execute_result",
          "data": {
            "text/plain": [
              "Counter({0: 175, 1: 65, 2: 38, 3: 20, 4: 5})"
            ]
          },
          "metadata": {
            "tags": []
          },
          "execution_count": 20
        }
      ]
    },
    {
      "cell_type": "code",
      "metadata": {
        "colab": {
          "base_uri": "https://localhost:8080/"
        },
        "id": "2zXvoGYhu8aq",
        "outputId": "8e270e94-769a-4d67-e634-ce882d1f449b"
      },
      "source": [
        "Counter (df['thal'])"
      ],
      "execution_count": null,
      "outputs": [
        {
          "output_type": "execute_result",
          "data": {
            "text/plain": [
              "Counter({0: 2, 1: 18, 2: 166, 3: 117})"
            ]
          },
          "metadata": {
            "tags": []
          },
          "execution_count": 21
        }
      ]
    },
    {
      "cell_type": "markdown",
      "metadata": {
        "id": "PaJyplETZwyu"
      },
      "source": [
        "##EDA"
      ]
    },
    {
      "cell_type": "code",
      "metadata": {
        "colab": {
          "base_uri": "https://localhost:8080/",
          "height": 279
        },
        "id": "OJ2HwIN6Zyxt",
        "outputId": "202e8cbb-691e-46db-b441-046eff4a2752"
      },
      "source": [
        "plt.figure()\n",
        "sns.scatterplot(x='age',y='sex',data = df,hue='target')\n",
        "plt.show()"
      ],
      "execution_count": null,
      "outputs": [
        {
          "output_type": "display_data",
          "data": {
            "image/png": "[encoded data removed]",
            "text/plain": [
              "<Figure size 432x288 with 1 Axes>"
            ]
          },
          "metadata": {
            "tags": [],
            "needs_background": "light"
          }
        }
      ]
    },
    {
      "cell_type": "code",
      "metadata": {
        "colab": {
          "base_uri": "https://localhost:8080/",
          "height": 279
        },
        "id": "-7UqrqutfCmz",
        "outputId": "76a98018-8112-4920-f4ed-4a1abb512387"
      },
      "source": [
        "df_dist = df[['target','fbs']].groupby('target').count().reset_index(drop=False)\n",
        "plt.figure()\n",
        "sns.barplot(x='target',y='fbs',data = df_dist)\n",
        "plt.show()"
      ],
      "execution_count": null,
      "outputs": [
        {
          "output_type": "display_data",
          "data": {
            "image/png": "[encoded data removed]",
            "text/plain": [
              "<Figure size 432x288 with 1 Axes>"
            ]
          },
          "metadata": {
            "tags": [],
            "needs_background": "light"
          }
        }
      ]
    },
    {
      "cell_type": "code",
      "metadata": {
        "colab": {
          "base_uri": "https://localhost:8080/",
          "height": 388
        },
        "id": "1i3cqy2jgP4q",
        "outputId": "b9fa93ac-0d74-46ec-e1c0-67b4dc847145"
      },
      "source": [
        "plt.figure(figsize=(10,6))\n",
        "sns.scatterplot(x='age',y='exang',data = df, hue='target')\n",
        "plt.show()"
      ],
      "execution_count": null,
      "outputs": [
        {
          "output_type": "display_data",
          "data": {
            "image/png": "[encoded data removed]",
            "text/plain": [
              "<Figure size 720x432 with 1 Axes>"
            ]
          },
          "metadata": {
            "tags": [],
            "needs_background": "light"
          }
        }
      ]
    },
    {
      "cell_type": "code",
      "metadata": {
        "colab": {
          "base_uri": "https://localhost:8080/",
          "height": 279
        },
        "id": "RLRLShBdhvdv",
        "outputId": "0791c700-3ebe-45ed-e90c-a36048a507ae"
      },
      "source": [
        "df_distribution = df[['target','trestbps']].groupby('target').count().reset_index(drop=False)\n",
        "plt.figure()\n",
        "sns.barplot(x='target',y='trestbps',data = df_distribution)\n",
        "plt.show()"
      ],
      "execution_count": null,
      "outputs": [
        {
          "output_type": "display_data",
          "data": {
            "image/png": "[encoded data removed]",
            "text/plain": [
              "<Figure size 432x288 with 1 Axes>"
            ]
          },
          "metadata": {
            "tags": [],
            "needs_background": "light"
          }
        }
      ]
    },
    {
      "cell_type": "code",
      "metadata": {
        "colab": {
          "base_uri": "https://localhost:8080/",
          "height": 388
        },
        "id": "Ui6R00UuurW3",
        "outputId": "3296db48-088d-4588-8239-bb471e9961c6"
      },
      "source": [
        "plt.figure(figsize=(10,6))\n",
        "sns.scatterplot(x='chol',y='sex',data = df, hue='target')\n",
        "plt.show()"
      ],
      "execution_count": null,
      "outputs": [
        {
          "output_type": "display_data",
          "data": {
            "image/png": "[encoded data removed]",
            "text/plain": [
              "<Figure size 720x432 with 1 Axes>"
            ]
          },
          "metadata": {
            "tags": [],
            "needs_background": "light"
          }
        }
      ]
    },
    {
      "cell_type": "code",
      "metadata": {
        "colab": {
          "base_uri": "https://localhost:8080/",
          "height": 279
        },
        "id": "VPeOAHXLyPG2",
        "outputId": "b89d413e-696a-4ded-b49d-7c2150cdf93d"
      },
      "source": [
        "plt.figure()\n",
        "sns.barplot(x='thal',y='target',data=df)\n",
        "plt.show()"
      ],
      "execution_count": null,
      "outputs": [
        {
          "output_type": "display_data",
          "data": {
            "image/png": "[encoded data removed]",
            "text/plain": [
              "<Figure size 432x288 with 1 Axes>"
            ]
          },
          "metadata": {
            "tags": [],
            "needs_background": "light"
          }
        }
      ]
    },
    {
      "cell_type": "code",
      "metadata": {
        "colab": {
          "base_uri": "https://localhost:8080/"
        },
        "id": "WInlTp53_tNF",
        "outputId": "db650b9a-e337-4dac-dd86-0062d4141168"
      },
      "source": [
        "df.dtypes"
      ],
      "execution_count": null,
      "outputs": [
        {
          "output_type": "execute_result",
          "data": {
            "text/plain": [
              "age           int64\n",
              "sex           int64\n",
              "cp            int64\n",
              "trestbps      int64\n",
              "chol          int64\n",
              "fbs           int64\n",
              "restecg       int64\n",
              "thalach       int64\n",
              "exang         int64\n",
              "oldpeak     float64\n",
              "slope         int64\n",
              "ca            int64\n",
              "thal          int64\n",
              "target        int64\n",
              "dtype: object"
            ]
          },
          "metadata": {
            "tags": []
          },
          "execution_count": 115
        }
      ]
    },
    {
      "cell_type": "markdown",
      "metadata": {
        "id": "c03edJgLKZvR"
      },
      "source": [
        "##DataModelling"
      ]
    },
    {
      "cell_type": "code",
      "metadata": {
        "id": "2f02KgDSB7bA"
      },
      "source": [
        "x=df.drop('target', axis=1)\n",
        "y=df['target']"
      ],
      "execution_count": null,
      "outputs": []
    },
    {
      "cell_type": "code",
      "metadata": {
        "id": "rvhqzSY5CR0W"
      },
      "source": [
        "x_train,x_test,y_train,y_test=train_test_split(x,y,test_size=0.20,random_state=123)"
      ],
      "execution_count": null,
      "outputs": []
    },
    {
      "cell_type": "code",
      "metadata": {
        "id": "myYwBtu0E1VH"
      },
      "source": [
        "#df.var()"
      ],
      "execution_count": null,
      "outputs": []
    },
    {
      "cell_type": "markdown",
      "metadata": {
        "id": "ns1Nj7Wcnkfl"
      },
      "source": [
        "Logistic Regression"
      ]
    },
    {
      "cell_type": "code",
      "metadata": {
        "colab": {
          "base_uri": "https://localhost:8080/"
        },
        "id": "w1lLENkeCzbm",
        "outputId": "209802a1-2211-435f-f23a-032acc7f3c36"
      },
      "source": [
        "heart_df=LogisticRegression(penalty='l2',C=10, class_weight=None)\n",
        "heart_df.fit(x_train,y_train)\n",
        "y_train_predict=heart_df.predict(x_train)\n",
        "y_test_predict=heart_df.predict(x_test)\n",
        "print('Train Data')\n",
        "print(metrics.classification_report(y_train,y_train_predict))\n",
        "print('Test Data')\n",
        "print(metrics.classification_report(y_test,y_test_predict))"
      ],
      "execution_count": null,
      "outputs": [
        {
          "output_type": "stream",
          "text": [
            "Train Data\n",
            "              precision    recall  f1-score   support\n",
            "\n",
            "           0       0.94      0.81      0.87       108\n",
            "           1       0.86      0.96      0.91       134\n",
            "\n",
            "    accuracy                           0.89       242\n",
            "   macro avg       0.90      0.89      0.89       242\n",
            "weighted avg       0.90      0.89      0.89       242\n",
            "\n",
            "Test Data\n",
            "              precision    recall  f1-score   support\n",
            "\n",
            "           0       0.77      0.80      0.79        30\n",
            "           1       0.80      0.77      0.79        31\n",
            "\n",
            "    accuracy                           0.79        61\n",
            "   macro avg       0.79      0.79      0.79        61\n",
            "weighted avg       0.79      0.79      0.79        61\n",
            "\n"
          ],
          "name": "stdout"
        },
        {
          "output_type": "stream",
          "text": [
            "/usr/local/lib/python3.7/dist-packages/sklearn/linear_model/_logistic.py:940: ConvergenceWarning: lbfgs failed to converge (status=1):\n",
            "STOP: TOTAL NO. of ITERATIONS REACHED LIMIT.\n",
            "\n",
            "Increase the number of iterations (max_iter) or scale the data as shown in:\n",
            "    https://scikit-learn.org/stable/modules/preprocessing.html\n",
            "Please also refer to the documentation for alternative solver options:\n",
            "    https://scikit-learn.org/stable/modules/linear_model.html#logistic-regression\n",
            "  extra_warning_msg=_LOGISTIC_SOLVER_CONVERGENCE_MSG)\n"
          ],
          "name": "stderr"
        }
      ]
    },
    {
      "cell_type": "code",
      "metadata": {
        "id": "oXuhVt-yKyU1"
      },
      "source": [
        "y_train_proba=heart_df.predict_proba(x_train)\n",
        "y_test_proba=heart_df.predict_proba(x_test)"
      ],
      "execution_count": null,
      "outputs": []
    },
    {
      "cell_type": "code",
      "metadata": {
        "colab": {
          "base_uri": "https://localhost:8080/"
        },
        "id": "5EZolEzEx0Zo",
        "outputId": "62acb876-8881-44f0-faea-fe7b901b09cd"
      },
      "source": [
        "Counter (y_train)"
      ],
      "execution_count": null,
      "outputs": [
        {
          "output_type": "execute_result",
          "data": {
            "text/plain": [
              "Counter({0: 108, 1: 134})"
            ]
          },
          "metadata": {
            "tags": []
          },
          "execution_count": 10
        }
      ]
    },
    {
      "cell_type": "code",
      "metadata": {
        "colab": {
          "base_uri": "https://localhost:8080/"
        },
        "id": "DnlGPHxqzOEU",
        "outputId": "b3f079d0-bfbc-456b-cc7a-53a63928b3c3"
      },
      "source": [
        "Counter (y_test)"
      ],
      "execution_count": null,
      "outputs": [
        {
          "output_type": "execute_result",
          "data": {
            "text/plain": [
              "Counter({0: 30, 1: 31})"
            ]
          },
          "metadata": {
            "tags": []
          },
          "execution_count": 11
        }
      ]
    },
    {
      "cell_type": "code",
      "metadata": {
        "id": "Vx6HTIQSNhRm"
      },
      "source": [
        "from sklearn.metrics import confusion_matrix"
      ],
      "execution_count": null,
      "outputs": []
    },
    {
      "cell_type": "code",
      "metadata": {
        "colab": {
          "base_uri": "https://localhost:8080/"
        },
        "id": "1FwntRtUNzV6",
        "outputId": "0bb0fadf-4228-4764-9295-714e8eecdfe0"
      },
      "source": [
        "confusion_matrix(y_train,y_train_predict)\n"
      ],
      "execution_count": null,
      "outputs": [
        {
          "output_type": "execute_result",
          "data": {
            "text/plain": [
              "array([[ 88,  20],\n",
              "       [  6, 128]])"
            ]
          },
          "metadata": {
            "tags": []
          },
          "execution_count": 13
        }
      ]
    },
    {
      "cell_type": "code",
      "metadata": {
        "colab": {
          "base_uri": "https://localhost:8080/"
        },
        "id": "bSqk64rBUHgM",
        "outputId": "0eb3cfb3-5ae3-487b-84d2-75f3406b68a4"
      },
      "source": [
        "confusion_matrix(y_test,y_test_predict)"
      ],
      "execution_count": null,
      "outputs": [
        {
          "output_type": "execute_result",
          "data": {
            "text/plain": [
              "array([[24,  6],\n",
              "       [ 7, 24]])"
            ]
          },
          "metadata": {
            "tags": []
          },
          "execution_count": 14
        }
      ]
    },
    {
      "cell_type": "code",
      "metadata": {
        "id": "h0Szf1wWvKcR"
      },
      "source": [
        "def proba_class(y_proba,threshold):\n",
        "  predicted_class=[0 if a[0]>threshold else 1 for a in y_proba]\n",
        "  return np.array(predicted_class)"
      ],
      "execution_count": null,
      "outputs": []
    },
    {
      "cell_type": "code",
      "metadata": {
        "id": "NvwEd27vBgFi"
      },
      "source": [
        "from sklearn.metrics import precision_score,recall_score,fbeta_score\n",
        "from sklearn.metrics import precision_recall_curve"
      ],
      "execution_count": null,
      "outputs": []
    },
    {
      "cell_type": "code",
      "metadata": {
        "id": "6Dgn-KtcCQKa"
      },
      "source": [
        "def classification_metrics(y_actual,y_pred):\n",
        "  precision= precision_score(y_actual,y_pred)\n",
        "  recall=recall_score(y_actual,y_pred)\n",
        "  fb=fbeta_score(y_actual,y_pred, beta=1)\n",
        "  print(\"precision:{}, recall:{}, f1_score:{}\".format(round(precision,2),round(recall,2),round(fb,2)))\n",
        "  return (precision,recall,fb)"
      ],
      "execution_count": null,
      "outputs": []
    },
    {
      "cell_type": "code",
      "metadata": {
        "colab": {
          "base_uri": "https://localhost:8080/"
        },
        "id": "8LCUUi4sq3XA",
        "outputId": "93cc891e-f8a3-45d3-e298-03472089b9fa"
      },
      "source": [
        "for threshold in range (10,100,10):\n",
        "  trsh=threshold/100\n",
        "  y_pred_train=proba_class(y_train_proba,trsh)\n",
        "  print('Threshold:{}'.format(trsh))\n",
        "  classification_metrics(y_train, y_pred_train) "
      ],
      "execution_count": null,
      "outputs": [
        {
          "output_type": "stream",
          "text": [
            "Threshold:0.1\n",
            "precision:0.94, recall:0.49, f1_score:0.64\n",
            "Threshold:0.2\n",
            "precision:0.93, recall:0.65, f1_score:0.76\n",
            "Threshold:0.3\n",
            "precision:0.91, recall:0.79, f1_score:0.84\n",
            "Threshold:0.4\n",
            "precision:0.87, recall:0.88, f1_score:0.88\n",
            "Threshold:0.5\n",
            "precision:0.86, recall:0.96, f1_score:0.91\n",
            "Threshold:0.6\n",
            "precision:0.84, recall:0.96, f1_score:0.9\n",
            "Threshold:0.7\n",
            "precision:0.81, recall:0.97, f1_score:0.88\n",
            "Threshold:0.8\n",
            "precision:0.77, recall:0.97, f1_score:0.86\n",
            "Threshold:0.9\n",
            "precision:0.73, recall:0.97, f1_score:0.83\n"
          ],
          "name": "stdout"
        }
      ]
    },
    {
      "cell_type": "code",
      "metadata": {
        "colab": {
          "base_uri": "https://localhost:8080/"
        },
        "id": "1Me2rnsGfRkz",
        "outputId": "47e36a43-084a-42f8-a634-f23bf6ae0646"
      },
      "source": [
        "thresholds_curve=[]\n",
        "prec=[]\n",
        "recall=[]\n",
        "fb=[]\n",
        "for threshold in range (10,100,10):\n",
        "  trsh=threshold/100\n",
        "  y_pred_train=proba_class(y_train_proba,trsh)\n",
        "  print('Threshold:{}'.format(trsh))\n",
        "  p,r,f=classification_metrics(y_train, y_pred_train)\n",
        "  thresholds_curve.append(trsh)\n",
        "  prec.append(p)\n",
        "  recall.append(r)\n",
        "  fb.append(f)"
      ],
      "execution_count": null,
      "outputs": [
        {
          "output_type": "stream",
          "text": [
            "Threshold:0.1\n",
            "precision:0.94, recall:0.49, f1_score:0.64\n",
            "Threshold:0.2\n",
            "precision:0.93, recall:0.65, f1_score:0.76\n",
            "Threshold:0.3\n",
            "precision:0.91, recall:0.79, f1_score:0.84\n",
            "Threshold:0.4\n",
            "precision:0.87, recall:0.88, f1_score:0.88\n",
            "Threshold:0.5\n",
            "precision:0.86, recall:0.96, f1_score:0.91\n",
            "Threshold:0.6\n",
            "precision:0.84, recall:0.96, f1_score:0.9\n",
            "Threshold:0.7\n",
            "precision:0.81, recall:0.97, f1_score:0.88\n",
            "Threshold:0.8\n",
            "precision:0.77, recall:0.97, f1_score:0.86\n",
            "Threshold:0.9\n",
            "precision:0.73, recall:0.97, f1_score:0.83\n"
          ],
          "name": "stdout"
        }
      ]
    },
    {
      "cell_type": "code",
      "metadata": {
        "colab": {
          "base_uri": "https://localhost:8080/"
        },
        "id": "HmlQJFE5rANP",
        "outputId": "967cccc6-240f-4f9f-8633-648248469785"
      },
      "source": [
        "for threshold in range (10,100,10):\n",
        "  trsh=threshold/100\n",
        "  y_pred_test=proba_class(y_test_proba,trsh)\n",
        "  print('Threshold:{}'.format(trsh))\n",
        "  classification_metrics(y_test, y_pred_test) "
      ],
      "execution_count": null,
      "outputs": [
        {
          "output_type": "stream",
          "text": [
            "Threshold:0.1\n",
            "precision:1.0, recall:0.35, f1_score:0.52\n",
            "Threshold:0.2\n",
            "precision:0.9, recall:0.58, f1_score:0.71\n",
            "Threshold:0.3\n",
            "precision:0.84, recall:0.68, f1_score:0.75\n",
            "Threshold:0.4\n",
            "precision:0.79, recall:0.71, f1_score:0.75\n",
            "Threshold:0.5\n",
            "precision:0.8, recall:0.77, f1_score:0.79\n",
            "Threshold:0.6\n",
            "precision:0.74, recall:0.84, f1_score:0.79\n",
            "Threshold:0.7\n",
            "precision:0.72, recall:0.84, f1_score:0.78\n",
            "Threshold:0.8\n",
            "precision:0.71, recall:0.87, f1_score:0.78\n",
            "Threshold:0.9\n",
            "precision:0.66, recall:0.94, f1_score:0.77\n"
          ],
          "name": "stdout"
        }
      ]
    },
    {
      "cell_type": "code",
      "metadata": {
        "colab": {
          "base_uri": "https://localhost:8080/"
        },
        "id": "WXXstpXQfHE8",
        "outputId": "566def9e-2470-4dc6-cbcd-b3d27372c09a"
      },
      "source": [
        "thresholds_curve_test=[]\n",
        "prec_test=[]\n",
        "recall_test=[]\n",
        "fb_test=[]\n",
        "for threshold in range (10,100,10):\n",
        "  trsh=threshold/100\n",
        "  y_pred_test=proba_class(y_test_proba,trsh)\n",
        "  print('Threshold:{}'.format(trsh))\n",
        "  p,r,f=classification_metrics(y_test, y_pred_test)\n",
        "  thresholds_curve_test.append(trsh)\n",
        "  prec_test.append(p)\n",
        "  recall_test.append(r)\n",
        "  fb_test.append(f)"
      ],
      "execution_count": null,
      "outputs": [
        {
          "output_type": "stream",
          "text": [
            "Threshold:0.1\n",
            "precision:1.0, recall:0.35, f1_score:0.52\n",
            "Threshold:0.2\n",
            "precision:0.9, recall:0.58, f1_score:0.71\n",
            "Threshold:0.3\n",
            "precision:0.84, recall:0.68, f1_score:0.75\n",
            "Threshold:0.4\n",
            "precision:0.79, recall:0.71, f1_score:0.75\n",
            "Threshold:0.5\n",
            "precision:0.8, recall:0.77, f1_score:0.79\n",
            "Threshold:0.6\n",
            "precision:0.74, recall:0.84, f1_score:0.79\n",
            "Threshold:0.7\n",
            "precision:0.72, recall:0.84, f1_score:0.78\n",
            "Threshold:0.8\n",
            "precision:0.71, recall:0.87, f1_score:0.78\n",
            "Threshold:0.9\n",
            "precision:0.66, recall:0.94, f1_score:0.77\n"
          ],
          "name": "stdout"
        }
      ]
    },
    {
      "cell_type": "markdown",
      "metadata": {
        "id": "sq_Gax1Ut4ol"
      },
      "source": [
        "Based on our training precision curve .40 is optimum threshold level while testing data shows around .55"
      ]
    },
    {
      "cell_type": "code",
      "metadata": {
        "colab": {
          "base_uri": "https://localhost:8080/"
        },
        "id": "3CU8ND7ytqf2",
        "outputId": "df6e89e5-1127-434b-ef2a-38cdf38560c7"
      },
      "source": [
        "y_pred_train= proba_class(y_train_proba,0.40)\n",
        "confusion_matrix(y_train,y_pred_train)"
      ],
      "execution_count": null,
      "outputs": [
        {
          "output_type": "execute_result",
          "data": {
            "text/plain": [
              "array([[ 91,  17],\n",
              "       [ 16, 118]])"
            ]
          },
          "metadata": {
            "tags": []
          },
          "execution_count": 51
        }
      ]
    },
    {
      "cell_type": "code",
      "metadata": {
        "colab": {
          "base_uri": "https://localhost:8080/"
        },
        "id": "DYF5RImKiDb1",
        "outputId": "eeab0717-3a6b-46a8-90f5-921dbceb9c7d"
      },
      "source": [
        "#y_pred_train= proba_class(y_train_proba,0.55)\n",
        "#confusion_matrix(y_train,y_pred_train)"
      ],
      "execution_count": null,
      "outputs": [
        {
          "output_type": "execute_result",
          "data": {
            "text/plain": [
              "array([[ 85,  23],\n",
              "       [  5, 129]])"
            ]
          },
          "metadata": {
            "tags": []
          },
          "execution_count": 45
        }
      ]
    },
    {
      "cell_type": "code",
      "metadata": {
        "colab": {
          "base_uri": "https://localhost:8080/"
        },
        "id": "pSJ3Rm_viGaH",
        "outputId": "7cc3215f-f1d4-4541-a209-aa838d6913ae"
      },
      "source": [
        "y_pred_test= proba_class(y_test_proba,0.40)\n",
        "confusion_matrix(y_test,y_pred_test)"
      ],
      "execution_count": null,
      "outputs": [
        {
          "output_type": "execute_result",
          "data": {
            "text/plain": [
              "array([[24,  6],\n",
              "       [ 9, 22]])"
            ]
          },
          "metadata": {
            "tags": []
          },
          "execution_count": 52
        }
      ]
    },
    {
      "cell_type": "code",
      "metadata": {
        "colab": {
          "base_uri": "https://localhost:8080/"
        },
        "id": "XjsZ375ptkDM",
        "outputId": "45a7bd02-4ab7-4220-d3b1-86175018c159"
      },
      "source": [
        "#y_pred_test= proba_class(y_test_proba,0.55)\n",
        "#confusion_matrix(y_test,y_pred_test)"
      ],
      "execution_count": null,
      "outputs": [
        {
          "output_type": "execute_result",
          "data": {
            "text/plain": [
              "array([[23,  7],\n",
              "       [ 7, 24]])"
            ]
          },
          "metadata": {
            "tags": []
          },
          "execution_count": 38
        }
      ]
    },
    {
      "cell_type": "code",
      "metadata": {
        "colab": {
          "base_uri": "https://localhost:8080/"
        },
        "id": "E76oRL_cQCMK",
        "outputId": "606d8b40-94a4-4c07-8233-a9b84058e13e"
      },
      "source": [
        "print('Train Data')\n",
        "print(metrics.classification_report(y_train,y_pred_train))\n",
        "print('Test Data')\n",
        "print(metrics.classification_report(y_test,y_pred_test))"
      ],
      "execution_count": null,
      "outputs": [
        {
          "output_type": "stream",
          "text": [
            "Train Data\n",
            "              precision    recall  f1-score   support\n",
            "\n",
            "           0       0.85      0.84      0.85       108\n",
            "           1       0.87      0.88      0.88       134\n",
            "\n",
            "    accuracy                           0.86       242\n",
            "   macro avg       0.86      0.86      0.86       242\n",
            "weighted avg       0.86      0.86      0.86       242\n",
            "\n",
            "Test Data\n",
            "              precision    recall  f1-score   support\n",
            "\n",
            "           0       0.73      0.80      0.76        30\n",
            "           1       0.79      0.71      0.75        31\n",
            "\n",
            "    accuracy                           0.75        61\n",
            "   macro avg       0.76      0.75      0.75        61\n",
            "weighted avg       0.76      0.75      0.75        61\n",
            "\n"
          ],
          "name": "stdout"
        }
      ]
    },
    {
      "cell_type": "code",
      "metadata": {
        "id": "0U6j0yDn0KgN"
      },
      "source": [
        "from sklearn.metrics import roc_curve\n",
        "fpr,tpr,thresholds=roc_curve(y_train, [a[1] for a in y_train_proba])"
      ],
      "execution_count": null,
      "outputs": []
    },
    {
      "cell_type": "code",
      "metadata": {
        "colab": {
          "base_uri": "https://localhost:8080/",
          "height": 279
        },
        "id": "tyafSYr0iot3",
        "outputId": "f4025d52-bee2-4cfb-8b63-96b6635c9d3e"
      },
      "source": [
        "sns.lineplot(x= thresholds_curve, y= prec)\n",
        "sns.lineplot(x= thresholds_curve, y= recall)\n",
        "plt.xlabel('Threshold')\n",
        "plt.ylabel('PRC')\n",
        "plt.show()"
      ],
      "execution_count": null,
      "outputs": [
        {
          "output_type": "display_data",
          "data": {
            "image/png": "[encoded data removed]",
            "text/plain": [
              "<Figure size 432x288 with 1 Axes>"
            ]
          },
          "metadata": {
            "tags": [],
            "needs_background": "light"
          }
        }
      ]
    },
    {
      "cell_type": "code",
      "metadata": {
        "colab": {
          "base_uri": "https://localhost:8080/",
          "height": 279
        },
        "id": "HvD4Aj0snF4S",
        "outputId": "2628f28f-6055-49b6-c06f-7561a9ea54a8"
      },
      "source": [
        "sns.lineplot(x= thresholds_curve_test, y= prec_test)\n",
        "sns.lineplot(x= thresholds_curve_test, y= recall_test)\n",
        "plt.xlabel('Threshold')\n",
        "plt.ylabel('PRC')\n",
        "plt.show()"
      ],
      "execution_count": null,
      "outputs": [
        {
          "output_type": "display_data",
          "data": {
            "image/png": "[encoded data removed]",
            "text/plain": [
              "<Figure size 432x288 with 1 Axes>"
            ]
          },
          "metadata": {
            "tags": [],
            "needs_background": "light"
          }
        }
      ]
    },
    {
      "cell_type": "markdown",
      "metadata": {
        "id": "TvrTlH_znW7Y"
      },
      "source": [
        "Decision tree classifier"
      ]
    },
    {
      "cell_type": "code",
      "metadata": {
        "colab": {
          "base_uri": "https://localhost:8080/"
        },
        "id": "Ab7pB_YUoKqH",
        "outputId": "16d22909-5cdb-46f2-ba0d-f6324f90b225"
      },
      "source": [
        "clf = DecisionTreeClassifier()\n",
        "clf.fit(x_train,y_train)\n",
        "y_train_predict = clf.predict(x_train)\n",
        "y_test_predict = clf.predict(x_test)\n",
        "print(metrics.classification_report(y_train,y_train_predict))\n",
        "print(metrics.classification_report(y_test,y_test_predict))"
      ],
      "execution_count": null,
      "outputs": [
        {
          "output_type": "stream",
          "text": [
            "              precision    recall  f1-score   support\n",
            "\n",
            "           0       1.00      1.00      1.00       108\n",
            "           1       1.00      1.00      1.00       134\n",
            "\n",
            "    accuracy                           1.00       242\n",
            "   macro avg       1.00      1.00      1.00       242\n",
            "weighted avg       1.00      1.00      1.00       242\n",
            "\n",
            "              precision    recall  f1-score   support\n",
            "\n",
            "           0       0.77      0.77      0.77        30\n",
            "           1       0.77      0.77      0.77        31\n",
            "\n",
            "    accuracy                           0.77        61\n",
            "   macro avg       0.77      0.77      0.77        61\n",
            "weighted avg       0.77      0.77      0.77        61\n",
            "\n"
          ],
          "name": "stdout"
        }
      ]
    },
    {
      "cell_type": "code",
      "metadata": {
        "colab": {
          "base_uri": "https://localhost:8080/"
        },
        "id": "f_YK7vCcpjW8",
        "outputId": "c6cdd97c-79f8-421f-9992-eb8511cd53bd"
      },
      "source": [
        "param_grids = {\n",
        "    'max_depth':np.arange(2,10),\n",
        "    'class_weight':[None,'balanced'],\n",
        "    'ccp_alpha':[0.1,0.01,0.001,0.0001,1,2,5,10],\n",
        "    'criterion':['gini','entropy']\n",
        "}\n",
        "\n",
        "clf = GridSearchCV(DecisionTreeClassifier(),param_grid=param_grids, cv= 5,scoring='f1_macro',n_jobs = -1)\n",
        "clf.fit(x_train,y_train)\n",
        "y_train_predict = clf.best_estimator_.predict(x_train)\n",
        "y_test_predict = clf.best_estimator_.predict(x_test)\n",
        "print(metrics.classification_report(y_train,y_train_predict))\n",
        "print(metrics.classification_report(y_test,y_test_predict))"
      ],
      "execution_count": null,
      "outputs": [
        {
          "output_type": "stream",
          "text": [
            "              precision    recall  f1-score   support\n",
            "\n",
            "           0       0.96      0.80      0.87       108\n",
            "           1       0.86      0.97      0.91       134\n",
            "\n",
            "    accuracy                           0.89       242\n",
            "   macro avg       0.91      0.88      0.89       242\n",
            "weighted avg       0.90      0.89      0.89       242\n",
            "\n",
            "              precision    recall  f1-score   support\n",
            "\n",
            "           0       0.73      0.63      0.68        30\n",
            "           1       0.69      0.77      0.73        31\n",
            "\n",
            "    accuracy                           0.70        61\n",
            "   macro avg       0.71      0.70      0.70        61\n",
            "weighted avg       0.71      0.70      0.70        61\n",
            "\n"
          ],
          "name": "stdout"
        }
      ]
    },
    {
      "cell_type": "code",
      "metadata": {
        "colab": {
          "base_uri": "https://localhost:8080/"
        },
        "id": "kD08Y9vKqLfm",
        "outputId": "092f6520-1c6c-4da8-ea8a-534f905af56e"
      },
      "source": [
        "clf.best_estimator_"
      ],
      "execution_count": null,
      "outputs": [
        {
          "output_type": "execute_result",
          "data": {
            "text/plain": [
              "DecisionTreeClassifier(ccp_alpha=0.01, class_weight=None, criterion='entropy',\n",
              "                       max_depth=4, max_features=None, max_leaf_nodes=None,\n",
              "                       min_impurity_decrease=0.0, min_impurity_split=None,\n",
              "                       min_samples_leaf=1, min_samples_split=2,\n",
              "                       min_weight_fraction_leaf=0.0, presort='deprecated',\n",
              "                       random_state=None, splitter='best')"
            ]
          },
          "metadata": {
            "tags": []
          },
          "execution_count": 63
        }
      ]
    },
    {
      "cell_type": "markdown",
      "metadata": {
        "id": "7oteaLyNshua"
      },
      "source": [
        "Random Forest"
      ]
    },
    {
      "cell_type": "code",
      "metadata": {
        "colab": {
          "base_uri": "https://localhost:8080/"
        },
        "id": "HWjzqRAqq5Vx",
        "outputId": "5d6cfe40-6fd3-4d52-96b1-4814f055e7fc"
      },
      "source": [
        "params= {'n_estimators': [50,100,110],\n",
        "         'max_depth': [15,25],\n",
        "         'class_weight': [None,'balanced'],\n",
        "         'ccp_alpha':[0.1,0.01,0.001,0.0001,1,2,5,10],\n",
        "         'criterion':['gini','entropy']}\n",
        "\n",
        "grid_model= GridSearchCV(RandomForestClassifier(),param_grid =params,scoring='f1_macro',cv=5,verbose=1,n_jobs=-1)\n",
        "grid_model.fit(x_train,y_train)\n",
        "y_train_predict =grid_model.best_estimator_.predict(x_train)\n",
        "y_test_predict = grid_model.best_estimator_.predict(x_test)\n",
        "print(metrics.classification_report(y_train,y_train_predict))\n",
        "print(metrics.classification_report(y_test,y_test_predict))"
      ],
      "execution_count": null,
      "outputs": [
        {
          "output_type": "stream",
          "text": [
            "Fitting 5 folds for each of 192 candidates, totalling 960 fits\n"
          ],
          "name": "stdout"
        },
        {
          "output_type": "stream",
          "text": [
            "[Parallel(n_jobs=-1)]: Using backend LokyBackend with 2 concurrent workers.\n",
            "[Parallel(n_jobs=-1)]: Done  46 tasks      | elapsed:    6.9s\n",
            "[Parallel(n_jobs=-1)]: Done 196 tasks      | elapsed:   25.8s\n",
            "[Parallel(n_jobs=-1)]: Done 446 tasks      | elapsed:   57.2s\n",
            "[Parallel(n_jobs=-1)]: Done 796 tasks      | elapsed:  1.7min\n",
            "[Parallel(n_jobs=-1)]: Done 960 out of 960 | elapsed:  2.0min finished\n"
          ],
          "name": "stderr"
        },
        {
          "output_type": "stream",
          "text": [
            "              precision    recall  f1-score   support\n",
            "\n",
            "           0       0.94      0.76      0.84       108\n",
            "           1       0.83      0.96      0.89       134\n",
            "\n",
            "    accuracy                           0.87       242\n",
            "   macro avg       0.89      0.86      0.87       242\n",
            "weighted avg       0.88      0.87      0.87       242\n",
            "\n",
            "              precision    recall  f1-score   support\n",
            "\n",
            "           0       0.72      0.60      0.65        30\n",
            "           1       0.67      0.77      0.72        31\n",
            "\n",
            "    accuracy                           0.69        61\n",
            "   macro avg       0.69      0.69      0.69        61\n",
            "weighted avg       0.69      0.69      0.69        61\n",
            "\n"
          ],
          "name": "stdout"
        }
      ]
    },
    {
      "cell_type": "code",
      "metadata": {
        "id": "1b7Sa3ERwZmG"
      },
      "source": [
        "grid_model.best_estimator_"
      ],
      "execution_count": null,
      "outputs": []
    },
    {
      "cell_type": "markdown",
      "metadata": {
        "id": "ciBM8NCSFGoF"
      },
      "source": [
        "XGBoost"
      ]
    },
    {
      "cell_type": "code",
      "metadata": {
        "id": "cdOrLN04CV9X"
      },
      "source": [
        "boost=xgboost.XGBClassifier()"
      ],
      "execution_count": null,
      "outputs": []
    },
    {
      "cell_type": "code",
      "metadata": {
        "colab": {
          "base_uri": "https://localhost:8080/"
        },
        "id": "N5TJGuarwyUW",
        "outputId": "ec76d9da-2437-4f55-9f65-1324e7ebe193"
      },
      "source": [
        "xgb={\n",
        "    'max_depth': [3,5],\n",
        "    'learning_rate':[0.1,0.01,0.001],\n",
        "    'n_estimators':[30,40,50],\n",
        "    'scale_pos_weight':[0.5,0.6,0.7],\n",
        "    'reg_lambda': [0.1,1,2,5]\n",
        "}\n",
        "\n",
        "grid_model1= GridSearchCV(boost,param_grid=xgb,scoring='f1_macro',cv=5,n_jobs=-1)\n",
        "grid_model1.fit(x_train,y_train)\n",
        "y_train_predict =grid_model1.best_estimator_.predict(x_train)\n",
        "y_test_predict = grid_model1.best_estimator_.predict(x_test)\n",
        "print(metrics.classification_report(y_train,y_train_predict))\n",
        "print(metrics.classification_report(y_test,y_test_predict))"
      ],
      "execution_count": null,
      "outputs": [
        {
          "output_type": "stream",
          "text": [
            "              precision    recall  f1-score   support\n",
            "\n",
            "           0       0.89      0.93      0.91       108\n",
            "           1       0.94      0.91      0.92       134\n",
            "\n",
            "    accuracy                           0.92       242\n",
            "   macro avg       0.92      0.92      0.92       242\n",
            "weighted avg       0.92      0.92      0.92       242\n",
            "\n",
            "              precision    recall  f1-score   support\n",
            "\n",
            "           0       0.73      0.73      0.73        30\n",
            "           1       0.74      0.74      0.74        31\n",
            "\n",
            "    accuracy                           0.74        61\n",
            "   macro avg       0.74      0.74      0.74        61\n",
            "weighted avg       0.74      0.74      0.74        61\n",
            "\n"
          ],
          "name": "stdout"
        }
      ]
    },
    {
      "cell_type": "code",
      "metadata": {
        "colab": {
          "base_uri": "https://localhost:8080/"
        },
        "id": "cvDdsqM7DW_5",
        "outputId": "6affcc01-120c-44e4-b40d-c3c024c52bc7"
      },
      "source": [
        "grid_model1.best_estimator_"
      ],
      "execution_count": null,
      "outputs": [
        {
          "output_type": "execute_result",
          "data": {
            "text/plain": [
              "XGBClassifier(base_score=0.5, booster='gbtree', colsample_bylevel=1,\n",
              "              colsample_bynode=1, colsample_bytree=1, gamma=0,\n",
              "              learning_rate=0.1, max_delta_step=0, max_depth=3,\n",
              "              min_child_weight=1, missing=None, n_estimators=30, n_jobs=1,\n",
              "              nthread=None, objective='binary:logistic', random_state=0,\n",
              "              reg_alpha=0, reg_lambda=5, scale_pos_weight=0.6, seed=None,\n",
              "              silent=None, subsample=1, verbosity=1)"
            ]
          },
          "metadata": {
            "tags": []
          },
          "execution_count": 99
        }
      ]
    },
    {
      "cell_type": "code",
      "metadata": {
        "id": "bnJttBOqEAog"
      },
      "source": [
        ""
      ],
      "execution_count": null,
      "outputs": []
    }
  ]
}