{
  "nbformat": 4,
  "nbformat_minor": 0,
  "metadata": {
    "colab": {
      "name": "numpy_tutorial",
      "provenance": [],
      "collapsed_sections": [],
      "authorship_tag": "ABX9TyNnnS4sviRG0/Ey7MYwmowZ",
      "include_colab_link": true
    },
    "kernelspec": {
      "name": "python3",
      "display_name": "Python 3"
    },
    "language_info": {
      "name": "python"
    }
  },
  "cells": [
    {
      "cell_type": "markdown",
      "metadata": {
        "id": "view-in-github",
        "colab_type": "text"
      },
      "source": [
        "<a href=\"https://colab.research.google.com/github/John260260/Classification_problms_ML/blob/main/numpy_tutorial.ipynb\" target=\"_parent\"><img src=\"https://colab.research.google.com/assets/colab-badge.svg\" alt=\"Open In Colab\"/></a>"
      ]
    },
    {
      "cell_type": "code",
      "metadata": {
        "id": "bpLTs959Aqow"
      },
      "source": [
        "import numpy as np"
      ],
      "execution_count": null,
      "outputs": []
    },
    {
      "cell_type": "code",
      "metadata": {
        "colab": {
          "base_uri": "https://localhost:8080/"
        },
        "id": "G0RX46z3FgJo",
        "outputId": "cdf13811-e1bb-4778-8178-9aea1a4b2ad3"
      },
      "source": [
        "np.array(5)"
      ],
      "execution_count": null,
      "outputs": [
        {
          "output_type": "execute_result",
          "data": {
            "text/plain": [
              "array(5)"
            ]
          },
          "metadata": {},
          "execution_count": 2
        }
      ]
    },
    {
      "cell_type": "code",
      "metadata": {
        "id": "8u7ykN4RGCXs"
      },
      "source": [
        "v=np.array([1,2,3,4,5])"
      ],
      "execution_count": null,
      "outputs": []
    },
    {
      "cell_type": "code",
      "metadata": {
        "colab": {
          "base_uri": "https://localhost:8080/"
        },
        "id": "BAe9w1FGGLZl",
        "outputId": "d11035c9-1e57-4419-eb27-563304fe442e"
      },
      "source": [
        "v"
      ],
      "execution_count": null,
      "outputs": [
        {
          "output_type": "execute_result",
          "data": {
            "text/plain": [
              "array([1, 2, 3, 4, 5])"
            ]
          },
          "metadata": {},
          "execution_count": 4
        }
      ]
    },
    {
      "cell_type": "code",
      "metadata": {
        "id": "PIbkJTn1GL4D"
      },
      "source": [
        "m=np.array([[1,2],[2,3],[4,6],[6,2],[5,72548796352878877]])"
      ],
      "execution_count": null,
      "outputs": []
    },
    {
      "cell_type": "code",
      "metadata": {
        "colab": {
          "base_uri": "https://localhost:8080/"
        },
        "id": "fEh0jYJVGYp8",
        "outputId": "bf694c28-8abd-4773-8220-288d78860213"
      },
      "source": [
        "m.shape"
      ],
      "execution_count": null,
      "outputs": [
        {
          "output_type": "execute_result",
          "data": {
            "text/plain": [
              "(5, 2)"
            ]
          },
          "metadata": {},
          "execution_count": 6
        }
      ]
    },
    {
      "cell_type": "code",
      "metadata": {
        "colab": {
          "base_uri": "https://localhost:8080/"
        },
        "id": "ruMQOBgQGZAB",
        "outputId": "ca2e388b-83a5-48f6-dc9b-c40423fdbe8a"
      },
      "source": [
        "m.itemsize"
      ],
      "execution_count": null,
      "outputs": [
        {
          "output_type": "execute_result",
          "data": {
            "text/plain": [
              "8"
            ]
          },
          "metadata": {},
          "execution_count": 7
        }
      ]
    },
    {
      "cell_type": "code",
      "metadata": {
        "id": "CvMuqWHIG01x"
      },
      "source": [
        "x=np.arange(0,10,2)"
      ],
      "execution_count": null,
      "outputs": []
    },
    {
      "cell_type": "code",
      "metadata": {
        "colab": {
          "base_uri": "https://localhost:8080/"
        },
        "id": "e15B3EX9HkJe",
        "outputId": "cb37107a-7731-40b0-b237-9c8fd165efaf"
      },
      "source": [
        "x"
      ],
      "execution_count": null,
      "outputs": [
        {
          "output_type": "execute_result",
          "data": {
            "text/plain": [
              "array([0, 2, 4, 6, 8])"
            ]
          },
          "metadata": {},
          "execution_count": 9
        }
      ]
    },
    {
      "cell_type": "code",
      "metadata": {
        "id": "25F4lUauHksd"
      },
      "source": [
        "y=np.arange(1,16,2)"
      ],
      "execution_count": null,
      "outputs": []
    },
    {
      "cell_type": "code",
      "metadata": {
        "colab": {
          "base_uri": "https://localhost:8080/"
        },
        "id": "y1VOV1vCHu1c",
        "outputId": "d042bef6-3d61-4300-d60a-c4ad8e1d515f"
      },
      "source": [
        "y"
      ],
      "execution_count": null,
      "outputs": [
        {
          "output_type": "execute_result",
          "data": {
            "text/plain": [
              "array([ 1,  3,  5,  7,  9, 11, 13, 15])"
            ]
          },
          "metadata": {},
          "execution_count": 11
        }
      ]
    },
    {
      "cell_type": "code",
      "metadata": {
        "id": "woJGSEqhHvwp"
      },
      "source": [
        "a=np.mgrid[1:5,1:7]"
      ],
      "execution_count": null,
      "outputs": []
    },
    {
      "cell_type": "code",
      "metadata": {
        "colab": {
          "base_uri": "https://localhost:8080/"
        },
        "id": "KoIXBhrPH3jh",
        "outputId": "194f313e-6ba1-487d-b997-297cdd28127e"
      },
      "source": [
        "a"
      ],
      "execution_count": null,
      "outputs": [
        {
          "output_type": "execute_result",
          "data": {
            "text/plain": [
              "array([[[1, 1, 1, 1, 1, 1],\n",
              "        [2, 2, 2, 2, 2, 2],\n",
              "        [3, 3, 3, 3, 3, 3],\n",
              "        [4, 4, 4, 4, 4, 4]],\n",
              "\n",
              "       [[1, 2, 3, 4, 5, 6],\n",
              "        [1, 2, 3, 4, 5, 6],\n",
              "        [1, 2, 3, 4, 5, 6],\n",
              "        [1, 2, 3, 4, 5, 6]]])"
            ]
          },
          "metadata": {},
          "execution_count": 13
        }
      ]
    },
    {
      "cell_type": "code",
      "metadata": {
        "colab": {
          "base_uri": "https://localhost:8080/"
        },
        "id": "aJ-cA1HiH4bI",
        "outputId": "c4415508-5094-469a-cd07-59ef8dffdf1a"
      },
      "source": [
        "a[1,2,3]"
      ],
      "execution_count": null,
      "outputs": [
        {
          "output_type": "execute_result",
          "data": {
            "text/plain": [
              "4"
            ]
          },
          "metadata": {},
          "execution_count": 14
        }
      ]
    },
    {
      "cell_type": "code",
      "metadata": {
        "id": "UsnbcVoYIz_E"
      },
      "source": [
        "x=np.arange(0,15,2) #(strt,end,step)"
      ],
      "execution_count": null,
      "outputs": []
    },
    {
      "cell_type": "code",
      "metadata": {
        "colab": {
          "base_uri": "https://localhost:8080/"
        },
        "id": "ocrVDY0pJFrz",
        "outputId": "51987de0-72aa-4b61-ac1a-9dcd6102dbb6"
      },
      "source": [
        "x"
      ],
      "execution_count": null,
      "outputs": [
        {
          "output_type": "execute_result",
          "data": {
            "text/plain": [
              "array([ 0,  2,  4,  6,  8, 10, 12, 14])"
            ]
          },
          "metadata": {},
          "execution_count": 16
        }
      ]
    },
    {
      "cell_type": "code",
      "metadata": {
        "id": "UM7rYs8wJGou"
      },
      "source": [
        "b=np.linspace(1,4,4) #(strt,end,no.of.elem))"
      ],
      "execution_count": null,
      "outputs": []
    },
    {
      "cell_type": "code",
      "metadata": {
        "colab": {
          "base_uri": "https://localhost:8080/"
        },
        "id": "XTEWReHrJk9x",
        "outputId": "b3cdf259-bc28-4209-9b58-36ee134f53a4"
      },
      "source": [
        "b"
      ],
      "execution_count": null,
      "outputs": [
        {
          "output_type": "execute_result",
          "data": {
            "text/plain": [
              "array([1., 2., 3., 4.])"
            ]
          },
          "metadata": {},
          "execution_count": 18
        }
      ]
    },
    {
      "cell_type": "code",
      "metadata": {
        "id": "2wd-_huXJnQS"
      },
      "source": [
        "x,y=np.mgrid[1:4,1:9] #(rows_range,columns_range)"
      ],
      "execution_count": null,
      "outputs": []
    },
    {
      "cell_type": "code",
      "metadata": {
        "id": "rD_tww6QLYdd"
      },
      "source": [
        "import re"
      ],
      "execution_count": null,
      "outputs": []
    },
    {
      "cell_type": "code",
      "metadata": {
        "colab": {
          "base_uri": "https://localhost:8080/"
        },
        "id": "d-Kq1_8gKzdA",
        "outputId": "20420253-3386-4cfd-8d80-def336b7b86a"
      },
      "source": [
        "print(x)\n",
        "print(y)"
      ],
      "execution_count": null,
      "outputs": [
        {
          "output_type": "stream",
          "name": "stdout",
          "text": [
            "[[1 1 1 1 1 1 1 1]\n",
            " [2 2 2 2 2 2 2 2]\n",
            " [3 3 3 3 3 3 3 3]]\n",
            "[[1 2 3 4 5 6 7 8]\n",
            " [1 2 3 4 5 6 7 8]\n",
            " [1 2 3 4 5 6 7 8]]\n"
          ]
        }
      ]
    },
    {
      "cell_type": "code",
      "metadata": {
        "colab": {
          "base_uri": "https://localhost:8080/"
        },
        "id": "Ha9jq-ABLAaD",
        "outputId": "a5bcecc8-1bb3-4a7b-9dd0-a0e1b89de685"
      },
      "source": [
        "np.random.rand(5,6) #(no_rows,no_col)"
      ],
      "execution_count": null,
      "outputs": [
        {
          "output_type": "execute_result",
          "data": {
            "text/plain": [
              "array([[0.6482137 , 0.34330108, 0.42693523, 0.92106242, 0.38727332,\n",
              "        0.81849461],\n",
              "       [0.14060338, 0.06233394, 0.22433348, 0.09384882, 0.73148739,\n",
              "        0.54255525],\n",
              "       [0.11188435, 0.19457731, 0.05366993, 0.12122001, 0.51487038,\n",
              "        0.0564426 ],\n",
              "       [0.00699694, 0.30342241, 0.51021918, 0.44133013, 0.76754388,\n",
              "        0.43295752],\n",
              "       [0.64568419, 0.33531364, 0.34116137, 0.32306146, 0.59268466,\n",
              "        0.45896799]])"
            ]
          },
          "metadata": {},
          "execution_count": 22
        }
      ]
    },
    {
      "cell_type": "code",
      "metadata": {
        "colab": {
          "base_uri": "https://localhost:8080/"
        },
        "id": "r8xppetIL8wR",
        "outputId": "86a2f235-b9c5-48c2-a387-e3756526c417"
      },
      "source": [
        "np.random.randn(5,7) #(no_rows,no_col)"
      ],
      "execution_count": null,
      "outputs": [
        {
          "output_type": "execute_result",
          "data": {
            "text/plain": [
              "array([[-1.81056341,  0.61477193,  0.06724017, -2.27727646,  1.2681475 ,\n",
              "         0.75957688, -1.2161102 ],\n",
              "       [ 0.10980271,  0.22555107,  0.38715378,  0.38654402, -0.3771986 ,\n",
              "         1.27562341,  0.02159422],\n",
              "       [-0.74064085,  0.38079953,  1.60539015, -0.11250661, -0.59855333,\n",
              "        -0.10374773, -0.8187591 ],\n",
              "       [ 1.51308617,  0.18524492, -0.78437766,  1.85632043, -1.73798302,\n",
              "         0.57002053, -0.28591387],\n",
              "       [ 1.10027653, -0.16041904, -0.27849248, -0.54424337,  1.67640949,\n",
              "        -1.06298145, -1.18187325]])"
            ]
          },
          "metadata": {},
          "execution_count": 23
        }
      ]
    },
    {
      "cell_type": "code",
      "metadata": {
        "colab": {
          "base_uri": "https://localhost:8080/"
        },
        "id": "rRJNfPgoMMhg",
        "outputId": "06fb18bd-6e98-4441-d15e-b643e1cd91f3"
      },
      "source": [
        "np.diag([5,8,20]) #([values to be in diag])"
      ],
      "execution_count": null,
      "outputs": [
        {
          "output_type": "execute_result",
          "data": {
            "text/plain": [
              "array([[ 5,  0,  0],\n",
              "       [ 0,  8,  0],\n",
              "       [ 0,  0, 20]])"
            ]
          },
          "metadata": {},
          "execution_count": 24
        }
      ]
    },
    {
      "cell_type": "code",
      "metadata": {
        "colab": {
          "base_uri": "https://localhost:8080/"
        },
        "id": "LMcSalEWMhfs",
        "outputId": "81c5157e-7341-4ee4-a66a-edb18b0b0c4b"
      },
      "source": [
        "np.diag([6,8,10],k=1) #([values to be in diag],no.of blank spaces in left)"
      ],
      "execution_count": null,
      "outputs": [
        {
          "output_type": "execute_result",
          "data": {
            "text/plain": [
              "array([[ 0,  6,  0,  0],\n",
              "       [ 0,  0,  8,  0],\n",
              "       [ 0,  0,  0, 10],\n",
              "       [ 0,  0,  0,  0]])"
            ]
          },
          "metadata": {},
          "execution_count": 25
        }
      ]
    },
    {
      "cell_type": "code",
      "metadata": {
        "id": "_twkQlRXM-n1"
      },
      "source": [
        "c=np.eye(4,6,k=2) #(no_rows,no_col) # a diagonal matrix with ones on the main diagonal"
      ],
      "execution_count": null,
      "outputs": []
    },
    {
      "cell_type": "code",
      "metadata": {
        "colab": {
          "base_uri": "https://localhost:8080/"
        },
        "id": "SMyIEBeWPehv",
        "outputId": "eb70239d-5772-4856-bb64-0af84d4d0c0c"
      },
      "source": [
        "c"
      ],
      "execution_count": null,
      "outputs": [
        {
          "output_type": "execute_result",
          "data": {
            "text/plain": [
              "array([[0., 0., 1., 0., 0., 0.],\n",
              "       [0., 0., 0., 1., 0., 0.],\n",
              "       [0., 0., 0., 0., 1., 0.],\n",
              "       [0., 0., 0., 0., 0., 1.]])"
            ]
          },
          "metadata": {},
          "execution_count": 27
        }
      ]
    },
    {
      "cell_type": "code",
      "metadata": {
        "colab": {
          "base_uri": "https://localhost:8080/"
        },
        "id": "ehGeYzXAPfKZ",
        "outputId": "e1975892-9ab1-474a-f741-35140c1de517"
      },
      "source": [
        "np.zeros([2,3]) #([no_rows,no_col])"
      ],
      "execution_count": null,
      "outputs": [
        {
          "output_type": "execute_result",
          "data": {
            "text/plain": [
              "array([[0., 0., 0.],\n",
              "       [0., 0., 0.]])"
            ]
          },
          "metadata": {},
          "execution_count": 28
        }
      ]
    },
    {
      "cell_type": "code",
      "metadata": {
        "colab": {
          "base_uri": "https://localhost:8080/"
        },
        "id": "fVl8G2pdP5jC",
        "outputId": "67d7a622-66a4-407c-8265-0d9358de1c5a"
      },
      "source": [
        "np.ones([2,3]) #([no_rows,no_col])"
      ],
      "execution_count": null,
      "outputs": [
        {
          "output_type": "execute_result",
          "data": {
            "text/plain": [
              "array([[1., 1., 1.],\n",
              "       [1., 1., 1.]])"
            ]
          },
          "metadata": {},
          "execution_count": 29
        }
      ]
    },
    {
      "cell_type": "code",
      "metadata": {
        "colab": {
          "base_uri": "https://localhost:8080/"
        },
        "id": "HiOirn2QQO7p",
        "outputId": "fb6ae416-3cab-407c-c4e1-8a3b4f7784b7"
      },
      "source": [
        "#Array of uninitialized (arbitrary) data of the given shape, dtype, and order.\n",
        "np.empty([3,5]) #([no_rows,no_col])"
      ],
      "execution_count": null,
      "outputs": [
        {
          "output_type": "execute_result",
          "data": {
            "text/plain": [
              "array([[4.65120284e-310, 1.03977794e-312, 1.01855798e-312,\n",
              "        9.54898106e-313, 1.20953760e-312],\n",
              "       [1.03977794e-312, 1.23075756e-312, 1.20953760e-312,\n",
              "        1.01855798e-312, 9.76118064e-313],\n",
              "       [1.18831764e-312, 1.18831764e-312, 1.16709769e-312,\n",
              "        3.44981226e+175, 6.81019663e-310]])"
            ]
          },
          "metadata": {},
          "execution_count": 30
        }
      ]
    },
    {
      "cell_type": "code",
      "metadata": {
        "colab": {
          "base_uri": "https://localhost:8080/"
        },
        "id": "_LVWzqqJRAT6",
        "outputId": "c3fcc439-aff4-46f1-cb84-76b47dc7f90e"
      },
      "source": [
        "np.diag(np.arange(1,10,2),k=1)"
      ],
      "execution_count": null,
      "outputs": [
        {
          "output_type": "execute_result",
          "data": {
            "text/plain": [
              "array([[0, 1, 0, 0, 0, 0],\n",
              "       [0, 0, 3, 0, 0, 0],\n",
              "       [0, 0, 0, 5, 0, 0],\n",
              "       [0, 0, 0, 0, 7, 0],\n",
              "       [0, 0, 0, 0, 0, 9],\n",
              "       [0, 0, 0, 0, 0, 0]])"
            ]
          },
          "metadata": {},
          "execution_count": 31
        }
      ]
    },
    {
      "cell_type": "code",
      "metadata": {
        "colab": {
          "base_uri": "https://localhost:8080/"
        },
        "id": "PxcP7fZXc87B",
        "outputId": "d14088d0-e0a7-4a0f-c02f-c1beb389c2fd"
      },
      "source": [
        "np.diag(np.arange(5))"
      ],
      "execution_count": null,
      "outputs": [
        {
          "output_type": "execute_result",
          "data": {
            "text/plain": [
              "array([[0, 0, 0, 0, 0],\n",
              "       [0, 1, 0, 0, 0],\n",
              "       [0, 0, 2, 0, 0],\n",
              "       [0, 0, 0, 3, 0],\n",
              "       [0, 0, 0, 0, 4]])"
            ]
          },
          "metadata": {},
          "execution_count": 32
        }
      ]
    },
    {
      "cell_type": "code",
      "metadata": {
        "id": "4daWH6gufJw0"
      },
      "source": [
        "a=np.tile([[1,2],[3,4],[5,6]], (3,3)) #([[values]],(rows,columns))"
      ],
      "execution_count": null,
      "outputs": []
    },
    {
      "cell_type": "code",
      "metadata": {
        "colab": {
          "base_uri": "https://localhost:8080/"
        },
        "id": "FOMEIDcBj1O2",
        "outputId": "277c1f04-9b21-4a06-c3e1-2204cdc19bf9"
      },
      "source": [
        "a"
      ],
      "execution_count": null,
      "outputs": [
        {
          "output_type": "execute_result",
          "data": {
            "text/plain": [
              "array([[1, 2, 1, 2, 1, 2],\n",
              "       [3, 4, 3, 4, 3, 4],\n",
              "       [5, 6, 5, 6, 5, 6],\n",
              "       [1, 2, 1, 2, 1, 2],\n",
              "       [3, 4, 3, 4, 3, 4],\n",
              "       [5, 6, 5, 6, 5, 6],\n",
              "       [1, 2, 1, 2, 1, 2],\n",
              "       [3, 4, 3, 4, 3, 4],\n",
              "       [5, 6, 5, 6, 5, 6]])"
            ]
          },
          "metadata": {},
          "execution_count": 34
        }
      ]
    },
    {
      "cell_type": "code",
      "metadata": {
        "id": "TnzgTOalhTUl"
      },
      "source": [
        "a[1]=[6,7,6,7,6,7]"
      ],
      "execution_count": null,
      "outputs": []
    },
    {
      "cell_type": "code",
      "metadata": {
        "id": "uAfzSy7Hf52I"
      },
      "source": [
        "b=np.tile((8,9),(2,2))"
      ],
      "execution_count": null,
      "outputs": []
    },
    {
      "cell_type": "code",
      "metadata": {
        "colab": {
          "base_uri": "https://localhost:8080/"
        },
        "id": "xo9n5jZUg_UW",
        "outputId": "01bf85da-15a3-4e57-fa9d-a1ce2f5159f3"
      },
      "source": [
        "b[1]"
      ],
      "execution_count": null,
      "outputs": [
        {
          "output_type": "execute_result",
          "data": {
            "text/plain": [
              "array([8, 9, 8, 9])"
            ]
          },
          "metadata": {},
          "execution_count": 37
        }
      ]
    },
    {
      "cell_type": "code",
      "metadata": {
        "id": "8SNX1NPWhY7Y"
      },
      "source": [
        "b[1]=[6,7,6,7]"
      ],
      "execution_count": null,
      "outputs": []
    },
    {
      "cell_type": "code",
      "metadata": {
        "colab": {
          "base_uri": "https://localhost:8080/"
        },
        "id": "RFI_tqHNhowl",
        "outputId": "d62a6ba5-4cf0-4205-883a-82abc0b5073f"
      },
      "source": [
        "a"
      ],
      "execution_count": null,
      "outputs": [
        {
          "output_type": "execute_result",
          "data": {
            "text/plain": [
              "array([[1, 2, 1, 2, 1, 2],\n",
              "       [6, 7, 6, 7, 6, 7],\n",
              "       [5, 6, 5, 6, 5, 6],\n",
              "       [1, 2, 1, 2, 1, 2],\n",
              "       [3, 4, 3, 4, 3, 4],\n",
              "       [5, 6, 5, 6, 5, 6],\n",
              "       [1, 2, 1, 2, 1, 2],\n",
              "       [3, 4, 3, 4, 3, 4],\n",
              "       [5, 6, 5, 6, 5, 6]])"
            ]
          },
          "metadata": {},
          "execution_count": 39
        }
      ]
    },
    {
      "cell_type": "code",
      "metadata": {
        "colab": {
          "base_uri": "https://localhost:8080/"
        },
        "id": "6rU5ickJhqET",
        "outputId": "f4f0aff5-beda-4746-d14f-874637eb61cb"
      },
      "source": [
        "b"
      ],
      "execution_count": null,
      "outputs": [
        {
          "output_type": "execute_result",
          "data": {
            "text/plain": [
              "array([[8, 9, 8, 9],\n",
              "       [6, 7, 6, 7]])"
            ]
          },
          "metadata": {},
          "execution_count": 40
        }
      ]
    },
    {
      "cell_type": "code",
      "metadata": {
        "id": "NgjxYWIAhq3A"
      },
      "source": [
        "a=np.tile(((1,2),(3,4),(5,6)), (3,3))"
      ],
      "execution_count": null,
      "outputs": []
    },
    {
      "cell_type": "code",
      "metadata": {
        "colab": {
          "base_uri": "https://localhost:8080/"
        },
        "id": "xyYHSwosiKAg",
        "outputId": "ba7ae2cb-3c21-4cd5-eb5d-6bfd4ec95f4a"
      },
      "source": [
        "a"
      ],
      "execution_count": null,
      "outputs": [
        {
          "output_type": "execute_result",
          "data": {
            "text/plain": [
              "array([[1, 2, 1, 2, 1, 2],\n",
              "       [3, 4, 3, 4, 3, 4],\n",
              "       [5, 6, 5, 6, 5, 6],\n",
              "       [1, 2, 1, 2, 1, 2],\n",
              "       [3, 4, 3, 4, 3, 4],\n",
              "       [5, 6, 5, 6, 5, 6],\n",
              "       [1, 2, 1, 2, 1, 2],\n",
              "       [3, 4, 3, 4, 3, 4],\n",
              "       [5, 6, 5, 6, 5, 6]])"
            ]
          },
          "metadata": {},
          "execution_count": 42
        }
      ]
    },
    {
      "cell_type": "code",
      "metadata": {
        "colab": {
          "base_uri": "https://localhost:8080/"
        },
        "id": "QB5B7LFLiUSK",
        "outputId": "765ed887-ea37-47cb-d113-c064f2746081"
      },
      "source": [
        "n=(np.random.rand(10,3)*100)\n",
        "n"
      ],
      "execution_count": null,
      "outputs": [
        {
          "output_type": "execute_result",
          "data": {
            "text/plain": [
              "array([[44.16756007, 42.19470791, 70.44196063],\n",
              "       [ 0.9193954 , 69.16412284,  8.42757658],\n",
              "       [ 7.61436754, 45.72026581, 81.53966626],\n",
              "       [29.77044319, 90.03079093, 57.80423798],\n",
              "       [71.151501  , 56.76087552, 21.10740945],\n",
              "       [73.58777245, 82.76772307, 34.55251759],\n",
              "       [80.75908363, 76.32022694, 59.7484537 ],\n",
              "       [38.07599606, 66.22091881, 86.95267691],\n",
              "       [40.69194317, 79.96383129, 83.81197211],\n",
              "       [83.86282713, 58.78329534, 16.02377672]])"
            ]
          },
          "metadata": {},
          "execution_count": 43
        }
      ]
    },
    {
      "cell_type": "code",
      "metadata": {
        "colab": {
          "base_uri": "https://localhost:8080/"
        },
        "id": "s4ZlBqjXlMds",
        "outputId": "05e1c715-24ce-402c-95f8-4cc7f364f4f4"
      },
      "source": [
        "n[:,1] #1st column"
      ],
      "execution_count": null,
      "outputs": [
        {
          "output_type": "execute_result",
          "data": {
            "text/plain": [
              "array([42.19470791, 69.16412284, 45.72026581, 90.03079093, 56.76087552,\n",
              "       82.76772307, 76.32022694, 66.22091881, 79.96383129, 58.78329534])"
            ]
          },
          "metadata": {},
          "execution_count": 44
        }
      ]
    },
    {
      "cell_type": "code",
      "metadata": {
        "colab": {
          "base_uri": "https://localhost:8080/"
        },
        "id": "0ki-x31VmxYd",
        "outputId": "c29281f3-0c3b-4dd9-8840-df13476adf26"
      },
      "source": [
        "n[1,:] #1st row"
      ],
      "execution_count": null,
      "outputs": [
        {
          "output_type": "execute_result",
          "data": {
            "text/plain": [
              "array([ 0.9193954 , 69.16412284,  8.42757658])"
            ]
          },
          "metadata": {},
          "execution_count": 45
        }
      ]
    },
    {
      "cell_type": "code",
      "metadata": {
        "id": "KUvHfe8wm5am"
      },
      "source": [
        "n[:,1]=2\n",
        "n[1,:]=-1"
      ],
      "execution_count": null,
      "outputs": []
    },
    {
      "cell_type": "code",
      "metadata": {
        "colab": {
          "base_uri": "https://localhost:8080/"
        },
        "id": "LZv9FA3XnL-M",
        "outputId": "992fef7b-cd37-495e-db31-0e8936bbade9"
      },
      "source": [
        "n"
      ],
      "execution_count": null,
      "outputs": [
        {
          "output_type": "execute_result",
          "data": {
            "text/plain": [
              "array([[44.16756007,  2.        , 70.44196063],\n",
              "       [-1.        , -1.        , -1.        ],\n",
              "       [ 7.61436754,  2.        , 81.53966626],\n",
              "       [29.77044319,  2.        , 57.80423798],\n",
              "       [71.151501  ,  2.        , 21.10740945],\n",
              "       [73.58777245,  2.        , 34.55251759],\n",
              "       [80.75908363,  2.        , 59.7484537 ],\n",
              "       [38.07599606,  2.        , 86.95267691],\n",
              "       [40.69194317,  2.        , 83.81197211],\n",
              "       [83.86282713,  2.        , 16.02377672]])"
            ]
          },
          "metadata": {},
          "execution_count": 47
        }
      ]
    },
    {
      "cell_type": "code",
      "metadata": {
        "id": "YY84mk3PnRC5"
      },
      "source": [
        "a=np.array([1,2,3,4,5])"
      ],
      "execution_count": null,
      "outputs": []
    },
    {
      "cell_type": "code",
      "metadata": {
        "colab": {
          "base_uri": "https://localhost:8080/"
        },
        "id": "TQ3TFAqYoOj4",
        "outputId": "28193919-70fe-4992-fadd-287e58637f49"
      },
      "source": [
        "a"
      ],
      "execution_count": null,
      "outputs": [
        {
          "output_type": "execute_result",
          "data": {
            "text/plain": [
              "array([1, 2, 3, 4, 5])"
            ]
          },
          "metadata": {},
          "execution_count": 49
        }
      ]
    },
    {
      "cell_type": "code",
      "metadata": {
        "colab": {
          "base_uri": "https://localhost:8080/"
        },
        "id": "RnmJWIBuoQPU",
        "outputId": "125035c4-4b0a-4e7f-ce2c-de8fa966817f"
      },
      "source": [
        "a[:]"
      ],
      "execution_count": null,
      "outputs": [
        {
          "output_type": "execute_result",
          "data": {
            "text/plain": [
              "array([1, 2, 3, 4, 5])"
            ]
          },
          "metadata": {},
          "execution_count": 50
        }
      ]
    },
    {
      "cell_type": "code",
      "metadata": {
        "colab": {
          "base_uri": "https://localhost:8080/"
        },
        "id": "s0KzKRgWoUFq",
        "outputId": "b2fad1f9-0782-465d-b089-0a1bff02b7ab"
      },
      "source": [
        "a[0:4:2]"
      ],
      "execution_count": null,
      "outputs": [
        {
          "output_type": "execute_result",
          "data": {
            "text/plain": [
              "array([1, 3])"
            ]
          },
          "metadata": {},
          "execution_count": 51
        }
      ]
    },
    {
      "cell_type": "code",
      "metadata": {
        "colab": {
          "base_uri": "https://localhost:8080/"
        },
        "id": "51wuUa0zomCF",
        "outputId": "ef4f3c38-8df6-4871-f971-91b9ae4f46dd"
      },
      "source": [
        "a[:3]"
      ],
      "execution_count": null,
      "outputs": [
        {
          "output_type": "execute_result",
          "data": {
            "text/plain": [
              "array([1, 2, 3])"
            ]
          },
          "metadata": {},
          "execution_count": 52
        }
      ]
    },
    {
      "cell_type": "code",
      "metadata": {
        "colab": {
          "base_uri": "https://localhost:8080/"
        },
        "id": "66tT8SkipFAk",
        "outputId": "582bc64c-eeea-4caa-c4b6-5ab49e0101b5"
      },
      "source": [
        "a[2:]"
      ],
      "execution_count": null,
      "outputs": [
        {
          "output_type": "execute_result",
          "data": {
            "text/plain": [
              "array([3, 4, 5])"
            ]
          },
          "metadata": {},
          "execution_count": 53
        }
      ]
    },
    {
      "cell_type": "code",
      "metadata": {
        "id": "R4dZ7GTQpITW"
      },
      "source": [
        "a=np.array([[n+m*10 for n in range(5)]for m in range(5)])"
      ],
      "execution_count": null,
      "outputs": []
    },
    {
      "cell_type": "code",
      "metadata": {
        "colab": {
          "base_uri": "https://localhost:8080/"
        },
        "id": "bcTbTo5Mq2SM",
        "outputId": "91f760f4-dd18-49c1-b4a8-ec3127249473"
      },
      "source": [
        "a"
      ],
      "execution_count": null,
      "outputs": [
        {
          "output_type": "execute_result",
          "data": {
            "text/plain": [
              "array([[ 0,  1,  2,  3,  4],\n",
              "       [10, 11, 12, 13, 14],\n",
              "       [20, 21, 22, 23, 24],\n",
              "       [30, 31, 32, 33, 34],\n",
              "       [40, 41, 42, 43, 44]])"
            ]
          },
          "metadata": {},
          "execution_count": 55
        }
      ]
    },
    {
      "cell_type": "code",
      "metadata": {
        "colab": {
          "base_uri": "https://localhost:8080/"
        },
        "id": "xPZGKkO5sF6A",
        "outputId": "41b5ad95-786c-4ecd-82bf-cff419920677"
      },
      "source": [
        "row_indices=[1,2]\n",
        "\n",
        "a[row_indices]"
      ],
      "execution_count": null,
      "outputs": [
        {
          "output_type": "execute_result",
          "data": {
            "text/plain": [
              "array([[10, 11, 12, 13, 14],\n",
              "       [20, 21, 22, 23, 24]])"
            ]
          },
          "metadata": {},
          "execution_count": 56
        }
      ]
    },
    {
      "cell_type": "code",
      "metadata": {
        "id": "ges8KtK3txFe"
      },
      "source": [
        "row_bool=[True,False,False,True,False]"
      ],
      "execution_count": null,
      "outputs": []
    },
    {
      "cell_type": "code",
      "metadata": {
        "colab": {
          "base_uri": "https://localhost:8080/"
        },
        "id": "syma3kn6xA5U",
        "outputId": "e2afe508-4722-4915-defa-375a8471dbd6"
      },
      "source": [
        "a[row_bool,row_indices]"
      ],
      "execution_count": null,
      "outputs": [
        {
          "output_type": "execute_result",
          "data": {
            "text/plain": [
              "array([ 1, 32])"
            ]
          },
          "metadata": {},
          "execution_count": 58
        }
      ]
    },
    {
      "cell_type": "code",
      "metadata": {
        "id": "g-oHHcqjxGob"
      },
      "source": [
        "row_mask=np.array([1,0,0,1,1],dtype=bool)"
      ],
      "execution_count": null,
      "outputs": []
    },
    {
      "cell_type": "code",
      "metadata": {
        "colab": {
          "base_uri": "https://localhost:8080/"
        },
        "id": "M4FLf1v8yee-",
        "outputId": "2d312284-bb89-49cf-b7dd-434cee1e19c7"
      },
      "source": [
        "a[row_mask]"
      ],
      "execution_count": null,
      "outputs": [
        {
          "output_type": "execute_result",
          "data": {
            "text/plain": [
              "array([[ 0,  1,  2,  3,  4],\n",
              "       [30, 31, 32, 33, 34],\n",
              "       [40, 41, 42, 43, 44]])"
            ]
          },
          "metadata": {},
          "execution_count": 60
        }
      ]
    },
    {
      "cell_type": "code",
      "metadata": {
        "id": "PW8GEULSyl4M"
      },
      "source": [
        "mask=(5<x)*(x<7.5)"
      ],
      "execution_count": null,
      "outputs": []
    },
    {
      "cell_type": "code",
      "metadata": {
        "colab": {
          "base_uri": "https://localhost:8080/"
        },
        "id": "H6U8SOk3zpsV",
        "outputId": "73e7b7de-dbc7-4879-b96d-9bd9b8ea9a77"
      },
      "source": [
        "x"
      ],
      "execution_count": null,
      "outputs": [
        {
          "output_type": "execute_result",
          "data": {
            "text/plain": [
              "array([[1, 1, 1, 1, 1, 1, 1, 1],\n",
              "       [2, 2, 2, 2, 2, 2, 2, 2],\n",
              "       [3, 3, 3, 3, 3, 3, 3, 3]])"
            ]
          },
          "metadata": {},
          "execution_count": 62
        }
      ]
    },
    {
      "cell_type": "code",
      "metadata": {
        "colab": {
          "base_uri": "https://localhost:8080/",
          "height": 35
        },
        "id": "GR2JsfCezrrN",
        "outputId": "c494eefd-3618-4291-8ad1-286b84e922fb"
      },
      "source": [
        "FC=np.array([[1,2,3],[4,5,6],[7,8,9],[11,12,14]],order='F') \n",
        "\n",
        "'''F-Contiguous\n",
        "i.e. column-wise storage, Fortran-like'''"
      ],
      "execution_count": null,
      "outputs": [
        {
          "output_type": "execute_result",
          "data": {
            "application/vnd.google.colaboratory.intrinsic+json": {
              "type": "string"
            },
            "text/plain": [
              "'F-Contiguous\\ni.e. column-wise storage, Fortran-like'"
            ]
          },
          "metadata": {},
          "execution_count": 63
        }
      ]
    },
    {
      "cell_type": "code",
      "metadata": {
        "colab": {
          "base_uri": "https://localhost:8080/",
          "height": 35
        },
        "id": "G9zk__Oac3Lm",
        "outputId": "55585416-519f-41c5-bdab-16275aec6f06"
      },
      "source": [
        "CC = np.array([[1, 2, 3],    [4, 5, 6], \n",
        "               [7, 8, 9],    [10, 11, 12]], order='C')\n",
        "\n",
        "'''C-Contiguous\n",
        "i.e. row-wise storage, C-like'''"
      ],
      "execution_count": null,
      "outputs": [
        {
          "output_type": "execute_result",
          "data": {
            "application/vnd.google.colaboratory.intrinsic+json": {
              "type": "string"
            },
            "text/plain": [
              "'C-Contiguous\\ni.e. row-wise storage, C-like'"
            ]
          },
          "metadata": {},
          "execution_count": 64
        }
      ]
    },
    {
      "cell_type": "code",
      "metadata": {
        "id": "B1zPdsY3dPgM"
      },
      "source": [
        "c=np.arange(4)"
      ],
      "execution_count": null,
      "outputs": []
    },
    {
      "cell_type": "code",
      "metadata": {
        "id": "MB9R_WWHdqz_"
      },
      "source": [
        "s=np.where(c)"
      ],
      "execution_count": null,
      "outputs": []
    },
    {
      "cell_type": "code",
      "metadata": {
        "colab": {
          "base_uri": "https://localhost:8080/"
        },
        "id": "wy3Bk3yedvHq",
        "outputId": "9e335ede-8927-4760-a6e4-2574a2a6c43f"
      },
      "source": [
        "CC[s]"
      ],
      "execution_count": null,
      "outputs": [
        {
          "output_type": "execute_result",
          "data": {
            "text/plain": [
              "array([[ 4,  5,  6],\n",
              "       [ 7,  8,  9],\n",
              "       [10, 11, 12]])"
            ]
          },
          "metadata": {},
          "execution_count": 67
        }
      ]
    },
    {
      "cell_type": "code",
      "metadata": {
        "colab": {
          "base_uri": "https://localhost:8080/"
        },
        "id": "S8leux4bdzB4",
        "outputId": "6fb9a118-0e25-441a-a8cb-b737fc88f50e"
      },
      "source": [
        "FC[s]"
      ],
      "execution_count": null,
      "outputs": [
        {
          "output_type": "execute_result",
          "data": {
            "text/plain": [
              "array([[ 4,  5,  6],\n",
              "       [ 7,  8,  9],\n",
              "       [11, 12, 14]])"
            ]
          },
          "metadata": {},
          "execution_count": 68
        }
      ]
    },
    {
      "cell_type": "code",
      "metadata": {
        "id": "IvuRCW5Fd7As"
      },
      "source": [
        "v=np.arange(-3,3)"
      ],
      "execution_count": null,
      "outputs": []
    },
    {
      "cell_type": "code",
      "metadata": {
        "id": "XLPJGnukfB3M"
      },
      "source": [
        "row_indic=[1,3,5]"
      ],
      "execution_count": null,
      "outputs": []
    },
    {
      "cell_type": "code",
      "metadata": {
        "colab": {
          "base_uri": "https://localhost:8080/"
        },
        "id": "7CcKBq22fEpi",
        "outputId": "8d6145c0-8fc0-40bf-d3de-ad9f90f40ab4"
      },
      "source": [
        "v[row_indic]"
      ],
      "execution_count": null,
      "outputs": [
        {
          "output_type": "execute_result",
          "data": {
            "text/plain": [
              "array([-2,  0,  2])"
            ]
          },
          "metadata": {},
          "execution_count": 71
        }
      ]
    },
    {
      "cell_type": "code",
      "metadata": {
        "colab": {
          "base_uri": "https://localhost:8080/"
        },
        "id": "opgizDxCfIE6",
        "outputId": "1462eee7-1a0a-41e4-832b-cc6b6dcf9e34"
      },
      "source": [
        "v.take(row_indic)"
      ],
      "execution_count": null,
      "outputs": [
        {
          "output_type": "execute_result",
          "data": {
            "text/plain": [
              "array([-2,  0,  2])"
            ]
          },
          "metadata": {},
          "execution_count": 72
        }
      ]
    },
    {
      "cell_type": "code",
      "metadata": {
        "colab": {
          "base_uri": "https://localhost:8080/"
        },
        "id": "k3st3T_LfKij",
        "outputId": "764b0e95-04ec-4694-e016-7666c81726fb"
      },
      "source": [
        "which=[1,0,1]\n",
        "chooses=[[8,9,10],[11,12,13],[4,5,6]]\n",
        "\n",
        "np.choose(which,chooses)"
      ],
      "execution_count": null,
      "outputs": [
        {
          "output_type": "execute_result",
          "data": {
            "text/plain": [
              "array([11,  9, 13])"
            ]
          },
          "metadata": {},
          "execution_count": 73
        }
      ]
    },
    {
      "cell_type": "code",
      "metadata": {
        "id": "E0fOvzNEfPEz"
      },
      "source": [
        "data = np.random.randn(77431, 3)\n",
        "months_of_the_year=np.arange(1,13)\n",
        "data[:,1]=np.random.choice(months_of_the_year,size=data.shape[0])"
      ],
      "execution_count": null,
      "outputs": []
    },
    {
      "cell_type": "code",
      "metadata": {
        "colab": {
          "base_uri": "https://localhost:8080/"
        },
        "id": "k_HgyCusf_ae",
        "outputId": "01668edd-23b8-4652-a191-efd1bf638984"
      },
      "source": [
        "data"
      ],
      "execution_count": null,
      "outputs": [
        {
          "output_type": "execute_result",
          "data": {
            "text/plain": [
              "array([[-0.37942932,  1.        ,  0.48928798],\n",
              "       [-1.14048247,  2.        , -0.14651435],\n",
              "       [ 1.68684763,  1.        ,  0.38098265],\n",
              "       ...,\n",
              "       [ 1.39819255,  1.        ,  0.8396694 ],\n",
              "       [ 1.06563631,  3.        ,  1.83135666],\n",
              "       [ 0.30992161,  2.        ,  0.31135353]])"
            ]
          },
          "metadata": {},
          "execution_count": 75
        }
      ]
    },
    {
      "cell_type": "code",
      "metadata": {
        "colab": {
          "base_uri": "https://localhost:8080/"
        },
        "id": "Bh_NGuXcgHzy",
        "outputId": "be8d9b31-2f75-42b3-92c8-d61539602d21"
      },
      "source": [
        "np.unique(data[:,1])"
      ],
      "execution_count": null,
      "outputs": [
        {
          "output_type": "execute_result",
          "data": {
            "text/plain": [
              "array([ 1.,  2.,  3.,  4.,  5.,  6.,  7.,  8.,  9., 10., 11., 12.])"
            ]
          },
          "metadata": {},
          "execution_count": 76
        }
      ]
    },
    {
      "cell_type": "code",
      "metadata": {
        "id": "awrnv-umgeuZ"
      },
      "source": [
        "mask_feb = data[:,1] == 2"
      ],
      "execution_count": null,
      "outputs": []
    },
    {
      "cell_type": "code",
      "metadata": {
        "colab": {
          "base_uri": "https://localhost:8080/"
        },
        "id": "M8pgV0k0j8xP",
        "outputId": "2df78408-3a17-4fd3-f1e7-5726ea9af918"
      },
      "source": [
        "data"
      ],
      "execution_count": null,
      "outputs": [
        {
          "output_type": "execute_result",
          "data": {
            "text/plain": [
              "array([[-0.37942932,  1.        ,  0.48928798],\n",
              "       [-1.14048247,  2.        , -0.14651435],\n",
              "       [ 1.68684763,  1.        ,  0.38098265],\n",
              "       ...,\n",
              "       [ 1.39819255,  1.        ,  0.8396694 ],\n",
              "       [ 1.06563631,  3.        ,  1.83135666],\n",
              "       [ 0.30992161,  2.        ,  0.31135353]])"
            ]
          },
          "metadata": {},
          "execution_count": 78
        }
      ]
    },
    {
      "cell_type": "code",
      "metadata": {
        "colab": {
          "base_uri": "https://localhost:8080/"
        },
        "id": "z5bOcESOis5r",
        "outputId": "1954bd5f-a67b-4cbc-bd8c-b9a2d8452a81"
      },
      "source": [
        "# compute the mean of values in column 2 (the third one)\n",
        "np.mean(data[mask_feb,2])"
      ],
      "execution_count": null,
      "outputs": [
        {
          "output_type": "execute_result",
          "data": {
            "text/plain": [
              "0.023247538297583265"
            ]
          },
          "metadata": {},
          "execution_count": 79
        }
      ]
    },
    {
      "cell_type": "code",
      "metadata": {
        "id": "3guXQzB_pWDm"
      },
      "source": [
        ""
      ],
      "execution_count": null,
      "outputs": []
    },
    {
      "cell_type": "code",
      "metadata": {
        "colab": {
          "base_uri": "https://localhost:8080/"
        },
        "id": "k1hV3EmKj5M8",
        "outputId": "3924cb8c-9b55-4470-89a1-3988349e7adb"
      },
      "source": [
        "a"
      ],
      "execution_count": null,
      "outputs": [
        {
          "output_type": "execute_result",
          "data": {
            "text/plain": [
              "array([[ 0,  1,  2,  3,  4],\n",
              "       [10, 11, 12, 13, 14],\n",
              "       [20, 21, 22, 23, 24],\n",
              "       [30, 31, 32, 33, 34],\n",
              "       [40, 41, 42, 43, 44]])"
            ]
          },
          "metadata": {},
          "execution_count": 80
        }
      ]
    },
    {
      "cell_type": "code",
      "metadata": {
        "colab": {
          "base_uri": "https://localhost:8080/"
        },
        "id": "G-oEZ5fQpTA_",
        "outputId": "2fc40943-925c-49a9-9800-b215bce8de53"
      },
      "source": [
        "a.astype('float') #converting dtype different "
      ],
      "execution_count": null,
      "outputs": [
        {
          "output_type": "execute_result",
          "data": {
            "text/plain": [
              "array([[ 0.,  1.,  2.,  3.,  4.],\n",
              "       [10., 11., 12., 13., 14.],\n",
              "       [20., 21., 22., 23., 24.],\n",
              "       [30., 31., 32., 33., 34.],\n",
              "       [40., 41., 42., 43., 44.]])"
            ]
          },
          "metadata": {},
          "execution_count": 81
        }
      ]
    },
    {
      "cell_type": "code",
      "metadata": {
        "colab": {
          "base_uri": "https://localhost:8080/"
        },
        "id": "TN6x9GWkpfH-",
        "outputId": "e1fbceb7-d384-449f-94f0-ddbac1fa7322"
      },
      "source": [
        "a.tolist() #converting to list"
      ],
      "execution_count": null,
      "outputs": [
        {
          "output_type": "execute_result",
          "data": {
            "text/plain": [
              "[[0, 1, 2, 3, 4],\n",
              " [10, 11, 12, 13, 14],\n",
              " [20, 21, 22, 23, 24],\n",
              " [30, 31, 32, 33, 34],\n",
              " [40, 41, 42, 43, 44]]"
            ]
          },
          "metadata": {},
          "execution_count": 82
        }
      ]
    },
    {
      "cell_type": "code",
      "metadata": {
        "colab": {
          "base_uri": "https://localhost:8080/"
        },
        "id": "ysEwJdQPrJI0",
        "outputId": "6efcda7d-7db3-4f28-a172-e7ed6951ef5a"
      },
      "source": [
        "type(a)"
      ],
      "execution_count": null,
      "outputs": [
        {
          "output_type": "execute_result",
          "data": {
            "text/plain": [
              "numpy.ndarray"
            ]
          },
          "metadata": {},
          "execution_count": 83
        }
      ]
    },
    {
      "cell_type": "code",
      "metadata": {
        "colab": {
          "base_uri": "https://localhost:8080/"
        },
        "id": "z-gMAVIorNZf",
        "outputId": "45fd54a2-6171-42ab-8ef5-06473b79f2a9"
      },
      "source": [
        "a.dtype"
      ],
      "execution_count": null,
      "outputs": [
        {
          "output_type": "execute_result",
          "data": {
            "text/plain": [
              "dtype('int64')"
            ]
          },
          "metadata": {},
          "execution_count": 84
        }
      ]
    },
    {
      "cell_type": "code",
      "metadata": {
        "colab": {
          "base_uri": "https://localhost:8080/"
        },
        "id": "UQwDbsoDrheD",
        "outputId": "ea10658e-4db0-43fc-bced-4692574bb807"
      },
      "source": [
        "np.array(a)"
      ],
      "execution_count": null,
      "outputs": [
        {
          "output_type": "execute_result",
          "data": {
            "text/plain": [
              "array([[ 0,  1,  2,  3,  4],\n",
              "       [10, 11, 12, 13, 14],\n",
              "       [20, 21, 22, 23, 24],\n",
              "       [30, 31, 32, 33, 34],\n",
              "       [40, 41, 42, 43, 44]])"
            ]
          },
          "metadata": {},
          "execution_count": 85
        }
      ]
    },
    {
      "cell_type": "code",
      "metadata": {
        "colab": {
          "base_uri": "https://localhost:8080/"
        },
        "id": "VuL_OGkZtNNR",
        "outputId": "dc692998-6ad9-49c9-a133-1d7245f3f4a7"
      },
      "source": [
        "a[::-1,] #reversing the rows of array "
      ],
      "execution_count": null,
      "outputs": [
        {
          "output_type": "execute_result",
          "data": {
            "text/plain": [
              "array([[40, 41, 42, 43, 44],\n",
              "       [30, 31, 32, 33, 34],\n",
              "       [20, 21, 22, 23, 24],\n",
              "       [10, 11, 12, 13, 14],\n",
              "       [ 0,  1,  2,  3,  4]])"
            ]
          },
          "metadata": {},
          "execution_count": 86
        }
      ]
    },
    {
      "cell_type": "code",
      "metadata": {
        "colab": {
          "base_uri": "https://localhost:8080/"
        },
        "id": "JAgtgD5BtSJC",
        "outputId": "38e1a835-76aa-44a7-d58a-7352d8fe8cf2"
      },
      "source": [
        "a[::-1,::-1]  #reversing the rows and columns of array "
      ],
      "execution_count": null,
      "outputs": [
        {
          "output_type": "execute_result",
          "data": {
            "text/plain": [
              "array([[44, 43, 42, 41, 40],\n",
              "       [34, 33, 32, 31, 30],\n",
              "       [24, 23, 22, 21, 20],\n",
              "       [14, 13, 12, 11, 10],\n",
              "       [ 4,  3,  2,  1,  0]])"
            ]
          },
          "metadata": {},
          "execution_count": 87
        }
      ]
    },
    {
      "cell_type": "code",
      "metadata": {
        "id": "iFn2mLeUthLn"
      },
      "source": [
        "a=a.astype('float')"
      ],
      "execution_count": null,
      "outputs": []
    },
    {
      "cell_type": "code",
      "metadata": {
        "id": "fVopxW_ct39V"
      },
      "source": [
        "a[2,2]= np.nan\n",
        "a[2,3]= np.inf"
      ],
      "execution_count": null,
      "outputs": []
    },
    {
      "cell_type": "code",
      "metadata": {
        "colab": {
          "base_uri": "https://localhost:8080/"
        },
        "id": "kXuM470ZuJKb",
        "outputId": "9a4cd9a1-4593-4d06-f140-b909000ce908"
      },
      "source": [
        "a"
      ],
      "execution_count": null,
      "outputs": [
        {
          "output_type": "execute_result",
          "data": {
            "text/plain": [
              "array([[ 0.,  1.,  2.,  3.,  4.],\n",
              "       [10., 11., 12., 13., 14.],\n",
              "       [20., 21., nan, inf, 24.],\n",
              "       [30., 31., 32., 33., 34.],\n",
              "       [40., 41., 42., 43., 44.]])"
            ]
          },
          "metadata": {},
          "execution_count": 90
        }
      ]
    },
    {
      "cell_type": "code",
      "metadata": {
        "colab": {
          "base_uri": "https://localhost:8080/"
        },
        "id": "M1qg4kU8ugul",
        "outputId": "6075bf82-a8b0-4080-93e4-acebc6ae3562"
      },
      "source": [
        "missing_bool=np.isnan(a)|np.isinf(a)\n",
        "a[missing_bool]=-1\n",
        "a"
      ],
      "execution_count": null,
      "outputs": [
        {
          "output_type": "execute_result",
          "data": {
            "text/plain": [
              "array([[ 0.,  1.,  2.,  3.,  4.],\n",
              "       [10., 11., 12., 13., 14.],\n",
              "       [20., 21., -1., -1., 24.],\n",
              "       [30., 31., 32., 33., 34.],\n",
              "       [40., 41., 42., 43., 44.]])"
            ]
          },
          "metadata": {},
          "execution_count": 91
        }
      ]
    },
    {
      "cell_type": "code",
      "metadata": {
        "colab": {
          "base_uri": "https://localhost:8080/"
        },
        "id": "NtdcncgwvGfU",
        "outputId": "3306f407-23f7-4ebd-de7e-64773a2d2f3e"
      },
      "source": [
        "a.mean()"
      ],
      "execution_count": null,
      "outputs": [
        {
          "output_type": "execute_result",
          "data": {
            "text/plain": [
              "20.12"
            ]
          },
          "metadata": {},
          "execution_count": 92
        }
      ]
    },
    {
      "cell_type": "code",
      "metadata": {
        "colab": {
          "base_uri": "https://localhost:8080/"
        },
        "id": "Et-fGSHmve1D",
        "outputId": "a8ffc0f0-5ddc-4a4f-9911-5b68fcf39a58"
      },
      "source": [
        "a.max()"
      ],
      "execution_count": null,
      "outputs": [
        {
          "output_type": "execute_result",
          "data": {
            "text/plain": [
              "44.0"
            ]
          },
          "metadata": {},
          "execution_count": 93
        }
      ]
    },
    {
      "cell_type": "code",
      "metadata": {
        "colab": {
          "base_uri": "https://localhost:8080/"
        },
        "id": "pk6MJjeMvgkT",
        "outputId": "9eeb262e-bf07-4b52-dcfa-79abf867d987"
      },
      "source": [
        "a.min()"
      ],
      "execution_count": null,
      "outputs": [
        {
          "output_type": "execute_result",
          "data": {
            "text/plain": [
              "-1.0"
            ]
          },
          "metadata": {},
          "execution_count": 94
        }
      ]
    },
    {
      "cell_type": "code",
      "metadata": {
        "colab": {
          "base_uri": "https://localhost:8080/"
        },
        "id": "p_jy0VcUviSG",
        "outputId": "ad98369e-42cd-4efc-b5fc-105b8ba3f451"
      },
      "source": [
        "#column wise min\n",
        "\n",
        "np.amin(a,axis=0)"
      ],
      "execution_count": null,
      "outputs": [
        {
          "output_type": "execute_result",
          "data": {
            "text/plain": [
              "array([ 0.,  1., -1., -1.,  4.])"
            ]
          },
          "metadata": {},
          "execution_count": 95
        }
      ]
    },
    {
      "cell_type": "code",
      "metadata": {
        "colab": {
          "base_uri": "https://localhost:8080/"
        },
        "id": "cNbJds7Zvpac",
        "outputId": "4a090599-ebd0-4fca-8b92-25526b6de2c9"
      },
      "source": [
        "np.amin(a,axis=1) #row wise"
      ],
      "execution_count": null,
      "outputs": [
        {
          "output_type": "execute_result",
          "data": {
            "text/plain": [
              "array([ 0., 10., -1., 30., 40.])"
            ]
          },
          "metadata": {},
          "execution_count": 96
        }
      ]
    },
    {
      "cell_type": "code",
      "metadata": {
        "colab": {
          "base_uri": "https://localhost:8080/"
        },
        "id": "vACsk0Dkv8Am",
        "outputId": "f1ea1010-252c-494c-fa9a-8604e30cd7ef"
      },
      "source": [
        "np.cumsum(a)"
      ],
      "execution_count": null,
      "outputs": [
        {
          "output_type": "execute_result",
          "data": {
            "text/plain": [
              "array([  0.,   1.,   3.,   6.,  10.,  20.,  31.,  43.,  56.,  70.,  90.,\n",
              "       111., 110., 109., 133., 163., 194., 226., 259., 293., 333., 374.,\n",
              "       416., 459., 503.])"
            ]
          },
          "metadata": {},
          "execution_count": 97
        }
      ]
    },
    {
      "cell_type": "code",
      "metadata": {
        "id": "ndRMTNo-4R-Y"
      },
      "source": [
        "data = np.random.randn(77431, 3)\n",
        "months_of_the_year=np.arange(1,13)\n",
        "data[:,1]=np.random.choice(months_of_the_year,size=data.shape[0])"
      ],
      "execution_count": null,
      "outputs": []
    },
    {
      "cell_type": "code",
      "metadata": {
        "id": "ELpblvv9wYo-"
      },
      "source": [
        "%matplotlib inline"
      ],
      "execution_count": null,
      "outputs": []
    },
    {
      "cell_type": "code",
      "metadata": {
        "colab": {
          "base_uri": "https://localhost:8080/",
          "height": 297
        },
        "id": "My3E9oYM3PTU",
        "outputId": "58200e34-7dac-4ccc-d80c-2b4dbce4af4e"
      },
      "source": [
        "months=np.arange(1,13)\n",
        "monthly_mean=[np.mean(data[data[:,1]==month, 2])for month in months]\n",
        "\n",
        "import matplotlib.pyplot as plt\n",
        "\n",
        "fig,ax=plt.subplots()\n",
        "ax.bar(months,monthly_mean)\n",
        "ax.set_xlabel(\"month\")\n",
        "ax.set_ylabel('Monthly avg.temp')"
      ],
      "execution_count": null,
      "outputs": [
        {
          "output_type": "execute_result",
          "data": {
            "text/plain": [
              "Text(0, 0.5, 'Monthly avg.temp')"
            ]
          },
          "metadata": {},
          "execution_count": 100
        },
        {
          "output_type": "display_data",
          "data": {
            "image/png": "[encoded data removed]",
            "text/plain": [
              "<Figure size 432x288 with 1 Axes>"
            ]
          },
          "metadata": {
            "needs_background": "light"
          }
        }
      ]
    },
    {
      "cell_type": "code",
      "metadata": {
        "colab": {
          "base_uri": "https://localhost:8080/"
        },
        "id": "T-LERtXl5ifD",
        "outputId": "07c9cde8-2042-4341-94b2-054233b15432"
      },
      "source": [
        "m=np.array([[1,2],[3,4],[5,6],[7,8]])\n",
        "\n",
        "for a in m:\n",
        "  print(a)"
      ],
      "execution_count": null,
      "outputs": [
        {
          "output_type": "stream",
          "name": "stdout",
          "text": [
            "[1 2]\n",
            "[3 4]\n",
            "[5 6]\n",
            "[7 8]\n"
          ]
        }
      ]
    },
    {
      "cell_type": "code",
      "metadata": {
        "colab": {
          "base_uri": "https://localhost:8080/"
        },
        "id": "Cb5FJVKT7Ha-",
        "outputId": "bbaa74f9-57ee-4fa8-a5c5-95e4a9f12538"
      },
      "source": [
        "for a in m:\n",
        "  print(a)\n",
        "  for n in a:\n",
        "    print(n)"
      ],
      "execution_count": null,
      "outputs": [
        {
          "output_type": "stream",
          "name": "stdout",
          "text": [
            "[1 2]\n",
            "1\n",
            "2\n",
            "[3 4]\n",
            "3\n",
            "4\n",
            "[5 6]\n",
            "5\n",
            "6\n",
            "[7 8]\n",
            "7\n",
            "8\n"
          ]
        }
      ]
    },
    {
      "cell_type": "markdown",
      "metadata": {
        "id": "PU7B7LZK8O64"
      },
      "source": [
        "When we need to iterate over each element of an array and modify its elements, it is convenient to use the enumerate function to obtain both the element and its index in the for loop:"
      ]
    },
    {
      "cell_type": "code",
      "metadata": {
        "colab": {
          "base_uri": "https://localhost:8080/"
        },
        "id": "8Ij5BNlk8THE",
        "outputId": "5d4db204-94d4-4af4-ce53-d428e1aa7a80"
      },
      "source": [
        "for row_index, row in enumerate(m):\n",
        "  print(row_index,row)\n",
        "for col_index,columns in enumerate(row):\n",
        "  print(col_index,columns)"
      ],
      "execution_count": null,
      "outputs": [
        {
          "output_type": "stream",
          "name": "stdout",
          "text": [
            "0 [1 2]\n",
            "1 [3 4]\n",
            "2 [5 6]\n",
            "3 [7 8]\n",
            "0 7\n",
            "1 8\n"
          ]
        }
      ]
    },
    {
      "cell_type": "code",
      "metadata": {
        "colab": {
          "base_uri": "https://localhost:8080/"
        },
        "id": "Iyf1wpq08d_i",
        "outputId": "a2caf6dc-a32d-4818-dc6b-79977030a7df"
      },
      "source": [
        "for row_index,row in enumerate(m):\n",
        "  print('row_index: ', row_index,'rows: ',row)\n",
        "  for col_index,columns in enumerate(row):\n",
        "    print(\"col_idx: \",col_index,\"element: \" ,columns)\n",
        "\n",
        "    m[row_index, col_index] = columns ** 2\n"
      ],
      "execution_count": null,
      "outputs": [
        {
          "output_type": "stream",
          "name": "stdout",
          "text": [
            "row_index:  0 rows:  [1 2]\n",
            "col_idx:  0 element:  1\n",
            "col_idx:  1 element:  2\n",
            "row_index:  1 rows:  [3 4]\n",
            "col_idx:  0 element:  3\n",
            "col_idx:  1 element:  4\n",
            "row_index:  2 rows:  [5 6]\n",
            "col_idx:  0 element:  5\n",
            "col_idx:  1 element:  6\n",
            "row_index:  3 rows:  [7 8]\n",
            "col_idx:  0 element:  7\n",
            "col_idx:  1 element:  8\n"
          ]
        }
      ]
    },
    {
      "cell_type": "code",
      "metadata": {
        "colab": {
          "base_uri": "https://localhost:8080/"
        },
        "id": "xnYQP7z4-HtZ",
        "outputId": "e156350f-3c39-4c80-f094-ba752f683282"
      },
      "source": [
        "m"
      ],
      "execution_count": null,
      "outputs": [
        {
          "output_type": "execute_result",
          "data": {
            "text/plain": [
              "array([[ 1,  4],\n",
              "       [ 9, 16],\n",
              "       [25, 36],\n",
              "       [49, 64]])"
            ]
          },
          "metadata": {},
          "execution_count": 105
        }
      ]
    },
    {
      "cell_type": "code",
      "metadata": {
        "colab": {
          "base_uri": "https://localhost:8080/"
        },
        "id": "Mr4Y_nie-6mJ",
        "outputId": "a1c725c8-3ec5-4178-d58a-68fb409ae134"
      },
      "source": [
        "m[row_index]"
      ],
      "execution_count": null,
      "outputs": [
        {
          "output_type": "execute_result",
          "data": {
            "text/plain": [
              "array([49, 64])"
            ]
          },
          "metadata": {},
          "execution_count": 106
        }
      ]
    },
    {
      "cell_type": "code",
      "metadata": {
        "colab": {
          "base_uri": "https://localhost:8080/"
        },
        "id": "xkayIIldBE6d",
        "outputId": "dcf47b08-4480-4911-9c00-262132b0e3a5"
      },
      "source": [
        "m[col_index]"
      ],
      "execution_count": null,
      "outputs": [
        {
          "output_type": "execute_result",
          "data": {
            "text/plain": [
              "array([ 9, 16])"
            ]
          },
          "metadata": {},
          "execution_count": 107
        }
      ]
    },
    {
      "cell_type": "markdown",
      "metadata": {
        "id": "ydZqrtf7DkPv"
      },
      "source": [
        "Vectorization is the process of converting an algorithm from operating on a single value at a time to operating on a set of values (vector) at one time. "
      ]
    },
    {
      "cell_type": "code",
      "metadata": {
        "id": "KIoquxpzDtik"
      },
      "source": [
        "def Theta(x):\n",
        "\n",
        "  if x>=0:\n",
        "    return 1\n",
        "  else:\n",
        "    return 0\n",
        "    "
      ],
      "execution_count": null,
      "outputs": []
    },
    {
      "cell_type": "code",
      "metadata": {
        "id": "IQ_y_syYD5QT"
      },
      "source": [
        "#Theta(np.array([-3,-2,-1,0,1,2,3]))"
      ],
      "execution_count": null,
      "outputs": []
    },
    {
      "cell_type": "code",
      "metadata": {
        "id": "iaP8W_T5Emuy"
      },
      "source": [
        "Theta_vec=np.vectorize(Theta)"
      ],
      "execution_count": null,
      "outputs": []
    },
    {
      "cell_type": "code",
      "metadata": {
        "colab": {
          "base_uri": "https://localhost:8080/"
        },
        "id": "rbLFGfQBErRI",
        "outputId": "480e4669-e823-4020-80e7-289ece6724f4"
      },
      "source": [
        "Theta_vec(np.array([-3,-2,-1,0,1,2,3]))"
      ],
      "execution_count": null,
      "outputs": [
        {
          "output_type": "execute_result",
          "data": {
            "text/plain": [
              "array([0, 0, 0, 1, 1, 1, 1])"
            ]
          },
          "metadata": {},
          "execution_count": 111
        }
      ]
    },
    {
      "cell_type": "code",
      "metadata": {
        "id": "8dorMCGIE6d2"
      },
      "source": [
        "v1=np.arange(0,5)"
      ],
      "execution_count": null,
      "outputs": []
    },
    {
      "cell_type": "code",
      "metadata": {
        "colab": {
          "base_uri": "https://localhost:8080/"
        },
        "id": "akR35y6XDMjp",
        "outputId": "1fa4f26a-fa43-43b6-b7fe-12859778fa04"
      },
      "source": [
        "v1*2"
      ],
      "execution_count": null,
      "outputs": [
        {
          "output_type": "execute_result",
          "data": {
            "text/plain": [
              "array([0, 2, 4, 6, 8])"
            ]
          },
          "metadata": {},
          "execution_count": 113
        }
      ]
    },
    {
      "cell_type": "code",
      "metadata": {
        "colab": {
          "base_uri": "https://localhost:8080/"
        },
        "id": "oJeCNb_EDQT3",
        "outputId": "6c7e9452-fad2-41eb-c1f1-afb1da801717"
      },
      "source": [
        "v1+2"
      ],
      "execution_count": null,
      "outputs": [
        {
          "output_type": "execute_result",
          "data": {
            "text/plain": [
              "array([2, 3, 4, 5, 6])"
            ]
          },
          "metadata": {},
          "execution_count": 114
        }
      ]
    },
    {
      "cell_type": "code",
      "metadata": {
        "id": "PrPmX3MeDUk9"
      },
      "source": [
        "A=np.array([[n+m*10 for n in range(5)]for m in range(5)])"
      ],
      "execution_count": null,
      "outputs": []
    },
    {
      "cell_type": "code",
      "metadata": {
        "colab": {
          "base_uri": "https://localhost:8080/"
        },
        "id": "xHMchPGaDrtF",
        "outputId": "56413963-0434-422b-d81c-b12e28cdd3c4"
      },
      "source": [
        "print('A+2 ','\\n',A+2)\n",
        "print('A*2 ','\\n',A*2)"
      ],
      "execution_count": null,
      "outputs": [
        {
          "output_type": "stream",
          "name": "stdout",
          "text": [
            "A+2  \n",
            " [[ 2  3  4  5  6]\n",
            " [12 13 14 15 16]\n",
            " [22 23 24 25 26]\n",
            " [32 33 34 35 36]\n",
            " [42 43 44 45 46]]\n",
            "A*2  \n",
            " [[ 0  2  4  6  8]\n",
            " [20 22 24 26 28]\n",
            " [40 42 44 46 48]\n",
            " [60 62 64 66 68]\n",
            " [80 82 84 86 88]]\n"
          ]
        }
      ]
    },
    {
      "cell_type": "code",
      "metadata": {
        "colab": {
          "base_uri": "https://localhost:8080/"
        },
        "id": "fM8P0RJLEMi8",
        "outputId": "8bd9c1cd-4293-458d-ff59-a6d37e24f102"
      },
      "source": [
        "A*A"
      ],
      "execution_count": null,
      "outputs": [
        {
          "output_type": "execute_result",
          "data": {
            "text/plain": [
              "array([[   0,    1,    4,    9,   16],\n",
              "       [ 100,  121,  144,  169,  196],\n",
              "       [ 400,  441,  484,  529,  576],\n",
              "       [ 900,  961, 1024, 1089, 1156],\n",
              "       [1600, 1681, 1764, 1849, 1936]])"
            ]
          },
          "metadata": {},
          "execution_count": 117
        }
      ]
    },
    {
      "cell_type": "code",
      "metadata": {
        "colab": {
          "base_uri": "https://localhost:8080/"
        },
        "id": "YkMpSIIOE1wX",
        "outputId": "648dffc8-8681-4388-b695-618484ea236a"
      },
      "source": [
        "A+A"
      ],
      "execution_count": null,
      "outputs": [
        {
          "output_type": "execute_result",
          "data": {
            "text/plain": [
              "array([[ 0,  2,  4,  6,  8],\n",
              "       [20, 22, 24, 26, 28],\n",
              "       [40, 42, 44, 46, 48],\n",
              "       [60, 62, 64, 66, 68],\n",
              "       [80, 82, 84, 86, 88]])"
            ]
          },
          "metadata": {},
          "execution_count": 118
        }
      ]
    },
    {
      "cell_type": "code",
      "metadata": {
        "colab": {
          "base_uri": "https://localhost:8080/"
        },
        "id": "RfT-JL5qE6gs",
        "outputId": "6e63891a-d399-49ea-80ab-b4348c3014ba"
      },
      "source": [
        "A*v1"
      ],
      "execution_count": null,
      "outputs": [
        {
          "output_type": "execute_result",
          "data": {
            "text/plain": [
              "array([[  0,   1,   4,   9,  16],\n",
              "       [  0,  11,  24,  39,  56],\n",
              "       [  0,  21,  44,  69,  96],\n",
              "       [  0,  31,  64,  99, 136],\n",
              "       [  0,  41,  84, 129, 176]])"
            ]
          },
          "metadata": {},
          "execution_count": 119
        }
      ]
    },
    {
      "cell_type": "code",
      "metadata": {
        "colab": {
          "base_uri": "https://localhost:8080/"
        },
        "id": "mpQ0OYtoFC44",
        "outputId": "802c0f39-9a1b-405b-ce7d-fc3fa315bd71"
      },
      "source": [
        "A, v1"
      ],
      "execution_count": null,
      "outputs": [
        {
          "output_type": "execute_result",
          "data": {
            "text/plain": [
              "(array([[ 0,  1,  2,  3,  4],\n",
              "        [10, 11, 12, 13, 14],\n",
              "        [20, 21, 22, 23, 24],\n",
              "        [30, 31, 32, 33, 34],\n",
              "        [40, 41, 42, 43, 44]]), array([0, 1, 2, 3, 4]))"
            ]
          },
          "metadata": {},
          "execution_count": 120
        }
      ]
    },
    {
      "cell_type": "code",
      "metadata": {
        "colab": {
          "base_uri": "https://localhost:8080/"
        },
        "id": "kyE2XXo-J0Xe",
        "outputId": "5334f5f8-cb72-4401-c923-8e2c3f198b4e"
      },
      "source": [
        "A*A"
      ],
      "execution_count": null,
      "outputs": [
        {
          "output_type": "execute_result",
          "data": {
            "text/plain": [
              "array([[   0,    1,    4,    9,   16],\n",
              "       [ 100,  121,  144,  169,  196],\n",
              "       [ 400,  441,  484,  529,  576],\n",
              "       [ 900,  961, 1024, 1089, 1156],\n",
              "       [1600, 1681, 1764, 1849, 1936]])"
            ]
          },
          "metadata": {},
          "execution_count": 121
        }
      ]
    },
    {
      "cell_type": "code",
      "metadata": {
        "colab": {
          "base_uri": "https://localhost:8080/"
        },
        "id": "ymakHRhEFQfw",
        "outputId": "7bf0d223-761a-435e-e7bc-6a6c1f277fcd"
      },
      "source": [
        "np.dot(A,A)"
      ],
      "execution_count": null,
      "outputs": [
        {
          "output_type": "execute_result",
          "data": {
            "text/plain": [
              "array([[ 300,  310,  320,  330,  340],\n",
              "       [1300, 1360, 1420, 1480, 1540],\n",
              "       [2300, 2410, 2520, 2630, 2740],\n",
              "       [3300, 3460, 3620, 3780, 3940],\n",
              "       [4300, 4510, 4720, 4930, 5140]])"
            ]
          },
          "metadata": {},
          "execution_count": 122
        }
      ]
    },
    {
      "cell_type": "code",
      "metadata": {
        "colab": {
          "base_uri": "https://localhost:8080/"
        },
        "id": "4XGEvpphFluq",
        "outputId": "2ad1d2b2-6b63-41d0-fbea-8c54d5bf00d0"
      },
      "source": [
        "np.dot(A, v1)"
      ],
      "execution_count": null,
      "outputs": [
        {
          "output_type": "execute_result",
          "data": {
            "text/plain": [
              "array([ 30, 130, 230, 330, 430])"
            ]
          },
          "metadata": {},
          "execution_count": 123
        }
      ]
    },
    {
      "cell_type": "code",
      "metadata": {
        "id": "SsElo9syJHIo"
      },
      "source": [
        "from numpy import matrix"
      ],
      "execution_count": null,
      "outputs": []
    },
    {
      "cell_type": "code",
      "metadata": {
        "colab": {
          "base_uri": "https://localhost:8080/"
        },
        "id": "028qt27pQORF",
        "outputId": "0016650e-7d35-4df3-cee8-b0383cece4fa"
      },
      "source": [
        "M=matrix(A)\n",
        "print(M,'\\n', M*M)"
      ],
      "execution_count": null,
      "outputs": [
        {
          "output_type": "stream",
          "name": "stdout",
          "text": [
            "[[ 0  1  2  3  4]\n",
            " [10 11 12 13 14]\n",
            " [20 21 22 23 24]\n",
            " [30 31 32 33 34]\n",
            " [40 41 42 43 44]] \n",
            " [[ 300  310  320  330  340]\n",
            " [1300 1360 1420 1480 1540]\n",
            " [2300 2410 2520 2630 2740]\n",
            " [3300 3460 3620 3780 3940]\n",
            " [4300 4510 4720 4930 5140]]\n"
          ]
        }
      ]
    },
    {
      "cell_type": "code",
      "metadata": {
        "colab": {
          "base_uri": "https://localhost:8080/"
        },
        "id": "2V6Z2iNVQVMN",
        "outputId": "cc7e2cca-c3c1-4488-b6c8-6ce3b7169e38"
      },
      "source": [
        "v=matrix(v1).T\n",
        "print(v,'\\n',v*v1)"
      ],
      "execution_count": null,
      "outputs": [
        {
          "output_type": "stream",
          "name": "stdout",
          "text": [
            "[[0]\n",
            " [1]\n",
            " [2]\n",
            " [3]\n",
            " [4]] \n",
            " [[ 0  0  0  0  0]\n",
            " [ 0  1  2  3  4]\n",
            " [ 0  2  4  6  8]\n",
            " [ 0  3  6  9 12]\n",
            " [ 0  4  8 12 16]]\n"
          ]
        }
      ]
    },
    {
      "cell_type": "code",
      "metadata": {
        "colab": {
          "base_uri": "https://localhost:8080/"
        },
        "id": "3L4b55nQQowb",
        "outputId": "c765710d-ba91-49c5-f237-2621fb27e6ca"
      },
      "source": [
        "M*v"
      ],
      "execution_count": null,
      "outputs": [
        {
          "output_type": "execute_result",
          "data": {
            "text/plain": [
              "matrix([[ 30],\n",
              "        [130],\n",
              "        [230],\n",
              "        [330],\n",
              "        [430]])"
            ]
          },
          "metadata": {},
          "execution_count": 127
        }
      ]
    },
    {
      "cell_type": "code",
      "metadata": {
        "id": "Xlfw5vbRRS5g"
      },
      "source": [
        "#v*M"
      ],
      "execution_count": null,
      "outputs": []
    },
    {
      "cell_type": "code",
      "metadata": {
        "colab": {
          "base_uri": "https://localhost:8080/"
        },
        "id": "Xfoy9k5XT_Wt",
        "outputId": "bb222ab7-7e95-405b-b63a-9765808cffcb"
      },
      "source": [
        "v1.T*v1"
      ],
      "execution_count": null,
      "outputs": [
        {
          "output_type": "execute_result",
          "data": {
            "text/plain": [
              "array([ 0,  1,  4,  9, 16])"
            ]
          },
          "metadata": {},
          "execution_count": 129
        }
      ]
    },
    {
      "cell_type": "code",
      "metadata": {
        "colab": {
          "base_uri": "https://localhost:8080/"
        },
        "id": "ZckpKLKyXECw",
        "outputId": "be5478e7-852e-41a2-bdaa-50a646fe4f99"
      },
      "source": [
        "v1*v1.T"
      ],
      "execution_count": null,
      "outputs": [
        {
          "output_type": "execute_result",
          "data": {
            "text/plain": [
              "array([ 0,  1,  4,  9, 16])"
            ]
          },
          "metadata": {},
          "execution_count": 130
        }
      ]
    },
    {
      "cell_type": "code",
      "metadata": {
        "colab": {
          "base_uri": "https://localhost:8080/"
        },
        "id": "58ZLnHw-XHXh",
        "outputId": "177e11f0-b450-470d-c3d6-0bc2ab6b1596"
      },
      "source": [
        "A"
      ],
      "execution_count": null,
      "outputs": [
        {
          "output_type": "execute_result",
          "data": {
            "text/plain": [
              "array([[ 0,  1,  2,  3,  4],\n",
              "       [10, 11, 12, 13, 14],\n",
              "       [20, 21, 22, 23, 24],\n",
              "       [30, 31, 32, 33, 34],\n",
              "       [40, 41, 42, 43, 44]])"
            ]
          },
          "metadata": {},
          "execution_count": 131
        }
      ]
    },
    {
      "cell_type": "code",
      "metadata": {
        "id": "0JV7nV_mb-tS"
      },
      "source": [
        "n,m=A.shape"
      ],
      "execution_count": null,
      "outputs": []
    },
    {
      "cell_type": "code",
      "metadata": {
        "id": "yldjthZIbwGy"
      },
      "source": [
        "B=A.reshape((1,n*m))"
      ],
      "execution_count": null,
      "outputs": []
    },
    {
      "cell_type": "code",
      "metadata": {
        "colab": {
          "base_uri": "https://localhost:8080/"
        },
        "id": "DqodzuPwcD09",
        "outputId": "a282aff9-93f3-4da2-cede-eb472798eb05"
      },
      "source": [
        "B"
      ],
      "execution_count": null,
      "outputs": [
        {
          "output_type": "execute_result",
          "data": {
            "text/plain": [
              "array([[ 0,  1,  2,  3,  4, 10, 11, 12, 13, 14, 20, 21, 22, 23, 24, 30,\n",
              "        31, 32, 33, 34, 40, 41, 42, 43, 44]])"
            ]
          },
          "metadata": {},
          "execution_count": 134
        }
      ]
    },
    {
      "cell_type": "code",
      "metadata": {
        "colab": {
          "base_uri": "https://localhost:8080/"
        },
        "id": "wwJeIhalcE3I",
        "outputId": "8f198939-5ff6-413f-bd59-e1c2d6b73ee1"
      },
      "source": [
        "B[0,0:5]=5\n",
        "B"
      ],
      "execution_count": null,
      "outputs": [
        {
          "output_type": "execute_result",
          "data": {
            "text/plain": [
              "array([[ 5,  5,  5,  5,  5, 10, 11, 12, 13, 14, 20, 21, 22, 23, 24, 30,\n",
              "        31, 32, 33, 34, 40, 41, 42, 43, 44]])"
            ]
          },
          "metadata": {},
          "execution_count": 135
        }
      ]
    },
    {
      "cell_type": "code",
      "metadata": {
        "colab": {
          "base_uri": "https://localhost:8080/"
        },
        "id": "LlMxlULZcMun",
        "outputId": "95417796-dc85-49d7-b4ce-afdbf6b5526a"
      },
      "source": [
        "A # and the original variable is also changed. B is only a different view of the same data"
      ],
      "execution_count": null,
      "outputs": [
        {
          "output_type": "execute_result",
          "data": {
            "text/plain": [
              "array([[ 5,  5,  5,  5,  5],\n",
              "       [10, 11, 12, 13, 14],\n",
              "       [20, 21, 22, 23, 24],\n",
              "       [30, 31, 32, 33, 34],\n",
              "       [40, 41, 42, 43, 44]])"
            ]
          },
          "metadata": {},
          "execution_count": 136
        }
      ]
    },
    {
      "cell_type": "code",
      "metadata": {
        "colab": {
          "base_uri": "https://localhost:8080/"
        },
        "id": "7xAci6I0cSfB",
        "outputId": "ea7b37c4-1bf2-46e8-f467-428cdbd073d2"
      },
      "source": [
        "a = np.array([[1, 2, 3], [4, 5, 6]])\n",
        "#a.ravel()\n",
        "np.ravel(a)"
      ],
      "execution_count": null,
      "outputs": [
        {
          "output_type": "execute_result",
          "data": {
            "text/plain": [
              "array([1, 2, 3, 4, 5, 6])"
            ]
          },
          "metadata": {},
          "execution_count": 137
        }
      ]
    },
    {
      "cell_type": "code",
      "metadata": {
        "colab": {
          "base_uri": "https://localhost:8080/"
        },
        "id": "sig3kDCwcgJx",
        "outputId": "8d2d3dac-e133-418a-eef9-a57639446697"
      },
      "source": [
        "a.shape"
      ],
      "execution_count": null,
      "outputs": [
        {
          "output_type": "execute_result",
          "data": {
            "text/plain": [
              "(2, 3)"
            ]
          },
          "metadata": {},
          "execution_count": 138
        }
      ]
    },
    {
      "cell_type": "code",
      "metadata": {
        "colab": {
          "base_uri": "https://localhost:8080/"
        },
        "id": "4EvmotX4c-92",
        "outputId": "02fbecd1-49f8-4f4c-a275-99eb50745e31"
      },
      "source": [
        "a.T"
      ],
      "execution_count": null,
      "outputs": [
        {
          "output_type": "execute_result",
          "data": {
            "text/plain": [
              "array([[1, 4],\n",
              "       [2, 5],\n",
              "       [3, 6]])"
            ]
          },
          "metadata": {},
          "execution_count": 139
        }
      ]
    },
    {
      "cell_type": "code",
      "metadata": {
        "colab": {
          "base_uri": "https://localhost:8080/"
        },
        "id": "_IMmf5tldA89",
        "outputId": "f74d2c65-52b0-466b-9a5e-2b97e62ea881"
      },
      "source": [
        "a.T.ravel()"
      ],
      "execution_count": null,
      "outputs": [
        {
          "output_type": "execute_result",
          "data": {
            "text/plain": [
              "array([1, 4, 2, 5, 3, 6])"
            ]
          },
          "metadata": {},
          "execution_count": 140
        }
      ]
    },
    {
      "cell_type": "code",
      "metadata": {
        "colab": {
          "base_uri": "https://localhost:8080/"
        },
        "id": "n9wtjPzhdKO9",
        "outputId": "ed511f8d-88d0-4b5f-93c2-d39370bc29c0"
      },
      "source": [
        "B=A.flatten() #flatten to make a higher-dimensional array into a vector.\n",
        "B"
      ],
      "execution_count": null,
      "outputs": [
        {
          "output_type": "execute_result",
          "data": {
            "text/plain": [
              "array([ 5,  5,  5,  5,  5, 10, 11, 12, 13, 14, 20, 21, 22, 23, 24, 30, 31,\n",
              "       32, 33, 34, 40, 41, 42, 43, 44])"
            ]
          },
          "metadata": {},
          "execution_count": 141
        }
      ]
    },
    {
      "cell_type": "code",
      "metadata": {
        "colab": {
          "base_uri": "https://localhost:8080/"
        },
        "id": "itPIoqoodPd8",
        "outputId": "b121e079-800b-495e-962a-2e5d4d10c6b6"
      },
      "source": [
        "B[0:5] = 10\n",
        "\n",
        "B"
      ],
      "execution_count": null,
      "outputs": [
        {
          "output_type": "execute_result",
          "data": {
            "text/plain": [
              "array([10, 10, 10, 10, 10, 10, 11, 12, 13, 14, 20, 21, 22, 23, 24, 30, 31,\n",
              "       32, 33, 34, 40, 41, 42, 43, 44])"
            ]
          },
          "metadata": {},
          "execution_count": 142
        }
      ]
    },
    {
      "cell_type": "code",
      "metadata": {
        "colab": {
          "base_uri": "https://localhost:8080/"
        },
        "id": "TXvg-4DbdyxA",
        "outputId": "1a6ef804-f185-46d4-8a1a-9986dc7ef3dc"
      },
      "source": [
        "A  # now A has not changed, because B's data is a copy of A's, not refering to the same data"
      ],
      "execution_count": null,
      "outputs": [
        {
          "output_type": "execute_result",
          "data": {
            "text/plain": [
              "array([[ 5,  5,  5,  5,  5],\n",
              "       [10, 11, 12, 13, 14],\n",
              "       [20, 21, 22, 23, 24],\n",
              "       [30, 31, 32, 33, 34],\n",
              "       [40, 41, 42, 43, 44]])"
            ]
          },
          "metadata": {},
          "execution_count": 143
        }
      ]
    },
    {
      "cell_type": "code",
      "metadata": {
        "id": "HcatkkBodzia"
      },
      "source": [
        "v = np.array([1,2,3])"
      ],
      "execution_count": null,
      "outputs": []
    },
    {
      "cell_type": "code",
      "metadata": {
        "colab": {
          "base_uri": "https://localhost:8080/"
        },
        "id": "Ii4jWbcEeaNn",
        "outputId": "a993fcd8-f683-406d-c5ee-a1c6c53a1bb3"
      },
      "source": [
        "np.shape(v)"
      ],
      "execution_count": null,
      "outputs": [
        {
          "output_type": "execute_result",
          "data": {
            "text/plain": [
              "(3,)"
            ]
          },
          "metadata": {},
          "execution_count": 145
        }
      ]
    },
    {
      "cell_type": "code",
      "metadata": {
        "colab": {
          "base_uri": "https://localhost:8080/"
        },
        "id": "A2cQo-1feeYe",
        "outputId": "50c1c6eb-0360-45ae-f470-8c8ced5660ec"
      },
      "source": [
        "v[:,np.newaxis]## make a column matrix of the vector v"
      ],
      "execution_count": null,
      "outputs": [
        {
          "output_type": "execute_result",
          "data": {
            "text/plain": [
              "array([[1],\n",
              "       [2],\n",
              "       [3]])"
            ]
          },
          "metadata": {},
          "execution_count": 146
        }
      ]
    },
    {
      "cell_type": "code",
      "metadata": {
        "colab": {
          "base_uri": "https://localhost:8080/"
        },
        "id": "_F1LbzHRez1e",
        "outputId": "6cd703b4-591b-4a5c-ff3b-9cd1586782f8"
      },
      "source": [
        "# row matrix\n",
        "v[np.newaxis,:]"
      ],
      "execution_count": null,
      "outputs": [
        {
          "output_type": "execute_result",
          "data": {
            "text/plain": [
              "array([[1, 2, 3]])"
            ]
          },
          "metadata": {},
          "execution_count": 147
        }
      ]
    },
    {
      "cell_type": "code",
      "metadata": {
        "colab": {
          "base_uri": "https://localhost:8080/"
        },
        "id": "7UBZiUBIfEE1",
        "outputId": "a5a5661c-10f2-40bb-d05c-73f59f2d5f27"
      },
      "source": [
        "a=np.array([[1,2],[2,3],[3,4],[4,5]])\n",
        "a"
      ],
      "execution_count": null,
      "outputs": [
        {
          "output_type": "execute_result",
          "data": {
            "text/plain": [
              "array([[1, 2],\n",
              "       [2, 3],\n",
              "       [3, 4],\n",
              "       [4, 5]])"
            ]
          },
          "metadata": {},
          "execution_count": 148
        }
      ]
    },
    {
      "cell_type": "code",
      "metadata": {
        "colab": {
          "base_uri": "https://localhost:8080/"
        },
        "id": "0I1G9oUCgFch",
        "outputId": "ad825d4e-96ef-4382-8af0-12a9bf67deb1"
      },
      "source": [
        "np.repeat(a,2)"
      ],
      "execution_count": null,
      "outputs": [
        {
          "output_type": "execute_result",
          "data": {
            "text/plain": [
              "array([1, 1, 2, 2, 2, 2, 3, 3, 3, 3, 4, 4, 4, 4, 5, 5])"
            ]
          },
          "metadata": {},
          "execution_count": 149
        }
      ]
    },
    {
      "cell_type": "code",
      "metadata": {
        "colab": {
          "base_uri": "https://localhost:8080/"
        },
        "id": "CiNwPXqQgjS6",
        "outputId": "31f47464-94f5-46b1-d905-6c93a5bed869"
      },
      "source": [
        "np.tile(a,3)"
      ],
      "execution_count": null,
      "outputs": [
        {
          "output_type": "execute_result",
          "data": {
            "text/plain": [
              "array([[1, 2, 1, 2, 1, 2],\n",
              "       [2, 3, 2, 3, 2, 3],\n",
              "       [3, 4, 3, 4, 3, 4],\n",
              "       [4, 5, 4, 5, 4, 5]])"
            ]
          },
          "metadata": {},
          "execution_count": 150
        }
      ]
    },
    {
      "cell_type": "code",
      "metadata": {
        "colab": {
          "base_uri": "https://localhost:8080/"
        },
        "id": "RJoujW8jgUED",
        "outputId": "39dd1cc8-f687-45aa-877d-b8e4262775db"
      },
      "source": [
        "np.tile(a,[3,3])"
      ],
      "execution_count": null,
      "outputs": [
        {
          "output_type": "execute_result",
          "data": {
            "text/plain": [
              "array([[1, 2, 1, 2, 1, 2],\n",
              "       [2, 3, 2, 3, 2, 3],\n",
              "       [3, 4, 3, 4, 3, 4],\n",
              "       [4, 5, 4, 5, 4, 5],\n",
              "       [1, 2, 1, 2, 1, 2],\n",
              "       [2, 3, 2, 3, 2, 3],\n",
              "       [3, 4, 3, 4, 3, 4],\n",
              "       [4, 5, 4, 5, 4, 5],\n",
              "       [1, 2, 1, 2, 1, 2],\n",
              "       [2, 3, 2, 3, 2, 3],\n",
              "       [3, 4, 3, 4, 3, 4],\n",
              "       [4, 5, 4, 5, 4, 5]])"
            ]
          },
          "metadata": {},
          "execution_count": 151
        }
      ]
    },
    {
      "cell_type": "code",
      "metadata": {
        "id": "fmuhP1figafm"
      },
      "source": [
        "b=np.array([[5,6]])"
      ],
      "execution_count": null,
      "outputs": []
    },
    {
      "cell_type": "code",
      "metadata": {
        "colab": {
          "base_uri": "https://localhost:8080/"
        },
        "id": "rNB-yDR1g6WF",
        "outputId": "2af4dc88-030c-4e4c-f359-01965ca0c6c9"
      },
      "source": [
        "np.concatenate([a,b],axis=0)"
      ],
      "execution_count": null,
      "outputs": [
        {
          "output_type": "execute_result",
          "data": {
            "text/plain": [
              "array([[1, 2],\n",
              "       [2, 3],\n",
              "       [3, 4],\n",
              "       [4, 5],\n",
              "       [5, 6]])"
            ]
          },
          "metadata": {},
          "execution_count": 153
        }
      ]
    },
    {
      "cell_type": "code",
      "metadata": {
        "colab": {
          "base_uri": "https://localhost:8080/"
        },
        "id": "mRYHUXeAiA8b",
        "outputId": "e098c4dd-b92c-4583-89c7-1e8def83cab3"
      },
      "source": [
        "a"
      ],
      "execution_count": null,
      "outputs": [
        {
          "output_type": "execute_result",
          "data": {
            "text/plain": [
              "array([[1, 2],\n",
              "       [2, 3],\n",
              "       [3, 4],\n",
              "       [4, 5]])"
            ]
          },
          "metadata": {},
          "execution_count": 154
        }
      ]
    },
    {
      "cell_type": "code",
      "metadata": {
        "id": "KtF4VatoiOq1"
      },
      "source": [
        "c=np.array([[5,6,7,8]])"
      ],
      "execution_count": null,
      "outputs": []
    },
    {
      "cell_type": "code",
      "metadata": {
        "colab": {
          "base_uri": "https://localhost:8080/"
        },
        "id": "rK22J_yohCvb",
        "outputId": "a8d75dc1-29b2-4ad0-d06e-2ae026600d76"
      },
      "source": [
        "np.concatenate((a,c.T),axis=1)"
      ],
      "execution_count": null,
      "outputs": [
        {
          "output_type": "execute_result",
          "data": {
            "text/plain": [
              "array([[1, 2, 5],\n",
              "       [2, 3, 6],\n",
              "       [3, 4, 7],\n",
              "       [4, 5, 8]])"
            ]
          },
          "metadata": {},
          "execution_count": 156
        }
      ]
    },
    {
      "cell_type": "code",
      "metadata": {
        "colab": {
          "base_uri": "https://localhost:8080/"
        },
        "id": "enAign62hsoN",
        "outputId": "c00f264d-c386-491a-b7c1-4f0aa1ef1829"
      },
      "source": [
        "np.vstack((a,b))"
      ],
      "execution_count": null,
      "outputs": [
        {
          "output_type": "execute_result",
          "data": {
            "text/plain": [
              "array([[1, 2],\n",
              "       [2, 3],\n",
              "       [3, 4],\n",
              "       [4, 5],\n",
              "       [5, 6]])"
            ]
          },
          "metadata": {},
          "execution_count": 157
        }
      ]
    },
    {
      "cell_type": "code",
      "metadata": {
        "colab": {
          "base_uri": "https://localhost:8080/"
        },
        "id": "BAId99v1irsM",
        "outputId": "207cf986-39cf-4c6d-d817-04318a5e6f00"
      },
      "source": [
        "np.hstack((a,c.T))"
      ],
      "execution_count": null,
      "outputs": [
        {
          "output_type": "execute_result",
          "data": {
            "text/plain": [
              "array([[1, 2, 5],\n",
              "       [2, 3, 6],\n",
              "       [3, 4, 7],\n",
              "       [4, 5, 8]])"
            ]
          },
          "metadata": {},
          "execution_count": 158
        }
      ]
    },
    {
      "cell_type": "code",
      "metadata": {
        "id": "RS3GAI4viz_I"
      },
      "source": [
        "B=a"
      ],
      "execution_count": null,
      "outputs": []
    },
    {
      "cell_type": "code",
      "metadata": {
        "id": "OKb48MsIjVAa"
      },
      "source": [
        "B[0,0]=5"
      ],
      "execution_count": null,
      "outputs": []
    },
    {
      "cell_type": "code",
      "metadata": {
        "colab": {
          "base_uri": "https://localhost:8080/"
        },
        "id": "94zIHv7JjaBk",
        "outputId": "4615f35d-f210-4f87-8789-f07ad4cdc0fd"
      },
      "source": [
        "a"
      ],
      "execution_count": null,
      "outputs": [
        {
          "output_type": "execute_result",
          "data": {
            "text/plain": [
              "array([[5, 2],\n",
              "       [2, 3],\n",
              "       [3, 4],\n",
              "       [4, 5]])"
            ]
          },
          "metadata": {},
          "execution_count": 161
        }
      ]
    },
    {
      "cell_type": "code",
      "metadata": {
        "id": "jwv5cG3rjaxX"
      },
      "source": [
        "B = np.copy(a)"
      ],
      "execution_count": null,
      "outputs": []
    },
    {
      "cell_type": "code",
      "metadata": {
        "id": "UeWTnJKCjoLL"
      },
      "source": [
        "B[0,0]=10"
      ],
      "execution_count": null,
      "outputs": []
    },
    {
      "cell_type": "code",
      "metadata": {
        "colab": {
          "base_uri": "https://localhost:8080/"
        },
        "id": "QkDHwvH6jsny",
        "outputId": "ee2ee1b0-0437-4a03-c248-76effbec2464"
      },
      "source": [
        "a"
      ],
      "execution_count": null,
      "outputs": [
        {
          "output_type": "execute_result",
          "data": {
            "text/plain": [
              "array([[5, 2],\n",
              "       [2, 3],\n",
              "       [3, 4],\n",
              "       [4, 5]])"
            ]
          },
          "metadata": {},
          "execution_count": 164
        }
      ]
    },
    {
      "cell_type": "code",
      "metadata": {
        "colab": {
          "base_uri": "https://localhost:8080/"
        },
        "id": "131yK2R1jtL7",
        "outputId": "d2e237cf-5f31-4f6e-b5fb-0a8e7bff13bb"
      },
      "source": [
        "B"
      ],
      "execution_count": null,
      "outputs": [
        {
          "output_type": "execute_result",
          "data": {
            "text/plain": [
              "array([[10,  2],\n",
              "       [ 2,  3],\n",
              "       [ 3,  4],\n",
              "       [ 4,  5]])"
            ]
          },
          "metadata": {},
          "execution_count": 165
        }
      ]
    },
    {
      "cell_type": "code",
      "metadata": {
        "id": "b8mEwUKejuBJ"
      },
      "source": [
        "from scipy.cluster import vq"
      ],
      "execution_count": null,
      "outputs": []
    },
    {
      "cell_type": "code",
      "metadata": {
        "colab": {
          "base_uri": "https://localhost:8080/"
        },
        "id": "tSlMhHAOwVWM",
        "outputId": "1d4bff9a-117c-438d-efb9-c940aa99e8bb"
      },
      "source": [
        "np.random.randn(10,2)+3"
      ],
      "execution_count": null,
      "outputs": [
        {
          "output_type": "execute_result",
          "data": {
            "text/plain": [
              "array([[1.81369775, 1.68714539],\n",
              "       [3.54572448, 1.63424548],\n",
              "       [0.22705941, 3.32603873],\n",
              "       [4.48022729, 4.39040632],\n",
              "       [3.75541747, 2.93714443],\n",
              "       [1.14616532, 2.5826445 ],\n",
              "       [2.74049696, 3.46263135],\n",
              "       [2.52730551, 2.86186158],\n",
              "       [2.88249829, 2.77331544],\n",
              "       [2.9483611 , 5.66148723]])"
            ]
          },
          "metadata": {},
          "execution_count": 167
        }
      ]
    },
    {
      "cell_type": "code",
      "metadata": {
        "id": "-xKNtBHIwfmn"
      },
      "source": [
        "c1=np.random.randn(100,2)+5\n",
        "c2=np.random.randn(30,2)-5\n",
        "c3=np.random.randn(50,2)"
      ],
      "execution_count": null,
      "outputs": []
    },
    {
      "cell_type": "code",
      "metadata": {
        "id": "NmocIHaexFFg"
      },
      "source": [
        "data=np.vstack([c1,c2,c3])"
      ],
      "execution_count": null,
      "outputs": []
    },
    {
      "cell_type": "code",
      "metadata": {
        "colab": {
          "base_uri": "https://localhost:8080/"
        },
        "id": "2zY5duXkxgRZ",
        "outputId": "c2234a7f-86ac-4b38-d563-2178705e138f"
      },
      "source": [
        "data.shape"
      ],
      "execution_count": null,
      "outputs": [
        {
          "output_type": "execute_result",
          "data": {
            "text/plain": [
              "(180, 2)"
            ]
          },
          "metadata": {},
          "execution_count": 170
        }
      ]
    },
    {
      "cell_type": "code",
      "metadata": {
        "id": "jGcMEN16xoj5"
      },
      "source": [
        "a=([[2,3],[4,5]])\n",
        "b=([[1,2],[2,3]])"
      ],
      "execution_count": null,
      "outputs": []
    },
    {
      "cell_type": "code",
      "metadata": {
        "id": "Xllc33HJxs-j"
      },
      "source": [
        "g=np.hstack([a,b])"
      ],
      "execution_count": null,
      "outputs": []
    },
    {
      "cell_type": "code",
      "metadata": {
        "colab": {
          "base_uri": "https://localhost:8080/"
        },
        "id": "9RnXDsMRyIc0",
        "outputId": "5374d5d2-9a01-4d31-88be-38e77959989f"
      },
      "source": [
        "g"
      ],
      "execution_count": null,
      "outputs": [
        {
          "output_type": "execute_result",
          "data": {
            "text/plain": [
              "array([[2, 3, 1, 2],\n",
              "       [4, 5, 2, 3]])"
            ]
          },
          "metadata": {},
          "execution_count": 173
        }
      ]
    },
    {
      "cell_type": "code",
      "metadata": {
        "id": "aq_4z0E5yNWU"
      },
      "source": [
        "d=np.vstack([a,b])"
      ],
      "execution_count": null,
      "outputs": []
    },
    {
      "cell_type": "code",
      "metadata": {
        "colab": {
          "base_uri": "https://localhost:8080/"
        },
        "id": "yTbXOlT0yoXr",
        "outputId": "2a906f50-09fb-45d5-f4f4-37327fbc526c"
      },
      "source": [
        "d"
      ],
      "execution_count": null,
      "outputs": [
        {
          "output_type": "execute_result",
          "data": {
            "text/plain": [
              "array([[2, 3],\n",
              "       [4, 5],\n",
              "       [1, 2],\n",
              "       [2, 3]])"
            ]
          },
          "metadata": {},
          "execution_count": 175
        }
      ]
    },
    {
      "cell_type": "code",
      "metadata": {
        "colab": {
          "base_uri": "https://localhost:8080/"
        },
        "id": "TdoCuYbSypMa",
        "outputId": "d684b65e-5c8e-4098-d995-8cd2c80bc951"
      },
      "source": [
        "data.shape"
      ],
      "execution_count": null,
      "outputs": [
        {
          "output_type": "execute_result",
          "data": {
            "text/plain": [
              "(180, 2)"
            ]
          },
          "metadata": {},
          "execution_count": 176
        }
      ]
    },
    {
      "cell_type": "code",
      "metadata": {
        "id": "hY05a2Vay4fo"
      },
      "source": [
        "centroids,variance=vq.kmeans(data,3)"
      ],
      "execution_count": null,
      "outputs": []
    },
    {
      "cell_type": "code",
      "metadata": {
        "id": "YwRRJGaPzOQG"
      },
      "source": [
        "# The identified variable contains the information \n",
        "# we need to separate the points in clusters\n",
        "# based on the vq function.\n",
        "identified,distance=vq.vq(data,centroids)"
      ],
      "execution_count": null,
      "outputs": []
    },
    {
      "cell_type": "code",
      "metadata": {
        "id": "-Aft5B3LzbSJ"
      },
      "source": [
        "# Retrieving coordinates for points in each vq # identified core\n",
        "vqc1=data[identified==0]\n",
        "vqc2=data[identified==1]\n",
        "vqc3=data[identified==2]"
      ],
      "execution_count": null,
      "outputs": []
    },
    {
      "cell_type": "code",
      "metadata": {
        "id": "DwaNBYMs0Bbw"
      },
      "source": [
        "import matplotlib.pyplot as plt"
      ],
      "execution_count": null,
      "outputs": []
    },
    {
      "cell_type": "code",
      "metadata": {
        "id": "DKmxQb_s0KyA"
      },
      "source": [
        "def plot_means_clustering_results(c1,c2,c3,vq1,vq2,vq3):\n",
        "\n",
        "  x1,x2=-10,10\n",
        "  y1,y2=-10,10\n",
        "\n",
        "  fig=plt.figure()\n",
        "  fig.subplots_adjust(hspace=0.1,wspace=0.1)\n",
        "\n",
        "  ax1=fig.add_subplot(121,aspect='equal')\n",
        "  ax1.scatter(c1[:,0],c1[:,1],lw=0.5,color='#00CC00')\n",
        "  ax1.scatter(c2[:,0],c2[:,1],lw=0.5,color='#028E9B')\n",
        "  ax1.scatter(c3[:,0],c3[:,1],lw=0.5,color='#FF7800')\n",
        "  ax1.xaxis.set_visible(False)\n",
        "  ax1.yaxis.set_visible(False)\n",
        "  ax1.set_xlim(x1,x2)\n",
        "  ax1.set_ylim(y1,y2)\n",
        "  ax1.text(-9,8,'original')\n",
        "\n",
        "  ax2=fig.add_subplot(122,aspect='equal')\n",
        "  ax2.scatter(vqc1[:,0],vqc1[:,1],lw=0.5,color='#00CC00')\n",
        "  ax2.scatter(vqc2[:,0],vqc2[:,1],lw=0.5,color='#028E9B')\n",
        "  ax2.scatter(vqc3[:,0],vqc3[:,1],lw=0.5,color='#FF7800')\n",
        "  ax2.xaxis.set_visible(False)\n",
        "  ax2.yaxis.set_visible(False)\n",
        "  ax2.set_xlim(x1,x2)\n",
        "  ax2.set_ylim(y1,y2)\n",
        "  ax2.text(-9,8,'identifiend vq')\n",
        "\n",
        "  return fig"
      ],
      "execution_count": null,
      "outputs": []
    },
    {
      "cell_type": "code",
      "metadata": {
        "colab": {
          "base_uri": "https://localhost:8080/",
          "height": 194
        },
        "id": "FHbIVBO23gMk",
        "outputId": "ced0bb82-a28d-438c-8a51-f0256418c0d3"
      },
      "source": [
        "plot_means_clustering_results(c1, c2, c3, vqc1, vqc2, vqc3)\n",
        "plt.show()"
      ],
      "execution_count": null,
      "outputs": [
        {
          "output_type": "display_data",
          "data": {
            "image/png": "[encoded data removed]",
            "text/plain": [
              "<Figure size 432x288 with 2 Axes>"
            ]
          },
          "metadata": {
            "needs_background": "light"
          }
        }
      ]
    },
    {
      "cell_type": "code",
      "metadata": {
        "id": "gJYUa6o0mn0k"
      },
      "source": [
        "from  scipy import sparse"
      ],
      "execution_count": null,
      "outputs": []
    },
    {
      "cell_type": "code",
      "metadata": {
        "colab": {
          "base_uri": "https://localhost:8080/"
        },
        "id": "SKG3x3_Lnooz",
        "outputId": "f16b47f4-5082-4e13-f250-6430ec37fb94"
      },
      "source": [
        "X = np.random.random((10, 5))\n",
        "print(X)"
      ],
      "execution_count": null,
      "outputs": [
        {
          "output_type": "stream",
          "name": "stdout",
          "text": [
            "[[0.77302735 0.31288487 0.00666204 0.25917902 0.23267561]\n",
            " [0.20449011 0.02908288 0.9128027  0.36394821 0.44423036]\n",
            " [0.69697724 0.82285915 0.69204854 0.92594256 0.31715838]\n",
            " [0.05488274 0.99845094 0.22219736 0.52768794 0.61589313]\n",
            " [0.06672719 0.12454004 0.24548523 0.73096257 0.77189474]\n",
            " [0.66302437 0.75312776 0.59875212 0.39912801 0.35445082]\n",
            " [0.96771057 0.31397708 0.76835007 0.88731477 0.22545519]\n",
            " [0.95141728 0.05854051 0.95768956 0.83826495 0.14609976]\n",
            " [0.38828092 0.52850395 0.48568173 0.94825222 0.05129717]\n",
            " [0.42976796 0.41047233 0.13365696 0.64310777 0.25393601]]\n"
          ]
        }
      ]
    },
    {
      "cell_type": "code",
      "metadata": {
        "colab": {
          "base_uri": "https://localhost:8080/"
        },
        "id": "5_HSIOEtnvqd",
        "outputId": "a0560658-8598-4d16-8171-2c99288ae8d6"
      },
      "source": [
        "X[X < 0.7] = 0\n",
        "print(X)"
      ],
      "execution_count": null,
      "outputs": [
        {
          "output_type": "stream",
          "name": "stdout",
          "text": [
            "[[0.77302735 0.         0.         0.         0.        ]\n",
            " [0.         0.         0.9128027  0.         0.        ]\n",
            " [0.         0.82285915 0.         0.92594256 0.        ]\n",
            " [0.         0.99845094 0.         0.         0.        ]\n",
            " [0.         0.         0.         0.73096257 0.77189474]\n",
            " [0.         0.75312776 0.         0.         0.        ]\n",
            " [0.96771057 0.         0.76835007 0.88731477 0.        ]\n",
            " [0.95141728 0.         0.95768956 0.83826495 0.        ]\n",
            " [0.         0.         0.         0.94825222 0.        ]\n",
            " [0.         0.         0.         0.         0.        ]]\n"
          ]
        }
      ]
    },
    {
      "cell_type": "code",
      "metadata": {
        "id": "llaeHu0dnIRM"
      },
      "source": [
        "x_csr=sparse.csr_matrix"
      ],
      "execution_count": null,
      "outputs": []
    }
  ]
}