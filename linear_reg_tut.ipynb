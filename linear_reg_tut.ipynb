{
  "nbformat": 4,
  "nbformat_minor": 0,
  "metadata": {
    "colab": {
      "name": "linear_reg_tut.ipynb",
      "provenance": [],
      "collapsed_sections": [
        "1_I13BxZZsp7",
        "FlD9TBeSZg4S",
        "fOjZWpK2Fnar"
      ],
      "mount_file_id": "1qMpz_UFcD3UlbyHoHPVEq7p8qaw6CBii",
      "authorship_tag": "ABX9TyM/aBO9OnS6FLKacoAzdskx",
      "include_colab_link": true
    },
    "kernelspec": {
      "name": "python3",
      "display_name": "Python 3"
    },
    "language_info": {
      "name": "python"
    }
  },
  "cells": [
    {
      "cell_type": "markdown",
      "metadata": {
        "id": "view-in-github",
        "colab_type": "text"
      },
      "source": [
        "<a href=\"https://colab.research.google.com/github/John260260/Classification_problms_ML/blob/main/linear_reg_tut.ipynb\" target=\"_parent\"><img src=\"https://colab.research.google.com/assets/colab-badge.svg\" alt=\"Open In Colab\"/></a>"
      ]
    },
    {
      "cell_type": "markdown",
      "metadata": {
        "id": "g3wenXB8rjFN"
      },
      "source": [
        "## What is Regression Analysis?\n",
        "\n",
        "Regression analysis is a form of predictive modelling technique which investigates the relationship between a dependent (target) and independent variable (s) (predictor). This technique is used for forecasting, time series modelling and finding the causal effect relationship between the variables. For example, relationship between rash driving and number of road accidents by a driver is best studied through regression.\n",
        "\n",
        "\n",
        "Regression analysis is an important tool for modelling and analyzing data. Here, we fit a curve / line to the data points, in such a manner that the differences between the distance of data points from the curve or line is minimized. The topic will be explained in detail in coming sections.**bold text**"
      ]
    },
    {
      "cell_type": "markdown",
      "metadata": {
        "id": "YkBq5ezOro42"
      },
      "source": [
        "## Why do we use Regression Analysis?\n",
        "\n",
        "As mentioned above,Regression analysis estimates the relationship between two or more variables. Let’s understand this with an easy example:\n",
        "\n",
        "Let’s say, you want to estimate growth in sales of a company based on current economic conditions. You have the recent company data which indicates that the growth in sales is around two and a half times the growth in the economy. Using this insight, we can predict future sales of the company based on current & past information.\n",
        "\n",
        "There are multiple benefits of using Regression analysis. They are as follows:\n",
        "\n",
        "   * It indicates the significant relationships between dependent variable and independent variable.\n",
        "   * It indicates the strength of impact of multiple independent variables on dependent variable.\n",
        "\n",
        "Regression analysis also allows us to compare the effects of variables measured on different scales, such as the effect of price changes and the number of promotional activities. These benefits help Market Researchers / Data Analysts / Data Scientists to eliminate and evaluate the best set of variables to be used for building predictive models."
      ]
    },
    {
      "cell_type": "markdown",
      "metadata": {
        "id": "JCiogZd9ru4n"
      },
      "source": [
        "# Linear Regression\n",
        "\n",
        "It is one of the most widely known modeling technique. Linear regression is usually among the first few topics which people pick while learning predictive modeling. In this technique, the dependent variable is continuous, independent variable(s) can be continuous or discrete, and nature of regression line is linear.\n",
        "\n",
        "Linear Regression establishes a relationship between dependent variable (Y) and one or more independent variables (X) using a best fit straight line (also known as regression line).\n",
        "\n",
        "It is represented by an equation Y=a+b*X + e, where a is intercept, b is slope of the line and e is error term. This equation can be used to predict the value of target variable based on given predictor variable(s)."
      ]
    },
    {
      "cell_type": "markdown",
      "metadata": {
        "id": "1_I13BxZZsp7"
      },
      "source": [
        "# Sales -Advertisement"
      ]
    },
    {
      "cell_type": "code",
      "metadata": {
        "id": "GVQEnmoapXYy"
      },
      "source": [
        "# imports\n",
        "import pandas as pd\n",
        "import matplotlib.pyplot as plt\n",
        "import numpy as np\n",
        "\n",
        "# this allows plots to appear directly in the notebook\n",
        "%matplotlib inline"
      ],
      "execution_count": null,
      "outputs": []
    },
    {
      "cell_type": "code",
      "metadata": {
        "id": "IUHzTULWry4u"
      },
      "source": [
        "data=pd.read_csv('/content/drive/MyDrive/datasets/Advertising.csv')"
      ],
      "execution_count": null,
      "outputs": []
    },
    {
      "cell_type": "code",
      "metadata": {
        "colab": {
          "base_uri": "https://localhost:8080/",
          "height": 204
        },
        "id": "KnlPM6E5sWUl",
        "outputId": "8fe89982-d49d-490b-cea4-b75612f8f247"
      },
      "source": [
        "data.head()"
      ],
      "execution_count": null,
      "outputs": [
        {
          "output_type": "execute_result",
          "data": {
            "text/html": [
              "<div>\n",
              "<style scoped>\n",
              "    .dataframe tbody tr th:only-of-type {\n",
              "        vertical-align: middle;\n",
              "    }\n",
              "\n",
              "    .dataframe tbody tr th {\n",
              "        vertical-align: top;\n",
              "    }\n",
              "\n",
              "    .dataframe thead th {\n",
              "        text-align: right;\n",
              "    }\n",
              "</style>\n",
              "<table border=\"1\" class=\"dataframe\">\n",
              "  <thead>\n",
              "    <tr style=\"text-align: right;\">\n",
              "      <th></th>\n",
              "      <th>Unnamed: 0</th>\n",
              "      <th>TV</th>\n",
              "      <th>radio</th>\n",
              "      <th>newspaper</th>\n",
              "      <th>sales</th>\n",
              "    </tr>\n",
              "  </thead>\n",
              "  <tbody>\n",
              "    <tr>\n",
              "      <th>0</th>\n",
              "      <td>1</td>\n",
              "      <td>230.1</td>\n",
              "      <td>37.8</td>\n",
              "      <td>69.2</td>\n",
              "      <td>22.1</td>\n",
              "    </tr>\n",
              "    <tr>\n",
              "      <th>1</th>\n",
              "      <td>2</td>\n",
              "      <td>44.5</td>\n",
              "      <td>39.3</td>\n",
              "      <td>45.1</td>\n",
              "      <td>10.4</td>\n",
              "    </tr>\n",
              "    <tr>\n",
              "      <th>2</th>\n",
              "      <td>3</td>\n",
              "      <td>17.2</td>\n",
              "      <td>45.9</td>\n",
              "      <td>69.3</td>\n",
              "      <td>9.3</td>\n",
              "    </tr>\n",
              "    <tr>\n",
              "      <th>3</th>\n",
              "      <td>4</td>\n",
              "      <td>151.5</td>\n",
              "      <td>41.3</td>\n",
              "      <td>58.5</td>\n",
              "      <td>18.5</td>\n",
              "    </tr>\n",
              "    <tr>\n",
              "      <th>4</th>\n",
              "      <td>5</td>\n",
              "      <td>180.8</td>\n",
              "      <td>10.8</td>\n",
              "      <td>58.4</td>\n",
              "      <td>12.9</td>\n",
              "    </tr>\n",
              "  </tbody>\n",
              "</table>\n",
              "</div>"
            ],
            "text/plain": [
              "   Unnamed: 0     TV  radio  newspaper  sales\n",
              "0           1  230.1   37.8       69.2   22.1\n",
              "1           2   44.5   39.3       45.1   10.4\n",
              "2           3   17.2   45.9       69.3    9.3\n",
              "3           4  151.5   41.3       58.5   18.5\n",
              "4           5  180.8   10.8       58.4   12.9"
            ]
          },
          "metadata": {},
          "execution_count": 62
        }
      ]
    },
    {
      "cell_type": "code",
      "metadata": {
        "id": "fDaYmdItspi5"
      },
      "source": [
        "del data['Unnamed: 0']"
      ],
      "execution_count": null,
      "outputs": []
    },
    {
      "cell_type": "code",
      "metadata": {
        "colab": {
          "base_uri": "https://localhost:8080/"
        },
        "id": "i_4S6sXKsYup",
        "outputId": "9de8061c-b501-4bee-8d38-2e9a3d898dc6"
      },
      "source": [
        "data.columns"
      ],
      "execution_count": null,
      "outputs": [
        {
          "output_type": "execute_result",
          "data": {
            "text/plain": [
              "Index(['TV', 'radio', 'newspaper', 'sales'], dtype='object')"
            ]
          },
          "metadata": {},
          "execution_count": 64
        }
      ]
    },
    {
      "cell_type": "code",
      "metadata": {
        "colab": {
          "base_uri": "https://localhost:8080/",
          "height": 173
        },
        "id": "c-7CkhfPslOU",
        "outputId": "faa334d2-dca6-4488-d324-6d089d349fac"
      },
      "source": [
        "data.corr()"
      ],
      "execution_count": null,
      "outputs": [
        {
          "output_type": "execute_result",
          "data": {
            "text/html": [
              "<div>\n",
              "<style scoped>\n",
              "    .dataframe tbody tr th:only-of-type {\n",
              "        vertical-align: middle;\n",
              "    }\n",
              "\n",
              "    .dataframe tbody tr th {\n",
              "        vertical-align: top;\n",
              "    }\n",
              "\n",
              "    .dataframe thead th {\n",
              "        text-align: right;\n",
              "    }\n",
              "</style>\n",
              "<table border=\"1\" class=\"dataframe\">\n",
              "  <thead>\n",
              "    <tr style=\"text-align: right;\">\n",
              "      <th></th>\n",
              "      <th>TV</th>\n",
              "      <th>radio</th>\n",
              "      <th>newspaper</th>\n",
              "      <th>sales</th>\n",
              "    </tr>\n",
              "  </thead>\n",
              "  <tbody>\n",
              "    <tr>\n",
              "      <th>TV</th>\n",
              "      <td>1.000000</td>\n",
              "      <td>0.054809</td>\n",
              "      <td>0.056648</td>\n",
              "      <td>0.782224</td>\n",
              "    </tr>\n",
              "    <tr>\n",
              "      <th>radio</th>\n",
              "      <td>0.054809</td>\n",
              "      <td>1.000000</td>\n",
              "      <td>0.354104</td>\n",
              "      <td>0.576223</td>\n",
              "    </tr>\n",
              "    <tr>\n",
              "      <th>newspaper</th>\n",
              "      <td>0.056648</td>\n",
              "      <td>0.354104</td>\n",
              "      <td>1.000000</td>\n",
              "      <td>0.228299</td>\n",
              "    </tr>\n",
              "    <tr>\n",
              "      <th>sales</th>\n",
              "      <td>0.782224</td>\n",
              "      <td>0.576223</td>\n",
              "      <td>0.228299</td>\n",
              "      <td>1.000000</td>\n",
              "    </tr>\n",
              "  </tbody>\n",
              "</table>\n",
              "</div>"
            ],
            "text/plain": [
              "                 TV     radio  newspaper     sales\n",
              "TV         1.000000  0.054809   0.056648  0.782224\n",
              "radio      0.054809  1.000000   0.354104  0.576223\n",
              "newspaper  0.056648  0.354104   1.000000  0.228299\n",
              "sales      0.782224  0.576223   0.228299  1.000000"
            ]
          },
          "metadata": {},
          "execution_count": 65
        }
      ]
    },
    {
      "cell_type": "code",
      "metadata": {
        "id": "g6vWKywGs2BG"
      },
      "source": [
        "import seaborn as sns"
      ],
      "execution_count": null,
      "outputs": []
    },
    {
      "cell_type": "code",
      "metadata": {
        "colab": {
          "base_uri": "https://localhost:8080/",
          "height": 286
        },
        "id": "-_ZI8Bq3tFUC",
        "outputId": "3e45e7a0-c0f0-48e9-fefa-bd3b439ec5d0"
      },
      "source": [
        "sns.heatmap(data.corr(),annot= True)"
      ],
      "execution_count": null,
      "outputs": [
        {
          "output_type": "execute_result",
          "data": {
            "text/plain": [
              "<matplotlib.axes._subplots.AxesSubplot at 0x7f0d8eb88e90>"
            ]
          },
          "metadata": {},
          "execution_count": 67
        },
        {
          "output_type": "display_data",
          "data": {
            "image/png": "[encoded data removed]",
            "text/plain": [
              "<Figure size 432x288 with 2 Axes>"
            ]
          },
          "metadata": {
            "needs_background": "light"
          }
        }
      ]
    },
    {
      "cell_type": "markdown",
      "metadata": {
        "id": "xL53QZtUvNdf"
      },
      "source": [
        "What are the **features**?\n",
        "- TV: Advertising dollars spent on TV for a single product in a given market (in thousands of dollars)\n",
        "- Radio: Advertising dollars spent on Radio\n",
        "- Newspaper: Advertising dollars spent on Newspaper\n",
        "\n",
        "What is the **response**?\n",
        "- Sales: sales of a single product in a given market (in thousands of widgets)"
      ]
    },
    {
      "cell_type": "code",
      "metadata": {
        "colab": {
          "base_uri": "https://localhost:8080/"
        },
        "id": "MGlvu8TytLr8",
        "outputId": "1d5eb605-8521-4963-f978-517434f17e70"
      },
      "source": [
        "# print the shape of the DataFrame\n",
        "data.shape"
      ],
      "execution_count": null,
      "outputs": [
        {
          "output_type": "execute_result",
          "data": {
            "text/plain": [
              "(200, 4)"
            ]
          },
          "metadata": {},
          "execution_count": 68
        }
      ]
    },
    {
      "cell_type": "code",
      "metadata": {
        "colab": {
          "base_uri": "https://localhost:8080/"
        },
        "id": "bHM_b4_gvXxo",
        "outputId": "4377b865-8ae2-4265-a8f4-32b50c6cf18c"
      },
      "source": [
        "data.info()"
      ],
      "execution_count": null,
      "outputs": [
        {
          "output_type": "stream",
          "name": "stdout",
          "text": [
            "<class 'pandas.core.frame.DataFrame'>\n",
            "RangeIndex: 200 entries, 0 to 199\n",
            "Data columns (total 4 columns):\n",
            " #   Column     Non-Null Count  Dtype  \n",
            "---  ------     --------------  -----  \n",
            " 0   TV         200 non-null    float64\n",
            " 1   radio      200 non-null    float64\n",
            " 2   newspaper  200 non-null    float64\n",
            " 3   sales      200 non-null    float64\n",
            "dtypes: float64(4)\n",
            "memory usage: 6.4 KB\n"
          ]
        }
      ]
    },
    {
      "cell_type": "code",
      "metadata": {
        "colab": {
          "base_uri": "https://localhost:8080/",
          "height": 514
        },
        "id": "PHMTqliSvuIR",
        "outputId": "f6ddff1b-6599-44fe-f7c3-93f3fa8279b5"
      },
      "source": [
        "# visualize the relationship between the features and the response using scatterplots\n",
        "fig, axs = plt.subplots(1, 3, sharey=True)\n",
        "data.plot(kind='scatter', x='TV', y='sales', ax=axs[0], figsize=(16, 8))\n",
        "data.plot(kind='scatter', x='radio', y='sales', ax=axs[1])\n",
        "data.plot(kind='scatter', x='newspaper', y='sales', ax=axs[2])"
      ],
      "execution_count": null,
      "outputs": [
        {
          "output_type": "execute_result",
          "data": {
            "text/plain": [
              "<matplotlib.axes._subplots.AxesSubplot at 0x7f0d8e948850>"
            ]
          },
          "metadata": {},
          "execution_count": 70
        },
        {
          "output_type": "display_data",
          "data": {
            "image/png": "[encoded data removed]",
            "text/plain": [
              "<Figure size 1152x576 with 3 Axes>"
            ]
          },
          "metadata": {
            "needs_background": "light"
          }
        }
      ]
    },
    {
      "cell_type": "markdown",
      "metadata": {
        "id": "jTcRHl8T92kg"
      },
      "source": [
        "## Questions About the Advertising Data\n",
        "\n",
        "Let's pretend you work for the company that manufactures and markets this widget. The company might ask you the following: On the basis of this data, how should we spend our advertising money in the future?\n",
        "\n",
        "These general questions might lead you to more specific questions:\n",
        "1. Is there a relationship between ads and sales?\n",
        "2. How strong is that relationship?\n",
        "3. Which ad types contribute to sales?\n",
        "4. What is the effect of each ad type of sales?\n",
        "5. Given ad spending in a particular market, can sales be predicted?\n",
        "\n",
        "We will explore these questions below!"
      ]
    },
    {
      "cell_type": "markdown",
      "metadata": {
        "id": "ySt0VdOR9_g7"
      },
      "source": [
        "## Simple Linear Regression\n",
        "\n",
        "Simple Linear regression is an approach for predicting a **quantitative response** using a **single feature** (or \"predictor\" or \"input variable\"). It takes the following form:\n",
        "\n",
        "$y = \\beta_0 + \\beta_1x$\n",
        "\n",
        "What does each term represent?\n",
        "- $y$ is the response\n",
        "- $x$ is the feature\n",
        "- $\\beta_0$ is the intercept\n",
        "- $\\beta_1$ is the coefficient for x\n",
        "\n",
        "Together, $\\beta_0$ and $\\beta_1$ are called the **model coefficients**. To create your model, you must \"learn\" the values of these coefficients. And once we've learned these coefficients, we can use the model to predict Sales!"
      ]
    },
    {
      "cell_type": "markdown",
      "metadata": {
        "id": "U-mo8WvKESnl"
      },
      "source": [
        "## scikit-learn\n",
        "\n",
        "### Introduction\n",
        "\n",
        "Since its release in 2007, scikit-learn has become one of the most popular open source Machine Learning libraries for Python. scikit-learn provides algorithms for Machine Learning tasks including classification, regression, dimensionality reduction, and clustering. It also provides modules for extracting features, processing data, and evaluating models.\n",
        "\n",
        "Conceived as an extension to the SciPy library, scikit-learn is built on the popular Python libraries NumPy and matplotlib. NumPy extends Python to support efficient operations on large arrays and multidimensional matrices. matplotlib provides visualization tools, and SciPy provides modules for scientific computing.\n",
        "\n",
        "scikit-learn is popular for academic research because it has a well-documented, easy-to-use, and versatile API. Developers can use scikit-learn to experiment with different algorithms by changing only a few lines of the code. scikit-learn wraps some popular implementations of machine learning algorithms, such as LIBSVM and LIBLINEAR. Other Python libraries, including NLTK, include wrappers for scikit-learn. scikit-learn also includes a variety of datasets, allowing developers to focus on algorithms rather than obtaining and cleaning data.\n",
        "\n",
        "Licensed under the permissive BSD license, scikit-learn can be used in commercial applications without restrictions. Many of scikit-learn's algorithms are fast and scalable to all but massive datasets. Finally, scikit-learn is noted for its reliability; much of the library is covered by automated tests."
      ]
    },
    {
      "cell_type": "code",
      "metadata": {
        "id": "TAU5SuWFE_lv"
      },
      "source": [
        "from sklearn.linear_model import LinearRegression"
      ],
      "execution_count": null,
      "outputs": []
    },
    {
      "cell_type": "code",
      "metadata": {
        "colab": {
          "base_uri": "https://localhost:8080/"
        },
        "id": "uyd9jCap0MX7",
        "outputId": "7b22c4d9-7b76-4b48-c479-83c25891125a"
      },
      "source": [
        "# create X and y\n",
        "feature_cols = ['TV']\n",
        "X = data[feature_cols]\n",
        "y = data.sales\n",
        "\n",
        "# follow the usual sklearn pattern: import, instantiate, fit\n",
        "from sklearn.linear_model import LinearRegression\n",
        "lm = LinearRegression()\n",
        "lm.fit(X, y)\n",
        "\n",
        "# print intercept and coefficients\n",
        "print(lm.intercept_)\n",
        "print(lm.coef_)"
      ],
      "execution_count": null,
      "outputs": [
        {
          "output_type": "stream",
          "name": "stdout",
          "text": [
            "7.032593549127695\n",
            "[0.04753664]\n"
          ]
        }
      ]
    },
    {
      "cell_type": "markdown",
      "metadata": {
        "id": "3QZSjRN1TUu_"
      },
      "source": [
        "## Interpreting Model Coefficients\n",
        "\n",
        "How do we interpret the TV coefficient ($\\beta_1$)?\n",
        "- A \"unit\" increase in TV ad spending is **associated with** a 0.047537 \"unit\" increase in Sales.\n",
        "- Or more clearly: An additional $1,000 spent on TV ads is **associated with** an increase in sales of 47.537 widgets.\n",
        "\n",
        "Note that if an increase in TV ad spending was associated with a **decrease** in sales, $\\beta_1$ would be **negative**."
      ]
    },
    {
      "cell_type": "markdown",
      "metadata": {
        "id": "XAZShOY8TYus"
      },
      "source": [
        "## Using the Model for Prediction\n",
        "\n",
        "Let's say that there was a new market where the TV advertising spend was **$50,000**. What would we predict for the Sales in that market?\n",
        "\n",
        "$$y = \\beta_0 + \\beta_1x$$\n",
        "$$y = 7.032594 + 0.047537 \\times 50$$"
      ]
    },
    {
      "cell_type": "code",
      "metadata": {
        "colab": {
          "base_uri": "https://localhost:8080/"
        },
        "id": "FHWU2N-qIdXw",
        "outputId": "e5385150-c5d7-4500-b6cb-ac3ac5b29634"
      },
      "source": [
        "# manually calculate the prediction\n",
        "7.032594+0.047537*50"
      ],
      "execution_count": null,
      "outputs": [
        {
          "output_type": "execute_result",
          "data": {
            "text/plain": [
              "9.409444"
            ]
          },
          "metadata": {},
          "execution_count": 73
        }
      ]
    },
    {
      "cell_type": "markdown",
      "metadata": {
        "id": "oBFbEbVNUYHD"
      },
      "source": [
        "Thus, we would predict Sales of **9,409 widgets** in that market."
      ]
    },
    {
      "cell_type": "code",
      "metadata": {
        "id": "IRRlFDv5ThjG"
      },
      "source": [
        "# you have to create a DataFrame since the Statsmodels formula interface expects it\n",
        "x_new=pd.DataFrame({'TV':[50,60]})"
      ],
      "execution_count": null,
      "outputs": []
    },
    {
      "cell_type": "code",
      "metadata": {
        "colab": {
          "base_uri": "https://localhost:8080/",
          "height": 111
        },
        "id": "WKkY4zjzWqn9",
        "outputId": "9cfad2a5-ed2a-4f93-ff9a-214b70bccdff"
      },
      "source": [
        "x_new"
      ],
      "execution_count": null,
      "outputs": [
        {
          "output_type": "execute_result",
          "data": {
            "text/html": [
              "<div>\n",
              "<style scoped>\n",
              "    .dataframe tbody tr th:only-of-type {\n",
              "        vertical-align: middle;\n",
              "    }\n",
              "\n",
              "    .dataframe tbody tr th {\n",
              "        vertical-align: top;\n",
              "    }\n",
              "\n",
              "    .dataframe thead th {\n",
              "        text-align: right;\n",
              "    }\n",
              "</style>\n",
              "<table border=\"1\" class=\"dataframe\">\n",
              "  <thead>\n",
              "    <tr style=\"text-align: right;\">\n",
              "      <th></th>\n",
              "      <th>TV</th>\n",
              "    </tr>\n",
              "  </thead>\n",
              "  <tbody>\n",
              "    <tr>\n",
              "      <th>0</th>\n",
              "      <td>50</td>\n",
              "    </tr>\n",
              "    <tr>\n",
              "      <th>1</th>\n",
              "      <td>60</td>\n",
              "    </tr>\n",
              "  </tbody>\n",
              "</table>\n",
              "</div>"
            ],
            "text/plain": [
              "   TV\n",
              "0  50\n",
              "1  60"
            ]
          },
          "metadata": {},
          "execution_count": 75
        }
      ]
    },
    {
      "cell_type": "code",
      "metadata": {
        "colab": {
          "base_uri": "https://localhost:8080/"
        },
        "id": "-JlUmSgxWuO8",
        "outputId": "900ef44d-b010-41b9-a746-76dce31f35c5"
      },
      "source": [
        "# use the model to make predictions on a new value\n",
        "lm.predict(x_new)"
      ],
      "execution_count": null,
      "outputs": [
        {
          "output_type": "execute_result",
          "data": {
            "text/plain": [
              "array([9.40942557, 9.88479198])"
            ]
          },
          "metadata": {},
          "execution_count": 76
        }
      ]
    },
    {
      "cell_type": "markdown",
      "metadata": {
        "id": "LcrHonjjXI5M"
      },
      "source": [
        "## Plotting the Least Squares Line\n",
        "\n",
        "Let's make predictions for the **smallest and largest observed values of x**, and then use the predicted values to plot the least squares line:"
      ]
    },
    {
      "cell_type": "code",
      "metadata": {
        "id": "7g3--0MBW9ZG"
      },
      "source": [
        "# create a DataFrame with the minimum and maximum values of TV\n",
        "X_new=pd.DataFrame({'TV':[data.TV.min(),data.TV.max()]})"
      ],
      "execution_count": null,
      "outputs": []
    },
    {
      "cell_type": "code",
      "metadata": {
        "colab": {
          "base_uri": "https://localhost:8080/"
        },
        "id": "dqdwfLOjXhHs",
        "outputId": "2a22efda-111a-4e80-b318-336e2ab7ff05"
      },
      "source": [
        "lm.predict(X_new)"
      ],
      "execution_count": null,
      "outputs": [
        {
          "output_type": "execute_result",
          "data": {
            "text/plain": [
              "array([ 7.0658692 , 21.12245377])"
            ]
          },
          "metadata": {},
          "execution_count": 78
        }
      ]
    },
    {
      "cell_type": "code",
      "metadata": {
        "colab": {
          "base_uri": "https://localhost:8080/",
          "height": 111
        },
        "id": "JvDdHYgGXnI7",
        "outputId": "a6b0aa67-0630-4b0f-a45d-fa91d95b88df"
      },
      "source": [
        "X_new"
      ],
      "execution_count": null,
      "outputs": [
        {
          "output_type": "execute_result",
          "data": {
            "text/html": [
              "<div>\n",
              "<style scoped>\n",
              "    .dataframe tbody tr th:only-of-type {\n",
              "        vertical-align: middle;\n",
              "    }\n",
              "\n",
              "    .dataframe tbody tr th {\n",
              "        vertical-align: top;\n",
              "    }\n",
              "\n",
              "    .dataframe thead th {\n",
              "        text-align: right;\n",
              "    }\n",
              "</style>\n",
              "<table border=\"1\" class=\"dataframe\">\n",
              "  <thead>\n",
              "    <tr style=\"text-align: right;\">\n",
              "      <th></th>\n",
              "      <th>TV</th>\n",
              "    </tr>\n",
              "  </thead>\n",
              "  <tbody>\n",
              "    <tr>\n",
              "      <th>0</th>\n",
              "      <td>0.7</td>\n",
              "    </tr>\n",
              "    <tr>\n",
              "      <th>1</th>\n",
              "      <td>296.4</td>\n",
              "    </tr>\n",
              "  </tbody>\n",
              "</table>\n",
              "</div>"
            ],
            "text/plain": [
              "      TV\n",
              "0    0.7\n",
              "1  296.4"
            ]
          },
          "metadata": {},
          "execution_count": 79
        }
      ]
    },
    {
      "cell_type": "code",
      "metadata": {
        "colab": {
          "base_uri": "https://localhost:8080/"
        },
        "id": "70T3nieGXxEW",
        "outputId": "f8bb7096-8afb-45ae-b1a9-717f8c3ea8d1"
      },
      "source": [
        "# make predictions for those x values and store them\n",
        "preds=lm.predict(X_new)\n",
        "preds"
      ],
      "execution_count": null,
      "outputs": [
        {
          "output_type": "execute_result",
          "data": {
            "text/plain": [
              "array([ 7.0658692 , 21.12245377])"
            ]
          },
          "metadata": {},
          "execution_count": 80
        }
      ]
    },
    {
      "cell_type": "code",
      "metadata": {
        "colab": {
          "base_uri": "https://localhost:8080/",
          "height": 296
        },
        "id": "RN6Mx_QMYiXC",
        "outputId": "30855816-d6d7-43bb-94b5-dd3981171a99"
      },
      "source": [
        "# first, plot the observed data\n",
        "data.plot(kind='scatter',x='TV',y='sales')\n",
        "\n",
        "# then, plot the least squares line\n",
        "plt.plot(X_new,preds,c='red',linewidth=2)"
      ],
      "execution_count": null,
      "outputs": [
        {
          "output_type": "execute_result",
          "data": {
            "text/plain": [
              "[<matplotlib.lines.Line2D at 0x7f0d8e80c2d0>]"
            ]
          },
          "metadata": {},
          "execution_count": 81
        },
        {
          "output_type": "display_data",
          "data": {
            "image/png": "[encoded data removed]",
            "text/plain": [
              "<Figure size 432x288 with 1 Axes>"
            ]
          },
          "metadata": {
            "needs_background": "light"
          }
        }
      ]
    },
    {
      "cell_type": "code",
      "metadata": {
        "colab": {
          "base_uri": "https://localhost:8080/",
          "height": 296
        },
        "id": "p0anZoL6ZVyg",
        "outputId": "38f5f723-b246-40d3-b006-c764aa8952db"
      },
      "source": [
        "# first, plot the observed data\n",
        "data.plot(kind='scatter',x='TV',y='sales')\n",
        "\n",
        "# then, plot the least squares line\n",
        "plt.plot(X_new,preds,c='red',linewidth=2)"
      ],
      "execution_count": null,
      "outputs": [
        {
          "output_type": "execute_result",
          "data": {
            "text/plain": [
              "[<matplotlib.lines.Line2D at 0x7f0d8e7a7d50>]"
            ]
          },
          "metadata": {},
          "execution_count": 82
        },
        {
          "output_type": "display_data",
          "data": {
            "image/png": "[encoded data removed]",
            "text/plain": [
              "<Figure size 432x288 with 1 Axes>"
            ]
          },
          "metadata": {
            "needs_background": "light"
          }
        }
      ]
    },
    {
      "cell_type": "code",
      "metadata": {
        "colab": {
          "base_uri": "https://localhost:8080/"
        },
        "id": "PlBg8OqHaJh1",
        "outputId": "c78120bd-55b8-495a-db9b-adc598be0449"
      },
      "source": [
        "preds"
      ],
      "execution_count": null,
      "outputs": [
        {
          "output_type": "execute_result",
          "data": {
            "text/plain": [
              "array([ 7.0658692 , 21.12245377])"
            ]
          },
          "metadata": {},
          "execution_count": 83
        }
      ]
    },
    {
      "cell_type": "code",
      "metadata": {
        "colab": {
          "base_uri": "https://localhost:8080/",
          "height": 111
        },
        "id": "Apb6TRihaZNy",
        "outputId": "24863e9a-281d-4368-dbfe-b086e67ca26e"
      },
      "source": [
        "X_new"
      ],
      "execution_count": null,
      "outputs": [
        {
          "output_type": "execute_result",
          "data": {
            "text/html": [
              "<div>\n",
              "<style scoped>\n",
              "    .dataframe tbody tr th:only-of-type {\n",
              "        vertical-align: middle;\n",
              "    }\n",
              "\n",
              "    .dataframe tbody tr th {\n",
              "        vertical-align: top;\n",
              "    }\n",
              "\n",
              "    .dataframe thead th {\n",
              "        text-align: right;\n",
              "    }\n",
              "</style>\n",
              "<table border=\"1\" class=\"dataframe\">\n",
              "  <thead>\n",
              "    <tr style=\"text-align: right;\">\n",
              "      <th></th>\n",
              "      <th>TV</th>\n",
              "    </tr>\n",
              "  </thead>\n",
              "  <tbody>\n",
              "    <tr>\n",
              "      <th>0</th>\n",
              "      <td>0.7</td>\n",
              "    </tr>\n",
              "    <tr>\n",
              "      <th>1</th>\n",
              "      <td>296.4</td>\n",
              "    </tr>\n",
              "  </tbody>\n",
              "</table>\n",
              "</div>"
            ],
            "text/plain": [
              "      TV\n",
              "0    0.7\n",
              "1  296.4"
            ]
          },
          "metadata": {},
          "execution_count": 84
        }
      ]
    },
    {
      "cell_type": "code",
      "metadata": {
        "id": "1jeIQ3RQdMW6"
      },
      "source": [
        "# print the p-values for the model coefficients\n",
        "#lm.pvalues"
      ],
      "execution_count": null,
      "outputs": []
    },
    {
      "cell_type": "markdown",
      "metadata": {
        "id": "XNctSxi8cznb"
      },
      "source": [
        "## How Well Does the Model Fit the data?\n",
        "\n",
        "The most common way to evaluate the overall fit of a linear model is by the **R-squared** value. R-squared is the **proportion of variance explained**, meaning the proportion of variance in the observed data that is explained by the model, or the reduction in error over the **null model**. (The null model just predicts the mean of the observed response, and thus it has an intercept and no slope.)\n",
        "\n",
        "R-squared is between 0 and 1, and higher is better because it means that more variance is explained by the model. Here's an example of what R-squared \"looks like\":"
      ]
    },
    {
      "cell_type": "markdown",
      "metadata": {
        "id": "ucdjmXGKc3tF"
      },
      "source": [
        "<img src=\"images/08_r_squared.png\">"
      ]
    },
    {
      "cell_type": "markdown",
      "metadata": {
        "id": "bPyeB32Pc7X-"
      },
      "source": [
        "You can see that the **blue line** explains some of the variance in the data (R-squared=0.54), the **green line** explains more of the variance (R-squared=0.64), and the **red line** fits the training data even further (R-squared=0.66). (Does the red line look like it's overfitting?)\n",
        "\n",
        "Let's calculate the R-squared value for our simple linear model:"
      ]
    },
    {
      "cell_type": "code",
      "metadata": {
        "id": "8WUSBp_AczFe"
      },
      "source": [
        "# print the R-squared value for the model\n",
        "#lm.rsquared"
      ],
      "execution_count": null,
      "outputs": []
    },
    {
      "cell_type": "markdown",
      "metadata": {
        "id": "sKIBhn85dBOI"
      },
      "source": [
        "Is that a \"good\" R-squared value? It's hard to say. The threshold for a good R-squared value depends widely on the domain. Therefore, it's most useful as a tool for **comparing different models**."
      ]
    },
    {
      "cell_type": "markdown",
      "metadata": {
        "id": "246jC1XcdWPG"
      },
      "source": [
        "## Multiple Linear Regression\n",
        "\n",
        "Simple linear regression can easily be extended to include multiple features. This is called **multiple linear regression**:\n",
        "\n",
        "$y = \\beta_0 + \\beta_1x_1 + ... + \\beta_nx_n$\n",
        "\n",
        "Each $x$ represents a different feature, and each feature has its own coefficient. In this case:\n",
        "\n",
        "$y = \\beta_0 + \\beta_1 \\times TV + \\beta_2 \\times Radio + \\beta_3 \\times Newspaper$\n",
        "\n",
        "Let's use Statsmodels to estimate these coefficients:"
      ]
    },
    {
      "cell_type": "code",
      "metadata": {
        "colab": {
          "base_uri": "https://localhost:8080/"
        },
        "id": "uyABHTBXbrjG",
        "outputId": "d6c93319-c140-442f-fa1c-1ef521bb3d4e"
      },
      "source": [
        "# create X and y\n",
        "\n",
        "feature_cols=['TV','radio','newspaper']\n",
        "x=data[feature_cols]\n",
        "y=data['sales']\n",
        "\n",
        "lm=LinearRegression()\n",
        "lm.fit(x,y)\n",
        "\n",
        "print(lm.coef_)\n",
        "print(lm.intercept_)"
      ],
      "execution_count": null,
      "outputs": [
        {
          "output_type": "stream",
          "name": "stdout",
          "text": [
            "[ 0.04576465  0.18853002 -0.00103749]\n",
            "2.938889369459412\n"
          ]
        }
      ]
    },
    {
      "cell_type": "markdown",
      "metadata": {
        "id": "csOFLmSo7TAz"
      },
      "source": [
        "## Multiple Linear Regression\n",
        "\n",
        "Simple linear regression can easily be extended to include multiple features. This is called **multiple linear regression**:\n",
        "\n",
        "$y = \\beta_0 + \\beta_1x_1 + ... + \\beta_nx_n$\n",
        "\n",
        "Each $x$ represents a different feature, and each feature has its own coefficient. In this case:\n",
        "\n",
        "$y = \\beta_0 + \\beta_1 \\times TV + \\beta_2 \\times Radio + \\beta_3 \\times Newspaper$\n",
        "\n",
        "Let's use Statsmodels to estimate these coefficients:"
      ]
    },
    {
      "cell_type": "code",
      "metadata": {
        "colab": {
          "base_uri": "https://localhost:8080/"
        },
        "id": "lndtubFtcx7I",
        "outputId": "0f7fba16-9b49-43a5-b020-2f213a3f4d42"
      },
      "source": [
        "# create X and y\n",
        "feature_cols = ['TV', 'radio', 'newspaper']\n",
        "X = data[feature_cols]\n",
        "y = data.sales\n",
        "\n",
        "lm = LinearRegression()\n",
        "lm.fit(X, y)\n",
        "\n",
        "# print intercept and coefficients\n",
        "print(lm.intercept_)\n",
        "print(lm.coef_)"
      ],
      "execution_count": null,
      "outputs": [
        {
          "output_type": "stream",
          "name": "stdout",
          "text": [
            "2.938889369459412\n",
            "[ 0.04576465  0.18853002 -0.00103749]\n"
          ]
        }
      ]
    },
    {
      "cell_type": "markdown",
      "metadata": {
        "id": "EvfDZDDk8ki_"
      },
      "source": [
        "How do we interpret these coefficients? For a given amount of Radio and Newspaper ad spending, an **increase of $1000 in TV ad spending** is associated with an **increase in Sales of 45.765 widgets**.\n",
        "\n",
        "A lot of the information we have been reviewing piece-by-piece is available in the model summary output:"
      ]
    },
    {
      "cell_type": "code",
      "metadata": {
        "id": "yIHrHHlwHMz5"
      },
      "source": [
        "y_pred = lm.predict(X)"
      ],
      "execution_count": null,
      "outputs": []
    },
    {
      "cell_type": "code",
      "metadata": {
        "id": "aF5NG584IH5I"
      },
      "source": [
        "from sklearn import metrics"
      ],
      "execution_count": null,
      "outputs": []
    },
    {
      "cell_type": "code",
      "metadata": {
        "colab": {
          "base_uri": "https://localhost:8080/"
        },
        "id": "-dR321WLGvno",
        "outputId": "aae72ef9-1d28-426a-9020-c1976efc6272"
      },
      "source": [
        "print('y-intercept             : ', lm.intercept_)\n",
        "print('beta coefficients       : ', lm.coef_)\n",
        "print('Mean Abs Error   MAE    : ', metrics.mean_absolute_error(y, y_pred))\n",
        "print('Mean Sq  Error MSE      : ', metrics.mean_squared_error(y, y_pred))\n",
        "print('Root Mean Sq Error RMSE : ', np.sqrt(metrics.mean_squared_error(y, y_pred)))\n",
        "print('r2 value                : ', metrics.r2_score(y, y_pred))\n"
      ],
      "execution_count": null,
      "outputs": [
        {
          "output_type": "stream",
          "name": "stdout",
          "text": [
            "y-intercept             :  2.938889369459412\n",
            "beta coefficients       :  [ 0.04576465  0.18853002 -0.00103749]\n",
            "Mean Abs Error   MAE    :  1.252011229687068\n",
            "Mean Sq  Error MSE      :  2.784126314510936\n",
            "Root Mean Sq Error RMSE :  1.6685701407225697\n",
            "r2 value                :  0.8972106381789522\n"
          ]
        }
      ]
    },
    {
      "cell_type": "code",
      "metadata": {
        "id": "RG_H9-00KvGf"
      },
      "source": [
        "\n",
        "# R-squared is a statistical measure of how close the data are to the fitted regression line.\n",
        "# R-square signifies percentage of variations in the reponse variable that can be explained \n",
        "# by the model.\n",
        "# R-squared = Explained variation / Total variation\n",
        "\n",
        "# Total variation is variation of response variable around it's mean.\n",
        "# R-squared value varies between 0 and 100%. 0% signifies that the model explains none of the \n",
        "# variability, while 100% signifies that the model explains all the variability of the response. \n",
        "# The closer the r-square to 100%, the better is the model."
      ],
      "execution_count": null,
      "outputs": []
    },
    {
      "cell_type": "code",
      "metadata": {
        "id": "pzcdSN72CTKc"
      },
      "source": [
        "import statsmodels.api as sm"
      ],
      "execution_count": null,
      "outputs": []
    },
    {
      "cell_type": "code",
      "metadata": {
        "id": "iG295WzCJzgg"
      },
      "source": [
        "from sklearn.preprocessing import StandardScaler, MinMaxScaler\n",
        "scaler=StandardScaler()"
      ],
      "execution_count": null,
      "outputs": []
    },
    {
      "cell_type": "code",
      "metadata": {
        "id": "RnwD3VSvL6oc"
      },
      "source": [
        "# Reshape the data\n",
        "#X=X.values.reshape(-1,1)\n",
        "y=y.values.reshape(-1,1)"
      ],
      "execution_count": null,
      "outputs": []
    },
    {
      "cell_type": "code",
      "metadata": {
        "colab": {
          "base_uri": "https://localhost:8080/"
        },
        "id": "ooYJeZ3XMGzk",
        "outputId": "1464ae22-936a-4943-e65e-2eb98b765899"
      },
      "source": [
        "y"
      ],
      "execution_count": null,
      "outputs": [
        {
          "output_type": "execute_result",
          "data": {
            "text/plain": [
              "array([[22.1],\n",
              "       [10.4],\n",
              "       [ 9.3],\n",
              "       [18.5],\n",
              "       [12.9],\n",
              "       [ 7.2],\n",
              "       [11.8],\n",
              "       [13.2],\n",
              "       [ 4.8],\n",
              "       [10.6],\n",
              "       [ 8.6],\n",
              "       [17.4],\n",
              "       [ 9.2],\n",
              "       [ 9.7],\n",
              "       [19. ],\n",
              "       [22.4],\n",
              "       [12.5],\n",
              "       [24.4],\n",
              "       [11.3],\n",
              "       [14.6],\n",
              "       [18. ],\n",
              "       [12.5],\n",
              "       [ 5.6],\n",
              "       [15.5],\n",
              "       [ 9.7],\n",
              "       [12. ],\n",
              "       [15. ],\n",
              "       [15.9],\n",
              "       [18.9],\n",
              "       [10.5],\n",
              "       [21.4],\n",
              "       [11.9],\n",
              "       [ 9.6],\n",
              "       [17.4],\n",
              "       [ 9.5],\n",
              "       [12.8],\n",
              "       [25.4],\n",
              "       [14.7],\n",
              "       [10.1],\n",
              "       [21.5],\n",
              "       [16.6],\n",
              "       [17.1],\n",
              "       [20.7],\n",
              "       [12.9],\n",
              "       [ 8.5],\n",
              "       [14.9],\n",
              "       [10.6],\n",
              "       [23.2],\n",
              "       [14.8],\n",
              "       [ 9.7],\n",
              "       [11.4],\n",
              "       [10.7],\n",
              "       [22.6],\n",
              "       [21.2],\n",
              "       [20.2],\n",
              "       [23.7],\n",
              "       [ 5.5],\n",
              "       [13.2],\n",
              "       [23.8],\n",
              "       [18.4],\n",
              "       [ 8.1],\n",
              "       [24.2],\n",
              "       [15.7],\n",
              "       [14. ],\n",
              "       [18. ],\n",
              "       [ 9.3],\n",
              "       [ 9.5],\n",
              "       [13.4],\n",
              "       [18.9],\n",
              "       [22.3],\n",
              "       [18.3],\n",
              "       [12.4],\n",
              "       [ 8.8],\n",
              "       [11. ],\n",
              "       [17. ],\n",
              "       [ 8.7],\n",
              "       [ 6.9],\n",
              "       [14.2],\n",
              "       [ 5.3],\n",
              "       [11. ],\n",
              "       [11.8],\n",
              "       [12.3],\n",
              "       [11.3],\n",
              "       [13.6],\n",
              "       [21.7],\n",
              "       [15.2],\n",
              "       [12. ],\n",
              "       [16. ],\n",
              "       [12.9],\n",
              "       [16.7],\n",
              "       [11.2],\n",
              "       [ 7.3],\n",
              "       [19.4],\n",
              "       [22.2],\n",
              "       [11.5],\n",
              "       [16.9],\n",
              "       [11.7],\n",
              "       [15.5],\n",
              "       [25.4],\n",
              "       [17.2],\n",
              "       [11.7],\n",
              "       [23.8],\n",
              "       [14.8],\n",
              "       [14.7],\n",
              "       [20.7],\n",
              "       [19.2],\n",
              "       [ 7.2],\n",
              "       [ 8.7],\n",
              "       [ 5.3],\n",
              "       [19.8],\n",
              "       [13.4],\n",
              "       [21.8],\n",
              "       [14.1],\n",
              "       [15.9],\n",
              "       [14.6],\n",
              "       [12.6],\n",
              "       [12.2],\n",
              "       [ 9.4],\n",
              "       [15.9],\n",
              "       [ 6.6],\n",
              "       [15.5],\n",
              "       [ 7. ],\n",
              "       [11.6],\n",
              "       [15.2],\n",
              "       [19.7],\n",
              "       [10.6],\n",
              "       [ 6.6],\n",
              "       [ 8.8],\n",
              "       [24.7],\n",
              "       [ 9.7],\n",
              "       [ 1.6],\n",
              "       [12.7],\n",
              "       [ 5.7],\n",
              "       [19.6],\n",
              "       [10.8],\n",
              "       [11.6],\n",
              "       [ 9.5],\n",
              "       [20.8],\n",
              "       [ 9.6],\n",
              "       [20.7],\n",
              "       [10.9],\n",
              "       [19.2],\n",
              "       [20.1],\n",
              "       [10.4],\n",
              "       [11.4],\n",
              "       [10.3],\n",
              "       [13.2],\n",
              "       [25.4],\n",
              "       [10.9],\n",
              "       [10.1],\n",
              "       [16.1],\n",
              "       [11.6],\n",
              "       [16.6],\n",
              "       [19. ],\n",
              "       [15.6],\n",
              "       [ 3.2],\n",
              "       [15.3],\n",
              "       [10.1],\n",
              "       [ 7.3],\n",
              "       [12.9],\n",
              "       [14.4],\n",
              "       [13.3],\n",
              "       [14.9],\n",
              "       [18. ],\n",
              "       [11.9],\n",
              "       [11.9],\n",
              "       [ 8. ],\n",
              "       [12.2],\n",
              "       [17.1],\n",
              "       [15. ],\n",
              "       [ 8.4],\n",
              "       [14.5],\n",
              "       [ 7.6],\n",
              "       [11.7],\n",
              "       [11.5],\n",
              "       [27. ],\n",
              "       [20.2],\n",
              "       [11.7],\n",
              "       [11.8],\n",
              "       [12.6],\n",
              "       [10.5],\n",
              "       [12.2],\n",
              "       [ 8.7],\n",
              "       [26.2],\n",
              "       [17.6],\n",
              "       [22.6],\n",
              "       [10.3],\n",
              "       [17.3],\n",
              "       [15.9],\n",
              "       [ 6.7],\n",
              "       [10.8],\n",
              "       [ 9.9],\n",
              "       [ 5.9],\n",
              "       [19.6],\n",
              "       [17.3],\n",
              "       [ 7.6],\n",
              "       [ 9.7],\n",
              "       [12.8],\n",
              "       [25.5],\n",
              "       [13.4]])"
            ]
          },
          "metadata": {},
          "execution_count": 96
        }
      ]
    },
    {
      "cell_type": "code",
      "metadata": {
        "id": "sRjTTKXlLXlQ"
      },
      "source": [
        "x_scaled=scaler.fit_transform(X)"
      ],
      "execution_count": null,
      "outputs": []
    },
    {
      "cell_type": "code",
      "metadata": {
        "id": "w6fDu_AJLkv4"
      },
      "source": [
        "y_scaled=scaler.fit_transform(y)"
      ],
      "execution_count": null,
      "outputs": []
    },
    {
      "cell_type": "code",
      "metadata": {
        "id": "5dky8UF3LoDm"
      },
      "source": [
        "model=lm.fit(X,y_scaled)"
      ],
      "execution_count": null,
      "outputs": []
    },
    {
      "cell_type": "code",
      "metadata": {
        "colab": {
          "base_uri": "https://localhost:8080/"
        },
        "id": "P80l59RdP4nu",
        "outputId": "2a86981e-7f6b-43a4-adf5-40f354d6b7f8"
      },
      "source": [
        "model"
      ],
      "execution_count": null,
      "outputs": [
        {
          "output_type": "execute_result",
          "data": {
            "text/plain": [
              "LinearRegression(copy_X=True, fit_intercept=True, n_jobs=None, normalize=False)"
            ]
          },
          "metadata": {},
          "execution_count": 100
        }
      ]
    },
    {
      "cell_type": "code",
      "metadata": {
        "colab": {
          "base_uri": "https://localhost:8080/"
        },
        "id": "NUC9TkOJQYu7",
        "outputId": "cc5f33ca-eab4-42f7-cde5-156c5b9996b1"
      },
      "source": [
        "print(model.intercept_)"
      ],
      "execution_count": null,
      "outputs": [
        {
          "output_type": "stream",
          "name": "stdout",
          "text": [
            "[-2.12966296]\n"
          ]
        }
      ]
    },
    {
      "cell_type": "code",
      "metadata": {
        "colab": {
          "base_uri": "https://localhost:8080/"
        },
        "id": "Elqo5UroQduM",
        "outputId": "4d870efc-1692-459e-dd93-9dec20af2a0c"
      },
      "source": [
        "print(model.coef_)"
      ],
      "execution_count": null,
      "outputs": [
        {
          "output_type": "stream",
          "name": "stdout",
          "text": [
            "[[ 0.00879346  0.03622514 -0.00019935]]\n"
          ]
        }
      ]
    },
    {
      "cell_type": "code",
      "metadata": {
        "colab": {
          "base_uri": "https://localhost:8080/"
        },
        "id": "ffLUXs4QQgCv",
        "outputId": "847cf3a8-5e14-4c36-fdb2-8c57fd439a11"
      },
      "source": [
        "preds =model.predict(X)\n",
        "preds"
      ],
      "execution_count": null,
      "outputs": [
        {
          "output_type": "execute_result",
          "data": {
            "text/plain": [
              "array([[ 1.24922732],\n",
              "       [-0.32369654],\n",
              "       [-0.32949626],\n",
              "       [ 0.68698253],\n",
              "       [-0.1602161 ],\n",
              "       [-0.29670152],\n",
              "       [-0.44053907],\n",
              "       [-0.36498887],\n",
              "       [-1.97816576],\n",
              "       [-0.28277078],\n",
              "       [-1.34313377],\n",
              "       [ 0.62689865],\n",
              "       [-0.66201321],\n",
              "       [-0.99842497],\n",
              "       [ 0.8477191 ],\n",
              "       [ 1.30597264],\n",
              "       [-0.23035202],\n",
              "       [ 1.76820829],\n",
              "       [-0.78218827],\n",
              "       [ 0.02758685],\n",
              "       [ 0.78361962],\n",
              "       [ 0.13796762],\n",
              "       [-1.44749724],\n",
              "       [ 0.4848656 ],\n",
              "       [-1.12904177],\n",
              "       [ 0.30503798],\n",
              "       [ 0.18580719],\n",
              "       [ 0.58204124],\n",
              "       [ 1.03528583],\n",
              "       [-0.93737593],\n",
              "       [ 1.46250073],\n",
              "       [-0.51425887],\n",
              "       [-1.22658156],\n",
              "       [ 0.9303227 ],\n",
              "       [-1.23888896],\n",
              "       [ 0.57342405],\n",
              "       [ 1.80297569],\n",
              "       [ 0.30762025],\n",
              "       [-0.79045071],\n",
              "       [ 1.23455434],\n",
              "       [ 0.45253367],\n",
              "       [ 0.6289842 ],\n",
              "       [ 1.45517413],\n",
              "       [-0.011268  ],\n",
              "       [-0.98659277],\n",
              "       [ 0.21885787],\n",
              "       [-0.98937758],\n",
              "       [ 1.47954326],\n",
              "       [ 0.43062056],\n",
              "       [-1.12488245],\n",
              "       [-0.26732949],\n",
              "       [-0.899756  ],\n",
              "       [ 1.27593575],\n",
              "       [ 1.13792242],\n",
              "       [ 1.22049309],\n",
              "       [ 1.39691711],\n",
              "       [-1.05579722],\n",
              "       [-0.23978034],\n",
              "       [ 1.51324978],\n",
              "       [ 0.78990656],\n",
              "       [-1.59102872],\n",
              "       [ 1.703977  ],\n",
              "       [ 0.53065916],\n",
              "       [-0.15598504],\n",
              "       [ 0.56783443],\n",
              "       [-1.1861999 ],\n",
              "       [-0.96196904],\n",
              "       [-0.38150296],\n",
              "       [ 0.95190272],\n",
              "       [ 1.36162038],\n",
              "       [ 0.72188923],\n",
              "       [-0.65244103],\n",
              "       [-0.70241595],\n",
              "       [-0.79154574],\n",
              "       [ 0.63538816],\n",
              "       [-0.41583654],\n",
              "       [-1.83400915],\n",
              "       [-0.04046536],\n",
              "       [-1.00092036],\n",
              "       [-0.83529313],\n",
              "       [-0.49507687],\n",
              "       [ 0.12017549],\n",
              "       [-0.73862396],\n",
              "       [ 0.07673169],\n",
              "       [ 1.29868363],\n",
              "       [ 0.22267863],\n",
              "       [-0.4657202 ],\n",
              "       [ 0.30191488],\n",
              "       [-0.44409164],\n",
              "       [ 0.55717412],\n",
              "       [-0.77305222],\n",
              "       [-1.83041086],\n",
              "       [ 0.98645368],\n",
              "       [ 1.38442059],\n",
              "       [-0.6802664 ],\n",
              "       [ 0.44047779],\n",
              "       [-0.26646371],\n",
              "       [ 0.25258986],\n",
              "       [ 1.93991889],\n",
              "       [ 0.56065101],\n",
              "       [-0.02815726],\n",
              "       [ 1.77157653],\n",
              "       [ 0.695872  ],\n",
              "       [ 0.14213202],\n",
              "       [ 1.20640476],\n",
              "       [ 0.75204005],\n",
              "       [-1.51727059],\n",
              "       [-1.32849167],\n",
              "       [-2.00508194],\n",
              "       [ 1.0895463 ],\n",
              "       [ 0.14168292],\n",
              "       [ 1.36764654],\n",
              "       [-0.02726352],\n",
              "       [ 0.45755088],\n",
              "       [ 0.24644469],\n",
              "       [-0.21189989],\n",
              "       [-0.39269732],\n",
              "       [-1.43181299],\n",
              "       [ 0.29659413],\n",
              "       [-1.38391305],\n",
              "       [ 0.07447665],\n",
              "       [-1.18830752],\n",
              "       [-0.07609776],\n",
              "       [ 0.20372984],\n",
              "       [ 1.04371621],\n",
              "       [-0.94057982],\n",
              "       [-0.66200295],\n",
              "       [-1.4262616 ],\n",
              "       [ 1.5819301 ],\n",
              "       [-1.17946306],\n",
              "       [-0.69072617],\n",
              "       [ 0.29884314],\n",
              "       [-1.07089262],\n",
              "       [ 1.0076909 ],\n",
              "       [-0.41997109],\n",
              "       [-0.0040516 ],\n",
              "       [-0.49362375],\n",
              "       [ 1.31211215],\n",
              "       [-0.81739967],\n",
              "       [ 1.08619246],\n",
              "       [-0.87096726],\n",
              "       [ 0.84092925],\n",
              "       [ 1.00441409],\n",
              "       [-1.01024149],\n",
              "       [-0.75535481],\n",
              "       [-0.8289071 ],\n",
              "       [ 0.24435564],\n",
              "       [ 1.77510704],\n",
              "       [-0.33801048],\n",
              "       [-0.80609324],\n",
              "       [ 0.83481443],\n",
              "       [-0.77107158],\n",
              "       [ 0.44913954],\n",
              "       [ 0.80727924],\n",
              "       [ 0.28420527],\n",
              "       [-1.6745344 ],\n",
              "       [ 0.26176943],\n",
              "       [-0.77015438],\n",
              "       [-0.69908226],\n",
              "       [-0.31191931],\n",
              "       [ 0.03676372],\n",
              "       [-0.08903132],\n",
              "       [ 0.17759639],\n",
              "       [ 0.63967763],\n",
              "       [-0.56763649],\n",
              "       [ 0.03866373],\n",
              "       [-0.61450058],\n",
              "       [-0.12667237],\n",
              "       [ 0.60787889],\n",
              "       [ 0.75302799],\n",
              "       [-1.27344639],\n",
              "       [ 0.06451732],\n",
              "       [-1.23257471],\n",
              "       [-0.39419769],\n",
              "       [-0.05344377],\n",
              "       [ 2.06832246],\n",
              "       [ 1.1445847 ],\n",
              "       [-0.35747729],\n",
              "       [ 0.38208026],\n",
              "       [-0.31472334],\n",
              "       [-0.66007658],\n",
              "       [-0.01813867],\n",
              "       [-1.43490795],\n",
              "       [ 1.94270363],\n",
              "       [ 0.8677319 ],\n",
              "       [ 1.3028428 ],\n",
              "       [-0.83220539],\n",
              "       [ 0.58680044],\n",
              "       [ 0.88805809],\n",
              "       [-1.53156582],\n",
              "       [-0.29462415],\n",
              "       [-1.07572138],\n",
              "       [-1.83619182],\n",
              "       [ 0.85782432],\n",
              "       [ 0.47513682],\n",
              "       [-1.66247083],\n",
              "       [-1.12543069],\n",
              "       [-0.2376028 ],\n",
              "       [ 1.87242101],\n",
              "       [ 0.22110066]])"
            ]
          },
          "metadata": {},
          "execution_count": 103
        }
      ]
    },
    {
      "cell_type": "code",
      "metadata": {
        "colab": {
          "base_uri": "https://localhost:8080/"
        },
        "id": "mgeV3ScQQmGp",
        "outputId": "0563da7d-9eb5-4c54-96d6-ca10202bf628"
      },
      "source": [
        "print('y-intercept             : ', model.intercept_)\n",
        "print('beta coefficients       : ', model.coef_)\n",
        "print('Mean Abs Error   MAE    : ', metrics.mean_absolute_error(y, y_pred))\n",
        "print('Mean Sq  Error MSE      : ', metrics.mean_squared_error(y, y_pred))\n",
        "print('Root Mean Sq Error RMSE : ', np.sqrt(metrics.mean_squared_error(y, y_pred)))\n",
        "print('r2 value                : ', metrics.r2_score(y, y_pred))"
      ],
      "execution_count": null,
      "outputs": [
        {
          "output_type": "stream",
          "name": "stdout",
          "text": [
            "y-intercept             :  [-2.12966296]\n",
            "beta coefficients       :  [[ 0.00879346  0.03622514 -0.00019935]]\n",
            "Mean Abs Error   MAE    :  1.252011229687068\n",
            "Mean Sq  Error MSE      :  2.784126314510936\n",
            "Root Mean Sq Error RMSE :  1.6685701407225697\n",
            "r2 value                :  0.8972106381789522\n"
          ]
        }
      ]
    },
    {
      "cell_type": "code",
      "metadata": {
        "id": "v1lWwi3ey3qd"
      },
      "source": [
        "import statsmodels.formula.api as smf"
      ],
      "execution_count": null,
      "outputs": []
    },
    {
      "cell_type": "code",
      "metadata": {
        "colab": {
          "base_uri": "https://localhost:8080/",
          "height": 486
        },
        "id": "EdVFPraszBDc",
        "outputId": "6c2923b7-89b3-4916-b9d7-e13a66e52143"
      },
      "source": [
        "lm = smf.ols(formula='sales ~ TV + radio + newspaper', data=data).fit()\n",
        "lm.conf_int()\n",
        "lm.summary()"
      ],
      "execution_count": null,
      "outputs": [
        {
          "output_type": "execute_result",
          "data": {
            "text/html": [
              "<table class=\"simpletable\">\n",
              "<caption>OLS Regression Results</caption>\n",
              "<tr>\n",
              "  <th>Dep. Variable:</th>          <td>sales</td>      <th>  R-squared:         </th> <td>   0.897</td>\n",
              "</tr>\n",
              "<tr>\n",
              "  <th>Model:</th>                   <td>OLS</td>       <th>  Adj. R-squared:    </th> <td>   0.896</td>\n",
              "</tr>\n",
              "<tr>\n",
              "  <th>Method:</th>             <td>Least Squares</td>  <th>  F-statistic:       </th> <td>   570.3</td>\n",
              "</tr>\n",
              "<tr>\n",
              "  <th>Date:</th>             <td>Mon, 11 Oct 2021</td> <th>  Prob (F-statistic):</th> <td>1.58e-96</td>\n",
              "</tr>\n",
              "<tr>\n",
              "  <th>Time:</th>                 <td>06:15:07</td>     <th>  Log-Likelihood:    </th> <td> -386.18</td>\n",
              "</tr>\n",
              "<tr>\n",
              "  <th>No. Observations:</th>      <td>   200</td>      <th>  AIC:               </th> <td>   780.4</td>\n",
              "</tr>\n",
              "<tr>\n",
              "  <th>Df Residuals:</th>          <td>   196</td>      <th>  BIC:               </th> <td>   793.6</td>\n",
              "</tr>\n",
              "<tr>\n",
              "  <th>Df Model:</th>              <td>     3</td>      <th>                     </th>     <td> </td>   \n",
              "</tr>\n",
              "<tr>\n",
              "  <th>Covariance Type:</th>      <td>nonrobust</td>    <th>                     </th>     <td> </td>   \n",
              "</tr>\n",
              "</table>\n",
              "<table class=\"simpletable\">\n",
              "<tr>\n",
              "      <td></td>         <th>coef</th>     <th>std err</th>      <th>t</th>      <th>P>|t|</th>  <th>[0.025</th>    <th>0.975]</th>  \n",
              "</tr>\n",
              "<tr>\n",
              "  <th>Intercept</th> <td>    2.9389</td> <td>    0.312</td> <td>    9.422</td> <td> 0.000</td> <td>    2.324</td> <td>    3.554</td>\n",
              "</tr>\n",
              "<tr>\n",
              "  <th>TV</th>        <td>    0.0458</td> <td>    0.001</td> <td>   32.809</td> <td> 0.000</td> <td>    0.043</td> <td>    0.049</td>\n",
              "</tr>\n",
              "<tr>\n",
              "  <th>radio</th>     <td>    0.1885</td> <td>    0.009</td> <td>   21.893</td> <td> 0.000</td> <td>    0.172</td> <td>    0.206</td>\n",
              "</tr>\n",
              "<tr>\n",
              "  <th>newspaper</th> <td>   -0.0010</td> <td>    0.006</td> <td>   -0.177</td> <td> 0.860</td> <td>   -0.013</td> <td>    0.011</td>\n",
              "</tr>\n",
              "</table>\n",
              "<table class=\"simpletable\">\n",
              "<tr>\n",
              "  <th>Omnibus:</th>       <td>60.414</td> <th>  Durbin-Watson:     </th> <td>   2.084</td>\n",
              "</tr>\n",
              "<tr>\n",
              "  <th>Prob(Omnibus):</th> <td> 0.000</td> <th>  Jarque-Bera (JB):  </th> <td> 151.241</td>\n",
              "</tr>\n",
              "<tr>\n",
              "  <th>Skew:</th>          <td>-1.327</td> <th>  Prob(JB):          </th> <td>1.44e-33</td>\n",
              "</tr>\n",
              "<tr>\n",
              "  <th>Kurtosis:</th>      <td> 6.332</td> <th>  Cond. No.          </th> <td>    454.</td>\n",
              "</tr>\n",
              "</table><br/><br/>Warnings:<br/>[1] Standard Errors assume that the covariance matrix of the errors is correctly specified."
            ],
            "text/plain": [
              "<class 'statsmodels.iolib.summary.Summary'>\n",
              "\"\"\"\n",
              "                            OLS Regression Results                            \n",
              "==============================================================================\n",
              "Dep. Variable:                  sales   R-squared:                       0.897\n",
              "Model:                            OLS   Adj. R-squared:                  0.896\n",
              "Method:                 Least Squares   F-statistic:                     570.3\n",
              "Date:                Mon, 11 Oct 2021   Prob (F-statistic):           1.58e-96\n",
              "Time:                        06:15:07   Log-Likelihood:                -386.18\n",
              "No. Observations:                 200   AIC:                             780.4\n",
              "Df Residuals:                     196   BIC:                             793.6\n",
              "Df Model:                           3                                         \n",
              "Covariance Type:            nonrobust                                         \n",
              "==============================================================================\n",
              "                 coef    std err          t      P>|t|      [0.025      0.975]\n",
              "------------------------------------------------------------------------------\n",
              "Intercept      2.9389      0.312      9.422      0.000       2.324       3.554\n",
              "TV             0.0458      0.001     32.809      0.000       0.043       0.049\n",
              "radio          0.1885      0.009     21.893      0.000       0.172       0.206\n",
              "newspaper     -0.0010      0.006     -0.177      0.860      -0.013       0.011\n",
              "==============================================================================\n",
              "Omnibus:                       60.414   Durbin-Watson:                   2.084\n",
              "Prob(Omnibus):                  0.000   Jarque-Bera (JB):              151.241\n",
              "Skew:                          -1.327   Prob(JB):                     1.44e-33\n",
              "Kurtosis:                       6.332   Cond. No.                         454.\n",
              "==============================================================================\n",
              "\n",
              "Warnings:\n",
              "[1] Standard Errors assume that the covariance matrix of the errors is correctly specified.\n",
              "\"\"\""
            ]
          },
          "metadata": {},
          "execution_count": 106
        }
      ]
    },
    {
      "cell_type": "markdown",
      "metadata": {
        "id": "C-jEt2hg3kbp"
      },
      "source": [
        "What are a few key things we learn from this output?\n",
        "\n",
        "- TV and Radio have significant **p-values**, whereas Newspaper does not. Thus we reject the null hypothesis for TV and Radio (that there is no association between those features and Sales), and fail to reject the null hypothesis for Newspaper.\n",
        "- TV and Radio ad spending are both **positively associated** with Sales, whereas Newspaper ad spending is **slightly negatively associated** with Sales. (However, this is irrelevant since we have failed to reject the null hypothesis for Newspaper.)\n",
        "- This model has a higher **R-squared** (0.897) than the previous model, which means that this model provides a better fit to the data than a model that only includes TV.\n",
        "\n",
        "## Feature Selection\n",
        "\n",
        "How do I decide **what features has to be included** in a linear model? Here's one idea:\n",
        "- Try different models, and only keep predictors in the model if they have small p-values.\n",
        "- Check whether the R-squared value goes up when you add new predictors.\n",
        "\n",
        "What are the **drawbacks** in this approach?\n",
        "- Linear models rely upon a lot of **assumptions** (such as the features being independent), and if those assumptions are violated (which they usually are), R-squared and p-values are less reliable.\n",
        "- Using a p-value cutoff of 0.05 means that if you add 100 predictors to a model that are **pure noise**, 5 of them (on average) will still be counted as significant.\n",
        "- R-squared is susceptible to **overfitting**, and thus there is no guarantee that a model with a high R-squared value will generalize. Below is an example:"
      ]
    },
    {
      "cell_type": "code",
      "metadata": {
        "colab": {
          "base_uri": "https://localhost:8080/"
        },
        "id": "B4cBYP4gzAmh",
        "outputId": "f55dd69e-2f6a-434d-ec06-b8ac4534b2af"
      },
      "source": [
        "# only include TV and Radio in the model\n",
        "lm = smf.ols(formula='sales ~ TV + radio', data=data).fit()\n",
        "lm.rsquared"
      ],
      "execution_count": null,
      "outputs": [
        {
          "output_type": "execute_result",
          "data": {
            "text/plain": [
              "0.8971942610828956"
            ]
          },
          "metadata": {},
          "execution_count": 107
        }
      ]
    },
    {
      "cell_type": "code",
      "metadata": {
        "colab": {
          "base_uri": "https://localhost:8080/"
        },
        "id": "uc6i2n7lzAQM",
        "outputId": "3e1519ed-81c8-4fd8-b6a4-62002ff736ba"
      },
      "source": [
        "# add Newspaper to the model (which we believe has no association with Sales)\n",
        "lm = smf.ols(formula='sales ~ TV + radio + newspaper', data=data).fit()\n",
        "lm.rsquared"
      ],
      "execution_count": null,
      "outputs": [
        {
          "output_type": "execute_result",
          "data": {
            "text/plain": [
              "0.8972106381789522"
            ]
          },
          "metadata": {},
          "execution_count": 108
        }
      ]
    },
    {
      "cell_type": "markdown",
      "metadata": {
        "id": "EQ6Oyup_4IuQ"
      },
      "source": [
        "**R-squared will always increase as you add more features to the model**, even if they are unrelated to the response. Thus, selecting the model with the highest R-squared is not a reliable approach for choosing the best linear model.\n",
        "\n",
        "There is alternative to R-squared called **adjusted R-squared** that penalizes model complexity (to control for overfitting), but it generally [under-penalizes complexity](http://scott.fortmann-roe.com/docs/MeasuringError.html).\n",
        "\n",
        "So is there a better approach to feature selection? **Cross-validation.** It provides a more reliable estimate of out-of-sample error, and thus is a better way to choose which of your models will best **generalize** to out-of-sample data. There is extensive functionality for cross-validation in scikit-learn, including automated methods for searching different sets of parameters and different models. Importantly, cross-validation can be applied to any model, whereas the methods described above only apply to linear models.\n",
        "\n",
        "## Handling Categorical Predictors with Two Categories\n",
        "\n",
        "Up until now, all the predictors have been numeric. What if one of the predictors was categorical?\n",
        "\n",
        "Let's create a new feature called **Size**, and randomly assign observations to be **small or large**:"
      ]
    },
    {
      "cell_type": "code",
      "metadata": {
        "colab": {
          "base_uri": "https://localhost:8080/",
          "height": 204
        },
        "id": "obgrkD-my_z5",
        "outputId": "e75778e8-9b03-4703-a25d-59649d152a6a"
      },
      "source": [
        "import numpy as np\n",
        "\n",
        "# set a seed for reproducibility\n",
        "np.random.seed(12345)\n",
        "\n",
        "#create a series of boolean where havlf values are true\n",
        "nums=np.random.rand(len(data))\n",
        "mask_large=nums>0.5\n",
        "\n",
        "#initially set size to small then change it to true\n",
        "data['size']='small'\n",
        "data.loc[mask_large,'size']='large'\n",
        "data.head()"
      ],
      "execution_count": null,
      "outputs": [
        {
          "output_type": "execute_result",
          "data": {
            "text/html": [
              "<div>\n",
              "<style scoped>\n",
              "    .dataframe tbody tr th:only-of-type {\n",
              "        vertical-align: middle;\n",
              "    }\n",
              "\n",
              "    .dataframe tbody tr th {\n",
              "        vertical-align: top;\n",
              "    }\n",
              "\n",
              "    .dataframe thead th {\n",
              "        text-align: right;\n",
              "    }\n",
              "</style>\n",
              "<table border=\"1\" class=\"dataframe\">\n",
              "  <thead>\n",
              "    <tr style=\"text-align: right;\">\n",
              "      <th></th>\n",
              "      <th>TV</th>\n",
              "      <th>radio</th>\n",
              "      <th>newspaper</th>\n",
              "      <th>sales</th>\n",
              "      <th>size</th>\n",
              "    </tr>\n",
              "  </thead>\n",
              "  <tbody>\n",
              "    <tr>\n",
              "      <th>0</th>\n",
              "      <td>230.1</td>\n",
              "      <td>37.8</td>\n",
              "      <td>69.2</td>\n",
              "      <td>22.1</td>\n",
              "      <td>large</td>\n",
              "    </tr>\n",
              "    <tr>\n",
              "      <th>1</th>\n",
              "      <td>44.5</td>\n",
              "      <td>39.3</td>\n",
              "      <td>45.1</td>\n",
              "      <td>10.4</td>\n",
              "      <td>small</td>\n",
              "    </tr>\n",
              "    <tr>\n",
              "      <th>2</th>\n",
              "      <td>17.2</td>\n",
              "      <td>45.9</td>\n",
              "      <td>69.3</td>\n",
              "      <td>9.3</td>\n",
              "      <td>small</td>\n",
              "    </tr>\n",
              "    <tr>\n",
              "      <th>3</th>\n",
              "      <td>151.5</td>\n",
              "      <td>41.3</td>\n",
              "      <td>58.5</td>\n",
              "      <td>18.5</td>\n",
              "      <td>small</td>\n",
              "    </tr>\n",
              "    <tr>\n",
              "      <th>4</th>\n",
              "      <td>180.8</td>\n",
              "      <td>10.8</td>\n",
              "      <td>58.4</td>\n",
              "      <td>12.9</td>\n",
              "      <td>large</td>\n",
              "    </tr>\n",
              "  </tbody>\n",
              "</table>\n",
              "</div>"
            ],
            "text/plain": [
              "      TV  radio  newspaper  sales   size\n",
              "0  230.1   37.8       69.2   22.1  large\n",
              "1   44.5   39.3       45.1   10.4  small\n",
              "2   17.2   45.9       69.3    9.3  small\n",
              "3  151.5   41.3       58.5   18.5  small\n",
              "4  180.8   10.8       58.4   12.9  large"
            ]
          },
          "metadata": {},
          "execution_count": 109
        }
      ]
    },
    {
      "cell_type": "code",
      "metadata": {
        "colab": {
          "base_uri": "https://localhost:8080/"
        },
        "id": "ilLIgnwZy_D0",
        "outputId": "cd714b8a-bf8e-4a1f-94e4-a88668b743ce"
      },
      "source": [
        "mask_large"
      ],
      "execution_count": null,
      "outputs": [
        {
          "output_type": "execute_result",
          "data": {
            "text/plain": [
              "array([ True, False, False, False,  True,  True,  True,  True,  True,\n",
              "        True,  True,  True, False, False, False,  True,  True,  True,\n",
              "        True,  True,  True,  True, False, False, False,  True,  True,\n",
              "        True,  True, False, False,  True,  True, False, False,  True,\n",
              "        True, False,  True,  True,  True,  True,  True, False, False,\n",
              "       False, False, False,  True, False,  True, False,  True,  True,\n",
              "        True, False, False, False,  True,  True, False, False,  True,\n",
              "       False, False,  True,  True,  True,  True,  True,  True, False,\n",
              "       False,  True,  True, False, False,  True, False,  True,  True,\n",
              "        True, False,  True, False, False, False, False,  True, False,\n",
              "        True,  True,  True,  True, False,  True, False,  True,  True,\n",
              "       False, False, False,  True, False, False,  True,  True,  True,\n",
              "        True,  True,  True, False,  True, False, False,  True,  True,\n",
              "        True,  True, False,  True,  True, False,  True,  True,  True,\n",
              "       False, False, False, False, False, False,  True,  True,  True,\n",
              "       False, False,  True,  True, False, False,  True, False, False,\n",
              "       False,  True, False,  True, False, False,  True,  True, False,\n",
              "       False, False,  True,  True,  True, False,  True, False, False,\n",
              "       False, False,  True,  True,  True,  True, False,  True,  True,\n",
              "       False,  True,  True,  True, False,  True,  True,  True, False,\n",
              "       False, False,  True, False, False,  True, False,  True, False,\n",
              "       False,  True,  True, False, False,  True, False, False, False,\n",
              "       False,  True])"
            ]
          },
          "metadata": {},
          "execution_count": 114
        }
      ]
    },
    {
      "cell_type": "markdown",
      "metadata": {
        "id": "XkzxQ53FE7pI"
      },
      "source": [
        "For scikit-learn, we need to represent all data **numerically**. If the feature only has two categories, we can simply create a **dummy variable** that represents the categories as a binary value:\n"
      ]
    },
    {
      "cell_type": "code",
      "metadata": {
        "colab": {
          "base_uri": "https://localhost:8080/",
          "height": 204
        },
        "id": "7P2XnupNy-sq",
        "outputId": "8237fa32-44fb-4b3b-868c-723b48b386eb"
      },
      "source": [
        "data['isLarge']=data['size'].map({'small':0,'large':1})\n",
        "data.head()"
      ],
      "execution_count": null,
      "outputs": [
        {
          "output_type": "execute_result",
          "data": {
            "text/html": [
              "<div>\n",
              "<style scoped>\n",
              "    .dataframe tbody tr th:only-of-type {\n",
              "        vertical-align: middle;\n",
              "    }\n",
              "\n",
              "    .dataframe tbody tr th {\n",
              "        vertical-align: top;\n",
              "    }\n",
              "\n",
              "    .dataframe thead th {\n",
              "        text-align: right;\n",
              "    }\n",
              "</style>\n",
              "<table border=\"1\" class=\"dataframe\">\n",
              "  <thead>\n",
              "    <tr style=\"text-align: right;\">\n",
              "      <th></th>\n",
              "      <th>TV</th>\n",
              "      <th>radio</th>\n",
              "      <th>newspaper</th>\n",
              "      <th>sales</th>\n",
              "      <th>size</th>\n",
              "      <th>isLarge</th>\n",
              "    </tr>\n",
              "  </thead>\n",
              "  <tbody>\n",
              "    <tr>\n",
              "      <th>0</th>\n",
              "      <td>230.1</td>\n",
              "      <td>37.8</td>\n",
              "      <td>69.2</td>\n",
              "      <td>22.1</td>\n",
              "      <td>large</td>\n",
              "      <td>1</td>\n",
              "    </tr>\n",
              "    <tr>\n",
              "      <th>1</th>\n",
              "      <td>44.5</td>\n",
              "      <td>39.3</td>\n",
              "      <td>45.1</td>\n",
              "      <td>10.4</td>\n",
              "      <td>small</td>\n",
              "      <td>0</td>\n",
              "    </tr>\n",
              "    <tr>\n",
              "      <th>2</th>\n",
              "      <td>17.2</td>\n",
              "      <td>45.9</td>\n",
              "      <td>69.3</td>\n",
              "      <td>9.3</td>\n",
              "      <td>small</td>\n",
              "      <td>0</td>\n",
              "    </tr>\n",
              "    <tr>\n",
              "      <th>3</th>\n",
              "      <td>151.5</td>\n",
              "      <td>41.3</td>\n",
              "      <td>58.5</td>\n",
              "      <td>18.5</td>\n",
              "      <td>small</td>\n",
              "      <td>0</td>\n",
              "    </tr>\n",
              "    <tr>\n",
              "      <th>4</th>\n",
              "      <td>180.8</td>\n",
              "      <td>10.8</td>\n",
              "      <td>58.4</td>\n",
              "      <td>12.9</td>\n",
              "      <td>large</td>\n",
              "      <td>1</td>\n",
              "    </tr>\n",
              "  </tbody>\n",
              "</table>\n",
              "</div>"
            ],
            "text/plain": [
              "      TV  radio  newspaper  sales   size  isLarge\n",
              "0  230.1   37.8       69.2   22.1  large        1\n",
              "1   44.5   39.3       45.1   10.4  small        0\n",
              "2   17.2   45.9       69.3    9.3  small        0\n",
              "3  151.5   41.3       58.5   18.5  small        0\n",
              "4  180.8   10.8       58.4   12.9  large        1"
            ]
          },
          "metadata": {},
          "execution_count": 116
        }
      ]
    },
    {
      "cell_type": "markdown",
      "metadata": {
        "id": "PuNXprbgF-BW"
      },
      "source": [
        "Let's redo the multiple linear regression and include the **IsLarge** predictor:"
      ]
    },
    {
      "cell_type": "code",
      "metadata": {
        "colab": {
          "base_uri": "https://localhost:8080/"
        },
        "id": "AWvJ8xoDy-ZZ",
        "outputId": "9af93943-f2c4-4dad-fe5e-ddc8b9a07f17"
      },
      "source": [
        "#create X and Y\n",
        "\n",
        "feature_cols=['TV','newspaper','radio','isLarge']\n",
        "X=data[feature_cols]\n",
        "y=data['sales']\n",
        "\n",
        "#insantiatie,fit\n",
        "lm=LinearRegression()\n",
        "lm.fit(X,y)\n",
        "\n",
        "#print coefficients\n",
        "zip(feature_cols, lm.coef_)"
      ],
      "execution_count": null,
      "outputs": [
        {
          "output_type": "execute_result",
          "data": {
            "text/plain": [
              "<zip at 0x7f0d8e71d050>"
            ]
          },
          "metadata": {},
          "execution_count": 118
        }
      ]
    },
    {
      "cell_type": "markdown",
      "metadata": {
        "id": "YskZxS7ZHhZ-"
      },
      "source": [
        "How do we interpret the **IsLarge coefficient**? For a given amount of TV/Radio/Newspaper ad spending, being a large market is associated with an average **increase** in Sales of 57.42 widgets (as compared to a Small market, which is called the **baseline level**).\n",
        "\n",
        "What if we had reversed the 0/1 coding and created the feature 'IsSmall' instead? The coefficient would be the same, except it would be **negative instead of positive**. As such, your choice of category for the baseline does not matter, all that changes is your **interpretation** of the coefficient.\n",
        "\n",
        "## Handling Categorical Predictors with More than Two Categories\n",
        "\n",
        "Let's create a new feature called **Area**, and randomly assign observations to be **rural, suburban, or urban**:"
      ]
    },
    {
      "cell_type": "code",
      "metadata": {
        "colab": {
          "base_uri": "https://localhost:8080/",
          "height": 204
        },
        "id": "22dWfR_iHhI_",
        "outputId": "5036d450-f957-4d53-bc84-bd4882b68011"
      },
      "source": [
        "# set a seed for reproducibility\n",
        "np.random.seed(123456)\n",
        "\n",
        "# assign roughly one third of observations to each group\n",
        "nums = np.random.rand(len(data))\n",
        "mask_suburban = (nums > 0.33) & (nums < 0.66)\n",
        "mask_urban = nums > 0.66\n",
        "data['Area'] = 'rural'\n",
        "data.loc[mask_suburban, 'Area'] = 'suburban'\n",
        "data.loc[mask_urban, 'Area'] = 'urban'\n",
        "data.head()"
      ],
      "execution_count": null,
      "outputs": [
        {
          "output_type": "execute_result",
          "data": {
            "text/html": [
              "<div>\n",
              "<style scoped>\n",
              "    .dataframe tbody tr th:only-of-type {\n",
              "        vertical-align: middle;\n",
              "    }\n",
              "\n",
              "    .dataframe tbody tr th {\n",
              "        vertical-align: top;\n",
              "    }\n",
              "\n",
              "    .dataframe thead th {\n",
              "        text-align: right;\n",
              "    }\n",
              "</style>\n",
              "<table border=\"1\" class=\"dataframe\">\n",
              "  <thead>\n",
              "    <tr style=\"text-align: right;\">\n",
              "      <th></th>\n",
              "      <th>TV</th>\n",
              "      <th>radio</th>\n",
              "      <th>newspaper</th>\n",
              "      <th>sales</th>\n",
              "      <th>size</th>\n",
              "      <th>isLarge</th>\n",
              "      <th>Area</th>\n",
              "    </tr>\n",
              "  </thead>\n",
              "  <tbody>\n",
              "    <tr>\n",
              "      <th>0</th>\n",
              "      <td>230.1</td>\n",
              "      <td>37.8</td>\n",
              "      <td>69.2</td>\n",
              "      <td>22.1</td>\n",
              "      <td>large</td>\n",
              "      <td>1</td>\n",
              "      <td>rural</td>\n",
              "    </tr>\n",
              "    <tr>\n",
              "      <th>1</th>\n",
              "      <td>44.5</td>\n",
              "      <td>39.3</td>\n",
              "      <td>45.1</td>\n",
              "      <td>10.4</td>\n",
              "      <td>small</td>\n",
              "      <td>0</td>\n",
              "      <td>urban</td>\n",
              "    </tr>\n",
              "    <tr>\n",
              "      <th>2</th>\n",
              "      <td>17.2</td>\n",
              "      <td>45.9</td>\n",
              "      <td>69.3</td>\n",
              "      <td>9.3</td>\n",
              "      <td>small</td>\n",
              "      <td>0</td>\n",
              "      <td>rural</td>\n",
              "    </tr>\n",
              "    <tr>\n",
              "      <th>3</th>\n",
              "      <td>151.5</td>\n",
              "      <td>41.3</td>\n",
              "      <td>58.5</td>\n",
              "      <td>18.5</td>\n",
              "      <td>small</td>\n",
              "      <td>0</td>\n",
              "      <td>urban</td>\n",
              "    </tr>\n",
              "    <tr>\n",
              "      <th>4</th>\n",
              "      <td>180.8</td>\n",
              "      <td>10.8</td>\n",
              "      <td>58.4</td>\n",
              "      <td>12.9</td>\n",
              "      <td>large</td>\n",
              "      <td>1</td>\n",
              "      <td>suburban</td>\n",
              "    </tr>\n",
              "  </tbody>\n",
              "</table>\n",
              "</div>"
            ],
            "text/plain": [
              "      TV  radio  newspaper  sales   size  isLarge      Area\n",
              "0  230.1   37.8       69.2   22.1  large        1     rural\n",
              "1   44.5   39.3       45.1   10.4  small        0     urban\n",
              "2   17.2   45.9       69.3    9.3  small        0     rural\n",
              "3  151.5   41.3       58.5   18.5  small        0     urban\n",
              "4  180.8   10.8       58.4   12.9  large        1  suburban"
            ]
          },
          "metadata": {},
          "execution_count": 119
        }
      ]
    },
    {
      "cell_type": "markdown",
      "metadata": {
        "id": "aIUtfCJzJHUG"
      },
      "source": [
        "We have to represent Area numerically, but we can't simply code it as 0=rural, 1=suburban, 2=urban because that would imply an **ordered relationship** between suburban and urban (and thus urban is somehow \"twice\" the suburban category).\n",
        "\n",
        "Instead, we create **another dummy variable**:"
      ]
    },
    {
      "cell_type": "code",
      "metadata": {
        "colab": {
          "base_uri": "https://localhost:8080/",
          "height": 204
        },
        "id": "MAcjfnyhy95l",
        "outputId": "03b755ff-6a27-4a2b-bbd1-2207547eaf72"
      },
      "source": [
        "# create three dummy variables using get_dummies, then exclude the first dummy column\n",
        "area_dummies = pd.get_dummies(data.Area, prefix='Area').iloc[:, 1:]\n",
        "\n",
        "# concatenate the dummy variable columns onto the original DataFrame (axis=0 means rows, axis=1 means columns)\n",
        "data = pd.concat([data, area_dummies], axis=1)\n",
        "data.head()"
      ],
      "execution_count": null,
      "outputs": [
        {
          "output_type": "execute_result",
          "data": {
            "text/html": [
              "<div>\n",
              "<style scoped>\n",
              "    .dataframe tbody tr th:only-of-type {\n",
              "        vertical-align: middle;\n",
              "    }\n",
              "\n",
              "    .dataframe tbody tr th {\n",
              "        vertical-align: top;\n",
              "    }\n",
              "\n",
              "    .dataframe thead th {\n",
              "        text-align: right;\n",
              "    }\n",
              "</style>\n",
              "<table border=\"1\" class=\"dataframe\">\n",
              "  <thead>\n",
              "    <tr style=\"text-align: right;\">\n",
              "      <th></th>\n",
              "      <th>TV</th>\n",
              "      <th>radio</th>\n",
              "      <th>newspaper</th>\n",
              "      <th>sales</th>\n",
              "      <th>size</th>\n",
              "      <th>isLarge</th>\n",
              "      <th>Area</th>\n",
              "      <th>Area_suburban</th>\n",
              "      <th>Area_urban</th>\n",
              "    </tr>\n",
              "  </thead>\n",
              "  <tbody>\n",
              "    <tr>\n",
              "      <th>0</th>\n",
              "      <td>230.1</td>\n",
              "      <td>37.8</td>\n",
              "      <td>69.2</td>\n",
              "      <td>22.1</td>\n",
              "      <td>large</td>\n",
              "      <td>1</td>\n",
              "      <td>rural</td>\n",
              "      <td>0</td>\n",
              "      <td>0</td>\n",
              "    </tr>\n",
              "    <tr>\n",
              "      <th>1</th>\n",
              "      <td>44.5</td>\n",
              "      <td>39.3</td>\n",
              "      <td>45.1</td>\n",
              "      <td>10.4</td>\n",
              "      <td>small</td>\n",
              "      <td>0</td>\n",
              "      <td>urban</td>\n",
              "      <td>0</td>\n",
              "      <td>1</td>\n",
              "    </tr>\n",
              "    <tr>\n",
              "      <th>2</th>\n",
              "      <td>17.2</td>\n",
              "      <td>45.9</td>\n",
              "      <td>69.3</td>\n",
              "      <td>9.3</td>\n",
              "      <td>small</td>\n",
              "      <td>0</td>\n",
              "      <td>rural</td>\n",
              "      <td>0</td>\n",
              "      <td>0</td>\n",
              "    </tr>\n",
              "    <tr>\n",
              "      <th>3</th>\n",
              "      <td>151.5</td>\n",
              "      <td>41.3</td>\n",
              "      <td>58.5</td>\n",
              "      <td>18.5</td>\n",
              "      <td>small</td>\n",
              "      <td>0</td>\n",
              "      <td>urban</td>\n",
              "      <td>0</td>\n",
              "      <td>1</td>\n",
              "    </tr>\n",
              "    <tr>\n",
              "      <th>4</th>\n",
              "      <td>180.8</td>\n",
              "      <td>10.8</td>\n",
              "      <td>58.4</td>\n",
              "      <td>12.9</td>\n",
              "      <td>large</td>\n",
              "      <td>1</td>\n",
              "      <td>suburban</td>\n",
              "      <td>1</td>\n",
              "      <td>0</td>\n",
              "    </tr>\n",
              "  </tbody>\n",
              "</table>\n",
              "</div>"
            ],
            "text/plain": [
              "      TV  radio  newspaper  sales  ... isLarge      Area Area_suburban  Area_urban\n",
              "0  230.1   37.8       69.2   22.1  ...       1     rural             0           0\n",
              "1   44.5   39.3       45.1   10.4  ...       0     urban             0           1\n",
              "2   17.2   45.9       69.3    9.3  ...       0     rural             0           0\n",
              "3  151.5   41.3       58.5   18.5  ...       0     urban             0           1\n",
              "4  180.8   10.8       58.4   12.9  ...       1  suburban             1           0\n",
              "\n",
              "[5 rows x 9 columns]"
            ]
          },
          "metadata": {},
          "execution_count": 123
        }
      ]
    },
    {
      "cell_type": "markdown",
      "metadata": {
        "id": "aYamRm6MLpA7"
      },
      "source": [
        "Here is how we interpret the coding:\n",
        "- **rural** is coded as Area_suburban=0 and Area_urban=0\n",
        "- **suburban** is coded as Area_suburban=1 and Area_urban=0\n",
        "- **urban** is coded as Area_suburban=0 and Area_urban=1\n",
        "\n",
        "Why do we only need **two dummy variables, not three?** Because two dummies captures all of the information about the Area feature, and implicitly defines rural as the baseline level. (In general, if you have a categorical feature with k levels, you create k-1 dummy variables.)\n",
        "\n",
        "If this is confusing, think about why we only needed one dummy variable for Size (IsLarge), not two dummy variables (IsSmall and IsLarge).\n",
        "\n",
        "Let's include the two new dummy variables in the model:"
      ]
    },
    {
      "cell_type": "code",
      "metadata": {
        "colab": {
          "base_uri": "https://localhost:8080/"
        },
        "id": "jNdBa1bKLvzv",
        "outputId": "8e6d02b5-4f2c-4003-9692-5a7f80c0e3b2"
      },
      "source": [
        "# create X and y\n",
        "feature_cols = ['TV', 'radio', 'newspaper', 'isLarge', 'Area_suburban', 'Area_urban']\n",
        "X = data[feature_cols]\n",
        "y = data.sales\n",
        "\n",
        "# instantiate, fit\n",
        "lm = LinearRegression()\n",
        "lm.fit(X, y)\n",
        "\n",
        "# print coefficients\n",
        "print(feature_cols, lm.coef_)"
      ],
      "execution_count": null,
      "outputs": [
        {
          "output_type": "stream",
          "name": "stdout",
          "text": [
            "['TV', 'radio', 'newspaper', 'isLarge', 'Area_suburban', 'Area_urban'] [ 0.04574401  0.1878667  -0.0010877   0.07739661 -0.10656299  0.26813802]\n"
          ]
        }
      ]
    },
    {
      "cell_type": "markdown",
      "metadata": {
        "id": "VORKjEp-MJcv"
      },
      "source": [
        "How do we interpret the coefficients?\n",
        "- Holding all other variables fixed, being a **suburban** area is associated with an average **decrease** in Sales of 106.56 widgets (as compared to the baseline level, which is rural).\n",
        "- Being an **urban** area is associated with an average **increase** in Sales of 268.13 widgets (as compared to rural).\n",
        "\n",
        "**A final note about dummy encoding:** If you have categories that can be ranked (i.e., strongly disagree, disagree, neutral, agree, strongly agree), you can potentially use a single dummy variable and represent the categories numerically (such as 1, 2, 3, 4, 5)."
      ]
    },
    {
      "cell_type": "markdown",
      "metadata": {
        "id": "FlD9TBeSZg4S"
      },
      "source": [
        "# Chi square Linear reg"
      ]
    },
    {
      "cell_type": "markdown",
      "metadata": {
        "id": "idGrBfTFt3rt"
      },
      "source": [
        "CHI SQUARE TESTS\n",
        "To compare the actual vs expected results\n",
        "The observed and expected frequencies should be >5\n",
        "we use the chisquare function:"
      ]
    },
    {
      "cell_type": "code",
      "metadata": {
        "id": "Qnae_qVTt_-F"
      },
      "source": [
        "die_expected = [100,100,100,100,100,100]\n",
        "die_actual =  [106,150,119,87,101,37]"
      ],
      "execution_count": null,
      "outputs": []
    },
    {
      "cell_type": "markdown",
      "metadata": {
        "id": "Y8HBuAcuuIqB"
      },
      "source": [
        "The chisquare method gives two values:\n",
        "    \n",
        "    1. Chi square statistic\n",
        "    2. p value\n"
      ]
    },
    {
      "cell_type": "code",
      "metadata": {
        "id": "Bgng05hTuDVP"
      },
      "source": [
        "from scipy import stats\n",
        "from scipy.stats import chi2_contingency\n",
        "from scipy.stats import chi2\n",
        "from scipy.stats import chisquare"
      ],
      "execution_count": null,
      "outputs": []
    },
    {
      "cell_type": "code",
      "metadata": {
        "colab": {
          "base_uri": "https://localhost:8080/"
        },
        "id": "G-86UqM_xu4A",
        "outputId": "2e0b4e55-ac36-45f4-903d-0dfd00fa698a"
      },
      "source": [
        "stats.chisquare(die_actual, die_expected)"
      ],
      "execution_count": null,
      "outputs": [
        {
          "output_type": "execute_result",
          "data": {
            "text/plain": [
              "Power_divergenceResult(statistic=70.36, pvalue=8.624026328466518e-14)"
            ]
          },
          "metadata": {},
          "execution_count": 3
        }
      ]
    },
    {
      "cell_type": "code",
      "metadata": {
        "id": "c1NLjPr0SmY3"
      },
      "source": [
        "%matplotlib inline\n",
        "import numpy as np\n",
        "import pandas as pd\n",
        "import matplotlib.pyplot as plt"
      ],
      "execution_count": null,
      "outputs": []
    },
    {
      "cell_type": "code",
      "metadata": {
        "id": "USYth6gRNIWd"
      },
      "source": [
        "voters=pd.read_csv('/content/drive/MyDrive/datasets/Voting_pattern.csv')"
      ],
      "execution_count": null,
      "outputs": []
    },
    {
      "cell_type": "code",
      "metadata": {
        "colab": {
          "base_uri": "https://localhost:8080/",
          "height": 204
        },
        "id": "rla22pB8QHEd",
        "outputId": "d3616482-ffcd-4254-9561-8e022cc4dd9f"
      },
      "source": [
        "voters.head()"
      ],
      "execution_count": null,
      "outputs": [
        {
          "output_type": "execute_result",
          "data": {
            "text/html": [
              "<div>\n",
              "<style scoped>\n",
              "    .dataframe tbody tr th:only-of-type {\n",
              "        vertical-align: middle;\n",
              "    }\n",
              "\n",
              "    .dataframe tbody tr th {\n",
              "        vertical-align: top;\n",
              "    }\n",
              "\n",
              "    .dataframe thead th {\n",
              "        text-align: right;\n",
              "    }\n",
              "</style>\n",
              "<table border=\"1\" class=\"dataframe\">\n",
              "  <thead>\n",
              "    <tr style=\"text-align: right;\">\n",
              "      <th></th>\n",
              "      <th>RACE</th>\n",
              "      <th>PARTY</th>\n",
              "    </tr>\n",
              "  </thead>\n",
              "  <tbody>\n",
              "    <tr>\n",
              "      <th>0</th>\n",
              "      <td>WHITE</td>\n",
              "      <td>REPUBLICAN</td>\n",
              "    </tr>\n",
              "    <tr>\n",
              "      <th>1</th>\n",
              "      <td>WHITE</td>\n",
              "      <td>REPUBLICAN</td>\n",
              "    </tr>\n",
              "    <tr>\n",
              "      <th>2</th>\n",
              "      <td>WHITE</td>\n",
              "      <td>DEMOCRAT</td>\n",
              "    </tr>\n",
              "    <tr>\n",
              "      <th>3</th>\n",
              "      <td>HISPANIC</td>\n",
              "      <td>DEMOCRAT</td>\n",
              "    </tr>\n",
              "    <tr>\n",
              "      <th>4</th>\n",
              "      <td>ASIAN</td>\n",
              "      <td>DEMOCRAT</td>\n",
              "    </tr>\n",
              "  </tbody>\n",
              "</table>\n",
              "</div>"
            ],
            "text/plain": [
              "       RACE       PARTY\n",
              "0     WHITE  REPUBLICAN\n",
              "1     WHITE  REPUBLICAN\n",
              "2     WHITE    DEMOCRAT\n",
              "3  HISPANIC    DEMOCRAT\n",
              "4     ASIAN    DEMOCRAT"
            ]
          },
          "metadata": {},
          "execution_count": 7
        }
      ]
    },
    {
      "cell_type": "code",
      "metadata": {
        "colab": {
          "base_uri": "https://localhost:8080/"
        },
        "id": "6rFCR644YQ_K",
        "outputId": "17564866-d5f1-4004-fdfc-cb74800ca793"
      },
      "source": [
        "voters.shape"
      ],
      "execution_count": null,
      "outputs": [
        {
          "output_type": "execute_result",
          "data": {
            "text/plain": [
              "(1000, 2)"
            ]
          },
          "metadata": {},
          "execution_count": 8
        }
      ]
    },
    {
      "cell_type": "code",
      "metadata": {
        "colab": {
          "base_uri": "https://localhost:8080/",
          "height": 235
        },
        "id": "ypWneoqqQSMT",
        "outputId": "86ba1315-d1cc-4211-d91f-1f37b68747e0"
      },
      "source": [
        "voter_tab=pd.crosstab(voters.RACE,voters.PARTY)\n",
        "voter_tab"
      ],
      "execution_count": null,
      "outputs": [
        {
          "output_type": "execute_result",
          "data": {
            "text/html": [
              "<div>\n",
              "<style scoped>\n",
              "    .dataframe tbody tr th:only-of-type {\n",
              "        vertical-align: middle;\n",
              "    }\n",
              "\n",
              "    .dataframe tbody tr th {\n",
              "        vertical-align: top;\n",
              "    }\n",
              "\n",
              "    .dataframe thead th {\n",
              "        text-align: right;\n",
              "    }\n",
              "</style>\n",
              "<table border=\"1\" class=\"dataframe\">\n",
              "  <thead>\n",
              "    <tr style=\"text-align: right;\">\n",
              "      <th>PARTY</th>\n",
              "      <th>DEMOCRAT</th>\n",
              "      <th>INDEPENDENT</th>\n",
              "      <th>REPUBLICAN</th>\n",
              "    </tr>\n",
              "    <tr>\n",
              "      <th>RACE</th>\n",
              "      <th></th>\n",
              "      <th></th>\n",
              "      <th></th>\n",
              "    </tr>\n",
              "  </thead>\n",
              "  <tbody>\n",
              "    <tr>\n",
              "      <th>ASIAN</th>\n",
              "      <td>19</td>\n",
              "      <td>8</td>\n",
              "      <td>15</td>\n",
              "    </tr>\n",
              "    <tr>\n",
              "      <th>BLACK</th>\n",
              "      <td>60</td>\n",
              "      <td>32</td>\n",
              "      <td>59</td>\n",
              "    </tr>\n",
              "    <tr>\n",
              "      <th>HISPANIC</th>\n",
              "      <td>105</td>\n",
              "      <td>45</td>\n",
              "      <td>86</td>\n",
              "    </tr>\n",
              "    <tr>\n",
              "      <th>OTHER</th>\n",
              "      <td>12</td>\n",
              "      <td>8</td>\n",
              "      <td>17</td>\n",
              "    </tr>\n",
              "    <tr>\n",
              "      <th>WHITE</th>\n",
              "      <td>207</td>\n",
              "      <td>100</td>\n",
              "      <td>227</td>\n",
              "    </tr>\n",
              "  </tbody>\n",
              "</table>\n",
              "</div>"
            ],
            "text/plain": [
              "PARTY     DEMOCRAT  INDEPENDENT  REPUBLICAN\n",
              "RACE                                       \n",
              "ASIAN           19            8          15\n",
              "BLACK           60           32          59\n",
              "HISPANIC       105           45          86\n",
              "OTHER           12            8          17\n",
              "WHITE          207          100         227"
            ]
          },
          "metadata": {},
          "execution_count": 9
        }
      ]
    },
    {
      "cell_type": "code",
      "metadata": {
        "colab": {
          "base_uri": "https://localhost:8080/"
        },
        "id": "zi7Zs-QDRQf-",
        "outputId": "5e3102f5-c864-480f-a257-bce7729a87b7"
      },
      "source": [
        "stats.chi2_contingency(voter_tab)"
      ],
      "execution_count": null,
      "outputs": [
        {
          "output_type": "execute_result",
          "data": {
            "text/plain": [
              "(4.73783947307747, 0.7851934085104636, 8, array([[ 16.926,   8.106,  16.968],\n",
              "        [ 60.853,  29.143,  61.004],\n",
              "        [ 95.108,  45.548,  95.344],\n",
              "        [ 14.911,   7.141,  14.948],\n",
              "        [215.202, 103.062, 215.736]]))"
            ]
          },
          "metadata": {},
          "execution_count": 10
        }
      ]
    },
    {
      "cell_type": "code",
      "metadata": {
        "id": "wcps2VnlSClZ"
      },
      "source": [
        "chi_square , p_value,degrees_of_freedom,expected_frequencies= stats.chi2_contingency(voter_tab)"
      ],
      "execution_count": null,
      "outputs": []
    },
    {
      "cell_type": "code",
      "metadata": {
        "colab": {
          "base_uri": "https://localhost:8080/"
        },
        "id": "MkUGpQsGSXZF",
        "outputId": "6708e9d9-6a69-4cbc-d992-b5ce1a0c5130"
      },
      "source": [
        "chi_square "
      ],
      "execution_count": null,
      "outputs": [
        {
          "output_type": "execute_result",
          "data": {
            "text/plain": [
              "4.73783947307747"
            ]
          },
          "metadata": {},
          "execution_count": 12
        }
      ]
    },
    {
      "cell_type": "code",
      "metadata": {
        "colab": {
          "base_uri": "https://localhost:8080/"
        },
        "id": "lZr-UZcTSdX2",
        "outputId": "6444ab7e-f988-415f-ec9d-d560fd9bde73"
      },
      "source": [
        "p_value"
      ],
      "execution_count": null,
      "outputs": [
        {
          "output_type": "execute_result",
          "data": {
            "text/plain": [
              "0.7851934085104636"
            ]
          },
          "metadata": {},
          "execution_count": 13
        }
      ]
    },
    {
      "cell_type": "code",
      "metadata": {
        "colab": {
          "base_uri": "https://localhost:8080/"
        },
        "id": "2MNd1MZtSgtF",
        "outputId": "2eb2199e-c50c-428d-ca50-675a9ab9ae90"
      },
      "source": [
        "degrees_of_freedom"
      ],
      "execution_count": null,
      "outputs": [
        {
          "output_type": "execute_result",
          "data": {
            "text/plain": [
              "8"
            ]
          },
          "metadata": {},
          "execution_count": 14
        }
      ]
    },
    {
      "cell_type": "code",
      "metadata": {
        "colab": {
          "base_uri": "https://localhost:8080/"
        },
        "id": "i5gSSqjHSlrr",
        "outputId": "c05d28d0-0a3e-4661-afa8-da6403fa3df6"
      },
      "source": [
        "expected_frequencies"
      ],
      "execution_count": null,
      "outputs": [
        {
          "output_type": "execute_result",
          "data": {
            "text/plain": [
              "array([[ 16.926,   8.106,  16.968],\n",
              "       [ 60.853,  29.143,  61.004],\n",
              "       [ 95.108,  45.548,  95.344],\n",
              "       [ 14.911,   7.141,  14.948],\n",
              "       [215.202, 103.062, 215.736]])"
            ]
          },
          "metadata": {},
          "execution_count": 15
        }
      ]
    },
    {
      "cell_type": "markdown",
      "metadata": {
        "id": "7FQQWC81ZDXb"
      },
      "source": [
        "Linear regression\n",
        "\n",
        "Assumptions:\n",
        "1. linearity and additivity of the relationship between dependent and independent variables:\n",
        "2. statistical independence of the errors\n",
        "3. constant variance of the errors\n",
        "4. normality of the error distribution."
      ]
    },
    {
      "cell_type": "code",
      "metadata": {
        "id": "GmnaQOnlZVMh"
      },
      "source": [
        "hsg=pd.read_csv('/content/drive/MyDrive/datasets/Housing_data.csv')"
      ],
      "execution_count": null,
      "outputs": []
    },
    {
      "cell_type": "code",
      "metadata": {
        "colab": {
          "base_uri": "https://localhost:8080/",
          "height": 204
        },
        "id": "LLCP6L79a8IB",
        "outputId": "0676561d-bd9a-4127-f5cd-734aea0cc044"
      },
      "source": [
        "hsg.head()"
      ],
      "execution_count": null,
      "outputs": [
        {
          "output_type": "execute_result",
          "data": {
            "text/html": [
              "<div>\n",
              "<style scoped>\n",
              "    .dataframe tbody tr th:only-of-type {\n",
              "        vertical-align: middle;\n",
              "    }\n",
              "\n",
              "    .dataframe tbody tr th {\n",
              "        vertical-align: top;\n",
              "    }\n",
              "\n",
              "    .dataframe thead th {\n",
              "        text-align: right;\n",
              "    }\n",
              "</style>\n",
              "<table border=\"1\" class=\"dataframe\">\n",
              "  <thead>\n",
              "    <tr style=\"text-align: right;\">\n",
              "      <th></th>\n",
              "      <th>Price</th>\n",
              "      <th>LivingArea</th>\n",
              "      <th>Bathrooms</th>\n",
              "      <th>Bedrooms</th>\n",
              "      <th>LotSize</th>\n",
              "      <th>Age</th>\n",
              "      <th>Fireplace</th>\n",
              "    </tr>\n",
              "  </thead>\n",
              "  <tbody>\n",
              "    <tr>\n",
              "      <th>0</th>\n",
              "      <td>16858</td>\n",
              "      <td>1629</td>\n",
              "      <td>1.0</td>\n",
              "      <td>3</td>\n",
              "      <td>0.76</td>\n",
              "      <td>180</td>\n",
              "      <td>0</td>\n",
              "    </tr>\n",
              "    <tr>\n",
              "      <th>1</th>\n",
              "      <td>26049</td>\n",
              "      <td>1344</td>\n",
              "      <td>2.0</td>\n",
              "      <td>3</td>\n",
              "      <td>0.92</td>\n",
              "      <td>13</td>\n",
              "      <td>0</td>\n",
              "    </tr>\n",
              "    <tr>\n",
              "      <th>2</th>\n",
              "      <td>26130</td>\n",
              "      <td>822</td>\n",
              "      <td>1.0</td>\n",
              "      <td>2</td>\n",
              "      <td>0.56</td>\n",
              "      <td>173</td>\n",
              "      <td>0</td>\n",
              "    </tr>\n",
              "    <tr>\n",
              "      <th>3</th>\n",
              "      <td>31113</td>\n",
              "      <td>1540</td>\n",
              "      <td>1.0</td>\n",
              "      <td>2</td>\n",
              "      <td>0.04</td>\n",
              "      <td>115</td>\n",
              "      <td>0</td>\n",
              "    </tr>\n",
              "    <tr>\n",
              "      <th>4</th>\n",
              "      <td>40932</td>\n",
              "      <td>1320</td>\n",
              "      <td>1.0</td>\n",
              "      <td>3</td>\n",
              "      <td>0.17</td>\n",
              "      <td>90</td>\n",
              "      <td>0</td>\n",
              "    </tr>\n",
              "  </tbody>\n",
              "</table>\n",
              "</div>"
            ],
            "text/plain": [
              "   Price  LivingArea  Bathrooms  Bedrooms  LotSize  Age  Fireplace\n",
              "0  16858        1629        1.0         3     0.76  180          0\n",
              "1  26049        1344        2.0         3     0.92   13          0\n",
              "2  26130         822        1.0         2     0.56  173          0\n",
              "3  31113        1540        1.0         2     0.04  115          0\n",
              "4  40932        1320        1.0         3     0.17   90          0"
            ]
          },
          "metadata": {},
          "execution_count": 17
        }
      ]
    },
    {
      "cell_type": "code",
      "metadata": {
        "colab": {
          "base_uri": "https://localhost:8080/"
        },
        "id": "1yCwL2tKbC3n",
        "outputId": "835ab9d5-2099-45a8-ef5c-25edd8bc9137"
      },
      "source": [
        "hsg.shape"
      ],
      "execution_count": null,
      "outputs": [
        {
          "output_type": "execute_result",
          "data": {
            "text/plain": [
              "(1047, 7)"
            ]
          },
          "metadata": {},
          "execution_count": 18
        }
      ]
    },
    {
      "cell_type": "code",
      "metadata": {
        "colab": {
          "base_uri": "https://localhost:8080/"
        },
        "id": "Jiy6p--8bb57",
        "outputId": "7ed0da2b-58f5-486e-978b-96fe217ae85a"
      },
      "source": [
        "hsg.info()"
      ],
      "execution_count": null,
      "outputs": [
        {
          "output_type": "stream",
          "name": "stdout",
          "text": [
            "<class 'pandas.core.frame.DataFrame'>\n",
            "RangeIndex: 1047 entries, 0 to 1046\n",
            "Data columns (total 7 columns):\n",
            " #   Column      Non-Null Count  Dtype  \n",
            "---  ------      --------------  -----  \n",
            " 0   Price       1047 non-null   int64  \n",
            " 1   LivingArea  1047 non-null   int64  \n",
            " 2   Bathrooms   1047 non-null   float64\n",
            " 3   Bedrooms    1047 non-null   int64  \n",
            " 4   LotSize     1047 non-null   float64\n",
            " 5   Age         1047 non-null   int64  \n",
            " 6   Fireplace   1047 non-null   int64  \n",
            "dtypes: float64(2), int64(5)\n",
            "memory usage: 57.4 KB\n"
          ]
        }
      ]
    },
    {
      "cell_type": "code",
      "metadata": {
        "id": "_2iDT0t2bjDb"
      },
      "source": [
        "lv= hsg['LivingArea']"
      ],
      "execution_count": null,
      "outputs": []
    },
    {
      "cell_type": "code",
      "metadata": {
        "id": "xWIAYdW9bn-x"
      },
      "source": [
        "price=hsg['Price']"
      ],
      "execution_count": null,
      "outputs": []
    },
    {
      "cell_type": "code",
      "metadata": {
        "colab": {
          "base_uri": "https://localhost:8080/",
          "height": 297
        },
        "id": "4ZMa2nJMbwNi",
        "outputId": "2fc8e838-88fa-4899-f66e-d6ea51b1ff6b"
      },
      "source": [
        "plt.scatter(lv,price,c='m')\n",
        "plt.xlabel('Living_Area')\n",
        "plt.ylabel('Price')"
      ],
      "execution_count": null,
      "outputs": [
        {
          "output_type": "execute_result",
          "data": {
            "text/plain": [
              "Text(0, 0.5, 'Price')"
            ]
          },
          "metadata": {},
          "execution_count": 22
        },
        {
          "output_type": "display_data",
          "data": {
            "image/png": "[encoded data removed]",
            "text/plain": [
              "<Figure size 432x288 with 1 Axes>"
            ]
          },
          "metadata": {
            "needs_background": "light"
          }
        }
      ]
    },
    {
      "cell_type": "code",
      "metadata": {
        "colab": {
          "base_uri": "https://localhost:8080/",
          "height": 266
        },
        "id": "b8kMn_0icCvM",
        "outputId": "73f1e369-df52-407d-b752-be4b611e8f01"
      },
      "source": [
        "corr_coef_=hsg.corr()\n",
        "corr_coef_"
      ],
      "execution_count": null,
      "outputs": [
        {
          "output_type": "execute_result",
          "data": {
            "text/html": [
              "<div>\n",
              "<style scoped>\n",
              "    .dataframe tbody tr th:only-of-type {\n",
              "        vertical-align: middle;\n",
              "    }\n",
              "\n",
              "    .dataframe tbody tr th {\n",
              "        vertical-align: top;\n",
              "    }\n",
              "\n",
              "    .dataframe thead th {\n",
              "        text-align: right;\n",
              "    }\n",
              "</style>\n",
              "<table border=\"1\" class=\"dataframe\">\n",
              "  <thead>\n",
              "    <tr style=\"text-align: right;\">\n",
              "      <th></th>\n",
              "      <th>Price</th>\n",
              "      <th>LivingArea</th>\n",
              "      <th>Bathrooms</th>\n",
              "      <th>Bedrooms</th>\n",
              "      <th>LotSize</th>\n",
              "      <th>Age</th>\n",
              "      <th>Fireplace</th>\n",
              "    </tr>\n",
              "  </thead>\n",
              "  <tbody>\n",
              "    <tr>\n",
              "      <th>Price</th>\n",
              "      <td>1.000000</td>\n",
              "      <td>0.776396</td>\n",
              "      <td>0.670189</td>\n",
              "      <td>0.471074</td>\n",
              "      <td>0.155284</td>\n",
              "      <td>-0.363354</td>\n",
              "      <td>0.460237</td>\n",
              "    </tr>\n",
              "    <tr>\n",
              "      <th>LivingArea</th>\n",
              "      <td>0.776396</td>\n",
              "      <td>1.000000</td>\n",
              "      <td>0.722649</td>\n",
              "      <td>0.664347</td>\n",
              "      <td>0.200180</td>\n",
              "      <td>-0.263168</td>\n",
              "      <td>0.481436</td>\n",
              "    </tr>\n",
              "    <tr>\n",
              "      <th>Bathrooms</th>\n",
              "      <td>0.670189</td>\n",
              "      <td>0.722649</td>\n",
              "      <td>1.000000</td>\n",
              "      <td>0.491798</td>\n",
              "      <td>0.100993</td>\n",
              "      <td>-0.443830</td>\n",
              "      <td>0.444700</td>\n",
              "    </tr>\n",
              "    <tr>\n",
              "      <th>Bedrooms</th>\n",
              "      <td>0.471074</td>\n",
              "      <td>0.664347</td>\n",
              "      <td>0.491798</td>\n",
              "      <td>1.000000</td>\n",
              "      <td>0.140682</td>\n",
              "      <td>-0.060598</td>\n",
              "      <td>0.295873</td>\n",
              "    </tr>\n",
              "    <tr>\n",
              "      <th>LotSize</th>\n",
              "      <td>0.155284</td>\n",
              "      <td>0.200180</td>\n",
              "      <td>0.100993</td>\n",
              "      <td>0.140682</td>\n",
              "      <td>1.000000</td>\n",
              "      <td>0.015135</td>\n",
              "      <td>0.052765</td>\n",
              "    </tr>\n",
              "    <tr>\n",
              "      <th>Age</th>\n",
              "      <td>-0.363354</td>\n",
              "      <td>-0.263168</td>\n",
              "      <td>-0.443830</td>\n",
              "      <td>-0.060598</td>\n",
              "      <td>0.015135</td>\n",
              "      <td>1.000000</td>\n",
              "      <td>-0.248794</td>\n",
              "    </tr>\n",
              "    <tr>\n",
              "      <th>Fireplace</th>\n",
              "      <td>0.460237</td>\n",
              "      <td>0.481436</td>\n",
              "      <td>0.444700</td>\n",
              "      <td>0.295873</td>\n",
              "      <td>0.052765</td>\n",
              "      <td>-0.248794</td>\n",
              "      <td>1.000000</td>\n",
              "    </tr>\n",
              "  </tbody>\n",
              "</table>\n",
              "</div>"
            ],
            "text/plain": [
              "               Price  LivingArea  Bathrooms  ...   LotSize       Age  Fireplace\n",
              "Price       1.000000    0.776396   0.670189  ...  0.155284 -0.363354   0.460237\n",
              "LivingArea  0.776396    1.000000   0.722649  ...  0.200180 -0.263168   0.481436\n",
              "Bathrooms   0.670189    0.722649   1.000000  ...  0.100993 -0.443830   0.444700\n",
              "Bedrooms    0.471074    0.664347   0.491798  ...  0.140682 -0.060598   0.295873\n",
              "LotSize     0.155284    0.200180   0.100993  ...  1.000000  0.015135   0.052765\n",
              "Age        -0.363354   -0.263168  -0.443830  ...  0.015135  1.000000  -0.248794\n",
              "Fireplace   0.460237    0.481436   0.444700  ...  0.052765 -0.248794   1.000000\n",
              "\n",
              "[7 rows x 7 columns]"
            ]
          },
          "metadata": {},
          "execution_count": 23
        }
      ]
    },
    {
      "cell_type": "code",
      "metadata": {
        "id": "5wf2cL_0dGyE"
      },
      "source": [
        "import seaborn as sns"
      ],
      "execution_count": null,
      "outputs": []
    },
    {
      "cell_type": "code",
      "metadata": {
        "colab": {
          "base_uri": "https://localhost:8080/",
          "height": 330
        },
        "id": "0PkOj2h1cOJx",
        "outputId": "b90cdce3-275f-4081-e644-bf13f4001062"
      },
      "source": [
        "sns.heatmap(data=corr_coef_,annot=True)"
      ],
      "execution_count": null,
      "outputs": [
        {
          "output_type": "execute_result",
          "data": {
            "text/plain": [
              "<matplotlib.axes._subplots.AxesSubplot at 0x7f31b1927450>"
            ]
          },
          "metadata": {},
          "execution_count": 25
        },
        {
          "output_type": "display_data",
          "data": {
            "image/png": "[encoded data removed]",
            "text/plain": [
              "<Figure size 432x288 with 2 Axes>"
            ]
          },
          "metadata": {
            "needs_background": "light"
          }
        }
      ]
    },
    {
      "cell_type": "code",
      "metadata": {
        "colab": {
          "base_uri": "https://localhost:8080/",
          "height": 386
        },
        "id": "_4wNFWiMcpXZ",
        "outputId": "11561158-7b53-4db6-9e36-ffa87612961e"
      },
      "source": [
        "sns.lmplot(x='LivingArea',y='Price',data=hsg, )"
      ],
      "execution_count": null,
      "outputs": [
        {
          "output_type": "execute_result",
          "data": {
            "text/plain": [
              "<seaborn.axisgrid.FacetGrid at 0x7f31a8fe4990>"
            ]
          },
          "metadata": {},
          "execution_count": 26
        },
        {
          "output_type": "display_data",
          "data": {
            "image/png": "[encoded data removed]",
            "text/plain": [
              "<Figure size 360x360 with 1 Axes>"
            ]
          },
          "metadata": {
            "needs_background": "light"
          }
        }
      ]
    },
    {
      "cell_type": "markdown",
      "metadata": {
        "id": "ORHbmgbePFfE"
      },
      "source": [
        "In order to make a linear regression model , import the module from Scikit learn package"
      ]
    },
    {
      "cell_type": "code",
      "metadata": {
        "id": "gnSVrQatddKo"
      },
      "source": [
        "from sklearn import linear_model"
      ],
      "execution_count": null,
      "outputs": []
    },
    {
      "cell_type": "code",
      "metadata": {
        "id": "HYzx5wRvPJHI"
      },
      "source": [
        "# Initialize model\n",
        "regression_model = linear_model.LinearRegression()"
      ],
      "execution_count": null,
      "outputs": []
    },
    {
      "cell_type": "markdown",
      "metadata": {
        "id": "oGb_dE7sPTQD"
      },
      "source": [
        "regression_model.fit() -> fits a linear model\n",
        "In other words, the first step is for the model to \"Learn \" the data and derive the coefficients.\n",
        "it is called as fitting the model"
      ]
    },
    {
      "cell_type": "code",
      "metadata": {
        "colab": {
          "base_uri": "https://localhost:8080/"
        },
        "id": "0xy6isVNPPGE",
        "outputId": "5bba2bf4-a3d7-4373-d9ad-7b2f03693bbd"
      },
      "source": [
        "# Train the model using the housing data\n",
        "regression_model.fit(X=hsg[['LivingArea']], y=hsg['Price'])"
      ],
      "execution_count": null,
      "outputs": [
        {
          "output_type": "execute_result",
          "data": {
            "text/plain": [
              "LinearRegression(copy_X=True, fit_intercept=True, n_jobs=None, normalize=False)"
            ]
          },
          "metadata": {},
          "execution_count": 30
        }
      ]
    },
    {
      "cell_type": "code",
      "metadata": {
        "colab": {
          "base_uri": "https://localhost:8080/"
        },
        "id": "Q8LjWeJkPxsz",
        "outputId": "c92e2ee0-8abd-4d25-c792-ce6ec00ed313"
      },
      "source": [
        "# Check trained model y-intercept\n",
        "print(regression_model.intercept_)"
      ],
      "execution_count": null,
      "outputs": [
        {
          "output_type": "stream",
          "name": "stdout",
          "text": [
            "15875.636989985855\n"
          ]
        }
      ]
    },
    {
      "cell_type": "code",
      "metadata": {
        "colab": {
          "base_uri": "https://localhost:8080/"
        },
        "id": "0FNWM-_TQA41",
        "outputId": "4f323768-5e1f-49fc-a93d-e91d5fdd096c"
      },
      "source": [
        "# Check trained model coefficients\n",
        "print(regression_model.coef_)"
      ],
      "execution_count": null,
      "outputs": [
        {
          "output_type": "stream",
          "name": "stdout",
          "text": [
            "[81.88251056]\n"
          ]
        }
      ]
    },
    {
      "cell_type": "markdown",
      "metadata": {
        "id": "nFKvQcAGQJ72"
      },
      "source": [
        "### Prediction for a single Independent variable value using coefficients"
      ]
    },
    {
      "cell_type": "code",
      "metadata": {
        "colab": {
          "base_uri": "https://localhost:8080/"
        },
        "id": "z1XbbDF1QGgx",
        "outputId": "21becb10-71fa-4af4-9acc-067ed9a25323"
      },
      "source": [
        "b0=15880\n",
        "b1 = 81.8825\n",
        "\n",
        "price_pred = b0 +(b1* 1629)\n",
        "price_pred"
      ],
      "execution_count": null,
      "outputs": [
        {
          "output_type": "execute_result",
          "data": {
            "text/plain": [
              "149266.5925"
            ]
          },
          "metadata": {},
          "execution_count": 33
        }
      ]
    },
    {
      "cell_type": "markdown",
      "metadata": {
        "id": "kf8q01-HQ93h"
      },
      "source": [
        "### R square\n",
        "\n",
        "R square is a measure of how well your model fits the data\n",
        "\n",
        "Rsquare=1-(SSResiduals/SS Total)\n",
        "\n",
        "We can find the R square using the score method in regression model\n"
      ]
    },
    {
      "cell_type": "markdown",
      "metadata": {
        "id": "o-zF5WcZRDwp"
      },
      "source": [
        "### Linear Regression.score()\n",
        "The output of the score function for linear regression is \"R-squared\".\n",
        "\n",
        "The value that ranges from 0 to 1 which describes the proportion of variance in the response variable that is explained by the model. \n",
        "\n",
        "In this case, Living Area explains roughly 60% of the variance in House prices"
      ]
    },
    {
      "cell_type": "code",
      "metadata": {
        "colab": {
          "base_uri": "https://localhost:8080/"
        },
        "id": "Ybem6lQkRieP",
        "outputId": "c0230525-bbd0-4926-f982-f69eb0056de6"
      },
      "source": [
        "regression_model.score(X = hsg[['LivingArea']],\n",
        "                     y = hsg[\"Price\"])"
      ],
      "execution_count": null,
      "outputs": [
        {
          "output_type": "execute_result",
          "data": {
            "text/plain": [
              "0.6027914477336614"
            ]
          },
          "metadata": {},
          "execution_count": 34
        }
      ]
    },
    {
      "cell_type": "markdown",
      "metadata": {
        "id": "4r7wXb1TRNK_"
      },
      "source": [
        "### Prediction\n",
        "\n",
        "\n",
        "For Predicting the output, we use the predict method over the regression model\n",
        "\n",
        "regression_model.predict :-\n",
        "\n",
        "It predicts Y using the linear model with estimated coefficients"
      ]
    },
    {
      "cell_type": "code",
      "metadata": {
        "colab": {
          "base_uri": "https://localhost:8080/"
        },
        "id": "63I9fL8DRu-V",
        "outputId": "4af5562a-0d90-4717-c83d-92a63800cf7c"
      },
      "source": [
        "train_prediction = regression_model.predict(X = hsg[['LivingArea']])\n",
        "\n",
        "train_prediction"
      ],
      "execution_count": null,
      "outputs": [
        {
          "output_type": "execute_result",
          "data": {
            "text/plain": [
              "array([149262.24668738, 125925.73117862,  83183.06066786, ...,\n",
              "       291082.75497214, 281993.79630031, 299762.30109119])"
            ]
          },
          "metadata": {},
          "execution_count": 35
        }
      ]
    },
    {
      "cell_type": "markdown",
      "metadata": {
        "id": "mPruCpbVR27P"
      },
      "source": [
        "Now that we have created the regression output, let us plot the best fit line"
      ]
    },
    {
      "cell_type": "code",
      "metadata": {
        "colab": {
          "base_uri": "https://localhost:8080/",
          "height": 296
        },
        "id": "4WqNEEXMRwSL",
        "outputId": "37619447-3005-413c-dad2-06e882b285a5"
      },
      "source": [
        "# Having a scatter plot of Living area vs Price\n",
        "\n",
        "hsg.plot(kind=\"scatter\", x=\"LivingArea\", y=\"Price\", figsize=(6,4), color=\"black\")\n",
        "\n",
        "# Plot regression line\n",
        "plt.plot(hsg[\"LivingArea\"],      # Explanitory variable\n",
        "         train_prediction,  # Predicted values\n",
        "         color=\"blue\")"
      ],
      "execution_count": null,
      "outputs": [
        {
          "output_type": "execute_result",
          "data": {
            "text/plain": [
              "[<matplotlib.lines.Line2D at 0x7f31c464d610>]"
            ]
          },
          "metadata": {},
          "execution_count": 37
        },
        {
          "output_type": "display_data",
          "data": {
            "image/png": "[encoded data removed]",
            "text/plain": [
              "<Figure size 432x288 with 1 Axes>"
            ]
          },
          "metadata": {
            "needs_background": "light"
          }
        }
      ]
    },
    {
      "cell_type": "markdown",
      "metadata": {
        "id": "Ms28M3s1RWrA"
      },
      "source": [
        "## Residual calculation\n",
        "We can extract the model's residuals by making a prediction with the model on the \n",
        "data and then subtracting the actual value from each prediction:"
      ]
    },
    {
      "cell_type": "code",
      "metadata": {
        "colab": {
          "base_uri": "https://localhost:8080/"
        },
        "id": "UT1OQLlORvb6",
        "outputId": "7023bba8-b074-4aaa-ba31-8638463e2a47"
      },
      "source": [
        "# Actual - prediction = residuals\n",
        "residuals=hsg['Price']-train_prediction\n",
        "\n",
        "residuals.describe()"
      ],
      "execution_count": null,
      "outputs": [
        {
          "output_type": "execute_result",
          "data": {
            "text/plain": [
              "count    1.047000e+03\n",
              "mean     1.634484e-11\n",
              "std      4.263705e+04\n",
              "min     -2.507283e+05\n",
              "25%     -2.083217e+04\n",
              "50%     -1.748463e+03\n",
              "75%      1.854249e+04\n",
              "max      2.157009e+05\n",
              "Name: Price, dtype: float64"
            ]
          },
          "metadata": {},
          "execution_count": 38
        }
      ]
    },
    {
      "cell_type": "markdown",
      "metadata": {
        "id": "immEiegEUarl"
      },
      "source": [
        "## How to get R squared\n",
        "\n",
        "R-squared =1 - (SSResiduals/SSTotal)\n",
        "\n",
        "were SSResiduals is the sum of the squares of the model residuals \n",
        "SSTotal = the sum of the squares of the difference between each data point and the mean of the data."
      ]
    },
    {
      "cell_type": "code",
      "metadata": {
        "id": "sGtp2asrQ5FR"
      },
      "source": [
        "SSResiduals=(residuals**2).sum()"
      ],
      "execution_count": null,
      "outputs": []
    },
    {
      "cell_type": "code",
      "metadata": {
        "colab": {
          "base_uri": "https://localhost:8080/"
        },
        "id": "4vuhfW0RUvFX",
        "outputId": "395803ff-ad87-434b-a3d0-1a3d344baef7"
      },
      "source": [
        "SSResiduals"
      ],
      "execution_count": null,
      "outputs": [
        {
          "output_type": "execute_result",
          "data": {
            "text/plain": [
              "1901541869645.2004"
            ]
          },
          "metadata": {},
          "execution_count": 41
        }
      ]
    },
    {
      "cell_type": "code",
      "metadata": {
        "id": "7vECJDS-U4kM"
      },
      "source": [
        "SSR=((train_prediction-hsg['Price'].mean())**2).sum()"
      ],
      "execution_count": null,
      "outputs": []
    },
    {
      "cell_type": "code",
      "metadata": {
        "colab": {
          "base_uri": "https://localhost:8080/"
        },
        "id": "IK2B-MkjVEM1",
        "outputId": "7597d90d-af96-4ea0-cd8e-2b3b6ea67577"
      },
      "source": [
        "TSS=SSR+SSResiduals\n",
        "TSS"
      ],
      "execution_count": null,
      "outputs": [
        {
          "output_type": "execute_result",
          "data": {
            "text/plain": [
              "4787263161368.607"
            ]
          },
          "metadata": {},
          "execution_count": 43
        }
      ]
    },
    {
      "cell_type": "code",
      "metadata": {
        "colab": {
          "base_uri": "https://localhost:8080/"
        },
        "id": "6N_qmnkOVGNR",
        "outputId": "28e95123-3047-490f-9c3f-c80e98866ae3"
      },
      "source": [
        "SSR/TSS"
      ],
      "execution_count": null,
      "outputs": [
        {
          "output_type": "execute_result",
          "data": {
            "text/plain": [
              "0.6027914477336613"
            ]
          },
          "metadata": {},
          "execution_count": 44
        }
      ]
    },
    {
      "cell_type": "markdown",
      "metadata": {
        "id": "5ggHeqMRVQUw"
      },
      "source": [
        "## Check the normality of residuals\n",
        "\n",
        "In a well-behaved linear regression model, we'd like the residuals to be roughly normally distributed. \n",
        "\n",
        "we'd like a roughly even spread of error above and below the regression line. \n",
        "\n",
        "We can investigate the normality of residuals with a Q-Q (quantile-quantile) plot.\n",
        "\n",
        "We can Make a qqplot by passing the residuals to the stats.probplot() function in the scipy.stats library:\n",
        "\n",
        "When residuals are normally distributed, they tend to lie along the straight line on the Q-Q plot"
      ]
    },
    {
      "cell_type": "code",
      "metadata": {
        "id": "dewpAHO9VMQu"
      },
      "source": [
        "from scipy import stats"
      ],
      "execution_count": null,
      "outputs": []
    },
    {
      "cell_type": "code",
      "metadata": {
        "colab": {
          "base_uri": "https://localhost:8080/",
          "height": 380
        },
        "id": "f4McJvRiXpSc",
        "outputId": "f2ffac05-997b-4b2e-9a99-7eb15e6ca53e"
      },
      "source": [
        "plt.figure(figsize=(6,4))\n",
        "\n",
        "stats.probplot(residuals, dist=\"norm\", plot=plt)"
      ],
      "execution_count": null,
      "outputs": [
        {
          "output_type": "execute_result",
          "data": {
            "text/plain": [
              "((array([-3.21080761, -2.94660583, -2.79923536, ...,  2.79923536,\n",
              "          2.94660583,  3.21080761]),\n",
              "  array([-250728.25862689, -225856.68416981, -163191.4755784 , ...,\n",
              "          188837.15628366,  201878.1540114 ,  215700.87656822])),\n",
              " (41381.230651304744, 9.830407546770313e-12, 0.9684184189670919))"
            ]
          },
          "metadata": {},
          "execution_count": 47
        },
        {
          "output_type": "display_data",
          "data": {
            "image/png": "[encoded data removed]",
            "text/plain": [
              "<Figure size 432x288 with 1 Axes>"
            ]
          },
          "metadata": {
            "needs_background": "light"
          }
        }
      ]
    },
    {
      "cell_type": "code",
      "metadata": {
        "colab": {
          "base_uri": "https://localhost:8080/"
        },
        "id": "ST-_-tVFX5S-",
        "outputId": "2deb8281-4811-48fe-a457-5a490ce83288"
      },
      "source": [
        "from sklearn.metrics import mean_squared_error\n",
        "\n",
        "RMSE = mean_squared_error(train_prediction,hsg['Price'])**0.5\n",
        "\n",
        "RMSE"
      ],
      "execution_count": null,
      "outputs": [
        {
          "output_type": "execute_result",
          "data": {
            "text/plain": [
              "42616.67920387508"
            ]
          },
          "metadata": {},
          "execution_count": 48
        }
      ]
    },
    {
      "cell_type": "markdown",
      "metadata": {
        "id": "fOjZWpK2Fnar"
      },
      "source": [
        "# Sales_liner_reg"
      ]
    },
    {
      "cell_type": "code",
      "metadata": {
        "id": "AZAYu5nxYFio"
      },
      "source": [
        "# Import libraries\n",
        "import numpy as np\n",
        "import matplotlib.pyplot as plt\n",
        "import pandas as pd"
      ],
      "execution_count": null,
      "outputs": []
    },
    {
      "cell_type": "code",
      "metadata": {
        "id": "alE9uuEREM0N"
      },
      "source": [
        "# imort the dataset of flat prices\n",
        "flatdata = pd.read_csv ('/content/drive/MyDrive/datasets/Price.csv')"
      ],
      "execution_count": null,
      "outputs": []
    },
    {
      "cell_type": "code",
      "metadata": {
        "colab": {
          "base_uri": "https://localhost:8080/",
          "height": 204
        },
        "id": "t3o8ZuZoExkJ",
        "outputId": "8a24aa2f-e810-43b9-eec3-caea3783b0aa"
      },
      "source": [
        "flatdata.head()"
      ],
      "execution_count": null,
      "outputs": [
        {
          "output_type": "execute_result",
          "data": {
            "text/html": [
              "<div>\n",
              "<style scoped>\n",
              "    .dataframe tbody tr th:only-of-type {\n",
              "        vertical-align: middle;\n",
              "    }\n",
              "\n",
              "    .dataframe tbody tr th {\n",
              "        vertical-align: top;\n",
              "    }\n",
              "\n",
              "    .dataframe thead th {\n",
              "        text-align: right;\n",
              "    }\n",
              "</style>\n",
              "<table border=\"1\" class=\"dataframe\">\n",
              "  <thead>\n",
              "    <tr style=\"text-align: right;\">\n",
              "      <th></th>\n",
              "      <th>Area (sqft)</th>\n",
              "      <th>Price ($)</th>\n",
              "    </tr>\n",
              "  </thead>\n",
              "  <tbody>\n",
              "    <tr>\n",
              "      <th>0</th>\n",
              "      <td>2000</td>\n",
              "      <td>88600</td>\n",
              "    </tr>\n",
              "    <tr>\n",
              "      <th>1</th>\n",
              "      <td>1600</td>\n",
              "      <td>71600</td>\n",
              "    </tr>\n",
              "    <tr>\n",
              "      <th>2</th>\n",
              "      <td>1980</td>\n",
              "      <td>93300</td>\n",
              "    </tr>\n",
              "    <tr>\n",
              "      <th>3</th>\n",
              "      <td>1840</td>\n",
              "      <td>84300</td>\n",
              "    </tr>\n",
              "    <tr>\n",
              "      <th>4</th>\n",
              "      <td>1710</td>\n",
              "      <td>80600</td>\n",
              "    </tr>\n",
              "  </tbody>\n",
              "</table>\n",
              "</div>"
            ],
            "text/plain": [
              "   Area (sqft)  Price ($)\n",
              "0         2000      88600\n",
              "1         1600      71600\n",
              "2         1980      93300\n",
              "3         1840      84300\n",
              "4         1710      80600"
            ]
          },
          "metadata": {},
          "execution_count": 4
        }
      ]
    },
    {
      "cell_type": "code",
      "metadata": {
        "id": "wBOLod5FFwvd"
      },
      "source": [
        "x=flatdata.iloc[:,:-1].values\n",
        "y=flatdata.iloc[:,1].values"
      ],
      "execution_count": null,
      "outputs": []
    },
    {
      "cell_type": "code",
      "metadata": {
        "id": "CxWC-7ynGErf"
      },
      "source": [
        "from sklearn.model_selection import train_test_split\n",
        "\n",
        "X_train,X_test,y_train,y_test=train_test_split(x,y, test_size=1/4, random_state=0)"
      ],
      "execution_count": null,
      "outputs": []
    },
    {
      "cell_type": "code",
      "metadata": {
        "id": "TgSLFOLOGwem"
      },
      "source": [
        "from sklearn.linear_model import LinearRegression"
      ],
      "execution_count": null,
      "outputs": []
    },
    {
      "cell_type": "code",
      "metadata": {
        "colab": {
          "base_uri": "https://localhost:8080/"
        },
        "id": "GLf1PIvMG7JJ",
        "outputId": "68ba3f5e-c7d0-4c7e-8602-5d0954ff359b"
      },
      "source": [
        "model=LinearRegression()\n",
        "model.fit(X_train,y_train)"
      ],
      "execution_count": null,
      "outputs": [
        {
          "output_type": "execute_result",
          "data": {
            "text/plain": [
              "LinearRegression(copy_X=True, fit_intercept=True, n_jobs=None, normalize=False)"
            ]
          },
          "metadata": {},
          "execution_count": 8
        }
      ]
    },
    {
      "cell_type": "code",
      "metadata": {
        "id": "lJv5jszvHI7P"
      },
      "source": [
        "predictValues= model.predict(X_test)"
      ],
      "execution_count": null,
      "outputs": []
    },
    {
      "cell_type": "code",
      "metadata": {
        "colab": {
          "base_uri": "https://localhost:8080/",
          "height": 282
        },
        "id": "N3q3-C9uHUCY",
        "outputId": "b77d1087-7f51-4de5-d696-e73ea79dab00"
      },
      "source": [
        "# So now let us visualize the Training set\n",
        "plt.scatter(X_train,y_train,color='green')\n",
        "plt.plot(X_train,model.predict(X_train),color='red')"
      ],
      "execution_count": null,
      "outputs": [
        {
          "output_type": "execute_result",
          "data": {
            "text/plain": [
              "[<matplotlib.lines.Line2D at 0x7ff00289b290>]"
            ]
          },
          "metadata": {},
          "execution_count": 10
        },
        {
          "output_type": "display_data",
          "data": {
            "image/png": "[encoded data removed]",
            "text/plain": [
              "<Figure size 432x288 with 1 Axes>"
            ]
          },
          "metadata": {
            "needs_background": "light"
          }
        }
      ]
    },
    {
      "cell_type": "code",
      "metadata": {
        "colab": {
          "base_uri": "https://localhost:8080/",
          "height": 282
        },
        "id": "6RcDIJhQJDRJ",
        "outputId": "9652d6f3-745d-4145-fc4f-b7d45839e847"
      },
      "source": [
        "plt.scatter(X_test,y_test,color='green')\n",
        "plt.plot(X_test,model.predict(X_test),color='red')"
      ],
      "execution_count": null,
      "outputs": [
        {
          "output_type": "execute_result",
          "data": {
            "text/plain": [
              "[<matplotlib.lines.Line2D at 0x7ff002323950>]"
            ]
          },
          "metadata": {},
          "execution_count": 11
        },
        {
          "output_type": "display_data",
          "data": {
            "image/png": "[encoded data removed]",
            "text/plain": [
              "<Figure size 432x288 with 1 Axes>"
            ]
          },
          "metadata": {
            "needs_background": "light"
          }
        }
      ]
    },
    {
      "cell_type": "markdown",
      "metadata": {
        "id": "O7fux-QRLIje"
      },
      "source": [
        "# Boston Housing"
      ]
    },
    {
      "cell_type": "code",
      "metadata": {
        "id": "otcU82jRJgz0"
      },
      "source": [
        "import numpy as np\n",
        "import pandas as pd\n",
        "from pandas import Series,DataFrame"
      ],
      "execution_count": null,
      "outputs": []
    },
    {
      "cell_type": "code",
      "metadata": {
        "id": "P0f-XMYhjR6Z"
      },
      "source": [
        "import matplotlib.pyplot as plt\n",
        "import seaborn as sns\n",
        "sns.set_style('whitegrid')\n",
        "%matplotlib inline"
      ],
      "execution_count": null,
      "outputs": []
    },
    {
      "cell_type": "code",
      "metadata": {
        "id": "Fs064J3WjVsE"
      },
      "source": [
        "from sklearn.datasets import load_boston"
      ],
      "execution_count": null,
      "outputs": []
    },
    {
      "cell_type": "code",
      "metadata": {
        "id": "CTzjKi17jzmC"
      },
      "source": [
        "boston=load_boston()"
      ],
      "execution_count": null,
      "outputs": []
    },
    {
      "cell_type": "code",
      "metadata": {
        "colab": {
          "base_uri": "https://localhost:8080/"
        },
        "id": "Kg_nY-AEj4vW",
        "outputId": "9116a11b-85ba-43f4-dc6c-0f9aa680c8e1"
      },
      "source": [
        "print(boston.DESCR)"
      ],
      "execution_count": null,
      "outputs": [
        {
          "output_type": "stream",
          "name": "stdout",
          "text": [
            ".. _boston_dataset:\n",
            "\n",
            "Boston house prices dataset\n",
            "---------------------------\n",
            "\n",
            "**Data Set Characteristics:**  \n",
            "\n",
            "    :Number of Instances: 506 \n",
            "\n",
            "    :Number of Attributes: 13 numeric/categorical predictive. Median Value (attribute 14) is usually the target.\n",
            "\n",
            "    :Attribute Information (in order):\n",
            "        - CRIM     per capita crime rate by town\n",
            "        - ZN       proportion of residential land zoned for lots over 25,000 sq.ft.\n",
            "        - INDUS    proportion of non-retail business acres per town\n",
            "        - CHAS     Charles River dummy variable (= 1 if tract bounds river; 0 otherwise)\n",
            "        - NOX      nitric oxides concentration (parts per 10 million)\n",
            "        - RM       average number of rooms per dwelling\n",
            "        - AGE      proportion of owner-occupied units built prior to 1940\n",
            "        - DIS      weighted distances to five Boston employment centres\n",
            "        - RAD      index of accessibility to radial highways\n",
            "        - TAX      full-value property-tax rate per $10,000\n",
            "        - PTRATIO  pupil-teacher ratio by town\n",
            "        - B        1000(Bk - 0.63)^2 where Bk is the proportion of blacks by town\n",
            "        - LSTAT    % lower status of the population\n",
            "        - MEDV     Median value of owner-occupied homes in $1000's\n",
            "\n",
            "    :Missing Attribute Values: None\n",
            "\n",
            "    :Creator: Harrison, D. and Rubinfeld, D.L.\n",
            "\n",
            "This is a copy of UCI ML housing dataset.\n",
            "https://archive.ics.uci.edu/ml/machine-learning-databases/housing/\n",
            "\n",
            "\n",
            "This dataset was taken from the StatLib library which is maintained at Carnegie Mellon University.\n",
            "\n",
            "The Boston house-price data of Harrison, D. and Rubinfeld, D.L. 'Hedonic\n",
            "prices and the demand for clean air', J. Environ. Economics & Management,\n",
            "vol.5, 81-102, 1978.   Used in Belsley, Kuh & Welsch, 'Regression diagnostics\n",
            "...', Wiley, 1980.   N.B. Various transformations are used in the table on\n",
            "pages 244-261 of the latter.\n",
            "\n",
            "The Boston house-price data has been used in many machine learning papers that address regression\n",
            "problems.   \n",
            "     \n",
            ".. topic:: References\n",
            "\n",
            "   - Belsley, Kuh & Welsch, 'Regression diagnostics: Identifying Influential Data and Sources of Collinearity', Wiley, 1980. 244-261.\n",
            "   - Quinlan,R. (1993). Combining Instance-Based and Model-Based Learning. In Proceedings on the Tenth International Conference of Machine Learning, 236-243, University of Massachusetts, Amherst. Morgan Kaufmann.\n",
            "\n"
          ]
        }
      ]
    },
    {
      "cell_type": "code",
      "metadata": {
        "colab": {
          "base_uri": "https://localhost:8080/",
          "height": 296
        },
        "id": "RqUVBwbCj7E2",
        "outputId": "a8d0d287-f427-4092-839b-7f242e5daad5"
      },
      "source": [
        "# Histogram of prices (this is the target of our dataset)\n",
        "plt.hist(boston.target,bins=50)\n",
        "\n",
        "plt.xlabel('price in 1000$')\n",
        "plt.ylabel('No. of houses')"
      ],
      "execution_count": null,
      "outputs": [
        {
          "output_type": "execute_result",
          "data": {
            "text/plain": [
              "Text(0, 0.5, 'No. of houses')"
            ]
          },
          "metadata": {},
          "execution_count": 6
        },
        {
          "output_type": "display_data",
          "data": {
            "image/png": "[encoded data removed]",
            "text/plain": [
              "<Figure size 432x288 with 1 Axes>"
            ]
          },
          "metadata": {
            "needs_background": "light"
          }
        }
      ]
    },
    {
      "cell_type": "code",
      "metadata": {
        "colab": {
          "base_uri": "https://localhost:8080/",
          "height": 296
        },
        "id": "EXkEImqOlBKV",
        "outputId": "4b7cca36-42d6-46b3-b4a1-7d4114581af3"
      },
      "source": [
        "# Plot the column at the 5 index (Labeled RM)\n",
        "plt.scatter(boston.data[:, 5], boston.target)\n",
        "\n",
        "plt.xlabel('no. of rooms')\n",
        "plt.ylabel('pricing')"
      ],
      "execution_count": null,
      "outputs": [
        {
          "output_type": "execute_result",
          "data": {
            "text/plain": [
              "Text(0, 0.5, 'pricing')"
            ]
          },
          "metadata": {},
          "execution_count": 7
        },
        {
          "output_type": "display_data",
          "data": {
            "image/png": "[encoded data removed]",
            "text/plain": [
              "<Figure size 432x288 with 1 Axes>"
            ]
          },
          "metadata": {
            "needs_background": "light"
          }
        }
      ]
    },
    {
      "cell_type": "markdown",
      "metadata": {
        "id": "zUJ0OJcTnBop"
      },
      "source": [
        "Great! Now we can make out a slight trend that price increases along with the number of rooms in that house, which intuitively makes sense! Now let's use scikit learn to see if we can fit the data linearly.\n",
        "\n",
        "Let's try to do the following:\n",
        "\n",
        "    1.) Use pandas to transform the boston dataset into a DataFrame: \n",
        "    \n",
        "    2.) Then use seaborn to perform an lmplot on that DataFrame to reproduce the scatter plot with a linear fit line."
      ]
    },
    {
      "cell_type": "code",
      "metadata": {
        "colab": {
          "base_uri": "https://localhost:8080/",
          "height": 204
        },
        "id": "TfvlyLuJlE2l",
        "outputId": "3397ebc6-e90a-4034-9a43-9cd86635b760"
      },
      "source": [
        "#reset data as pandas DataFrame\n",
        "\n",
        "boston_df=DataFrame(boston.data)\n",
        "\n",
        "#label columns\n",
        "boston_df.columns=boston.feature_names\n",
        "\n",
        "boston_df.head()"
      ],
      "execution_count": null,
      "outputs": [
        {
          "output_type": "execute_result",
          "data": {
            "text/html": [
              "<div>\n",
              "<style scoped>\n",
              "    .dataframe tbody tr th:only-of-type {\n",
              "        vertical-align: middle;\n",
              "    }\n",
              "\n",
              "    .dataframe tbody tr th {\n",
              "        vertical-align: top;\n",
              "    }\n",
              "\n",
              "    .dataframe thead th {\n",
              "        text-align: right;\n",
              "    }\n",
              "</style>\n",
              "<table border=\"1\" class=\"dataframe\">\n",
              "  <thead>\n",
              "    <tr style=\"text-align: right;\">\n",
              "      <th></th>\n",
              "      <th>CRIM</th>\n",
              "      <th>ZN</th>\n",
              "      <th>INDUS</th>\n",
              "      <th>CHAS</th>\n",
              "      <th>NOX</th>\n",
              "      <th>RM</th>\n",
              "      <th>AGE</th>\n",
              "      <th>DIS</th>\n",
              "      <th>RAD</th>\n",
              "      <th>TAX</th>\n",
              "      <th>PTRATIO</th>\n",
              "      <th>B</th>\n",
              "      <th>LSTAT</th>\n",
              "    </tr>\n",
              "  </thead>\n",
              "  <tbody>\n",
              "    <tr>\n",
              "      <th>0</th>\n",
              "      <td>0.00632</td>\n",
              "      <td>18.0</td>\n",
              "      <td>2.31</td>\n",
              "      <td>0.0</td>\n",
              "      <td>0.538</td>\n",
              "      <td>6.575</td>\n",
              "      <td>65.2</td>\n",
              "      <td>4.0900</td>\n",
              "      <td>1.0</td>\n",
              "      <td>296.0</td>\n",
              "      <td>15.3</td>\n",
              "      <td>396.90</td>\n",
              "      <td>4.98</td>\n",
              "    </tr>\n",
              "    <tr>\n",
              "      <th>1</th>\n",
              "      <td>0.02731</td>\n",
              "      <td>0.0</td>\n",
              "      <td>7.07</td>\n",
              "      <td>0.0</td>\n",
              "      <td>0.469</td>\n",
              "      <td>6.421</td>\n",
              "      <td>78.9</td>\n",
              "      <td>4.9671</td>\n",
              "      <td>2.0</td>\n",
              "      <td>242.0</td>\n",
              "      <td>17.8</td>\n",
              "      <td>396.90</td>\n",
              "      <td>9.14</td>\n",
              "    </tr>\n",
              "    <tr>\n",
              "      <th>2</th>\n",
              "      <td>0.02729</td>\n",
              "      <td>0.0</td>\n",
              "      <td>7.07</td>\n",
              "      <td>0.0</td>\n",
              "      <td>0.469</td>\n",
              "      <td>7.185</td>\n",
              "      <td>61.1</td>\n",
              "      <td>4.9671</td>\n",
              "      <td>2.0</td>\n",
              "      <td>242.0</td>\n",
              "      <td>17.8</td>\n",
              "      <td>392.83</td>\n",
              "      <td>4.03</td>\n",
              "    </tr>\n",
              "    <tr>\n",
              "      <th>3</th>\n",
              "      <td>0.03237</td>\n",
              "      <td>0.0</td>\n",
              "      <td>2.18</td>\n",
              "      <td>0.0</td>\n",
              "      <td>0.458</td>\n",
              "      <td>6.998</td>\n",
              "      <td>45.8</td>\n",
              "      <td>6.0622</td>\n",
              "      <td>3.0</td>\n",
              "      <td>222.0</td>\n",
              "      <td>18.7</td>\n",
              "      <td>394.63</td>\n",
              "      <td>2.94</td>\n",
              "    </tr>\n",
              "    <tr>\n",
              "      <th>4</th>\n",
              "      <td>0.06905</td>\n",
              "      <td>0.0</td>\n",
              "      <td>2.18</td>\n",
              "      <td>0.0</td>\n",
              "      <td>0.458</td>\n",
              "      <td>7.147</td>\n",
              "      <td>54.2</td>\n",
              "      <td>6.0622</td>\n",
              "      <td>3.0</td>\n",
              "      <td>222.0</td>\n",
              "      <td>18.7</td>\n",
              "      <td>396.90</td>\n",
              "      <td>5.33</td>\n",
              "    </tr>\n",
              "  </tbody>\n",
              "</table>\n",
              "</div>"
            ],
            "text/plain": [
              "      CRIM    ZN  INDUS  CHAS    NOX  ...  RAD    TAX  PTRATIO       B  LSTAT\n",
              "0  0.00632  18.0   2.31   0.0  0.538  ...  1.0  296.0     15.3  396.90   4.98\n",
              "1  0.02731   0.0   7.07   0.0  0.469  ...  2.0  242.0     17.8  396.90   9.14\n",
              "2  0.02729   0.0   7.07   0.0  0.469  ...  2.0  242.0     17.8  392.83   4.03\n",
              "3  0.03237   0.0   2.18   0.0  0.458  ...  3.0  222.0     18.7  394.63   2.94\n",
              "4  0.06905   0.0   2.18   0.0  0.458  ...  3.0  222.0     18.7  396.90   5.33\n",
              "\n",
              "[5 rows x 13 columns]"
            ]
          },
          "metadata": {},
          "execution_count": 8
        }
      ]
    },
    {
      "cell_type": "markdown",
      "metadata": {
        "id": "S_4VyHOWn4vz"
      },
      "source": [
        "Now let's add the target of the boston data set, the price. We'll create a new column in our DataFrame."
      ]
    },
    {
      "cell_type": "code",
      "metadata": {
        "id": "Ogp-3RlSnnvA"
      },
      "source": [
        "# Set price column for target\n",
        "boston_df['Price']=boston.target"
      ],
      "execution_count": null,
      "outputs": []
    },
    {
      "cell_type": "code",
      "metadata": {
        "colab": {
          "base_uri": "https://localhost:8080/",
          "height": 204
        },
        "id": "u8nbMiQvoBd0",
        "outputId": "776cab09-94d0-4758-9a7e-f740e26bf94d"
      },
      "source": [
        "boston_df.head()"
      ],
      "execution_count": null,
      "outputs": [
        {
          "output_type": "execute_result",
          "data": {
            "text/html": [
              "<div>\n",
              "<style scoped>\n",
              "    .dataframe tbody tr th:only-of-type {\n",
              "        vertical-align: middle;\n",
              "    }\n",
              "\n",
              "    .dataframe tbody tr th {\n",
              "        vertical-align: top;\n",
              "    }\n",
              "\n",
              "    .dataframe thead th {\n",
              "        text-align: right;\n",
              "    }\n",
              "</style>\n",
              "<table border=\"1\" class=\"dataframe\">\n",
              "  <thead>\n",
              "    <tr style=\"text-align: right;\">\n",
              "      <th></th>\n",
              "      <th>CRIM</th>\n",
              "      <th>ZN</th>\n",
              "      <th>INDUS</th>\n",
              "      <th>CHAS</th>\n",
              "      <th>NOX</th>\n",
              "      <th>RM</th>\n",
              "      <th>AGE</th>\n",
              "      <th>DIS</th>\n",
              "      <th>RAD</th>\n",
              "      <th>TAX</th>\n",
              "      <th>PTRATIO</th>\n",
              "      <th>B</th>\n",
              "      <th>LSTAT</th>\n",
              "      <th>Price</th>\n",
              "    </tr>\n",
              "  </thead>\n",
              "  <tbody>\n",
              "    <tr>\n",
              "      <th>0</th>\n",
              "      <td>0.00632</td>\n",
              "      <td>18.0</td>\n",
              "      <td>2.31</td>\n",
              "      <td>0.0</td>\n",
              "      <td>0.538</td>\n",
              "      <td>6.575</td>\n",
              "      <td>65.2</td>\n",
              "      <td>4.0900</td>\n",
              "      <td>1.0</td>\n",
              "      <td>296.0</td>\n",
              "      <td>15.3</td>\n",
              "      <td>396.90</td>\n",
              "      <td>4.98</td>\n",
              "      <td>24.0</td>\n",
              "    </tr>\n",
              "    <tr>\n",
              "      <th>1</th>\n",
              "      <td>0.02731</td>\n",
              "      <td>0.0</td>\n",
              "      <td>7.07</td>\n",
              "      <td>0.0</td>\n",
              "      <td>0.469</td>\n",
              "      <td>6.421</td>\n",
              "      <td>78.9</td>\n",
              "      <td>4.9671</td>\n",
              "      <td>2.0</td>\n",
              "      <td>242.0</td>\n",
              "      <td>17.8</td>\n",
              "      <td>396.90</td>\n",
              "      <td>9.14</td>\n",
              "      <td>21.6</td>\n",
              "    </tr>\n",
              "    <tr>\n",
              "      <th>2</th>\n",
              "      <td>0.02729</td>\n",
              "      <td>0.0</td>\n",
              "      <td>7.07</td>\n",
              "      <td>0.0</td>\n",
              "      <td>0.469</td>\n",
              "      <td>7.185</td>\n",
              "      <td>61.1</td>\n",
              "      <td>4.9671</td>\n",
              "      <td>2.0</td>\n",
              "      <td>242.0</td>\n",
              "      <td>17.8</td>\n",
              "      <td>392.83</td>\n",
              "      <td>4.03</td>\n",
              "      <td>34.7</td>\n",
              "    </tr>\n",
              "    <tr>\n",
              "      <th>3</th>\n",
              "      <td>0.03237</td>\n",
              "      <td>0.0</td>\n",
              "      <td>2.18</td>\n",
              "      <td>0.0</td>\n",
              "      <td>0.458</td>\n",
              "      <td>6.998</td>\n",
              "      <td>45.8</td>\n",
              "      <td>6.0622</td>\n",
              "      <td>3.0</td>\n",
              "      <td>222.0</td>\n",
              "      <td>18.7</td>\n",
              "      <td>394.63</td>\n",
              "      <td>2.94</td>\n",
              "      <td>33.4</td>\n",
              "    </tr>\n",
              "    <tr>\n",
              "      <th>4</th>\n",
              "      <td>0.06905</td>\n",
              "      <td>0.0</td>\n",
              "      <td>2.18</td>\n",
              "      <td>0.0</td>\n",
              "      <td>0.458</td>\n",
              "      <td>7.147</td>\n",
              "      <td>54.2</td>\n",
              "      <td>6.0622</td>\n",
              "      <td>3.0</td>\n",
              "      <td>222.0</td>\n",
              "      <td>18.7</td>\n",
              "      <td>396.90</td>\n",
              "      <td>5.33</td>\n",
              "      <td>36.2</td>\n",
              "    </tr>\n",
              "  </tbody>\n",
              "</table>\n",
              "</div>"
            ],
            "text/plain": [
              "      CRIM    ZN  INDUS  CHAS    NOX  ...    TAX  PTRATIO       B  LSTAT  Price\n",
              "0  0.00632  18.0   2.31   0.0  0.538  ...  296.0     15.3  396.90   4.98   24.0\n",
              "1  0.02731   0.0   7.07   0.0  0.469  ...  242.0     17.8  396.90   9.14   21.6\n",
              "2  0.02729   0.0   7.07   0.0  0.469  ...  242.0     17.8  392.83   4.03   34.7\n",
              "3  0.03237   0.0   2.18   0.0  0.458  ...  222.0     18.7  394.63   2.94   33.4\n",
              "4  0.06905   0.0   2.18   0.0  0.458  ...  222.0     18.7  396.90   5.33   36.2\n",
              "\n",
              "[5 rows x 14 columns]"
            ]
          },
          "metadata": {},
          "execution_count": 10
        }
      ]
    },
    {
      "cell_type": "code",
      "metadata": {
        "colab": {
          "base_uri": "https://localhost:8080/",
          "height": 440
        },
        "id": "I7wBz2HboF-a",
        "outputId": "d8066150-f0c1-4a5d-cf1b-25c1b0cb6d16"
      },
      "source": [
        "# Using seabron to create a linear fit\n",
        "sns.lmplot('RM','Price',data=boston_df)"
      ],
      "execution_count": null,
      "outputs": [
        {
          "output_type": "stream",
          "name": "stderr",
          "text": [
            "/usr/local/lib/python3.7/dist-packages/seaborn/_decorators.py:43: FutureWarning: Pass the following variables as keyword args: x, y. From version 0.12, the only valid positional argument will be `data`, and passing other arguments without an explicit keyword will result in an error or misinterpretation.\n",
            "  FutureWarning\n"
          ]
        },
        {
          "output_type": "execute_result",
          "data": {
            "text/plain": [
              "<seaborn.axisgrid.FacetGrid at 0x7f7776d90690>"
            ]
          },
          "metadata": {},
          "execution_count": 11
        },
        {
          "output_type": "display_data",
          "data": {
            "image/png": "[encoded data removed]",
            "text/plain": [
              "<Figure size 360x360 with 1 Axes>"
            ]
          },
          "metadata": {
            "needs_background": "light"
          }
        }
      ]
    },
    {
      "cell_type": "markdown",
      "metadata": {
        "id": "JKlwl8KyopMP"
      },
      "source": [
        "### Step 3: The mathematics behind the Least Squares Method.\n",
        "\n",
        "In this particular lecture we'll use the least squares method as the way to estimate the coefficients. Here's a quick breakdown of how this method works mathematically:\n",
        "\n",
        "Take a quick look at the plot we created above using seaborn. Now consider each point, and know that they each have a coordinate in the form (X,Y). Now draw an imaginary line between each point and our current \"best-fit\" line. We'll call the distanace between each point and our current best-fit line, D. To get a quick image of what we're currently trying to visualize, take a look at the picture below:"
      ]
    },
    {
      "cell_type": "code",
      "metadata": {
        "colab": {
          "base_uri": "https://localhost:8080/",
          "height": 233
        },
        "id": "tGshK7KTohDO",
        "outputId": "e0f433ba-9716-47ad-8d2f-6c587dc0e518"
      },
      "source": [
        "# Quick display of image form wikipedia\n",
        "from IPython.display import Image\n",
        "url = 'http://upload.wikimedia.org/wikipedia/commons/thumb/b/b0/Linear_least_squares_example2.svg/220px-Linear_least_squares_example2.svg.png'\n",
        "Image(url)"
      ],
      "execution_count": null,
      "outputs": [
        {
          "output_type": "execute_result",
          "data": {
            "image/png": "[encoded data removed]",
            "text/plain": [
              "<IPython.core.display.Image object>"
            ]
          },
          "metadata": {},
          "execution_count": 12
        }
      ]
    },
    {
      "cell_type": "markdown",
      "metadata": {
        "id": "LYeLbgvlxMDy"
      },
      "source": [
        "Now as before, we're labeling each green line as having a distance D, and each red point as having a coordinate of (X,Y). Then we can define our best fit line as the line having the property were:\n",
        "$$ D_{1}^2 + D_{2}^2 + D_{3}^2 + D_{4}^2 + ....+ D_{N}^2$$\n",
        "\n",
        "So how do we find this line? The least-square line approximating the set of points:\n",
        "\n",
        "$$ (X,Y)_{1},(X,Y)_{2},(X,Y)_{3},(X,Y)_{4},(X,Y)_{5}, $$\n",
        "\n",
        "has the equation:\n",
        "$$ Y = a_{0} +a_{1}X $$\n",
        "this is basically just a rewritten form of the standard equation for a line:\n",
        "$$Y=mx+b$$\n",
        "\n",
        "We can solve for these constants a0 and a1 by simultaneously solving these equations:\n",
        "$$ \\Sigma Y = a_{0}N + a_{1}\\Sigma X $$\n",
        "$$ \\Sigma XY = a_{0}\\Sigma X + a_{1}\\Sigma X^2 $$\n",
        "\n",
        "These are called the normal equations for the least squares line. There are further steps that can be taken in rearranging these equations  to solve for y, but we'll let scikit-learn do the rest of the heavy lifting here. If you want further informatino on the mathematics of the above formulas, check out this great [video](https://www.youtube.com/watch?v=Qa2APhWjQPc).\n",
        "\n",
        "For now, we'll use numpy to do a simple single variable linear regression. Afterwards we'll unleash the power of scikit learn to do a full multivariate linear regression."
      ]
    },
    {
      "cell_type": "markdown",
      "metadata": {
        "id": "rfENoXatxcUk"
      },
      "source": [
        "### Step 4: Using Numpy for a Univariate Linear Regression\n",
        "\n",
        "Numpy has a built in Least Square Method in its linear algebra library. We'll use this first for our Univariate regression and then move on to scikit learn for out Multi variate regression.\n",
        "\n",
        "We will start by setting up the X and Y arrays for numpy to take in. An important note for the X array: Numpy expects a two-dimensional array, the first dimension is the different example values, and the second dimension is the attribute number. In this case we have our value as the mean number of rooms per house, and this is a single attribute so the second dimension of the array is just 1. So we'll need to create a (506,1) shape array. There are a few ways to do this, but an easy way to do this is by using numpy's built-in vertical stack tool, vstack."
      ]
    },
    {
      "cell_type": "code",
      "metadata": {
        "id": "LndE4Mtao1Tg"
      },
      "source": [
        "# Set up X as median room values\n",
        "X = boston_df.RM\n",
        "\n",
        "# Use v to make X two-dimensional\n",
        "X = np.vstack(boston_df.RM)\n",
        "\n",
        "# Set up Y as the target price of the houses.\n",
        "Y= boston_df.Price"
      ],
      "execution_count": null,
      "outputs": []
    },
    {
      "cell_type": "markdown",
      "metadata": {
        "id": "JLIZ6SNqy4Kr"
      },
      "source": [
        "Now that we have our X and Y, let's go ahead and use numpy to create the single variable linear regression.\n",
        "\n",
        "We know that a line has the equation:\n",
        "$$y=mx+b$$\n",
        "which we can rewrite using matrices:\n",
        "$$y=Ap$$\n",
        "where:\n",
        "$$A = \\begin{bmatrix}x & 1\\end{bmatrix}$$\n",
        "and\n",
        "$$p= \\begin{bmatrix}m \\\\b\\end{bmatrix}$$\n",
        "\n",
        "This is the same as the first equation if you carry out the linear algebra. \n",
        "So we'll start by creating the A matrix using numpy. We'll do this by creating a matrix in the form [X 1], so we'll call every value in our original X using a list comprehension and then set up an array in the form [X 1]"
      ]
    },
    {
      "cell_type": "code",
      "metadata": {
        "colab": {
          "base_uri": "https://localhost:8080/"
        },
        "id": "7L1mMj13yejr",
        "outputId": "76735599-361e-476c-cfaf-03254f5e8442"
      },
      "source": [
        "# Create the X array in the form [X 1]\n",
        "X = np.array([[value,float(1)] for value in X ]) "
      ],
      "execution_count": null,
      "outputs": [
        {
          "output_type": "stream",
          "name": "stderr",
          "text": [
            "/usr/local/lib/python3.7/dist-packages/ipykernel_launcher.py:2: VisibleDeprecationWarning: Creating an ndarray from ragged nested sequences (which is a list-or-tuple of lists-or-tuples-or ndarrays with different lengths or shapes) is deprecated. If you meant to do this, you must specify 'dtype=object' when creating the ndarray\n",
            "  \n"
          ]
        }
      ]
    },
    {
      "cell_type": "code",
      "metadata": {
        "id": "DiatGf0esBGt"
      },
      "source": [
        "X = X.astype(np.float64)"
      ],
      "execution_count": null,
      "outputs": []
    },
    {
      "cell_type": "code",
      "metadata": {
        "id": "nmhyCl8sfOCF"
      },
      "source": [
        "# Now get out m and b values for our best fit line\n",
        "m, b = np.linalg.lstsq(X, Y, rcond=None)[0]"
      ],
      "execution_count": null,
      "outputs": []
    },
    {
      "cell_type": "code",
      "metadata": {
        "colab": {
          "base_uri": "https://localhost:8080/"
        },
        "id": "052_hjsChggD",
        "outputId": "3cb5d4e5-44d4-43f4-a68a-7746c9b0a76f"
      },
      "source": [
        "m"
      ],
      "execution_count": null,
      "outputs": [
        {
          "output_type": "execute_result",
          "data": {
            "text/plain": [
              "9.102108981180313"
            ]
          },
          "metadata": {},
          "execution_count": 17
        }
      ]
    },
    {
      "cell_type": "code",
      "metadata": {
        "colab": {
          "base_uri": "https://localhost:8080/",
          "height": 282
        },
        "id": "6AE_1_ZSguPM",
        "outputId": "36bd2200-7455-4f69-95ef-585829f7f4c2"
      },
      "source": [
        "# First the original points, Price vs Avg Number of Rooms\n",
        "plt.plot(boston_df.RM,boston_df.Price,'o')\n",
        "\n",
        "# Next the best fit line\n",
        "x=boston_df.RM\n",
        "plt.plot(x,m*x+b,'r',label='best fit line')"
      ],
      "execution_count": null,
      "outputs": [
        {
          "output_type": "execute_result",
          "data": {
            "text/plain": [
              "[<matplotlib.lines.Line2D at 0x7f7776ce4710>]"
            ]
          },
          "metadata": {},
          "execution_count": 18
        },
        {
          "output_type": "display_data",
          "data": {
            "image/png": "[encoded data removed]",
            "text/plain": [
              "<Figure size 432x288 with 1 Axes>"
            ]
          },
          "metadata": {
            "needs_background": "light"
          }
        }
      ]
    },
    {
      "cell_type": "markdown",
      "metadata": {
        "id": "9Yls1dzqmcO2"
      },
      "source": [
        "Great! We've just completed a single variable regression using the least squares method with Python! Let's see if we can find the error in our fitted line. Checking out the documentation [here](http://docs.scipy.org/doc/numpy/reference/generated/numpy.linalg.lstsq.html), we see that the resulting array has the total squared error. For each element, it checks the the difference between the line and the true value (our original D value), squares it, and returns the sum of all these. This was the summed D^2 value we discussed earlier. \n",
        "\n",
        "It's probably easier to understand the root mean squared error, which is similar to the standard deviation. In this case, to find the root mean square error we divide by the number of elements and then take the square root. There is also an issue of bias and an unbiased regression, but we'll delve into those topics later.\n",
        "\n",
        "For now let's see how we can get the root mean squared error of the line we just fitted."
      ]
    },
    {
      "cell_type": "code",
      "metadata": {
        "colab": {
          "base_uri": "https://localhost:8080/"
        },
        "id": "OBZ50h4ah_U7",
        "outputId": "6fb7641e-1abe-4ef2-82af-dba1d18998b1"
      },
      "source": [
        "# Get the resulting array\n",
        "result = np.linalg.lstsq(X,Y)\n",
        "\n",
        "# Get the total error\n",
        "error_total = result[1]\n",
        "\n",
        "# Get the root mean square error\n",
        "rmse = np.sqrt(error_total/len(X) )\n",
        "\n",
        "# Print\n",
        "print(\"The root mean squared error was %.2f \" %rmse)"
      ],
      "execution_count": null,
      "outputs": [
        {
          "output_type": "stream",
          "name": "stdout",
          "text": [
            "The root mean squared error was 6.60 \n"
          ]
        },
        {
          "output_type": "stream",
          "name": "stderr",
          "text": [
            "/usr/local/lib/python3.7/dist-packages/ipykernel_launcher.py:2: FutureWarning: `rcond` parameter will change to the default of machine precision times ``max(M, N)`` where M and N are the input matrix dimensions.\n",
            "To use the future default and silence this warning we advise to pass `rcond=None`, to keep using the old, explicitly pass `rcond=-1`.\n",
            "  \n"
          ]
        }
      ]
    },
    {
      "cell_type": "code",
      "metadata": {
        "colab": {
          "base_uri": "https://localhost:8080/"
        },
        "id": "pmNZuckImavm",
        "outputId": "2ef4a1a2-7829-4573-f842-663db2ddd6fa"
      },
      "source": [
        "result"
      ],
      "execution_count": null,
      "outputs": [
        {
          "output_type": "execute_result",
          "data": {
            "text/plain": [
              "(array([  9.10210898, -34.67062078]),\n",
              " array([22061.87919621]),\n",
              " 2,\n",
              " array([143.99484122,   2.46656609]))"
            ]
          },
          "metadata": {},
          "execution_count": 20
        }
      ]
    },
    {
      "cell_type": "code",
      "metadata": {
        "colab": {
          "base_uri": "https://localhost:8080/"
        },
        "id": "sw9XOCzNp-DU",
        "outputId": "8c75cb64-87e5-432e-f10d-97418b392b02"
      },
      "source": [
        "X"
      ],
      "execution_count": null,
      "outputs": [
        {
          "output_type": "execute_result",
          "data": {
            "text/plain": [
              "array([[6.575, 1.   ],\n",
              "       [6.421, 1.   ],\n",
              "       [7.185, 1.   ],\n",
              "       ...,\n",
              "       [6.976, 1.   ],\n",
              "       [6.794, 1.   ],\n",
              "       [6.03 , 1.   ]])"
            ]
          },
          "metadata": {},
          "execution_count": 21
        }
      ]
    },
    {
      "cell_type": "code",
      "metadata": {
        "colab": {
          "base_uri": "https://localhost:8080/"
        },
        "id": "yDfVr1jto9gn",
        "outputId": "fd8fef0a-d1f3-425c-b343-f9700b8b820e"
      },
      "source": [
        "max(boston_df.RM)"
      ],
      "execution_count": null,
      "outputs": [
        {
          "output_type": "execute_result",
          "data": {
            "text/plain": [
              "8.78"
            ]
          },
          "metadata": {},
          "execution_count": 22
        }
      ]
    },
    {
      "cell_type": "markdown",
      "metadata": {
        "id": "XM4tgeNksCb1"
      },
      "source": [
        "Since the root mean square error (RMSE) corresponds approximately to the standard deviation we can now say that the price of a house won't vary more than 2 times the RMSE 95% of the time. Note: Review the Normal Distribution Appendix lecture if this doesn't make sense to you or check out this [link](http://en.wikipedia.org/wiki/68%E2%80%9395%E2%80%9399.7_rule).\n",
        "\n",
        "Thus we can reasonably expect a house price to be within $13,200 of our line fit.\n",
        "\n"
      ]
    },
    {
      "cell_type": "markdown",
      "metadata": {
        "id": "GoEdXjz7s1-H"
      },
      "source": [
        "### Step 6: Using scikit learn to implement a multivariate regression\n",
        "\n",
        "Now, we'll keep moving along with using scikit learn to do a multi variable regression. This will be a similar apporach to the above example, but sci kit learn will be able to take into account more than just a single data variable effecting the target!\n",
        "\n",
        "We'll start by importing the [linear regression library](http://scikit-learn.org/stable/modules/generated/sklearn.linear_model.LinearRegression.html) from the sklearn module.\n",
        "\n",
        "The sklearn.linear_model.LinearRegression class is an estimator. Estimators predict a value based on the observed data. In scikit-learn, all estimators implement the fit() and predict() methods. The former method is used to learn the parameters of a model, and the latter method is used to predict the value of a response variable for an explanatory variable using the learned parameters. It is easy to experiment with different models using scikit-learn because all estimators implement the fit and predict methods."
      ]
    },
    {
      "cell_type": "code",
      "metadata": {
        "id": "3i8faurjrXNB"
      },
      "source": [
        "# Import for Linear Regression\n",
        "import sklearn\n",
        "from sklearn.linear_model import LinearRegression"
      ],
      "execution_count": null,
      "outputs": []
    },
    {
      "cell_type": "markdown",
      "metadata": {
        "id": "CttegxxbtFVr"
      },
      "source": [
        "Next, we create a LinearRegression object, afterwards, type lm. then press tab to see the list of methods availble on this object."
      ]
    },
    {
      "cell_type": "code",
      "metadata": {
        "id": "8lFync6ctBsN"
      },
      "source": [
        "# Create a LinearRegression Object\n",
        "lreg=LinearRegression()"
      ],
      "execution_count": null,
      "outputs": []
    },
    {
      "cell_type": "markdown",
      "metadata": {
        "id": "zPTOWEZE9XbE"
      },
      "source": [
        "The functions we will be using are:\n",
        "\n",
        "lreg.fit() which fits a linear model\n",
        "\n",
        "lreg.predict() which is used to predict Y using the linear model with estimated coefficients\n",
        "\n",
        "lreg.score() which returns the coefficient of determination (R^2). A measure of how well observed outcomes are replicated by the model, learn more about it [here](http://en.wikipedia.org/wiki/Coefficient_of_determination)\n",
        "\n",
        "We'll start the multi variable regression analysis by seperating our boston dataframe into the data columns and the target columns:"
      ]
    },
    {
      "cell_type": "code",
      "metadata": {
        "id": "aeb7syFo9ROq"
      },
      "source": [
        "X_multi=boston_df.drop('Price',1)\n",
        "Y_targets=boston_df.Price"
      ],
      "execution_count": null,
      "outputs": []
    },
    {
      "cell_type": "code",
      "metadata": {
        "colab": {
          "base_uri": "https://localhost:8080/"
        },
        "id": "erKuFw3p_MHp",
        "outputId": "a621118d-1ab1-4984-8245-fb9c0b4510c8"
      },
      "source": [
        "lreg.fit(X_multi,Y_targets)"
      ],
      "execution_count": null,
      "outputs": [
        {
          "output_type": "execute_result",
          "data": {
            "text/plain": [
              "LinearRegression(copy_X=True, fit_intercept=True, n_jobs=None, normalize=False)"
            ]
          },
          "metadata": {},
          "execution_count": 27
        }
      ]
    },
    {
      "cell_type": "code",
      "metadata": {
        "colab": {
          "base_uri": "https://localhost:8080/"
        },
        "id": "PIFONnXo_Zt5",
        "outputId": "3de33bf3-1037-49de-ae7f-7ead9ab4ff2a"
      },
      "source": [
        "#lets check the intercept\n",
        "print('the estimated intercept coeffecient is %.2f ' %lreg.intercept_)"
      ],
      "execution_count": null,
      "outputs": [
        {
          "output_type": "stream",
          "name": "stdout",
          "text": [
            "the estimated intercept coeffecient is 36.46 \n"
          ]
        }
      ]
    },
    {
      "cell_type": "code",
      "metadata": {
        "colab": {
          "base_uri": "https://localhost:8080/"
        },
        "id": "tk1Fn2yv_8Tf",
        "outputId": "f776bd68-d060-4c53-ee2d-086266724eef"
      },
      "source": [
        "print('no. of coeffecients used is %d ' %len(lreg.coef_))"
      ],
      "execution_count": null,
      "outputs": [
        {
          "output_type": "stream",
          "name": "stdout",
          "text": [
            "no. of coeffecients used is 13 \n"
          ]
        }
      ]
    },
    {
      "cell_type": "markdown",
      "metadata": {
        "id": "Bn8vhYEQAfL5"
      },
      "source": [
        "Great! So we have basically made an equation for a line, but instead of just oneo coefficient m and an intercept b, we now have 13 coefficients. To get an idea of what this looks like check out the [documentation](http://scikit-learn.org/stable/modules/linear_model.html) for this equation:\n",
        "$$ y(w,x) = w_0 + w_1 x_1 + ... + w_p x_p $$\n",
        "\n",
        "Where $$w = (w_1, ...w_p)$$ as the coefficients and $$ w_0 $$ as the intercept \n",
        "\n",
        "What we'll do next is set up a DataFrame showing all the Features and their estimated coefficients obtained form the linear regression."
      ]
    },
    {
      "cell_type": "code",
      "metadata": {
        "id": "v44ZRzcoASVx"
      },
      "source": [
        "#set a DataFrame from the  features\n",
        "coeff_df= DataFrame(boston_df.columns)\n",
        "coeff_df.columns=['Features']\n",
        "\n",
        "# Set a new column lining up the coefficients from the linear regression\n",
        "coeff_df['Coeffecient Estimate']=pd.Series(lreg.coef_)"
      ],
      "execution_count": null,
      "outputs": []
    },
    {
      "cell_type": "code",
      "metadata": {
        "colab": {
          "base_uri": "https://localhost:8080/",
          "height": 483
        },
        "id": "wBxc-eUHBbyC",
        "outputId": "4bc9db5c-9215-438c-b273-5ae23574096a"
      },
      "source": [
        "coeff_df"
      ],
      "execution_count": null,
      "outputs": [
        {
          "output_type": "execute_result",
          "data": {
            "text/html": [
              "<div>\n",
              "<style scoped>\n",
              "    .dataframe tbody tr th:only-of-type {\n",
              "        vertical-align: middle;\n",
              "    }\n",
              "\n",
              "    .dataframe tbody tr th {\n",
              "        vertical-align: top;\n",
              "    }\n",
              "\n",
              "    .dataframe thead th {\n",
              "        text-align: right;\n",
              "    }\n",
              "</style>\n",
              "<table border=\"1\" class=\"dataframe\">\n",
              "  <thead>\n",
              "    <tr style=\"text-align: right;\">\n",
              "      <th></th>\n",
              "      <th>Features</th>\n",
              "      <th>Coeffecient Estimate</th>\n",
              "    </tr>\n",
              "  </thead>\n",
              "  <tbody>\n",
              "    <tr>\n",
              "      <th>0</th>\n",
              "      <td>CRIM</td>\n",
              "      <td>-0.108011</td>\n",
              "    </tr>\n",
              "    <tr>\n",
              "      <th>1</th>\n",
              "      <td>ZN</td>\n",
              "      <td>0.046420</td>\n",
              "    </tr>\n",
              "    <tr>\n",
              "      <th>2</th>\n",
              "      <td>INDUS</td>\n",
              "      <td>0.020559</td>\n",
              "    </tr>\n",
              "    <tr>\n",
              "      <th>3</th>\n",
              "      <td>CHAS</td>\n",
              "      <td>2.686734</td>\n",
              "    </tr>\n",
              "    <tr>\n",
              "      <th>4</th>\n",
              "      <td>NOX</td>\n",
              "      <td>-17.766611</td>\n",
              "    </tr>\n",
              "    <tr>\n",
              "      <th>5</th>\n",
              "      <td>RM</td>\n",
              "      <td>3.809865</td>\n",
              "    </tr>\n",
              "    <tr>\n",
              "      <th>6</th>\n",
              "      <td>AGE</td>\n",
              "      <td>0.000692</td>\n",
              "    </tr>\n",
              "    <tr>\n",
              "      <th>7</th>\n",
              "      <td>DIS</td>\n",
              "      <td>-1.475567</td>\n",
              "    </tr>\n",
              "    <tr>\n",
              "      <th>8</th>\n",
              "      <td>RAD</td>\n",
              "      <td>0.306049</td>\n",
              "    </tr>\n",
              "    <tr>\n",
              "      <th>9</th>\n",
              "      <td>TAX</td>\n",
              "      <td>-0.012335</td>\n",
              "    </tr>\n",
              "    <tr>\n",
              "      <th>10</th>\n",
              "      <td>PTRATIO</td>\n",
              "      <td>-0.952747</td>\n",
              "    </tr>\n",
              "    <tr>\n",
              "      <th>11</th>\n",
              "      <td>B</td>\n",
              "      <td>0.009312</td>\n",
              "    </tr>\n",
              "    <tr>\n",
              "      <th>12</th>\n",
              "      <td>LSTAT</td>\n",
              "      <td>-0.524758</td>\n",
              "    </tr>\n",
              "    <tr>\n",
              "      <th>13</th>\n",
              "      <td>Price</td>\n",
              "      <td>NaN</td>\n",
              "    </tr>\n",
              "  </tbody>\n",
              "</table>\n",
              "</div>"
            ],
            "text/plain": [
              "   Features  Coeffecient Estimate\n",
              "0      CRIM             -0.108011\n",
              "1        ZN              0.046420\n",
              "2     INDUS              0.020559\n",
              "3      CHAS              2.686734\n",
              "4       NOX            -17.766611\n",
              "5        RM              3.809865\n",
              "6       AGE              0.000692\n",
              "7       DIS             -1.475567\n",
              "8       RAD              0.306049\n",
              "9       TAX             -0.012335\n",
              "10  PTRATIO             -0.952747\n",
              "11        B              0.009312\n",
              "12    LSTAT             -0.524758\n",
              "13    Price                   NaN"
            ]
          },
          "metadata": {},
          "execution_count": 31
        }
      ]
    },
    {
      "cell_type": "markdown",
      "metadata": {
        "id": "lakNQeIPB4n5"
      },
      "source": [
        "Just like we initially plotted out, it seems the highest correlation between a feature and a house price was the number of rooms.\n",
        "\n",
        "Now let's move on to Predicting prices!"
      ]
    },
    {
      "cell_type": "markdown",
      "metadata": {
        "id": "kLaL9f4iB72_"
      },
      "source": [
        "### Step 7: Using Training and Validation \n",
        "\n",
        "In a dataset a training set is implemented to build up a model, while a validation set is used to validate the model built. Data points in the training set are excluded from the validation set. The correct way to pick out samples from your dataset to be part either the training or validation (also called test) set is *randomly*.\n",
        "\n",
        "Fortunately, scikit learn has a built in function specifically for this called train_test_split.\n",
        "\n",
        "The parameters passed are your X and Y, then optionally test_size parameter, representing the proportion of the dataset to include in the test split. As well a train_size parameter. ou can learn more about these parameters [here](http://scikit-learn.org/stable/modules/generated/sklearn.cross_validation.train_test_split.html)"
      ]
    },
    {
      "cell_type": "code",
      "metadata": {
        "id": "pr3B4IlJBdxh"
      },
      "source": [
        "# Grab the output and set as X and Y test and train data sets!\n",
        "X_train, X_test, Y_train, Y_test = sklearn.model_selection.train_test_split(X,boston_df.Price)"
      ],
      "execution_count": null,
      "outputs": []
    },
    {
      "cell_type": "code",
      "metadata": {
        "colab": {
          "base_uri": "https://localhost:8080/"
        },
        "id": "omsnzlvQCYU1",
        "outputId": "3703af11-06e4-4aa6-95ee-3ff2549241e2"
      },
      "source": [
        "# Print shapes of the training and testing data sets\n",
        "print(X_train.shape,X_test.shape,Y_train.shape,Y_test.shape)"
      ],
      "execution_count": null,
      "outputs": [
        {
          "output_type": "stream",
          "name": "stdout",
          "text": [
            "(379, 2) (127, 2) (379,) (127,)\n"
          ]
        }
      ]
    },
    {
      "cell_type": "markdown",
      "metadata": {
        "id": "jIIWF4A5DKul"
      },
      "source": [
        "Great! Now that we have our training and testing sets we can continue on to predicint gprices based on the multiple variables."
      ]
    },
    {
      "cell_type": "markdown",
      "metadata": {
        "id": "SY1-dJBMDQTu"
      },
      "source": [
        "### Step 8: Predicting Prices\n",
        "\n",
        "Now that we have our training and testing sets, let's go ahead and try to use them to predict house prices. We'll use our training set for the prediction and then use our testing set for validation."
      ]
    },
    {
      "cell_type": "code",
      "metadata": {
        "colab": {
          "base_uri": "https://localhost:8080/"
        },
        "id": "EfN2J9AqDFyU",
        "outputId": "d3f03b67-6bb2-4d0c-e3bc-9e4c5a5f40e4"
      },
      "source": [
        "# Once again do a linear regression, except only on the training sets this time\n",
        "lreg.fit(X_train,Y_train)"
      ],
      "execution_count": null,
      "outputs": [
        {
          "output_type": "execute_result",
          "data": {
            "text/plain": [
              "LinearRegression(copy_X=True, fit_intercept=True, n_jobs=None, normalize=False)"
            ]
          },
          "metadata": {},
          "execution_count": 36
        }
      ]
    },
    {
      "cell_type": "code",
      "metadata": {
        "id": "rJi9x49tDaM0"
      },
      "source": [
        "#Now run a prediction on both the X training set and the testing set.\n",
        "# Predictions on training and testing sets\n",
        "pred_train=lreg.predict(X_train)\n",
        "pred_test=lreg.predict(X_test)"
      ],
      "execution_count": null,
      "outputs": []
    },
    {
      "cell_type": "code",
      "metadata": {
        "colab": {
          "base_uri": "https://localhost:8080/"
        },
        "id": "An4BqAv5Ds_t",
        "outputId": "383aaf70-3c0f-4d05-fd18-131328ffd78a"
      },
      "source": [
        "#Now we will get the mean square error\n",
        "\n",
        "print(\"Fit a model X_train, and calculate MSE with Y_train: %.2f \" %np.mean((Y_train-pred_train)**2))\n",
        "\n",
        "print(\"Fit a model X_train, and calculate MSE with X_test and Y_test: %.2f \" %np.mean((Y_test-pred_test)**2))"
      ],
      "execution_count": null,
      "outputs": [
        {
          "output_type": "stream",
          "name": "stdout",
          "text": [
            "Fit a model X_train, and calculate MSE with Y_train: 48.94 \n",
            "Fit a model X_train, and calculate MSE with X_test and Y_test: 27.80 \n"
          ]
        }
      ]
    },
    {
      "cell_type": "markdown",
      "metadata": {
        "id": "teLfYO0pI7pz"
      },
      "source": [
        "It looks like our mean square error between our training and testing was pretty close. But how do we actually visualize this?"
      ]
    },
    {
      "cell_type": "markdown",
      "metadata": {
        "id": "NfdSSI_rJOtY"
      },
      "source": [
        "### Step 9 : Residual Plots\n",
        "\n",
        "In regression analysis, the difference between the observed value of the dependent variable (y) and the predicted value (ŷ) is called the residual (e). Each data point has one residual, so that:\n",
        "\n",
        "$$Residual = Observed\\:value - Predicted\\:value $$\n",
        "\n",
        "You can think of these residuals in the same way as the D value we discussed earlier, in this case however, there were multiple data points considered.\n",
        "\n",
        "A residual plot is a graph that shows the residuals on the vertical axis and the independent variable on the horizontal axis. If the points in a residual plot are randomly dispersed around the horizontal axis, a linear regression model is appropriate for the data; otherwise, a non-linear model is more appropriate.\n",
        "\n",
        "Residual plots are a good way to visualize the errors in your data.  If you have done a good job then your data should be randomly scattered around line zero. If there is some strucutre or pattern, that means your model is not capturing some thing. There could be an interaction between 2 variables that you're not considering, or may be you are measuring time dependent data. If this is the case go back to your model and check your data set closely.\n",
        "\n",
        "So now let's go ahead and create the residual plot. For more info on the residual plots check out this great [link](http://blog.minitab.com/blog/adventures-in-statistics/why-you-need-to-check-your-residual-plots-for-regression-analysis)."
      ]
    },
    {
      "cell_type": "code",
      "metadata": {
        "colab": {
          "base_uri": "https://localhost:8080/",
          "height": 298
        },
        "id": "-75uZ7b4I2iw",
        "outputId": "1a726cd2-e704-41a2-ac36-808ed96cfbf1"
      },
      "source": [
        "# Scatter plot the training data\n",
        "train=plt.scatter(pred_train,(Y_train-pred_train),c='b',alpha=0.5)\n",
        "\n",
        "# Scatter plot the testing data\n",
        "test=plt.scatter(pred_test,(Y_test-pred_test),c='r',alpha=0.5)\n",
        "\n",
        "# Plot a horizontal axis line at 0\n",
        "plt.hlines(y=0,xmin=-10,xmax=50)\n",
        "\n",
        "#Labels\n",
        "plt.legend((train,test),('Training','Test'),loc='lower left')\n",
        "plt.title('Residual Plots')"
      ],
      "execution_count": null,
      "outputs": [
        {
          "output_type": "execute_result",
          "data": {
            "text/plain": [
              "Text(0.5, 1.0, 'Residual Plots')"
            ]
          },
          "metadata": {},
          "execution_count": 41
        },
        {
          "output_type": "display_data",
          "data": {
            "image/png": "[encoded data removed]",
            "text/plain": [
              "<Figure size 432x288 with 1 Axes>"
            ]
          },
          "metadata": {
            "needs_background": "light"
          }
        }
      ]
    },
    {
      "cell_type": "markdown",
      "metadata": {
        "id": "VudtA_MbKov7"
      },
      "source": [
        "Great! Looks like there aren't any major patterns to be concerned about, it may be interesting to check out the line occuring towards the bottom right, but overall the majority of the residuals seem to be randomly allocated above and below the horizontal. We could also use seaborn to create these plots:"
      ]
    },
    {
      "cell_type": "code",
      "metadata": {
        "colab": {
          "base_uri": "https://localhost:8080/",
          "height": 350
        },
        "id": "vvfVAcjLKLUO",
        "outputId": "2de38397-3873-4783-8d45-fadae6afeb99"
      },
      "source": [
        "# Residual plot of all the dataset using seaborn\n",
        "sns.residplot('RM','Price',data=boston_df)"
      ],
      "execution_count": null,
      "outputs": [
        {
          "output_type": "stream",
          "name": "stderr",
          "text": [
            "/usr/local/lib/python3.7/dist-packages/seaborn/_decorators.py:43: FutureWarning: Pass the following variables as keyword args: x, y. From version 0.12, the only valid positional argument will be `data`, and passing other arguments without an explicit keyword will result in an error or misinterpretation.\n",
            "  FutureWarning\n"
          ]
        },
        {
          "output_type": "execute_result",
          "data": {
            "text/plain": [
              "<matplotlib.axes._subplots.AxesSubplot at 0x7f7763a2d890>"
            ]
          },
          "metadata": {},
          "execution_count": 42
        },
        {
          "output_type": "display_data",
          "data": {
            "image/png": "[encoded data removed]",
            "text/plain": [
              "<Figure size 432x288 with 1 Axes>"
            ]
          },
          "metadata": {
            "needs_background": "light"
          }
        }
      ]
    },
    {
      "cell_type": "markdown",
      "metadata": {
        "id": "pvvGaKvsLIf1"
      },
      "source": [
        "That's it for this lesson. Linear regression is a very broad topic, theres a ton of great information in the sci kit learn documentation, and I encourage you to check it out here:  http://scikit-learn.org/stable/modules/linear_model.html#linear-model"
      ]
    },
    {
      "cell_type": "code",
      "metadata": {
        "id": "nI_BS0P7K-si"
      },
      "source": [
        ""
      ],
      "execution_count": null,
      "outputs": []
    }
  ]
}