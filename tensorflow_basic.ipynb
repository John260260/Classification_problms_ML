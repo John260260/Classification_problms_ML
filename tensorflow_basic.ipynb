{
  "nbformat": 4,
  "nbformat_minor": 0,
  "metadata": {
    "colab": {
      "name": "tensorflow_basic.ipynb",
      "provenance": [],
      "authorship_tag": "ABX9TyNjIGp70CA8s1I1nETPSALf",
      "include_colab_link": true
    },
    "kernelspec": {
      "name": "python3",
      "display_name": "Python 3"
    },
    "language_info": {
      "name": "python"
    }
  },
  "cells": [
    {
      "cell_type": "markdown",
      "metadata": {
        "id": "view-in-github",
        "colab_type": "text"
      },
      "source": [
        "<a href=\"https://colab.research.google.com/github/John260260/Classification_problms_ML/blob/main/tensorflow_basic.ipynb\" target=\"_parent\"><img src=\"https://colab.research.google.com/assets/colab-badge.svg\" alt=\"Open In Colab\"/></a>"
      ]
    },
    {
      "cell_type": "code",
      "source": [
        "!pip install tensorflow"
      ],
      "metadata": {
        "id": "dUtWqn9tT3BD"
      },
      "execution_count": null,
      "outputs": []
    },
    {
      "cell_type": "code",
      "execution_count": null,
      "metadata": {
        "colab": {
          "base_uri": "https://localhost:8080/"
        },
        "id": "AHVo5nGJSnno",
        "outputId": "5a898183-ced2-4b24-d8b3-d3854e768f33"
      },
      "outputs": [
        {
          "output_type": "stream",
          "name": "stdout",
          "text": [
            "TensorFlow version: 2.7.0\n"
          ]
        }
      ],
      "source": [
        "import tensorflow as tf\n",
        "print(\"TensorFlow version:\", tf.__version__)"
      ]
    },
    {
      "cell_type": "markdown",
      "source": [
        "If you are following along in your own development environment, rather than [Colab](https://colab.research.google.com/github/tensorflow/docs/blob/master/site/en/tutorials/quickstart/beginner.ipynb), see the [install guide](https://www.tensorflow.org/install) for setting up TensorFlow for development.\n",
        "\n",
        "Note: Make sure you have upgraded to the latest `pip` to install the TensorFlow 2 package if you are using your own development environment. See the [install guide](https://www.tensorflow.org/install) for details.\n",
        "\n",
        "## Load a dataset\n",
        "\n",
        "Load and prepare the [MNIST dataset](http://yann.lecun.com/exdb/mnist/). Convert the sample data from integers to floating-point numbers:"
      ],
      "metadata": {
        "id": "cnJ4wRMAv-8X"
      }
    },
    {
      "cell_type": "code",
      "source": [
        "mnist = tf.keras.datasets.mnist"
      ],
      "metadata": {
        "id": "1uXM3K3XTwPW"
      },
      "execution_count": null,
      "outputs": []
    },
    {
      "cell_type": "code",
      "source": [
        "(x_train, y_train), (x_test, y_test) = mnist.load_data()\n",
        "x_train, x_test = x_train / 255.0, x_test / 255.0"
      ],
      "metadata": {
        "id": "7m4BvjDV3K3u"
      },
      "execution_count": null,
      "outputs": []
    },
    {
      "cell_type": "markdown",
      "source": [
        "## Build a machine learning model\n",
        "\n",
        "Build a `tf.keras.Sequential` model by stacking layers."
      ],
      "metadata": {
        "id": "LaaIRHOB3UzP"
      }
    },
    {
      "cell_type": "code",
      "source": [
        "model=tf.keras.models.Sequential([tf.keras.layers.Flatten(input_shape=(28,28)),\n",
        "                                  tf.keras.layers.Dense(128,activation='relu'),\n",
        "                                  tf.keras.layers.Dropout(0.2),\n",
        "                                  tf.keras.layers.Dense(10)\n",
        "                                  ])"
      ],
      "metadata": {
        "id": "2d-3I40Z3Q4e"
      },
      "execution_count": null,
      "outputs": []
    },
    {
      "cell_type": "markdown",
      "source": [
        "For each example, the model returns a vector of [logits](https://developers.google.com/machine-learning/glossary#logits) or [log-odds](https://developers.google.com/machine-learning/glossary#log-odds) scores, one for each class."
      ],
      "metadata": {
        "id": "txu6HkZ74V1W"
      }
    },
    {
      "cell_type": "code",
      "source": [
        "predictions = model(x_train[:1]).numpy()\n",
        "predictions"
      ],
      "metadata": {
        "colab": {
          "base_uri": "https://localhost:8080/"
        },
        "id": "8cHRXmAi4PAX",
        "outputId": "03ba53e1-d8b4-4f10-ec7e-03498a63f7c2"
      },
      "execution_count": null,
      "outputs": [
        {
          "output_type": "execute_result",
          "data": {
            "text/plain": [
              "array([[ 0.6974121 , -0.36517075, -0.3870688 , -0.39008838, -0.94471836,\n",
              "         0.19528264, -0.16462645, -0.24518228,  0.23193407, -0.5775624 ]],\n",
              "      dtype=float32)"
            ]
          },
          "metadata": {},
          "execution_count": 11
        }
      ]
    },
    {
      "cell_type": "markdown",
      "source": [
        "The `tf.nn.softmax` function converts these logits to *probabilities* for each class: "
      ],
      "metadata": {
        "id": "i1pYfYGi5Mb-"
      }
    },
    {
      "cell_type": "code",
      "source": [
        "tf.nn.softmax(predictions).numpy()"
      ],
      "metadata": {
        "colab": {
          "base_uri": "https://localhost:8080/"
        },
        "id": "VBp6pkgR4aHD",
        "outputId": "800b5420-d7cb-4403-bf72-e9870faa1db7"
      },
      "execution_count": null,
      "outputs": [
        {
          "output_type": "execute_result",
          "data": {
            "text/plain": [
              "array([[0.22032768, 0.0761369 , 0.07448778, 0.07426319, 0.04264822,\n",
              "        0.13335122, 0.09304445, 0.08584312, 0.1383294 , 0.06156795]],\n",
              "      dtype=float32)"
            ]
          },
          "metadata": {},
          "execution_count": 15
        }
      ]
    },
    {
      "cell_type": "markdown",
      "source": [
        "Note: It is possible to bake the `tf.nn.softmax` function into the activation function for the last layer of the network. While this can make the model output more directly interpretable, this approach is discouraged as it's impossible to provide an exact and numerically stable loss calculation for all models when using a softmax output. "
      ],
      "metadata": {
        "id": "1tMCMNCR6Xwp"
      }
    },
    {
      "cell_type": "markdown",
      "source": [
        "Define a loss function for training using `losses.SparseCategoricalCrossentropy`, which takes a vector of logits and a `True` index and returns a scalar loss for each example."
      ],
      "metadata": {
        "id": "UvVqfzcQ6aYd"
      }
    },
    {
      "cell_type": "code",
      "source": [
        "loss_fn = tf.keras.losses.SparseCategoricalCrossentropy(from_logits=True)"
      ],
      "metadata": {
        "id": "n3i5jyNB5swq"
      },
      "execution_count": null,
      "outputs": []
    },
    {
      "cell_type": "markdown",
      "source": [
        "This loss is equal to the negative log probability of the true class: The loss is zero if the model is sure of the correct class.\n",
        "\n",
        "This untrained model gives probabilities close to random (1/10 for each class), so the initial loss should be close to `-tf.math.log(1/10) ~= 2.3`."
      ],
      "metadata": {
        "id": "DHfV-iIP6lZa"
      }
    },
    {
      "cell_type": "code",
      "source": [
        "loss_fn(y_train[:1], predictions).numpy()"
      ],
      "metadata": {
        "colab": {
          "base_uri": "https://localhost:8080/"
        },
        "id": "bFQgl6K96jBt",
        "outputId": "d55a20fa-e50c-48cb-bebc-64e96537c632"
      },
      "execution_count": null,
      "outputs": [
        {
          "output_type": "execute_result",
          "data": {
            "text/plain": [
              "2.0147688"
            ]
          },
          "metadata": {},
          "execution_count": 19
        }
      ]
    },
    {
      "cell_type": "markdown",
      "source": [
        "Before you start training, configure and compile the model using Keras `Model.compile`. Set the [`optimizer`](https://www.tensorflow.org/api_docs/python/tf/keras/optimizers) class to `adam`, set the `loss` to the `loss_fn` function you defined earlier, and specify a metric to be evaluated for the model by setting the `metrics` parameter to `accuracy`."
      ],
      "metadata": {
        "id": "bXFZVwXg6rW4"
      }
    },
    {
      "cell_type": "code",
      "source": [
        "model.compile(optimizer='adam',\n",
        "              loss=loss_fn,\n",
        "              metrics=['accuracy'])"
      ],
      "metadata": {
        "id": "H4MOA4cf6oEf"
      },
      "execution_count": null,
      "outputs": []
    },
    {
      "cell_type": "markdown",
      "source": [
        "## Train and evaluate your model\n",
        "\n",
        "Use the `Model.fit` method to adjust your model parameters and minimize the loss: "
      ],
      "metadata": {
        "id": "jR4mZZuN69LP"
      }
    },
    {
      "cell_type": "code",
      "source": [
        "model.fit(x_train, y_train, epochs=5)"
      ],
      "metadata": {
        "colab": {
          "base_uri": "https://localhost:8080/"
        },
        "id": "qN4m7S5H61o_",
        "outputId": "15a89bff-ca7a-44bb-c938-11333d6b4b96"
      },
      "execution_count": null,
      "outputs": [
        {
          "output_type": "stream",
          "name": "stdout",
          "text": [
            "Epoch 1/5\n",
            "1875/1875 [==============================] - 8s 4ms/step - loss: 0.2990 - accuracy: 0.9140\n",
            "Epoch 2/5\n",
            "1875/1875 [==============================] - 5s 3ms/step - loss: 0.1437 - accuracy: 0.9566\n",
            "Epoch 3/5\n",
            "1875/1875 [==============================] - 5s 3ms/step - loss: 0.1079 - accuracy: 0.9667\n",
            "Epoch 4/5\n",
            "1875/1875 [==============================] - 5s 3ms/step - loss: 0.0873 - accuracy: 0.9734\n",
            "Epoch 5/5\n",
            "1875/1875 [==============================] - 5s 2ms/step - loss: 0.0746 - accuracy: 0.9764\n"
          ]
        },
        {
          "output_type": "execute_result",
          "data": {
            "text/plain": [
              "<keras.callbacks.History at 0x7f1ddf8e5850>"
            ]
          },
          "metadata": {},
          "execution_count": 21
        }
      ]
    },
    {
      "cell_type": "markdown",
      "source": [
        "The `Model.evaluate` method checks the models performance, usually on a \"[Validation-set](https://developers.google.com/machine-learning/glossary#validation-set)\" or \"[Test-set](https://developers.google.com/machine-learning/glossary#test-set)\"."
      ],
      "metadata": {
        "id": "r6nqAF-j7RUf"
      }
    },
    {
      "cell_type": "code",
      "source": [
        "model.evaluate(x_test,  y_test, verbose=2)"
      ],
      "metadata": {
        "colab": {
          "base_uri": "https://localhost:8080/"
        },
        "id": "3hwpzwtr6_BE",
        "outputId": "a132d8fa-bae0-47bd-9366-9a32c40a95bb"
      },
      "execution_count": null,
      "outputs": [
        {
          "output_type": "stream",
          "name": "stdout",
          "text": [
            "313/313 - 1s - loss: 0.0722 - accuracy: 0.9770 - 915ms/epoch - 3ms/step\n"
          ]
        },
        {
          "output_type": "execute_result",
          "data": {
            "text/plain": [
              "[0.07217366993427277, 0.9769999980926514]"
            ]
          },
          "metadata": {},
          "execution_count": 22
        }
      ]
    },
    {
      "cell_type": "markdown",
      "source": [
        "The image classifier is now trained to ~98% accuracy on this dataset. To learn more, read the [TensorFlow tutorials](https://www.tensorflow.org/tutorials/)."
      ],
      "metadata": {
        "id": "9zCBdmja7Ypu"
      }
    },
    {
      "cell_type": "markdown",
      "source": [
        "If you want your model to return a probability, you can wrap the trained model, and attach the softmax to it:"
      ],
      "metadata": {
        "id": "eGHPeXz97a0a"
      }
    },
    {
      "cell_type": "code",
      "source": [
        "probability_model = tf.keras.Sequential([model,tf.keras.layers.Softmax()])"
      ],
      "metadata": {
        "id": "UtGv0iBg7S6m"
      },
      "execution_count": null,
      "outputs": []
    },
    {
      "cell_type": "code",
      "source": [
        "probability_model(x_test[:5])"
      ],
      "metadata": {
        "colab": {
          "base_uri": "https://localhost:8080/"
        },
        "id": "sBda6xI47iqf",
        "outputId": "54a4e883-be3b-4649-9e2f-d9b612b9b520"
      },
      "execution_count": null,
      "outputs": [
        {
          "output_type": "execute_result",
          "data": {
            "text/plain": [
              "<tf.Tensor: shape=(5, 10), dtype=float32, numpy=\n",
              "array([[2.13344826e-08, 1.46894976e-08, 4.00593490e-06, 1.11402376e-04,\n",
              "        5.42701335e-11, 8.28257853e-08, 1.02941493e-13, 9.99883413e-01,\n",
              "        5.90457638e-08, 8.71401141e-07],\n",
              "       [1.02629405e-09, 2.17793728e-04, 9.99622226e-01, 1.59479474e-04,\n",
              "        1.46093248e-13, 1.37195997e-07, 4.21746726e-09, 3.77496125e-11,\n",
              "        3.78514187e-07, 3.75910848e-12],\n",
              "       [2.82150631e-06, 9.99144435e-01, 1.88001341e-05, 9.68581662e-06,\n",
              "        3.36178746e-05, 1.89619914e-05, 1.20035238e-05, 6.92391419e-04,\n",
              "        6.04949782e-05, 6.77537128e-06],\n",
              "       [9.94235218e-01, 2.94557512e-09, 1.77085109e-04, 2.22035055e-06,\n",
              "        1.53728452e-05, 2.05501183e-05, 1.32452144e-04, 5.36593935e-03,\n",
              "        3.53493647e-07, 5.07270743e-05],\n",
              "       [4.51573158e-07, 4.71162753e-09, 4.49220443e-06, 1.96789802e-08,\n",
              "        9.97786641e-01, 1.10824305e-06, 1.78405069e-04, 3.33633870e-05,\n",
              "        5.06823881e-07, 1.99495070e-03]], dtype=float32)>"
            ]
          },
          "metadata": {},
          "execution_count": 24
        }
      ]
    },
    {
      "cell_type": "markdown",
      "source": [
        "## Conclusion\n",
        "\n",
        "Congratulations! You have trained a machine learning model using a prebuilt dataset using the [Keras](https://www.tensorflow.org/guide/keras/overview) API.\n",
        "\n",
        "For more examples of using Keras, check out the [tutorials](https://www.tensorflow.org/tutorials/keras/). To learn more about building models with Keras, read the [guides](https://www.tensorflow.org/guide/keras). If you want learn more about loading and preparing data, see the tutorials on [image data loading](https://www.tensorflow.org/tutorials/load_data/images) or [CSV data loading](https://www.tensorflow.org/tutorials/load_data/csv).\n"
      ],
      "metadata": {
        "id": "h4G6nESn7q4t"
      }
    },
    {
      "cell_type": "markdown",
      "source": [
        "## basic tensorflow\n"
      ],
      "metadata": {
        "id": "awV-byPbM5EW"
      }
    },
    {
      "cell_type": "code",
      "source": [
        "import tensorflow as tf\n",
        "import numpy\n",
        "import pandas as pd"
      ],
      "metadata": {
        "id": "rSUq9xgZ7kWe"
      },
      "execution_count": 8,
      "outputs": []
    },
    {
      "cell_type": "code",
      "source": [
        "a=tf.ones([2,3])\n",
        "print(a)"
      ],
      "metadata": {
        "colab": {
          "base_uri": "https://localhost:8080/"
        },
        "id": "YKZssyTKWtEU",
        "outputId": "ddd648d3-20e0-4ea9-8163-e1f0470bd5a8"
      },
      "execution_count": 17,
      "outputs": [
        {
          "output_type": "stream",
          "name": "stdout",
          "text": [
            "tf.Tensor(\n",
            "[[1. 1. 1.]\n",
            " [1. 1. 1.]], shape=(2, 3), dtype=float32)\n"
          ]
        }
      ]
    },
    {
      "cell_type": "code",
      "source": [
        "a=tf.Variable(a)\n",
        "a[0,0].assign(10)\n",
        "b=a.read_value()\n",
        "print(b)"
      ],
      "metadata": {
        "colab": {
          "base_uri": "https://localhost:8080/"
        },
        "id": "LQyKQUqcW0er",
        "outputId": "0efa0340-2728-4832-ab41-4415e9561ad4"
      },
      "execution_count": 19,
      "outputs": [
        {
          "output_type": "stream",
          "name": "stdout",
          "text": [
            "tf.Tensor(\n",
            "[[10.  1.  1.]\n",
            " [ 1.  1.  1.]], shape=(2, 3), dtype=float32)\n"
          ]
        }
      ]
    },
    {
      "cell_type": "code",
      "source": [
        "#add multiply div\n",
        "\n",
        "a=tf.constant(2)\n",
        "b=tf.constant(3)\n",
        "\n",
        "print('a+b:', a.numpy() + b.numpy())\n",
        "print('Addition with constants:', a+b)\n",
        "print('Addition with constants:', tf.add(a,b))\n",
        "print('a*b:', a.numpy()*b.numpy())\n",
        "print('Multiplication with constants:', a*b)\n",
        "print('Multiplication with constants: ', tf.multiply(a,b))"
      ],
      "metadata": {
        "colab": {
          "base_uri": "https://localhost:8080/"
        },
        "id": "lqxS79dAXAgZ",
        "outputId": "c47218ac-e45d-4d23-99a8-bc1cde87c88e"
      },
      "execution_count": 10,
      "outputs": [
        {
          "output_type": "stream",
          "name": "stdout",
          "text": [
            "a+b: 5\n",
            "Addition with constants: tf.Tensor(5, shape=(), dtype=int32)\n",
            "Addition with constants: tf.Tensor(5, shape=(), dtype=int32)\n",
            "a*b: 6\n",
            "Multiplication with constants: tf.Tensor(6, shape=(), dtype=int32)\n",
            "Multiplication with constants:  tf.Tensor(6, shape=(), dtype=int32)\n"
          ]
        }
      ]
    },
    {
      "cell_type": "code",
      "source": [
        "import numpy as np"
      ],
      "metadata": {
        "id": "UGvGll9sX-vJ"
      },
      "execution_count": 11,
      "outputs": []
    },
    {
      "cell_type": "code",
      "source": [
        "tensor_1d=np.array([1.45,-1,0.2,102.1])"
      ],
      "metadata": {
        "id": "C0SebvrJZIdY"
      },
      "execution_count": 12,
      "outputs": []
    },
    {
      "cell_type": "code",
      "source": [
        "print(tensor_1d)"
      ],
      "metadata": {
        "colab": {
          "base_uri": "https://localhost:8080/"
        },
        "id": "kENptUVQZPkl",
        "outputId": "89b5aa38-2380-4096-cc42-3ba7a9c01b81"
      },
      "execution_count": 13,
      "outputs": [
        {
          "output_type": "stream",
          "name": "stdout",
          "text": [
            "[  1.45  -1.     0.2  102.1 ]\n"
          ]
        }
      ]
    },
    {
      "cell_type": "code",
      "source": [
        "print(tensor_1d[0])"
      ],
      "metadata": {
        "colab": {
          "base_uri": "https://localhost:8080/"
        },
        "id": "kZDIpjjLZTTb",
        "outputId": "0824a815-68e7-479b-c347-36b214b8e6ca"
      },
      "execution_count": 14,
      "outputs": [
        {
          "output_type": "stream",
          "name": "stdout",
          "text": [
            "1.45\n"
          ]
        }
      ]
    },
    {
      "cell_type": "code",
      "source": [
        "print(tensor_1d.ndim)"
      ],
      "metadata": {
        "colab": {
          "base_uri": "https://localhost:8080/"
        },
        "id": "s3i-3TCSZbFn",
        "outputId": "e8117115-df66-4084-d37e-230a8147ecbc"
      },
      "execution_count": 15,
      "outputs": [
        {
          "output_type": "stream",
          "name": "stdout",
          "text": [
            "1\n"
          ]
        }
      ]
    },
    {
      "cell_type": "code",
      "source": [
        "print(tensor_1d.shape)"
      ],
      "metadata": {
        "colab": {
          "base_uri": "https://localhost:8080/"
        },
        "id": "0sMVNeZXZf9L",
        "outputId": "07690714-ffda-4f7c-9a24-041889efba17"
      },
      "execution_count": 16,
      "outputs": [
        {
          "output_type": "stream",
          "name": "stdout",
          "text": [
            "(4,)\n"
          ]
        }
      ]
    },
    {
      "cell_type": "code",
      "source": [
        "matrix1=tf.constant([[3.,3.]])"
      ],
      "metadata": {
        "id": "U76fR69CZiPo"
      },
      "execution_count": 23,
      "outputs": []
    },
    {
      "cell_type": "code",
      "source": [
        "matrix2=([[2.],[2.]])"
      ],
      "metadata": {
        "id": "LaWbXcPIatjM"
      },
      "execution_count": 24,
      "outputs": []
    },
    {
      "cell_type": "code",
      "source": [
        "product=tf.matmul(matrix1, matrix2)\n",
        "print(product)"
      ],
      "metadata": {
        "colab": {
          "base_uri": "https://localhost:8080/"
        },
        "id": "y3KsL0Jsazqx",
        "outputId": "18b018e5-89d8-4530-eb99-7c6b65c7c107"
      },
      "execution_count": 26,
      "outputs": [
        {
          "output_type": "stream",
          "name": "stdout",
          "text": [
            "tf.Tensor([[12.]], shape=(1, 1), dtype=float32)\n"
          ]
        }
      ]
    },
    {
      "cell_type": "code",
      "source": [
        "print(matrix1* matrix2)"
      ],
      "metadata": {
        "colab": {
          "base_uri": "https://localhost:8080/"
        },
        "id": "AvVAPiuEa861",
        "outputId": "a18cecda-48a5-4939-b7fc-5064a1665f58"
      },
      "execution_count": 27,
      "outputs": [
        {
          "output_type": "stream",
          "name": "stdout",
          "text": [
            "tf.Tensor(\n",
            "[[6. 6.]\n",
            " [6. 6.]], shape=(2, 2), dtype=float32)\n"
          ]
        }
      ]
    },
    {
      "cell_type": "code",
      "source": [
        "%tensorflow_version 1.x\n",
        "import tensorflow as tf\n",
        "import numpy as np"
      ],
      "metadata": {
        "colab": {
          "base_uri": "https://localhost:8080/"
        },
        "id": "fUt7JNPCbW0l",
        "outputId": "fe870e33-7bd5-437b-c23d-3c98c29424dd"
      },
      "execution_count": 1,
      "outputs": [
        {
          "output_type": "stream",
          "name": "stdout",
          "text": [
            "TensorFlow 1.x selected.\n"
          ]
        }
      ]
    },
    {
      "cell_type": "code",
      "source": [
        "#Setting the Random seeds for numpy and TF"
      ],
      "metadata": {
        "id": "TDHkpbcWoBlg"
      },
      "execution_count": 2,
      "outputs": []
    },
    {
      "cell_type": "code",
      "source": [
        "np.random.seed(101)\n",
        "tf.set_random_seed(101)"
      ],
      "metadata": {
        "id": "S1Je-Q2WoTnw"
      },
      "execution_count": 3,
      "outputs": []
    },
    {
      "cell_type": "code",
      "source": [
        "# Making and Setting Data"
      ],
      "metadata": {
        "id": "L1TOAD9soUzB"
      },
      "execution_count": 4,
      "outputs": []
    },
    {
      "cell_type": "code",
      "source": [
        "rand_a=np.random.uniform(0,100,(5,5))\n",
        "rand_a"
      ],
      "metadata": {
        "colab": {
          "base_uri": "https://localhost:8080/"
        },
        "id": "jhk4HjUaoYy7",
        "outputId": "39dc92bc-4577-446d-9055-df7085c30438"
      },
      "execution_count": 5,
      "outputs": [
        {
          "output_type": "execute_result",
          "data": {
            "text/plain": [
              "array([[51.63986277, 57.06675869,  2.84742265, 17.15216562, 68.52769817],\n",
              "       [83.38968626, 30.69662197, 89.36130797, 72.15438618, 18.99389542],\n",
              "       [55.42275911, 35.2131954 , 18.18924027, 78.56017619, 96.54832224],\n",
              "       [23.23536618,  8.35614337, 60.35484223, 72.89927573, 27.62388285],\n",
              "       [68.53063288, 51.78674742,  4.84845374, 13.78692376, 18.69674261]])"
            ]
          },
          "metadata": {},
          "execution_count": 5
        }
      ]
    },
    {
      "cell_type": "code",
      "source": [
        "rand_b=np.random.uniform(0,100,(5,1))\n",
        "rand_b"
      ],
      "metadata": {
        "colab": {
          "base_uri": "https://localhost:8080/"
        },
        "id": "LVyz3-SsoyL6",
        "outputId": "fa1e3b81-cec8-494c-fa4b-1d0d2356fcac"
      },
      "execution_count": 6,
      "outputs": [
        {
          "output_type": "execute_result",
          "data": {
            "text/plain": [
              "array([[99.43179012],\n",
              "       [52.06653967],\n",
              "       [57.87895355],\n",
              "       [73.48190583],\n",
              "       [54.19617722]])"
            ]
          },
          "metadata": {},
          "execution_count": 6
        }
      ]
    },
    {
      "cell_type": "code",
      "source": [
        "# place holder"
      ],
      "metadata": {
        "id": "QcpHjzanpPon"
      },
      "execution_count": 7,
      "outputs": []
    },
    {
      "cell_type": "code",
      "source": [
        "a=tf.placeholder(tf.float32)\n",
        "b=tf.placeholder(tf.float32)"
      ],
      "metadata": {
        "id": "QM6qmQu8pYXD"
      },
      "execution_count": 8,
      "outputs": []
    },
    {
      "cell_type": "code",
      "source": [
        "# operations"
      ],
      "metadata": {
        "id": "8O42huUkpjvT"
      },
      "execution_count": 9,
      "outputs": []
    },
    {
      "cell_type": "code",
      "source": [
        "add_op=a+b\n",
        "mul_op=a*b"
      ],
      "metadata": {
        "id": "G4wSaMSlpmXa"
      },
      "execution_count": 10,
      "outputs": []
    },
    {
      "cell_type": "markdown",
      "source": [
        "### Running Sessions to Create Graphs with feed dictionaries"
      ],
      "metadata": {
        "id": "14VoFtvqq_YB"
      }
    },
    {
      "cell_type": "code",
      "source": [
        "with tf.Session() as sess:\n",
        "  add_result=sess.run(add_op,feed_dict={a: rand_a, b: rand_b})\n",
        "  print(add_result)"
      ],
      "metadata": {
        "colab": {
          "base_uri": "https://localhost:8080/"
        },
        "id": "RZzJvXOdpvPe",
        "outputId": "e3e0b4f7-a0f3-4f10-f723-fdcdf2bcc2d1"
      },
      "execution_count": 14,
      "outputs": [
        {
          "output_type": "stream",
          "name": "stdout",
          "text": [
            "[[151.07166  156.49855  102.27921  116.58396  167.95949 ]\n",
            " [135.45622   82.76316  141.42784  124.22093   71.06043 ]\n",
            " [113.30171   93.09215   76.06819  136.43912  154.42728 ]\n",
            " [ 96.71727   81.83804  133.83675  146.38118  101.10579 ]\n",
            " [122.72681  105.982925  59.044632  67.9831    72.89292 ]]\n"
          ]
        }
      ]
    },
    {
      "cell_type": "code",
      "source": [
        "with tf.Session() as sess:\n",
        "  mul_result=sess.run(mul_op, feed_dict={a: rand_a, b: rand_b})\n",
        "  print(mul_result)"
      ],
      "metadata": {
        "colab": {
          "base_uri": "https://localhost:8080/"
        },
        "id": "_Z8ZyQHissWo",
        "outputId": "dbe2f873-dc0b-4ef5-8969-8d77dc2de884"
      },
      "execution_count": 15,
      "outputs": [
        {
          "output_type": "stream",
          "name": "stdout",
          "text": [
            "[[5134.644   5674.25     283.12433 1705.4707  6813.8315 ]\n",
            " [4341.8125  1598.267   4652.734   3756.8293   988.94635]\n",
            " [3207.8113  2038.1029  1052.7742  4546.9805  5588.1157 ]\n",
            " [1707.379    614.02527 4434.989   5356.7773  2029.8555 ]\n",
            " [3714.0984  2806.6438   262.76764  747.19855 1013.292  ]]\n"
          ]
        }
      ]
    },
    {
      "cell_type": "markdown",
      "source": [
        "## Example Neural Network"
      ],
      "metadata": {
        "id": "d_Ub5TRoEKmH"
      }
    },
    {
      "cell_type": "code",
      "source": [
        "n_features=10\n",
        "n_dense_neuron= 3"
      ],
      "metadata": {
        "id": "gfZuUU3nDa5V"
      },
      "execution_count": 16,
      "outputs": []
    },
    {
      "cell_type": "code",
      "source": [
        "x=tf.placeholder(tf.float32, shape=(None, n_features)) #by giving none in shape it gives freedom to use any number of samples"
      ],
      "metadata": {
        "id": "AtyLa2_LESKR"
      },
      "execution_count": 17,
      "outputs": []
    },
    {
      "cell_type": "code",
      "source": [
        "#Bias and Weight\n",
        "w=tf.Variable(initial_value=tf.random_normal([n_features, n_dense_neuron])) # initaial_value=........random.normal(mean,SD)\n",
        "#We use dimensions as per Transpose \n",
        "\n",
        "b=tf.Variable(tf.zeros(n_dense_neuron))"
      ],
      "metadata": {
        "id": "zITvh2i9EgrY"
      },
      "execution_count": 18,
      "outputs": []
    },
    {
      "cell_type": "code",
      "source": [
        "w"
      ],
      "metadata": {
        "colab": {
          "base_uri": "https://localhost:8080/"
        },
        "id": "4dReEC_VcoIy",
        "outputId": "08fca431-ce57-469c-f350-e2e13124e121"
      },
      "execution_count": 45,
      "outputs": [
        {
          "output_type": "execute_result",
          "data": {
            "text/plain": [
              "<tf.Variable 'Variable:0' shape=(10, 3) dtype=float32_ref>"
            ]
          },
          "metadata": {},
          "execution_count": 45
        }
      ]
    },
    {
      "cell_type": "markdown",
      "source": [
        "#### Operation Activation Function"
      ],
      "metadata": {
        "id": "hRDet0E8GEe8"
      }
    },
    {
      "cell_type": "code",
      "source": [
        "xW=tf.matmul(x, w)"
      ],
      "metadata": {
        "id": "PBx4YEaEGAbE"
      },
      "execution_count": 19,
      "outputs": []
    },
    {
      "cell_type": "code",
      "source": [
        "z=tf.add(xW, b)"
      ],
      "metadata": {
        "id": "QIkFJvuQGMXj"
      },
      "execution_count": 20,
      "outputs": []
    },
    {
      "cell_type": "markdown",
      "source": [
        "Other Squashing functions are also present  \n",
        "* **Rectilinear**        - tf . nn . relu \n",
        "* **Hyperbolic Tangent** - tf . tanh"
      ],
      "metadata": {
        "id": "hw5t_mGEGTi2"
      }
    },
    {
      "cell_type": "code",
      "source": [
        "a=tf.sigmoid(z)"
      ],
      "metadata": {
        "id": "H7F2eaGYGQoH"
      },
      "execution_count": 21,
      "outputs": []
    },
    {
      "cell_type": "code",
      "source": [
        "#Variable Initializer\n",
        "init=tf.global_variables_initializer()"
      ],
      "metadata": {
        "id": "xwPqCx3YGaw3"
      },
      "execution_count": 22,
      "outputs": []
    },
    {
      "cell_type": "code",
      "source": [
        "with tf.Session() as sess:\n",
        "  sess.run(init)\n",
        "\n",
        "  layer_out= sess.run(a, feed_dict={x: np.random.random(size=[1, n_features])})"
      ],
      "metadata": {
        "id": "QiOV3SefGiJb"
      },
      "execution_count": 24,
      "outputs": []
    },
    {
      "cell_type": "code",
      "source": [
        "print (layer_out)"
      ],
      "metadata": {
        "colab": {
          "base_uri": "https://localhost:8080/"
        },
        "id": "Bx4c05ruHF6O",
        "outputId": "1a64097e-881e-4dd0-beaa-1d7fe0862c91"
      },
      "execution_count": 25,
      "outputs": [
        {
          "output_type": "stream",
          "name": "stdout",
          "text": [
            "[[0.08226703 0.66272306 0.17261438]]\n"
          ]
        }
      ]
    },
    {
      "cell_type": "markdown",
      "source": [
        "## Basic Regression Example\n",
        "\n",
        "To solve the equation\n",
        "\n",
        "y = mx + b\n",
        "\n",
        "y will be the y_labels and x is the x_data. The aim to figure out the slope and the intercept for the line that best fits our data!"
      ],
      "metadata": {
        "id": "wQtibR56Juzn"
      }
    },
    {
      "cell_type": "code",
      "source": [
        "### Making Data"
      ],
      "metadata": {
        "id": "mlBQMsx5HUgl"
      },
      "execution_count": 26,
      "outputs": []
    },
    {
      "cell_type": "code",
      "source": [
        "x_data = np.linspace(1, 10, 10) + np.random.uniform(-1.5, 1.5, size = (10))\n",
        "x_data"
      ],
      "metadata": {
        "colab": {
          "base_uri": "https://localhost:8080/"
        },
        "id": "NtdmJbwGJxH1",
        "outputId": "80319519-68c7-463b-ba2b-b3f7d5638441"
      },
      "execution_count": 27,
      "outputs": [
        {
          "output_type": "execute_result",
          "data": {
            "text/plain": [
              "array([-0.20856056,  0.80854248,  3.60452189,  5.17143961,  3.9786809 ,\n",
              "        5.32671763,  7.51747459,  6.99290937,  9.60411341,  9.96290567])"
            ]
          },
          "metadata": {},
          "execution_count": 27
        }
      ]
    },
    {
      "cell_type": "code",
      "source": [
        "y_label = np.linspace(1, 10, 10) + np.random.uniform(-1.5, 1.5, size = (10))\n",
        "y_label"
      ],
      "metadata": {
        "colab": {
          "base_uri": "https://localhost:8080/"
        },
        "id": "30UkNgZKJ6AR",
        "outputId": "74a05a76-9f11-4a86-bb5b-6d6f3fe21573"
      },
      "execution_count": 28,
      "outputs": [
        {
          "output_type": "execute_result",
          "data": {
            "text/plain": [
              "array([1.5420333 , 2.06464458, 1.63019008, 3.17180981, 5.22561526,\n",
              "       4.86130098, 7.00035014, 6.9140287 , 7.6584252 , 9.03483077])"
            ]
          },
          "metadata": {},
          "execution_count": 28
        }
      ]
    },
    {
      "cell_type": "code",
      "source": [
        "import matplotlib.pyplot as plt"
      ],
      "metadata": {
        "id": "fbuEGRHbJ7Yu"
      },
      "execution_count": 29,
      "outputs": []
    },
    {
      "cell_type": "code",
      "source": [
        "plt.figure(figsize= (7,5))\n",
        "plt.plot(x_data, y_label, '*',)"
      ],
      "metadata": {
        "colab": {
          "base_uri": "https://localhost:8080/",
          "height": 337
        },
        "id": "6hI9I37VJ8al",
        "outputId": "f9d04b50-eb80-4bae-e686-45b687ae8cbe"
      },
      "execution_count": 30,
      "outputs": [
        {
          "output_type": "execute_result",
          "data": {
            "text/plain": [
              "[<matplotlib.lines.Line2D at 0x7f3c03f32e50>]"
            ]
          },
          "metadata": {},
          "execution_count": 30
        },
        {
          "output_type": "display_data",
          "data": {
            "image/png": "[encoded data removed]",
            "text/plain": [
              "<Figure size 504x360 with 1 Axes>"
            ]
          },
          "metadata": {
            "needs_background": "light"
          }
        }
      ]
    },
    {
      "cell_type": "code",
      "source": [
        "#randomising m and b\n",
        "np.random.random(3)"
      ],
      "metadata": {
        "colab": {
          "base_uri": "https://localhost:8080/"
        },
        "id": "BPMlnNsvJ-Kj",
        "outputId": "97a31dbf-17f2-486c-9cb7-e1310aba988c"
      },
      "execution_count": 33,
      "outputs": [
        {
          "output_type": "execute_result",
          "data": {
            "text/plain": [
              "array([0.94926413, 0.47816742, 0.46111934])"
            ]
          },
          "metadata": {},
          "execution_count": 33
        }
      ]
    },
    {
      "cell_type": "code",
      "source": [
        "m = tf.Variable(initial_value= 0.81)\n",
        "b = tf.Variable(initial_value= 0.67)"
      ],
      "metadata": {
        "id": "4TlhilC_KAQE"
      },
      "execution_count": 32,
      "outputs": []
    },
    {
      "cell_type": "markdown",
      "source": [
        "### Cost Function"
      ],
      "metadata": {
        "id": "2jb1dq6wKD9y"
      }
    },
    {
      "cell_type": "code",
      "source": [
        "error=0\n",
        "for x,y in zip(x_data,y_label):\n",
        "\n",
        "  y_pred=m*x+b\n",
        "\n",
        "  error=error+ ((y-y_pred)**2)"
      ],
      "metadata": {
        "id": "MqtMEEO6KB3p"
      },
      "execution_count": 34,
      "outputs": []
    },
    {
      "cell_type": "code",
      "source": [
        "### Optimizer"
      ],
      "metadata": {
        "id": "qz1QE72bMIku"
      },
      "execution_count": 35,
      "outputs": []
    },
    {
      "cell_type": "code",
      "source": [
        "optimizer = tf.train.GradientDescentOptimizer(learning_rate= 0.001)\n",
        "train = optimizer.minimize(error)"
      ],
      "metadata": {
        "colab": {
          "base_uri": "https://localhost:8080/"
        },
        "id": "_x9LeZgpMJID",
        "outputId": "db6dc9a7-7ec5-4efa-9f5c-e33d05ba5e19"
      },
      "execution_count": 36,
      "outputs": [
        {
          "output_type": "stream",
          "name": "stdout",
          "text": [
            "WARNING:tensorflow:From /tensorflow-1.15.2/python3.7/tensorflow_core/python/ops/math_grad.py:1375: where (from tensorflow.python.ops.array_ops) is deprecated and will be removed in a future version.\n",
            "Instructions for updating:\n",
            "Use tf.where in 2.0, which has the same broadcast rule as np.where\n"
          ]
        }
      ]
    },
    {
      "cell_type": "code",
      "source": [
        "#### Inititalizing Globals"
      ],
      "metadata": {
        "id": "4r8Z5RXJMKlQ"
      },
      "execution_count": 37,
      "outputs": []
    },
    {
      "cell_type": "code",
      "source": [
        "init = tf.global_variables_initializer()"
      ],
      "metadata": {
        "id": "AOoGA48IMUkz"
      },
      "execution_count": 38,
      "outputs": []
    },
    {
      "cell_type": "code",
      "source": [
        "### Session and Run"
      ],
      "metadata": {
        "id": "MmZigWStMWBw"
      },
      "execution_count": 39,
      "outputs": []
    },
    {
      "cell_type": "code",
      "source": [
        "with tf.Session() as sess:\n",
        "    sess.run(init)\n",
        "    \n",
        "    epochs = 100\n",
        "    \n",
        "    for i in range(epochs):\n",
        "        \n",
        "        sess.run(train)\n",
        "        \n",
        "    final_slope, final_bias = sess.run([m, b])"
      ],
      "metadata": {
        "id": "4QNz5o-ZMXC-"
      },
      "execution_count": 40,
      "outputs": []
    },
    {
      "cell_type": "code",
      "source": [
        "final_slope"
      ],
      "metadata": {
        "colab": {
          "base_uri": "https://localhost:8080/"
        },
        "id": "w5I6bvD0NHOB",
        "outputId": "f2145a41-6081-4847-c882-39ecc05013aa"
      },
      "execution_count": 41,
      "outputs": [
        {
          "output_type": "execute_result",
          "data": {
            "text/plain": [
              "0.76458085"
            ]
          },
          "metadata": {},
          "execution_count": 41
        }
      ]
    },
    {
      "cell_type": "code",
      "source": [
        "final_bias"
      ],
      "metadata": {
        "colab": {
          "base_uri": "https://localhost:8080/"
        },
        "id": "2aBTRspVNI2F",
        "outputId": "72bc29ac-18ba-4637-ee1f-4b13dbe9c3df"
      },
      "execution_count": 42,
      "outputs": [
        {
          "output_type": "execute_result",
          "data": {
            "text/plain": [
              "0.8189562"
            ]
          },
          "metadata": {},
          "execution_count": 42
        }
      ]
    },
    {
      "cell_type": "code",
      "source": [
        "### Evaluating Results"
      ],
      "metadata": {
        "id": "0EBIJROyNKOQ"
      },
      "execution_count": 43,
      "outputs": []
    },
    {
      "cell_type": "code",
      "source": [
        "plt.figure(figsize= (7,5))\n",
        "\n",
        "x_test = np.linspace(-1,11,10)\n",
        "\n",
        "y_pred_plot = (final_slope * x_test) + final_bias\n",
        "\n",
        "plt.plot(x_test, y_pred_plot, 'r')\n",
        "plt.plot(x_data, y_label, '*',)"
      ],
      "metadata": {
        "colab": {
          "base_uri": "https://localhost:8080/",
          "height": 337
        },
        "id": "R47C3u9pNL_m",
        "outputId": "ccf925fe-4440-4696-fd66-eddb72230eca"
      },
      "execution_count": 44,
      "outputs": [
        {
          "output_type": "execute_result",
          "data": {
            "text/plain": [
              "[<matplotlib.lines.Line2D at 0x7f3c038a7390>]"
            ]
          },
          "metadata": {},
          "execution_count": 44
        },
        {
          "output_type": "display_data",
          "data": {
            "image/png": "[encoded data removed]",
            "text/plain": [
              "<Figure size 504x360 with 1 Axes>"
            ]
          },
          "metadata": {
            "needs_background": "light"
          }
        }
      ]
    },
    {
      "cell_type": "markdown",
      "source": [
        "# Sequential model"
      ],
      "metadata": {
        "id": "76l4bpmhytcc"
      }
    },
    {
      "cell_type": "code",
      "source": [
        "import tensorflow as tf\n",
        "from tensorflow import keras\n",
        "from tensorflow.keras import layers"
      ],
      "metadata": {
        "id": "9-_2TamONWGr"
      },
      "execution_count": 1,
      "outputs": []
    },
    {
      "cell_type": "markdown",
      "source": [
        "## When to use a Sequential model\n",
        "\n",
        "A `Sequential` model is appropriate for **a plain stack of layers**\n",
        "where each layer has **exactly one input tensor and one output tensor**.\n",
        "\n",
        "Schematically, the following `Sequential` model:"
      ],
      "metadata": {
        "id": "lPz8G0pAy3q3"
      }
    },
    {
      "cell_type": "code",
      "source": [
        "model= keras.Sequential(\n",
        "    [\n",
        "     layers.Dense(2, activation='relu', name='layer1'),\n",
        "     layers.Dense(3, activation='relu', name='layer2'),\n",
        "     layers.Dense(4, activation='relu', name='layer3')\n",
        "    ]\n",
        ")\n",
        "\n",
        "#call model on a test input\n",
        "x=tf.ones((3,3))\n",
        "y=model(x)\n",
        "y"
      ],
      "metadata": {
        "colab": {
          "base_uri": "https://localhost:8080/"
        },
        "id": "USXhtcABy0aK",
        "outputId": "dc0ba592-8ec9-49bc-ad65-3679cd713f0d"
      },
      "execution_count": 3,
      "outputs": [
        {
          "output_type": "execute_result",
          "data": {
            "text/plain": [
              "<tf.Tensor: shape=(3, 4), dtype=float32, numpy=\n",
              "array([[0.02011532, 0.4383386 , 0.67539907, 0.        ],\n",
              "       [0.02011532, 0.4383386 , 0.67539907, 0.        ],\n",
              "       [0.02011532, 0.4383386 , 0.67539907, 0.        ]], dtype=float32)>"
            ]
          },
          "metadata": {},
          "execution_count": 3
        }
      ]
    },
    {
      "cell_type": "code",
      "source": [
        "x"
      ],
      "metadata": {
        "colab": {
          "base_uri": "https://localhost:8080/"
        },
        "id": "tZYEQtlNy9k0",
        "outputId": "6a140608-ad39-4bd8-d7e7-cd8aa077f383"
      },
      "execution_count": 4,
      "outputs": [
        {
          "output_type": "execute_result",
          "data": {
            "text/plain": [
              "<tf.Tensor: shape=(3, 3), dtype=float32, numpy=\n",
              "array([[1., 1., 1.],\n",
              "       [1., 1., 1.],\n",
              "       [1., 1., 1.]], dtype=float32)>"
            ]
          },
          "metadata": {},
          "execution_count": 4
        }
      ]
    },
    {
      "cell_type": "markdown",
      "source": [
        "is equivalent to this function:"
      ],
      "metadata": {
        "id": "Pb2nusfN0VYO"
      }
    },
    {
      "cell_type": "code",
      "source": [
        "# Create 3 layers\n",
        "layer1 = layers.Dense(2, activation=\"relu\", name=\"layer1\")\n",
        "layer2 = layers.Dense(3, activation=\"relu\", name=\"layer2\")\n",
        "layer3 = layers.Dense(4, name=\"layer3\")\n",
        "\n",
        "# Call layers on a test input\n",
        "x = tf.ones((3, 3))\n",
        "y = layer3(layer2(layer1(x)))\n",
        "y"
      ],
      "metadata": {
        "colab": {
          "base_uri": "https://localhost:8080/"
        },
        "id": "q9JKREFSzIIn",
        "outputId": "b8c75868-0e2b-4259-ded6-ba5f31bf2ad7"
      },
      "execution_count": 10,
      "outputs": [
        {
          "output_type": "execute_result",
          "data": {
            "text/plain": [
              "<tf.Tensor: shape=(3, 4), dtype=float32, numpy=\n",
              "array([[-0.00031513,  0.00130189, -0.00042323,  0.00056201],\n",
              "       [-0.00031513,  0.00130189, -0.00042323,  0.00056201],\n",
              "       [-0.00031513,  0.00130189, -0.00042323,  0.00056201]],\n",
              "      dtype=float32)>"
            ]
          },
          "metadata": {},
          "execution_count": 10
        }
      ]
    },
    {
      "cell_type": "markdown",
      "source": [
        "A Sequential model is **not appropriate** when:\n",
        "\n",
        "- Your model has multiple inputs or multiple outputs\n",
        "- Any of your layers has multiple inputs or multiple outputs\n",
        "- You need to do layer sharing\n",
        "- You want non-linear topology (e.g. a residual connection, a multi-branch\n",
        "model)"
      ],
      "metadata": {
        "id": "5Z9JqQPk1iyx"
      }
    },
    {
      "cell_type": "markdown",
      "source": [
        "## Creating a Sequential model\n",
        "\n",
        "You can create a Sequential model by passing a list of layers to the Sequential\n",
        "constructor:"
      ],
      "metadata": {
        "id": "ipG_ptoA1msS"
      }
    },
    {
      "cell_type": "code",
      "source": [
        "model = keras.Sequential(\n",
        "    [\n",
        "        layers.Dense(2, activation=\"relu\"),\n",
        "        layers.Dense(3, activation=\"relu\"),\n",
        "        layers.Dense(4),\n",
        "    ]\n",
        ")"
      ],
      "metadata": {
        "id": "1_g6OBqk0m0A"
      },
      "execution_count": 11,
      "outputs": []
    },
    {
      "cell_type": "markdown",
      "source": [
        "Its layers are accessible via the `layers` attribute:"
      ],
      "metadata": {
        "id": "_6wj3zi91r9V"
      }
    },
    {
      "cell_type": "code",
      "source": [
        "model.layers"
      ],
      "metadata": {
        "colab": {
          "base_uri": "https://localhost:8080/"
        },
        "id": "hKtUFGLU1pcr",
        "outputId": "2ac311dc-482c-439f-e027-bed99ffb76d0"
      },
      "execution_count": 12,
      "outputs": [
        {
          "output_type": "execute_result",
          "data": {
            "text/plain": [
              "[<keras.layers.core.dense.Dense at 0x7f90d4b9a150>,\n",
              " <keras.layers.core.dense.Dense at 0x7f90d0a92dd0>,\n",
              " <keras.layers.core.dense.Dense at 0x7f90d0a92250>]"
            ]
          },
          "metadata": {},
          "execution_count": 12
        }
      ]
    },
    {
      "cell_type": "markdown",
      "source": [
        "You can also create a Sequential model incrementally via the `add()` method:"
      ],
      "metadata": {
        "id": "_2lVQKcN106l"
      }
    },
    {
      "cell_type": "code",
      "source": [
        "model = keras.Sequential()\n",
        "model.add(layers.Dense(2, activation=\"relu\"))\n",
        "model.add(layers.Dense(3, activation=\"relu\"))\n",
        "model.add(layers.Dense(4))"
      ],
      "metadata": {
        "id": "uDA0hocx1weY"
      },
      "execution_count": 13,
      "outputs": []
    },
    {
      "cell_type": "markdown",
      "source": [
        "Note that there's also a corresponding `pop()` method to remove layers:\n",
        "a Sequential model behaves very much like a list of layers."
      ],
      "metadata": {
        "id": "QfBpboY2150O"
      }
    },
    {
      "cell_type": "code",
      "source": [
        "model.pop()\n",
        "print(len(model.layers))  # 2"
      ],
      "metadata": {
        "colab": {
          "base_uri": "https://localhost:8080/"
        },
        "id": "XkLLx2NX130K",
        "outputId": "7e857343-4bcf-4c25-9978-7fe3da0d773f"
      },
      "execution_count": 14,
      "outputs": [
        {
          "output_type": "stream",
          "name": "stdout",
          "text": [
            "2\n"
          ]
        }
      ]
    },
    {
      "cell_type": "markdown",
      "source": [
        "Also note that the Sequential constructor accepts a `name` argument, just like\n",
        "any layer or model in Keras. This is useful to annotate TensorBoard graphs\n",
        "with semantically meaningful names."
      ],
      "metadata": {
        "id": "X5VjD2OR2BxF"
      }
    },
    {
      "cell_type": "code",
      "source": [
        "model = keras.Sequential(name=\"my_sequential\")\n",
        "model.add(layers.Dense(2, activation=\"relu\", name=\"layer1\"))\n",
        "model.add(layers.Dense(3, activation=\"relu\", name=\"layer2\"))\n",
        "model.add(layers.Dense(4, name=\"layer3\"))"
      ],
      "metadata": {
        "id": "0fdISIWk181j"
      },
      "execution_count": 15,
      "outputs": []
    },
    {
      "cell_type": "markdown",
      "source": [
        "## Specifying the input shape in advance\n",
        "\n",
        "Generally, all layers in Keras need to know the shape of their inputs\n",
        "in order to be able to create their weights. So when you create a layer like\n",
        "this, initially, it has no weights:"
      ],
      "metadata": {
        "id": "i37e-_bA2Jwq"
      }
    },
    {
      "cell_type": "code",
      "source": [
        "layer = layers.Dense(3)\n",
        "layer.weights  # Empty"
      ],
      "metadata": {
        "colab": {
          "base_uri": "https://localhost:8080/"
        },
        "id": "2jLyRmKf2Fra",
        "outputId": "a5385ad5-a53a-4929-9955-aa2eff7b92bb"
      },
      "execution_count": 16,
      "outputs": [
        {
          "output_type": "execute_result",
          "data": {
            "text/plain": [
              "[]"
            ]
          },
          "metadata": {},
          "execution_count": 16
        }
      ]
    },
    {
      "cell_type": "markdown",
      "source": [
        "It creates its weights the first time it is called on an input, since the shape\n",
        "of the weights depends on the shape of the inputs:"
      ],
      "metadata": {
        "id": "PqRFsTqa2RxM"
      }
    },
    {
      "cell_type": "code",
      "source": [
        "# Call layer on a test input\n",
        "x = tf.ones((1, 4))\n",
        "y = layer(x)\n",
        "layer.weights  # Now it has weights, of shape (4, 3) and (3,)"
      ],
      "metadata": {
        "colab": {
          "base_uri": "https://localhost:8080/"
        },
        "id": "BC-54lb92Lmt",
        "outputId": "ceb656a7-cd82-438a-9d7c-11bbed0d5570"
      },
      "execution_count": 17,
      "outputs": [
        {
          "output_type": "execute_result",
          "data": {
            "text/plain": [
              "[<tf.Variable 'dense_6/kernel:0' shape=(4, 3) dtype=float32, numpy=\n",
              " array([[ 0.03804946, -0.6549634 ,  0.38843262],\n",
              "        [ 0.17836809,  0.26195657, -0.7727464 ],\n",
              "        [-0.32167977,  0.89308834,  0.76637316],\n",
              "        [ 0.9142319 , -0.682855  , -0.24594128]], dtype=float32)>,\n",
              " <tf.Variable 'dense_6/bias:0' shape=(3,) dtype=float32, numpy=array([0., 0., 0.], dtype=float32)>]"
            ]
          },
          "metadata": {},
          "execution_count": 17
        }
      ]
    },
    {
      "cell_type": "markdown",
      "source": [
        "Naturally, this also applies to Sequential models. When you instantiate a\n",
        "Sequential model without an input shape, it isn't \"built\": it has no weights\n",
        "(and calling\n",
        "`model.weights` results in an error stating just this). The weights are created\n",
        "when the model first sees some input data:"
      ],
      "metadata": {
        "id": "7lA0iIoz3v88"
      }
    },
    {
      "cell_type": "code",
      "source": [
        "model = keras.Sequential(\n",
        "    [\n",
        "        layers.Dense(2, activation=\"relu\"),\n",
        "        layers.Dense(3, activation=\"relu\"),\n",
        "        layers.Dense(4),\n",
        "    ]\n",
        ")  # No weights at this stage!\n",
        "\n",
        "# At this point, you can't do this:\n",
        "# model.weights\n",
        "\n",
        "# You also can't do this:\n",
        "# model.summary()\n",
        "\n",
        "# Call the model on a test input\n",
        "x = tf.ones((1, 4))\n",
        "y = model(x)\n",
        "print(\"Number of weights after calling the model:\", len(model.weights))  # 6"
      ],
      "metadata": {
        "colab": {
          "base_uri": "https://localhost:8080/"
        },
        "id": "meZucVjd2Vp2",
        "outputId": "51cbfe91-87af-4b37-e57c-7fc6805da392"
      },
      "execution_count": 18,
      "outputs": [
        {
          "output_type": "stream",
          "name": "stdout",
          "text": [
            "Number of weights after calling the model: 6\n"
          ]
        }
      ]
    },
    {
      "cell_type": "markdown",
      "source": [
        "Once a model is \"built\", you can call its `summary()` method to display its\n",
        "contents:"
      ],
      "metadata": {
        "id": "YoRYiFFu5L-d"
      }
    },
    {
      "cell_type": "code",
      "source": [
        "model.summary()"
      ],
      "metadata": {
        "colab": {
          "base_uri": "https://localhost:8080/"
        },
        "id": "jSk3CSSd5Gii",
        "outputId": "c99a8625-d23e-47f7-d000-219c2c8692f7"
      },
      "execution_count": 19,
      "outputs": [
        {
          "output_type": "stream",
          "name": "stdout",
          "text": [
            "Model: \"sequential_4\"\n",
            "_________________________________________________________________\n",
            " Layer (type)                Output Shape              Param #   \n",
            "=================================================================\n",
            " dense_7 (Dense)             (1, 2)                    10        \n",
            "                                                                 \n",
            " dense_8 (Dense)             (1, 3)                    9         \n",
            "                                                                 \n",
            " dense_9 (Dense)             (1, 4)                    16        \n",
            "                                                                 \n",
            "=================================================================\n",
            "Total params: 35\n",
            "Trainable params: 35\n",
            "Non-trainable params: 0\n",
            "_________________________________________________________________\n"
          ]
        }
      ]
    },
    {
      "cell_type": "markdown",
      "source": [
        "However, it can be very useful when building a Sequential model incrementally\n",
        "to be able to display the summary of the model so far, including the current\n",
        "output shape. In this case, you should start your model by passing an `Input`\n",
        "object to your model, so that it knows its input shape from the start:"
      ],
      "metadata": {
        "id": "GAGBcwOz5XLP"
      }
    },
    {
      "cell_type": "code",
      "source": [
        "model = keras.Sequential()\n",
        "model.add(keras.Input(shape=(4,)))\n",
        "model.add(layers.Dense(2, activation=\"relu\"))\n",
        "\n",
        "model.summary()"
      ],
      "metadata": {
        "colab": {
          "base_uri": "https://localhost:8080/"
        },
        "id": "A9dT6RqA5Nw7",
        "outputId": "7a61dd23-222c-4d01-fb04-d868dbb781e1"
      },
      "execution_count": 20,
      "outputs": [
        {
          "output_type": "stream",
          "name": "stdout",
          "text": [
            "Model: \"sequential_5\"\n",
            "_________________________________________________________________\n",
            " Layer (type)                Output Shape              Param #   \n",
            "=================================================================\n",
            " dense_10 (Dense)            (None, 2)                 10        \n",
            "                                                                 \n",
            "=================================================================\n",
            "Total params: 10\n",
            "Trainable params: 10\n",
            "Non-trainable params: 0\n",
            "_________________________________________________________________\n"
          ]
        }
      ]
    },
    {
      "cell_type": "markdown",
      "source": [
        "Note that the `Input` object is not displayed as part of `model.layers`, since\n",
        "it isn't a layer:"
      ],
      "metadata": {
        "id": "E_jJzO5w5cjq"
      }
    },
    {
      "cell_type": "code",
      "source": [
        "model.layers"
      ],
      "metadata": {
        "colab": {
          "base_uri": "https://localhost:8080/"
        },
        "id": "sS7P6UR45Z9i",
        "outputId": "074689a6-14aa-41d7-f26b-927f857e5a74"
      },
      "execution_count": 21,
      "outputs": [
        {
          "output_type": "execute_result",
          "data": {
            "text/plain": [
              "[<keras.layers.core.dense.Dense at 0x7f90d04f4990>]"
            ]
          },
          "metadata": {},
          "execution_count": 21
        }
      ]
    },
    {
      "cell_type": "markdown",
      "source": [
        "A simple alternative is to just pass an `input_shape` argument to your first\n",
        "layer:"
      ],
      "metadata": {
        "id": "n_SuMVzu5l7e"
      }
    },
    {
      "cell_type": "code",
      "source": [
        "model = keras.Sequential()\n",
        "model.add(layers.Dense(2, activation=\"relu\", input_shape=(4,)))\n",
        "\n",
        "model.summary()"
      ],
      "metadata": {
        "colab": {
          "base_uri": "https://localhost:8080/"
        },
        "id": "Sp8e96d55jTD",
        "outputId": "dd4e268a-135a-4075-fff6-70adfdd75658"
      },
      "execution_count": 22,
      "outputs": [
        {
          "output_type": "stream",
          "name": "stdout",
          "text": [
            "Model: \"sequential_6\"\n",
            "_________________________________________________________________\n",
            " Layer (type)                Output Shape              Param #   \n",
            "=================================================================\n",
            " dense_11 (Dense)            (None, 2)                 10        \n",
            "                                                                 \n",
            "=================================================================\n",
            "Total params: 10\n",
            "Trainable params: 10\n",
            "Non-trainable params: 0\n",
            "_________________________________________________________________\n"
          ]
        }
      ]
    },
    {
      "cell_type": "markdown",
      "source": [
        "Models built with a predefined input shape like this always have weights (even\n",
        "before seeing any data) and always have a defined output shape.\n",
        "\n",
        "In general, it's a recommended best practice to always specify the input shape\n",
        "of a Sequential model in advance if you know what it is."
      ],
      "metadata": {
        "id": "Akp9gGYY52yh"
      }
    },
    {
      "cell_type": "markdown",
      "source": [
        "## A common debugging workflow: `add()` + `summary()`\n",
        "\n",
        "When building a new Sequential architecture, it's useful to incrementally stack\n",
        "layers with `add()` and frequently print model summaries. For instance, this\n",
        "enables you to monitor how a stack of `Conv2D` and `MaxPooling2D` layers is\n",
        "downsampling image feature maps:"
      ],
      "metadata": {
        "id": "JoLNnHaa55KY"
      }
    },
    {
      "cell_type": "code",
      "source": [
        ""
      ],
      "metadata": {
        "id": "rvHSDLRc5p-n"
      },
      "execution_count": null,
      "outputs": []
    }
  ]
}